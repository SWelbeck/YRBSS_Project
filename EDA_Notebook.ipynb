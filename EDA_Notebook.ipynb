{
 "cells": [
  {
   "cell_type": "markdown",
   "metadata": {},
   "source": [
    "# Importing packages"
   ]
  },
  {
   "cell_type": "code",
   "execution_count": 4,
   "metadata": {},
   "outputs": [],
   "source": [
    "import pandas as pd\n",
    "import seaborn as sns\n",
    "import numpy as np\n",
    "import matplotlib.pyplot as plt\n",
    "%matplotlib inline"
   ]
  },
  {
   "cell_type": "code",
   "execution_count": 2,
   "metadata": {},
   "outputs": [
    {
     "name": "stderr",
     "output_type": "stream",
     "text": [
      "/Users/alexandrabruno/opt/anaconda3/lib/python3.8/site-packages/IPython/core/interactiveshell.py:3071: DtypeWarning: Columns (3,4) have mixed types.Specify dtype option on import or set low_memory=False.\n",
      "  has_raised = await self.run_ast_nodes(code_ast.body, cell_name,\n"
     ]
    }
   ],
   "source": [
    "df = pd.read_csv('final_df.csv')"
   ]
  },
  {
   "cell_type": "code",
   "execution_count": 3,
   "metadata": {},
   "outputs": [
    {
     "data": {
      "text/html": [
       "<div>\n",
       "<style scoped>\n",
       "    .dataframe tbody tr th:only-of-type {\n",
       "        vertical-align: middle;\n",
       "    }\n",
       "\n",
       "    .dataframe tbody tr th {\n",
       "        vertical-align: top;\n",
       "    }\n",
       "\n",
       "    .dataframe thead th {\n",
       "        text-align: right;\n",
       "    }\n",
       "</style>\n",
       "<table border=\"1\" class=\"dataframe\">\n",
       "  <thead>\n",
       "    <tr style=\"text-align: right;\">\n",
       "      <th></th>\n",
       "      <th>Unnamed: 0</th>\n",
       "      <th>YEAR</th>\n",
       "      <th>raceeth</th>\n",
       "      <th>q6orig</th>\n",
       "      <th>q7orig</th>\n",
       "      <th>record</th>\n",
       "      <th>orig_rec</th>\n",
       "      <th>How old are you</th>\n",
       "      <th>What is your sex</th>\n",
       "      <th>In what grade are you</th>\n",
       "      <th>...</th>\n",
       "      <th>Gun carrying</th>\n",
       "      <th>Injurious physical fighting</th>\n",
       "      <th>Cigarette from store</th>\n",
       "      <th>Smoking cessation</th>\n",
       "      <th>5 or more drinks in a row</th>\n",
       "      <th>Usual use of marijuana</th>\n",
       "      <th>NA- All tobacco product cessation</th>\n",
       "      <th>NA-Texting and driving</th>\n",
       "      <th>qnowt</th>\n",
       "      <th>qnobese</th>\n",
       "    </tr>\n",
       "  </thead>\n",
       "  <tbody>\n",
       "    <tr>\n",
       "      <th>0</th>\n",
       "      <td>0</td>\n",
       "      <td>2019.0</td>\n",
       "      <td>7.0</td>\n",
       "      <td>504</td>\n",
       "      <td>121</td>\n",
       "      <td>1.0</td>\n",
       "      <td>NaN</td>\n",
       "      <td>5.0</td>\n",
       "      <td>2.0</td>\n",
       "      <td>2.0</td>\n",
       "      <td>...</td>\n",
       "      <td>NaN</td>\n",
       "      <td>NaN</td>\n",
       "      <td>NaN</td>\n",
       "      <td>NaN</td>\n",
       "      <td>NaN</td>\n",
       "      <td>NaN</td>\n",
       "      <td>NaN</td>\n",
       "      <td>NaN</td>\n",
       "      <td>NaN</td>\n",
       "      <td>NaN</td>\n",
       "    </tr>\n",
       "    <tr>\n",
       "      <th>1</th>\n",
       "      <td>1</td>\n",
       "      <td>2019.0</td>\n",
       "      <td>8.0</td>\n",
       "      <td>503</td>\n",
       "      <td>119</td>\n",
       "      <td>2.0</td>\n",
       "      <td>NaN</td>\n",
       "      <td>4.0</td>\n",
       "      <td>2.0</td>\n",
       "      <td>2.0</td>\n",
       "      <td>...</td>\n",
       "      <td>NaN</td>\n",
       "      <td>NaN</td>\n",
       "      <td>NaN</td>\n",
       "      <td>NaN</td>\n",
       "      <td>NaN</td>\n",
       "      <td>NaN</td>\n",
       "      <td>NaN</td>\n",
       "      <td>NaN</td>\n",
       "      <td>NaN</td>\n",
       "      <td>NaN</td>\n",
       "    </tr>\n",
       "    <tr>\n",
       "      <th>2</th>\n",
       "      <td>2</td>\n",
       "      <td>2019.0</td>\n",
       "      <td>8.0</td>\n",
       "      <td>506</td>\n",
       "      <td>95</td>\n",
       "      <td>3.0</td>\n",
       "      <td>NaN</td>\n",
       "      <td>4.0</td>\n",
       "      <td>1.0</td>\n",
       "      <td>2.0</td>\n",
       "      <td>...</td>\n",
       "      <td>NaN</td>\n",
       "      <td>NaN</td>\n",
       "      <td>NaN</td>\n",
       "      <td>NaN</td>\n",
       "      <td>NaN</td>\n",
       "      <td>NaN</td>\n",
       "      <td>NaN</td>\n",
       "      <td>NaN</td>\n",
       "      <td>NaN</td>\n",
       "      <td>NaN</td>\n",
       "    </tr>\n",
       "    <tr>\n",
       "      <th>3</th>\n",
       "      <td>3</td>\n",
       "      <td>2019.0</td>\n",
       "      <td>5.0</td>\n",
       "      <td>510</td>\n",
       "      <td>152</td>\n",
       "      <td>4.0</td>\n",
       "      <td>NaN</td>\n",
       "      <td>4.0</td>\n",
       "      <td>2.0</td>\n",
       "      <td>2.0</td>\n",
       "      <td>...</td>\n",
       "      <td>NaN</td>\n",
       "      <td>NaN</td>\n",
       "      <td>NaN</td>\n",
       "      <td>NaN</td>\n",
       "      <td>NaN</td>\n",
       "      <td>NaN</td>\n",
       "      <td>NaN</td>\n",
       "      <td>NaN</td>\n",
       "      <td>NaN</td>\n",
       "      <td>NaN</td>\n",
       "    </tr>\n",
       "    <tr>\n",
       "      <th>4</th>\n",
       "      <td>4</td>\n",
       "      <td>2019.0</td>\n",
       "      <td>6.0</td>\n",
       "      <td>510</td>\n",
       "      <td>130</td>\n",
       "      <td>5.0</td>\n",
       "      <td>NaN</td>\n",
       "      <td>5.0</td>\n",
       "      <td>2.0</td>\n",
       "      <td>2.0</td>\n",
       "      <td>...</td>\n",
       "      <td>NaN</td>\n",
       "      <td>NaN</td>\n",
       "      <td>NaN</td>\n",
       "      <td>NaN</td>\n",
       "      <td>NaN</td>\n",
       "      <td>NaN</td>\n",
       "      <td>NaN</td>\n",
       "      <td>NaN</td>\n",
       "      <td>NaN</td>\n",
       "      <td>NaN</td>\n",
       "    </tr>\n",
       "  </tbody>\n",
       "</table>\n",
       "<p>5 rows × 127 columns</p>\n",
       "</div>"
      ],
      "text/plain": [
       "   Unnamed: 0    YEAR  raceeth q6orig q7orig  record  orig_rec  \\\n",
       "0           0  2019.0      7.0    504    121     1.0       NaN   \n",
       "1           1  2019.0      8.0    503    119     2.0       NaN   \n",
       "2           2  2019.0      8.0    506     95     3.0       NaN   \n",
       "3           3  2019.0      5.0    510    152     4.0       NaN   \n",
       "4           4  2019.0      6.0    510    130     5.0       NaN   \n",
       "\n",
       "   How old are you  What is your sex  In what grade are you  ...  \\\n",
       "0              5.0               2.0                    2.0  ...   \n",
       "1              4.0               2.0                    2.0  ...   \n",
       "2              4.0               1.0                    2.0  ...   \n",
       "3              4.0               2.0                    2.0  ...   \n",
       "4              5.0               2.0                    2.0  ...   \n",
       "\n",
       "   Gun carrying Injurious physical fighting  Cigarette from store  \\\n",
       "0           NaN                         NaN                   NaN   \n",
       "1           NaN                         NaN                   NaN   \n",
       "2           NaN                         NaN                   NaN   \n",
       "3           NaN                         NaN                   NaN   \n",
       "4           NaN                         NaN                   NaN   \n",
       "\n",
       "   Smoking cessation  5 or more drinks in a row  Usual use of marijuana  \\\n",
       "0                NaN                        NaN                     NaN   \n",
       "1                NaN                        NaN                     NaN   \n",
       "2                NaN                        NaN                     NaN   \n",
       "3                NaN                        NaN                     NaN   \n",
       "4                NaN                        NaN                     NaN   \n",
       "\n",
       "   NA- All tobacco product cessation  NA-Texting and driving  qnowt  qnobese  \n",
       "0                                NaN                     NaN    NaN      NaN  \n",
       "1                                NaN                     NaN    NaN      NaN  \n",
       "2                                NaN                     NaN    NaN      NaN  \n",
       "3                                NaN                     NaN    NaN      NaN  \n",
       "4                                NaN                     NaN    NaN      NaN  \n",
       "\n",
       "[5 rows x 127 columns]"
      ]
     },
     "execution_count": 3,
     "metadata": {},
     "output_type": "execute_result"
    }
   ],
   "source": [
    "df.head()"
   ]
  },
  {
   "cell_type": "code",
   "execution_count": 6,
   "metadata": {},
   "outputs": [
    {
     "data": {
      "text/plain": [
       "(73075, 127)"
      ]
     },
     "execution_count": 6,
     "metadata": {},
     "output_type": "execute_result"
    }
   ],
   "source": [
    "df.shape"
   ]
  },
  {
   "cell_type": "code",
   "execution_count": 7,
   "metadata": {},
   "outputs": [
    {
     "data": {
      "text/plain": [
       "['Unnamed: 0',\n",
       " 'YEAR',\n",
       " 'raceeth',\n",
       " 'q6orig',\n",
       " 'q7orig',\n",
       " 'record',\n",
       " 'orig_rec',\n",
       " 'How old are you',\n",
       " 'What is your sex',\n",
       " 'In what grade are you',\n",
       " 'Are you Hispanic/Latino',\n",
       " 'What is your race',\n",
       " 'How tall are you',\n",
       " 'How much do you weigh',\n",
       " 'Seat belt use',\n",
       " 'Riding with a drinking driver',\n",
       " 'Drinking and driving',\n",
       " 'Texting and driving',\n",
       " 'Weapon carrying',\n",
       " 'Weapon carrying at school',\n",
       " 'Gun carrying past 12 mos',\n",
       " 'Safety concerns at school',\n",
       " 'Threatened at school',\n",
       " 'Physical fighting',\n",
       " 'Physical fighting at school',\n",
       " 'Forced sexual intercourse',\n",
       " 'Sexual violence',\n",
       " 'Sexual dating violence',\n",
       " 'Physical dating violence',\n",
       " 'Bullying at school',\n",
       " 'Electronic bullying',\n",
       " 'Sad or hopeless',\n",
       " 'Considered suicide',\n",
       " 'Made a suicide plan',\n",
       " 'Attempted suicide',\n",
       " 'Injurious suicide attempt',\n",
       " 'Ever cigarette use',\n",
       " 'Initiation of cigarette smoking',\n",
       " 'Current cigarette use',\n",
       " 'Smoked > 10 cigarettes',\n",
       " 'Electronic vapor product use',\n",
       " 'Current electronic vapor use',\n",
       " 'EVP from store',\n",
       " 'Current smokeless tobacco use',\n",
       " 'Current cigar use',\n",
       " 'All tobacco product cessation',\n",
       " 'Initiation of alcohol use',\n",
       " 'Current alcohol use',\n",
       " 'Current binge drinking',\n",
       " 'Largest number of drinks',\n",
       " 'Source of alcohol',\n",
       " 'Ever marijuana use',\n",
       " 'Initiation of marijuana use',\n",
       " 'Current marijuana use',\n",
       " 'Ever synthetic marijuana use',\n",
       " 'Ever prescription pain medicine use',\n",
       " 'Ever cocaine use',\n",
       " 'Ever inhalant use',\n",
       " 'Ever heroin use',\n",
       " 'Ever methamphetamine use',\n",
       " 'Ever ecstasy use',\n",
       " 'Ever steroid use',\n",
       " 'Illegal injected drug use',\n",
       " 'Illegal drugs at school',\n",
       " 'Ever sexual intercourse',\n",
       " 'Sex before 13 years',\n",
       " 'Multiple sex partners',\n",
       " 'Current sexual activity',\n",
       " 'Alcohol/drugs and sex',\n",
       " 'Condom use',\n",
       " 'Birth control pill use',\n",
       " 'Sex of sexual contacts',\n",
       " 'Sexual identity',\n",
       " 'Perception of weight',\n",
       " 'Weight loss',\n",
       " 'Fruit juice drinking',\n",
       " 'Fruit eating',\n",
       " 'Green salad eating',\n",
       " 'Potato eating',\n",
       " 'Carrot eating',\n",
       " 'Other vegetable eating',\n",
       " 'No soda drinking',\n",
       " 'No milk drinking',\n",
       " 'Breakfast eating',\n",
       " 'Physical activity >= 5 days',\n",
       " 'Television watching',\n",
       " 'Computer use',\n",
       " 'PE attendance',\n",
       " 'Sports team participation',\n",
       " 'Concussion',\n",
       " 'HIV testing',\n",
       " 'STD testing',\n",
       " 'Oral health care',\n",
       " 'Asthma',\n",
       " 'Sleep',\n",
       " 'Grades in school',\n",
       " 'Current prescription pain medicine use',\n",
       " 'Ever used LSD',\n",
       " 'Sports drinks',\n",
       " 'Plain water',\n",
       " 'Food allergies',\n",
       " 'Muscle strengthening',\n",
       " 'Indoor tanning',\n",
       " 'Sunscreen',\n",
       " 'Difficulty concentrating',\n",
       " 'How well speak English',\n",
       " 'BMIPCT',\n",
       " 'weight',\n",
       " 'stratum',\n",
       " 'psu',\n",
       " 'Smoked>10 cigarettes',\n",
       " 'Current electronic vapor product use',\n",
       " 'Ever alcohol use',\n",
       " 'Physical activity>=5 days',\n",
       " 'Drive when using marijuana',\n",
       " 'Sunburn',\n",
       " 'Bicycle helmet use',\n",
       " 'Gun carrying',\n",
       " 'Injurious physical fighting',\n",
       " 'Cigarette from store',\n",
       " 'Smoking cessation',\n",
       " '5 or more drinks in a row',\n",
       " 'Usual use of marijuana',\n",
       " 'NA- All tobacco product cessation',\n",
       " 'NA-Texting and driving',\n",
       " 'qnowt',\n",
       " 'qnobese']"
      ]
     },
     "execution_count": 7,
     "metadata": {},
     "output_type": "execute_result"
    }
   ],
   "source": [
    "list(df.columns)"
   ]
  },
  {
   "cell_type": "code",
   "execution_count": 8,
   "metadata": {},
   "outputs": [
    {
     "data": {
      "text/plain": [
       "5.0    18613\n",
       "6.0    17940\n",
       "4.0    17444\n",
       "7.0    10145\n",
       "3.0     8234\n",
       "1.0      232\n",
       "2.0      108\n",
       "Name: How old are you, dtype: int64"
      ]
     },
     "execution_count": 8,
     "metadata": {},
     "output_type": "execute_result"
    }
   ],
   "source": [
    "df['How old are you'].value_counts()"
   ]
  },
  {
   "cell_type": "code",
   "execution_count": 9,
   "metadata": {},
   "outputs": [
    {
     "data": {
      "text/plain": [
       "1.0    56621\n",
       "2.0     5838\n",
       "3.0     5181\n",
       "5.0     2627\n",
       "4.0     1273\n",
       "Name: Riding with a drinking driver, dtype: int64"
      ]
     },
     "execution_count": 9,
     "metadata": {},
     "output_type": "execute_result"
    }
   ],
   "source": [
    "df['Riding with a drinking driver'].value_counts()"
   ]
  },
  {
   "cell_type": "code",
   "execution_count": 14,
   "metadata": {},
   "outputs": [],
   "source": [
    "cols = list(df.columns)"
   ]
  },
  {
   "cell_type": "code",
   "execution_count": 18,
   "metadata": {},
   "outputs": [
    {
     "data": {
      "text/plain": [
       "1.0    36497\n",
       "2.0    36108\n",
       "Name: What is your sex, dtype: int64"
      ]
     },
     "execution_count": 18,
     "metadata": {},
     "output_type": "execute_result"
    }
   ],
   "source": [
    "df['What is your sex'].value_counts()"
   ]
  },
  {
   "cell_type": "code",
   "execution_count": 19,
   "metadata": {},
   "outputs": [
    {
     "data": {
      "text/plain": [
       "5.0    36825\n",
       "4.0    17143\n",
       "3.0     6863\n",
       "2.0     3143\n",
       "1.0     1618\n",
       "Name: Seat belt use, dtype: int64"
      ]
     },
     "execution_count": 19,
     "metadata": {},
     "output_type": "execute_result"
    }
   ],
   "source": [
    "df['Seat belt use'].value_counts()"
   ]
  },
  {
   "cell_type": "markdown",
   "metadata": {},
   "source": [
    "### A for loop I tried to do "
   ]
  },
  {
   "cell_type": "code",
   "execution_count": 21,
   "metadata": {},
   "outputs": [
    {
     "ename": "ValueError",
     "evalue": "The truth value of a Series is ambiguous. Use a.empty, a.bool(), a.item(), a.any() or a.all().",
     "output_type": "error",
     "traceback": [
      "\u001b[0;31m---------------------------------------------------------------------------\u001b[0m",
      "\u001b[0;31mValueError\u001b[0m                                Traceback (most recent call last)",
      "\u001b[0;32m<ipython-input-21-e597aa3bd4e2>\u001b[0m in \u001b[0;36m<module>\u001b[0;34m\u001b[0m\n\u001b[1;32m      3\u001b[0m \u001b[0;34m\u001b[0m\u001b[0m\n\u001b[1;32m      4\u001b[0m \u001b[0;32mfor\u001b[0m \u001b[0mcol\u001b[0m \u001b[0;32min\u001b[0m \u001b[0mdf\u001b[0m\u001b[0;34m[\u001b[0m\u001b[0mcols\u001b[0m\u001b[0;34m]\u001b[0m\u001b[0;34m:\u001b[0m\u001b[0;34m\u001b[0m\u001b[0;34m\u001b[0m\u001b[0m\n\u001b[0;32m----> 5\u001b[0;31m     \u001b[0;32mif\u001b[0m\u001b[0;34m(\u001b[0m\u001b[0mpd\u001b[0m\u001b[0;34m.\u001b[0m\u001b[0misnull\u001b[0m\u001b[0;34m(\u001b[0m\u001b[0mdf\u001b[0m\u001b[0;34m[\u001b[0m\u001b[0mcol\u001b[0m\u001b[0;34m]\u001b[0m\u001b[0;34m)\u001b[0m\u001b[0;34m)\u001b[0m\u001b[0;34m:\u001b[0m\u001b[0;34m\u001b[0m\u001b[0;34m\u001b[0m\u001b[0m\n\u001b[0m\u001b[1;32m      6\u001b[0m         \u001b[0mcols_with_null\u001b[0m\u001b[0;34m.\u001b[0m\u001b[0mappend\u001b[0m\u001b[0;34m(\u001b[0m\u001b[0mcol\u001b[0m\u001b[0;34m)\u001b[0m\u001b[0;34m\u001b[0m\u001b[0;34m\u001b[0m\u001b[0m\n\u001b[1;32m      7\u001b[0m \u001b[0;34m\u001b[0m\u001b[0m\n",
      "\u001b[0;32m~/opt/anaconda3/lib/python3.8/site-packages/pandas/core/generic.py\u001b[0m in \u001b[0;36m__nonzero__\u001b[0;34m(self)\u001b[0m\n\u001b[1;32m   1476\u001b[0m \u001b[0;34m\u001b[0m\u001b[0m\n\u001b[1;32m   1477\u001b[0m     \u001b[0;32mdef\u001b[0m \u001b[0m__nonzero__\u001b[0m\u001b[0;34m(\u001b[0m\u001b[0mself\u001b[0m\u001b[0;34m)\u001b[0m\u001b[0;34m:\u001b[0m\u001b[0;34m\u001b[0m\u001b[0;34m\u001b[0m\u001b[0m\n\u001b[0;32m-> 1478\u001b[0;31m         raise ValueError(\n\u001b[0m\u001b[1;32m   1479\u001b[0m             \u001b[0;34mf\"The truth value of a {type(self).__name__} is ambiguous. \"\u001b[0m\u001b[0;34m\u001b[0m\u001b[0;34m\u001b[0m\u001b[0m\n\u001b[1;32m   1480\u001b[0m             \u001b[0;34m\"Use a.empty, a.bool(), a.item(), a.any() or a.all().\"\u001b[0m\u001b[0;34m\u001b[0m\u001b[0;34m\u001b[0m\u001b[0m\n",
      "\u001b[0;31mValueError\u001b[0m: The truth value of a Series is ambiguous. Use a.empty, a.bool(), a.item(), a.any() or a.all()."
     ]
    }
   ],
   "source": [
    "# ask justin how to do this right\n",
    "cols_with_null = []\n",
    "\n",
    "for col in df[cols]:\n",
    "    if(pd.isnull(df[col])):\n",
    "        cols_with_null.append(col)\n",
    "\n",
    "cols_with_null"
   ]
  },
  {
   "cell_type": "code",
   "execution_count": null,
   "metadata": {},
   "outputs": [],
   "source": []
  }
 ],
 "metadata": {
  "kernelspec": {
   "display_name": "learn-env",
   "language": "python",
   "name": "learn-env"
  },
  "language_info": {
   "codemirror_mode": {
    "name": "ipython",
    "version": 3
   },
   "file_extension": ".py",
   "mimetype": "text/x-python",
   "name": "python",
   "nbconvert_exporter": "python",
   "pygments_lexer": "ipython3",
   "version": "3.8.3"
  },
  "toc": {
   "base_numbering": 1,
   "nav_menu": {},
   "number_sections": true,
   "sideBar": true,
   "skip_h1_title": false,
   "title_cell": "Table of Contents",
   "title_sidebar": "Contents",
   "toc_cell": false,
   "toc_position": {},
   "toc_section_display": true,
   "toc_window_display": false
  }
 },
 "nbformat": 4,
 "nbformat_minor": 4
}
