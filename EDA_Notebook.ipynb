{
 "cells": [
  {
   "cell_type": "markdown",
   "metadata": {},
   "source": [
    "# Importing packages"
   ]
  },
  {
   "cell_type": "code",
   "execution_count": 80,
   "metadata": {},
   "outputs": [],
   "source": [
    "import pandas as pd\n",
    "import seaborn as sns\n",
    "import numpy as np\n",
    "import matplotlib.pyplot as plt\n",
    "%matplotlib inline\n",
    "pd.set_option('display.max_columns', 150, 'display.max_rows', 150)"
   ]
  },
  {
   "cell_type": "code",
   "execution_count": 142,
   "metadata": {},
   "outputs": [
    {
     "name": "stderr",
     "output_type": "stream",
     "text": [
      "/Users/alexandrabruno/opt/anaconda3/lib/python3.8/site-packages/IPython/core/interactiveshell.py:3071: DtypeWarning: Columns (3,4) have mixed types.Specify dtype option on import or set low_memory=False.\n",
      "  has_raised = await self.run_ast_nodes(code_ast.body, cell_name,\n"
     ]
    }
   ],
   "source": [
    "df = pd.read_csv('updated_df.csv')"
   ]
  },
  {
   "cell_type": "code",
   "execution_count": 3,
   "metadata": {},
   "outputs": [
    {
     "data": {
      "text/html": [
       "<div>\n",
       "<style scoped>\n",
       "    .dataframe tbody tr th:only-of-type {\n",
       "        vertical-align: middle;\n",
       "    }\n",
       "\n",
       "    .dataframe tbody tr th {\n",
       "        vertical-align: top;\n",
       "    }\n",
       "\n",
       "    .dataframe thead th {\n",
       "        text-align: right;\n",
       "    }\n",
       "</style>\n",
       "<table border=\"1\" class=\"dataframe\">\n",
       "  <thead>\n",
       "    <tr style=\"text-align: right;\">\n",
       "      <th></th>\n",
       "      <th>Unnamed: 0</th>\n",
       "      <th>YEAR</th>\n",
       "      <th>raceeth</th>\n",
       "      <th>q6orig</th>\n",
       "      <th>q7orig</th>\n",
       "      <th>record</th>\n",
       "      <th>orig_rec</th>\n",
       "      <th>How old are you</th>\n",
       "      <th>What is your sex</th>\n",
       "      <th>In what grade are you</th>\n",
       "      <th>...</th>\n",
       "      <th>Gun carrying</th>\n",
       "      <th>Injurious physical fighting</th>\n",
       "      <th>Cigarette from store</th>\n",
       "      <th>Smoking cessation</th>\n",
       "      <th>5 or more drinks in a row</th>\n",
       "      <th>Usual use of marijuana</th>\n",
       "      <th>NA- All tobacco product cessation</th>\n",
       "      <th>NA-Texting and driving</th>\n",
       "      <th>qnowt</th>\n",
       "      <th>qnobese</th>\n",
       "    </tr>\n",
       "  </thead>\n",
       "  <tbody>\n",
       "    <tr>\n",
       "      <th>0</th>\n",
       "      <td>0</td>\n",
       "      <td>2019.0</td>\n",
       "      <td>7.0</td>\n",
       "      <td>504</td>\n",
       "      <td>121</td>\n",
       "      <td>1.0</td>\n",
       "      <td>NaN</td>\n",
       "      <td>5.0</td>\n",
       "      <td>2.0</td>\n",
       "      <td>2.0</td>\n",
       "      <td>...</td>\n",
       "      <td>NaN</td>\n",
       "      <td>NaN</td>\n",
       "      <td>NaN</td>\n",
       "      <td>NaN</td>\n",
       "      <td>NaN</td>\n",
       "      <td>NaN</td>\n",
       "      <td>NaN</td>\n",
       "      <td>NaN</td>\n",
       "      <td>NaN</td>\n",
       "      <td>NaN</td>\n",
       "    </tr>\n",
       "    <tr>\n",
       "      <th>1</th>\n",
       "      <td>1</td>\n",
       "      <td>2019.0</td>\n",
       "      <td>8.0</td>\n",
       "      <td>503</td>\n",
       "      <td>119</td>\n",
       "      <td>2.0</td>\n",
       "      <td>NaN</td>\n",
       "      <td>4.0</td>\n",
       "      <td>2.0</td>\n",
       "      <td>2.0</td>\n",
       "      <td>...</td>\n",
       "      <td>NaN</td>\n",
       "      <td>NaN</td>\n",
       "      <td>NaN</td>\n",
       "      <td>NaN</td>\n",
       "      <td>NaN</td>\n",
       "      <td>NaN</td>\n",
       "      <td>NaN</td>\n",
       "      <td>NaN</td>\n",
       "      <td>NaN</td>\n",
       "      <td>NaN</td>\n",
       "    </tr>\n",
       "    <tr>\n",
       "      <th>2</th>\n",
       "      <td>2</td>\n",
       "      <td>2019.0</td>\n",
       "      <td>8.0</td>\n",
       "      <td>506</td>\n",
       "      <td>95</td>\n",
       "      <td>3.0</td>\n",
       "      <td>NaN</td>\n",
       "      <td>4.0</td>\n",
       "      <td>1.0</td>\n",
       "      <td>2.0</td>\n",
       "      <td>...</td>\n",
       "      <td>NaN</td>\n",
       "      <td>NaN</td>\n",
       "      <td>NaN</td>\n",
       "      <td>NaN</td>\n",
       "      <td>NaN</td>\n",
       "      <td>NaN</td>\n",
       "      <td>NaN</td>\n",
       "      <td>NaN</td>\n",
       "      <td>NaN</td>\n",
       "      <td>NaN</td>\n",
       "    </tr>\n",
       "    <tr>\n",
       "      <th>3</th>\n",
       "      <td>3</td>\n",
       "      <td>2019.0</td>\n",
       "      <td>5.0</td>\n",
       "      <td>510</td>\n",
       "      <td>152</td>\n",
       "      <td>4.0</td>\n",
       "      <td>NaN</td>\n",
       "      <td>4.0</td>\n",
       "      <td>2.0</td>\n",
       "      <td>2.0</td>\n",
       "      <td>...</td>\n",
       "      <td>NaN</td>\n",
       "      <td>NaN</td>\n",
       "      <td>NaN</td>\n",
       "      <td>NaN</td>\n",
       "      <td>NaN</td>\n",
       "      <td>NaN</td>\n",
       "      <td>NaN</td>\n",
       "      <td>NaN</td>\n",
       "      <td>NaN</td>\n",
       "      <td>NaN</td>\n",
       "    </tr>\n",
       "    <tr>\n",
       "      <th>4</th>\n",
       "      <td>4</td>\n",
       "      <td>2019.0</td>\n",
       "      <td>6.0</td>\n",
       "      <td>510</td>\n",
       "      <td>130</td>\n",
       "      <td>5.0</td>\n",
       "      <td>NaN</td>\n",
       "      <td>5.0</td>\n",
       "      <td>2.0</td>\n",
       "      <td>2.0</td>\n",
       "      <td>...</td>\n",
       "      <td>NaN</td>\n",
       "      <td>NaN</td>\n",
       "      <td>NaN</td>\n",
       "      <td>NaN</td>\n",
       "      <td>NaN</td>\n",
       "      <td>NaN</td>\n",
       "      <td>NaN</td>\n",
       "      <td>NaN</td>\n",
       "      <td>NaN</td>\n",
       "      <td>NaN</td>\n",
       "    </tr>\n",
       "  </tbody>\n",
       "</table>\n",
       "<p>5 rows × 127 columns</p>\n",
       "</div>"
      ],
      "text/plain": [
       "   Unnamed: 0    YEAR  raceeth q6orig q7orig  record  orig_rec  \\\n",
       "0           0  2019.0      7.0    504    121     1.0       NaN   \n",
       "1           1  2019.0      8.0    503    119     2.0       NaN   \n",
       "2           2  2019.0      8.0    506     95     3.0       NaN   \n",
       "3           3  2019.0      5.0    510    152     4.0       NaN   \n",
       "4           4  2019.0      6.0    510    130     5.0       NaN   \n",
       "\n",
       "   How old are you  What is your sex  In what grade are you  ...  \\\n",
       "0              5.0               2.0                    2.0  ...   \n",
       "1              4.0               2.0                    2.0  ...   \n",
       "2              4.0               1.0                    2.0  ...   \n",
       "3              4.0               2.0                    2.0  ...   \n",
       "4              5.0               2.0                    2.0  ...   \n",
       "\n",
       "   Gun carrying Injurious physical fighting  Cigarette from store  \\\n",
       "0           NaN                         NaN                   NaN   \n",
       "1           NaN                         NaN                   NaN   \n",
       "2           NaN                         NaN                   NaN   \n",
       "3           NaN                         NaN                   NaN   \n",
       "4           NaN                         NaN                   NaN   \n",
       "\n",
       "   Smoking cessation  5 or more drinks in a row  Usual use of marijuana  \\\n",
       "0                NaN                        NaN                     NaN   \n",
       "1                NaN                        NaN                     NaN   \n",
       "2                NaN                        NaN                     NaN   \n",
       "3                NaN                        NaN                     NaN   \n",
       "4                NaN                        NaN                     NaN   \n",
       "\n",
       "   NA- All tobacco product cessation  NA-Texting and driving  qnowt  qnobese  \n",
       "0                                NaN                     NaN    NaN      NaN  \n",
       "1                                NaN                     NaN    NaN      NaN  \n",
       "2                                NaN                     NaN    NaN      NaN  \n",
       "3                                NaN                     NaN    NaN      NaN  \n",
       "4                                NaN                     NaN    NaN      NaN  \n",
       "\n",
       "[5 rows x 127 columns]"
      ]
     },
     "execution_count": 3,
     "metadata": {},
     "output_type": "execute_result"
    }
   ],
   "source": [
    "df.head()"
   ]
  },
  {
   "cell_type": "code",
   "execution_count": 4,
   "metadata": {},
   "outputs": [
    {
     "data": {
      "text/plain": [
       "(73075, 127)"
      ]
     },
     "execution_count": 4,
     "metadata": {},
     "output_type": "execute_result"
    }
   ],
   "source": [
    "df.shape"
   ]
  },
  {
   "cell_type": "code",
   "execution_count": 5,
   "metadata": {},
   "outputs": [
    {
     "data": {
      "text/plain": [
       "['Unnamed: 0',\n",
       " 'YEAR',\n",
       " 'raceeth',\n",
       " 'q6orig',\n",
       " 'q7orig',\n",
       " 'record',\n",
       " 'orig_rec',\n",
       " 'How old are you',\n",
       " 'What is your sex',\n",
       " 'In what grade are you',\n",
       " 'Are you Hispanic/Latino',\n",
       " 'What is your race',\n",
       " 'How tall are you',\n",
       " 'How much do you weigh',\n",
       " 'Seat belt use',\n",
       " 'Riding with a drinking driver',\n",
       " 'Drinking and driving',\n",
       " 'Texting and driving',\n",
       " 'Weapon carrying',\n",
       " 'Weapon carrying at school',\n",
       " 'Gun carrying past 12 mos',\n",
       " 'Safety concerns at school',\n",
       " 'Threatened at school',\n",
       " 'Physical fighting',\n",
       " 'Physical fighting at school',\n",
       " 'Forced sexual intercourse',\n",
       " 'Sexual violence',\n",
       " 'Sexual dating violence',\n",
       " 'Physical dating violence',\n",
       " 'Bullying at school',\n",
       " 'Electronic bullying',\n",
       " 'Sad or hopeless',\n",
       " 'Considered suicide',\n",
       " 'Made a suicide plan',\n",
       " 'Attempted suicide',\n",
       " 'Injurious suicide attempt',\n",
       " 'Ever cigarette use',\n",
       " 'Initiation of cigarette smoking',\n",
       " 'Current cigarette use',\n",
       " 'Smoked > 10 cigarettes',\n",
       " 'Electronic vapor product use',\n",
       " 'Current electronic vapor use',\n",
       " 'EVP from store',\n",
       " 'Current smokeless tobacco use',\n",
       " 'Current cigar use',\n",
       " 'All tobacco product cessation',\n",
       " 'Initiation of alcohol use',\n",
       " 'Current alcohol use',\n",
       " 'Current binge drinking',\n",
       " 'Largest number of drinks',\n",
       " 'Source of alcohol',\n",
       " 'Ever marijuana use',\n",
       " 'Initiation of marijuana use',\n",
       " 'Current marijuana use',\n",
       " 'Ever synthetic marijuana use',\n",
       " 'Ever prescription pain medicine use',\n",
       " 'Ever cocaine use',\n",
       " 'Ever inhalant use',\n",
       " 'Ever heroin use',\n",
       " 'Ever methamphetamine use',\n",
       " 'Ever ecstasy use',\n",
       " 'Ever steroid use',\n",
       " 'Illegal injected drug use',\n",
       " 'Illegal drugs at school',\n",
       " 'Ever sexual intercourse',\n",
       " 'Sex before 13 years',\n",
       " 'Multiple sex partners',\n",
       " 'Current sexual activity',\n",
       " 'Alcohol/drugs and sex',\n",
       " 'Condom use',\n",
       " 'Birth control pill use',\n",
       " 'Sex of sexual contacts',\n",
       " 'Sexual identity',\n",
       " 'Perception of weight',\n",
       " 'Weight loss',\n",
       " 'Fruit juice drinking',\n",
       " 'Fruit eating',\n",
       " 'Green salad eating',\n",
       " 'Potato eating',\n",
       " 'Carrot eating',\n",
       " 'Other vegetable eating',\n",
       " 'No soda drinking',\n",
       " 'No milk drinking',\n",
       " 'Breakfast eating',\n",
       " 'Physical activity >= 5 days',\n",
       " 'Television watching',\n",
       " 'Computer use',\n",
       " 'PE attendance',\n",
       " 'Sports team participation',\n",
       " 'Concussion',\n",
       " 'HIV testing',\n",
       " 'STD testing',\n",
       " 'Oral health care',\n",
       " 'Asthma',\n",
       " 'Sleep',\n",
       " 'Grades in school',\n",
       " 'Current prescription pain medicine use',\n",
       " 'Ever used LSD',\n",
       " 'Sports drinks',\n",
       " 'Plain water',\n",
       " 'Food allergies',\n",
       " 'Muscle strengthening',\n",
       " 'Indoor tanning',\n",
       " 'Sunscreen',\n",
       " 'Difficulty concentrating',\n",
       " 'How well speak English',\n",
       " 'BMIPCT',\n",
       " 'weight',\n",
       " 'stratum',\n",
       " 'psu',\n",
       " 'Smoked>10 cigarettes',\n",
       " 'Current electronic vapor product use',\n",
       " 'Ever alcohol use',\n",
       " 'Physical activity>=5 days',\n",
       " 'Drive when using marijuana',\n",
       " 'Sunburn',\n",
       " 'Bicycle helmet use',\n",
       " 'Gun carrying',\n",
       " 'Injurious physical fighting',\n",
       " 'Cigarette from store',\n",
       " 'Smoking cessation',\n",
       " '5 or more drinks in a row',\n",
       " 'Usual use of marijuana',\n",
       " 'NA- All tobacco product cessation',\n",
       " 'NA-Texting and driving',\n",
       " 'qnowt',\n",
       " 'qnobese']"
      ]
     },
     "execution_count": 5,
     "metadata": {},
     "output_type": "execute_result"
    }
   ],
   "source": [
    "list(df.columns)"
   ]
  },
  {
   "cell_type": "code",
   "execution_count": 6,
   "metadata": {},
   "outputs": [
    {
     "data": {
      "text/plain": [
       "5.0    18613\n",
       "6.0    17940\n",
       "4.0    17444\n",
       "7.0    10145\n",
       "3.0     8234\n",
       "1.0      232\n",
       "2.0      108\n",
       "Name: How old are you, dtype: int64"
      ]
     },
     "execution_count": 6,
     "metadata": {},
     "output_type": "execute_result"
    }
   ],
   "source": [
    "df['How old are you'].value_counts()"
   ]
  },
  {
   "cell_type": "code",
   "execution_count": 7,
   "metadata": {
    "scrolled": true
   },
   "outputs": [
    {
     "data": {
      "text/plain": [
       "1.0    56621\n",
       "2.0     5838\n",
       "3.0     5181\n",
       "5.0     2627\n",
       "4.0     1273\n",
       "Name: Riding with a drinking driver, dtype: int64"
      ]
     },
     "execution_count": 7,
     "metadata": {},
     "output_type": "execute_result"
    }
   ],
   "source": [
    "df['Riding with a drinking driver'].value_counts()"
   ]
  },
  {
   "cell_type": "code",
   "execution_count": 8,
   "metadata": {},
   "outputs": [],
   "source": [
    "cols = list(df.columns)"
   ]
  },
  {
   "cell_type": "code",
   "execution_count": 9,
   "metadata": {},
   "outputs": [
    {
     "data": {
      "text/plain": [
       "1.0    36497\n",
       "2.0    36108\n",
       "Name: What is your sex, dtype: int64"
      ]
     },
     "execution_count": 9,
     "metadata": {},
     "output_type": "execute_result"
    }
   ],
   "source": [
    "df['What is your sex'].value_counts()"
   ]
  },
  {
   "cell_type": "code",
   "execution_count": 10,
   "metadata": {},
   "outputs": [
    {
     "data": {
      "text/plain": [
       "5.0    36825\n",
       "4.0    17143\n",
       "3.0     6863\n",
       "2.0     3143\n",
       "1.0     1618\n",
       "Name: Seat belt use, dtype: int64"
      ]
     },
     "execution_count": 10,
     "metadata": {},
     "output_type": "execute_result"
    }
   ],
   "source": [
    "df['Seat belt use'].value_counts()"
   ]
  },
  {
   "cell_type": "markdown",
   "metadata": {
    "heading_collapsed": true
   },
   "source": [
    "### A for loop I tried to do "
   ]
  },
  {
   "cell_type": "code",
   "execution_count": 11,
   "metadata": {
    "hidden": true
   },
   "outputs": [
    {
     "ename": "ValueError",
     "evalue": "The truth value of a Series is ambiguous. Use a.empty, a.bool(), a.item(), a.any() or a.all().",
     "output_type": "error",
     "traceback": [
      "\u001b[0;31m---------------------------------------------------------------------------\u001b[0m",
      "\u001b[0;31mValueError\u001b[0m                                Traceback (most recent call last)",
      "\u001b[0;32m<ipython-input-11-e597aa3bd4e2>\u001b[0m in \u001b[0;36m<module>\u001b[0;34m\u001b[0m\n\u001b[1;32m      3\u001b[0m \u001b[0;34m\u001b[0m\u001b[0m\n\u001b[1;32m      4\u001b[0m \u001b[0;32mfor\u001b[0m \u001b[0mcol\u001b[0m \u001b[0;32min\u001b[0m \u001b[0mdf\u001b[0m\u001b[0;34m[\u001b[0m\u001b[0mcols\u001b[0m\u001b[0;34m]\u001b[0m\u001b[0;34m:\u001b[0m\u001b[0;34m\u001b[0m\u001b[0;34m\u001b[0m\u001b[0m\n\u001b[0;32m----> 5\u001b[0;31m     \u001b[0;32mif\u001b[0m\u001b[0;34m(\u001b[0m\u001b[0mpd\u001b[0m\u001b[0;34m.\u001b[0m\u001b[0misnull\u001b[0m\u001b[0;34m(\u001b[0m\u001b[0mdf\u001b[0m\u001b[0;34m[\u001b[0m\u001b[0mcol\u001b[0m\u001b[0;34m]\u001b[0m\u001b[0;34m)\u001b[0m\u001b[0;34m)\u001b[0m\u001b[0;34m:\u001b[0m\u001b[0;34m\u001b[0m\u001b[0;34m\u001b[0m\u001b[0m\n\u001b[0m\u001b[1;32m      6\u001b[0m         \u001b[0mcols_with_null\u001b[0m\u001b[0;34m.\u001b[0m\u001b[0mappend\u001b[0m\u001b[0;34m(\u001b[0m\u001b[0mcol\u001b[0m\u001b[0;34m)\u001b[0m\u001b[0;34m\u001b[0m\u001b[0;34m\u001b[0m\u001b[0m\n\u001b[1;32m      7\u001b[0m \u001b[0;34m\u001b[0m\u001b[0m\n",
      "\u001b[0;32m~/opt/anaconda3/lib/python3.8/site-packages/pandas/core/generic.py\u001b[0m in \u001b[0;36m__nonzero__\u001b[0;34m(self)\u001b[0m\n\u001b[1;32m   1476\u001b[0m \u001b[0;34m\u001b[0m\u001b[0m\n\u001b[1;32m   1477\u001b[0m     \u001b[0;32mdef\u001b[0m \u001b[0m__nonzero__\u001b[0m\u001b[0;34m(\u001b[0m\u001b[0mself\u001b[0m\u001b[0;34m)\u001b[0m\u001b[0;34m:\u001b[0m\u001b[0;34m\u001b[0m\u001b[0;34m\u001b[0m\u001b[0m\n\u001b[0;32m-> 1478\u001b[0;31m         raise ValueError(\n\u001b[0m\u001b[1;32m   1479\u001b[0m             \u001b[0;34mf\"The truth value of a {type(self).__name__} is ambiguous. \"\u001b[0m\u001b[0;34m\u001b[0m\u001b[0;34m\u001b[0m\u001b[0m\n\u001b[1;32m   1480\u001b[0m             \u001b[0;34m\"Use a.empty, a.bool(), a.item(), a.any() or a.all().\"\u001b[0m\u001b[0;34m\u001b[0m\u001b[0;34m\u001b[0m\u001b[0m\n",
      "\u001b[0;31mValueError\u001b[0m: The truth value of a Series is ambiguous. Use a.empty, a.bool(), a.item(), a.any() or a.all()."
     ]
    }
   ],
   "source": [
    "# ask justin how to do this right\n",
    "cols_with_null = []\n",
    "\n",
    "for col in df[cols]:\n",
    "    if(pd.isnull(df[col])):\n",
    "        cols_with_null.append(col)\n",
    "\n",
    "cols_with_null"
   ]
  },
  {
   "cell_type": "markdown",
   "metadata": {},
   "source": [
    "### Checking what columns all our dataframes have in common"
   ]
  },
  {
   "cell_type": "code",
   "execution_count": 143,
   "metadata": {},
   "outputs": [],
   "source": [
    "df19 = pd.read_csv('twnty19.csv')"
   ]
  },
  {
   "cell_type": "code",
   "execution_count": 144,
   "metadata": {},
   "outputs": [
    {
     "name": "stderr",
     "output_type": "stream",
     "text": [
      "/Users/alexandrabruno/opt/anaconda3/lib/python3.8/site-packages/IPython/core/interactiveshell.py:3071: DtypeWarning: Columns (4) have mixed types.Specify dtype option on import or set low_memory=False.\n",
      "  has_raised = await self.run_ast_nodes(code_ast.body, cell_name,\n"
     ]
    }
   ],
   "source": [
    "df17 = pd.read_csv('twnty17.csv')"
   ]
  },
  {
   "cell_type": "code",
   "execution_count": 145,
   "metadata": {},
   "outputs": [],
   "source": [
    "df15 = pd.read_csv('twnty15.csv')"
   ]
  },
  {
   "cell_type": "code",
   "execution_count": 146,
   "metadata": {},
   "outputs": [],
   "source": [
    "df13 = pd.read_csv('twnty13.csv')"
   ]
  },
  {
   "cell_type": "code",
   "execution_count": 147,
   "metadata": {},
   "outputs": [],
   "source": [
    "df11 = pd.read_csv('twnty11.csv')"
   ]
  },
  {
   "cell_type": "code",
   "execution_count": 148,
   "metadata": {},
   "outputs": [],
   "source": [
    "columns = df19.columns\n",
    "columns = [x for x in columns if x in df17.columns]\n",
    "columns = [x for x in columns if x in df15.columns]\n",
    "columns = [x for x in columns if x in df13.columns]\n",
    "columns = [x for x in columns if x in df11.columns]"
   ]
  },
  {
   "cell_type": "code",
   "execution_count": 150,
   "metadata": {},
   "outputs": [],
   "source": [
    "drop_columns = df.columns\n",
    "drop_columns = [x for x in drop_columns if x not in columns]"
   ]
  },
  {
   "cell_type": "code",
   "execution_count": 151,
   "metadata": {},
   "outputs": [],
   "source": [
    "df.drop(['q6orig',\n",
    " 'q7orig',\n",
    " 'record',\n",
    " 'orig_rec',\n",
    " 'Texting and driving',\n",
    " 'Gun carrying past 12 mos',\n",
    " 'Sexual violence',\n",
    " 'Sexual dating violence',\n",
    " 'Physical dating violence',\n",
    " 'Smoked > 10 cigarettes',\n",
    " 'Electronic vapor product use',\n",
    " 'Current electronic vapor use',\n",
    " 'EVP from store',\n",
    " 'All tobacco product cessation',\n",
    " 'Current binge drinking',\n",
    " 'Largest number of drinks',\n",
    " 'Ever synthetic marijuana use',\n",
    " 'Sex of sexual contacts',\n",
    " 'Sexual identity',\n",
    " 'Physical activity >= 5 days',\n",
    " 'Concussion',\n",
    " 'STD testing',\n",
    " 'Oral health care',\n",
    " 'Grades in school',\n",
    " 'Current prescription pain medicine use',\n",
    " 'Sports drinks',\n",
    " 'Plain water',\n",
    " 'Food allergies',\n",
    " 'Sunscreen',\n",
    " 'Difficulty concentrating',\n",
    " 'How well speak English',\n",
    " 'Smoked>10 cigarettes',\n",
    " 'Current electronic vapor product use',\n",
    " 'Ever alcohol use',\n",
    " 'Physical activity>=5 days',\n",
    " 'Drive when using marijuana',\n",
    " 'Sunburn',\n",
    " 'Bicycle helmet use',\n",
    " 'Gun carrying',\n",
    " 'Injurious physical fighting',\n",
    " 'Cigarette from store',\n",
    " 'Smoking cessation',\n",
    " '5 or more drinks in a row',\n",
    " 'Usual use of marijuana',\n",
    " 'qnowt',\n",
    " 'qnobese'],axis =1, inplace = True)"
   ]
  },
  {
   "cell_type": "code",
   "execution_count": 152,
   "metadata": {},
   "outputs": [],
   "source": [
    "df.to_csv('final_df.csv')"
   ]
  },
  {
   "cell_type": "code",
   "execution_count": 153,
   "metadata": {},
   "outputs": [
    {
     "data": {
      "text/plain": [
       "(73074, 79)"
      ]
     },
     "execution_count": 153,
     "metadata": {},
     "output_type": "execute_result"
    }
   ],
   "source": [
    "df.shape"
   ]
  },
  {
   "cell_type": "markdown",
   "metadata": {},
   "source": [
    "### KNN modeling process"
   ]
  },
  {
   "cell_type": "code",
   "execution_count": 71,
   "metadata": {},
   "outputs": [],
   "source": [
    "df.drop('What is your race',axis = 1,inplace = True)"
   ]
  },
  {
   "cell_type": "code",
   "execution_count": 154,
   "metadata": {},
   "outputs": [],
   "source": [
    "df = pd.read_csv('final_df.csv')"
   ]
  },
  {
   "cell_type": "code",
   "execution_count": 72,
   "metadata": {},
   "outputs": [
    {
     "data": {
      "text/plain": [
       "['Unnamed: 0',\n",
       " 'Unnamed: 0.1',\n",
       " 'YEAR',\n",
       " 'raceeth',\n",
       " 'How old are you',\n",
       " 'What is your sex',\n",
       " 'In what grade are you',\n",
       " 'Are you Hispanic/Latino',\n",
       " 'How tall are you',\n",
       " 'How much do you weigh',\n",
       " 'Seat belt use',\n",
       " 'Riding with a drinking driver',\n",
       " 'Drinking and driving',\n",
       " 'Weapon carrying',\n",
       " 'Weapon carrying at school',\n",
       " 'Safety concerns at school',\n",
       " 'Threatened at school',\n",
       " 'Physical fighting',\n",
       " 'Physical fighting at school',\n",
       " 'Forced sexual intercourse',\n",
       " 'Bullying at school',\n",
       " 'Electronic bullying',\n",
       " 'Sad or hopeless',\n",
       " 'Considered suicide',\n",
       " 'Made a suicide plan',\n",
       " 'Attempted suicide',\n",
       " 'Injurious suicide attempt',\n",
       " 'Ever cigarette use',\n",
       " 'Initiation of cigarette smoking',\n",
       " 'Current cigarette use',\n",
       " 'Current smokeless tobacco use',\n",
       " 'Current cigar use',\n",
       " 'Initiation of alcohol use',\n",
       " 'Current alcohol use',\n",
       " 'Source of alcohol',\n",
       " 'Ever marijuana use',\n",
       " 'Initiation of marijuana use',\n",
       " 'Current marijuana use',\n",
       " 'Ever prescription pain medicine use',\n",
       " 'Ever cocaine use',\n",
       " 'Ever inhalant use',\n",
       " 'Ever heroin use',\n",
       " 'Ever methamphetamine use',\n",
       " 'Ever ecstasy use',\n",
       " 'Ever steroid use',\n",
       " 'Illegal injected drug use',\n",
       " 'Illegal drugs at school',\n",
       " 'Ever sexual intercourse',\n",
       " 'Sex before 13 years',\n",
       " 'Multiple sex partners',\n",
       " 'Current sexual activity',\n",
       " 'Alcohol/drugs and sex',\n",
       " 'Condom use',\n",
       " 'Birth control pill use',\n",
       " 'Perception of weight',\n",
       " 'Weight loss',\n",
       " 'Fruit juice drinking',\n",
       " 'Fruit eating',\n",
       " 'Green salad eating',\n",
       " 'Potato eating',\n",
       " 'Carrot eating',\n",
       " 'Other vegetable eating',\n",
       " 'No soda drinking',\n",
       " 'No milk drinking',\n",
       " 'Breakfast eating',\n",
       " 'Television watching',\n",
       " 'Computer use',\n",
       " 'PE attendance',\n",
       " 'Sports team participation',\n",
       " 'HIV testing',\n",
       " 'Asthma',\n",
       " 'Sleep',\n",
       " 'Ever used LSD',\n",
       " 'Muscle strengthening',\n",
       " 'Indoor tanning',\n",
       " 'BMIPCT',\n",
       " 'weight',\n",
       " 'stratum',\n",
       " 'psu']"
      ]
     },
     "execution_count": 72,
     "metadata": {},
     "output_type": "execute_result"
    }
   ],
   "source": [
    "cols = list(df.columns)\n",
    "cols"
   ]
  },
  {
   "cell_type": "markdown",
   "metadata": {},
   "source": [
    "**Importing packages**"
   ]
  },
  {
   "cell_type": "code",
   "execution_count": 12,
   "metadata": {},
   "outputs": [],
   "source": [
    "from sklearn.neighbors import KNeighborsClassifier\n",
    "from sklearn.metrics import accuracy_score"
   ]
  },
  {
   "cell_type": "markdown",
   "metadata": {},
   "source": [
    "**Instantiating the model** "
   ]
  },
  {
   "cell_type": "code",
   "execution_count": 13,
   "metadata": {},
   "outputs": [],
   "source": [
    "knn = KNeighborsClassifier(n_neighbors=1, p = 1,metric='euclidean')"
   ]
  },
  {
   "cell_type": "code",
   "execution_count": 14,
   "metadata": {},
   "outputs": [
    {
     "name": "stdout",
     "output_type": "stream",
     "text": [
      "KNeighborsClassifier(metric='euclidean', n_neighbors=1, p=1)\n"
     ]
    }
   ],
   "source": [
    "print(knn)"
   ]
  },
  {
   "cell_type": "markdown",
   "metadata": {},
   "source": [
    "**Defining features and target variable**"
   ]
  },
  {
   "cell_type": "code",
   "execution_count": 73,
   "metadata": {},
   "outputs": [],
   "source": [
    "feat_cols = ['YEAR','raceeth',\n",
    " 'How old are you',\n",
    " 'What is your sex',\n",
    " 'In what grade are you',\n",
    " 'Are you Hispanic/Latino',\n",
    " 'How tall are you',\n",
    " 'How much do you weigh',\n",
    " 'Seat belt use',\n",
    " 'Riding with a drinking driver',\n",
    " 'Drinking and driving',\n",
    " 'Weapon carrying',\n",
    " 'Weapon carrying at school',\n",
    " 'Safety concerns at school',\n",
    " 'Threatened at school',\n",
    " 'Physical fighting',\n",
    " 'Physical fighting at school',\n",
    " 'Forced sexual intercourse',\n",
    " 'Bullying at school',\n",
    " 'Electronic bullying',\n",
    " 'Sad or hopeless',\n",
    " 'Considered suicide',\n",
    " 'Made a suicide plan','Attempted suicide',\n",
    " 'Injurious suicide attempt',\n",
    " 'Ever cigarette use',\n",
    " 'Initiation of cigarette smoking',\n",
    " 'Current cigarette use',\n",
    " 'Current smokeless tobacco use',\n",
    " 'Current cigar use',\n",
    " 'Initiation of alcohol use',\n",
    " 'Current alcohol use',\n",
    " 'Source of alcohol',\n",
    " 'Ever marijuana use',\n",
    " 'Initiation of marijuana use',\n",
    " 'Current marijuana use',\n",
    " 'Ever prescription pain medicine use',\n",
    " 'Ever cocaine use',\n",
    " 'Ever inhalant use',\n",
    " 'Ever heroin use',\n",
    " 'Ever methamphetamine use',\n",
    " 'Ever ecstasy use',\n",
    " 'Ever steroid use',\n",
    " 'Illegal injected drug use',\n",
    " 'Illegal drugs at school',\n",
    " 'Ever sexual intercourse',\n",
    " 'Sex before 13 years',\n",
    " 'Multiple sex partners',\n",
    " 'Current sexual activity',\n",
    " 'Alcohol/drugs and sex',\n",
    " 'Condom use',\n",
    " 'Birth control pill use',\n",
    " 'Perception of weight',\n",
    " 'Weight loss',\n",
    " 'Fruit juice drinking',\n",
    " 'Fruit eating',\n",
    " 'Green salad eating',\n",
    " 'Potato eating',\n",
    " 'Carrot eating',\n",
    " 'Other vegetable eating',\n",
    " 'No soda drinking',\n",
    " 'No milk drinking',\n",
    " 'Breakfast eating',\n",
    " 'Television watching',\n",
    " 'Computer use',\n",
    " 'PE attendance',\n",
    " 'Sports team participation',\n",
    " 'HIV testing',\n",
    " 'Asthma',\n",
    " 'Sleep',\n",
    " 'Ever used LSD',\n",
    " 'Muscle strengthening',\n",
    " 'Indoor tanning']\n",
    "X = df[feat_cols]\n",
    "y = df['Attempted suicide']"
   ]
  },
  {
   "cell_type": "code",
   "execution_count": 74,
   "metadata": {},
   "outputs": [
    {
     "name": "stdout",
     "output_type": "stream",
     "text": [
      "(73074, 73)\n",
      "(73074,)\n"
     ]
    }
   ],
   "source": [
    "print(X.shape)\n",
    "print(y.shape)"
   ]
  },
  {
   "cell_type": "code",
   "execution_count": 75,
   "metadata": {},
   "outputs": [
    {
     "ename": "ValueError",
     "evalue": "Input contains NaN, infinity or a value too large for dtype('float64').",
     "output_type": "error",
     "traceback": [
      "\u001b[0;31m---------------------------------------------------------------------------\u001b[0m",
      "\u001b[0;31mValueError\u001b[0m                                Traceback (most recent call last)",
      "\u001b[0;32m<ipython-input-75-93c77ec45d7c>\u001b[0m in \u001b[0;36m<module>\u001b[0;34m\u001b[0m\n\u001b[0;32m----> 1\u001b[0;31m \u001b[0mknn\u001b[0m\u001b[0;34m.\u001b[0m\u001b[0mfit\u001b[0m\u001b[0;34m(\u001b[0m\u001b[0mX\u001b[0m\u001b[0;34m,\u001b[0m\u001b[0my\u001b[0m\u001b[0;34m)\u001b[0m\u001b[0;34m\u001b[0m\u001b[0;34m\u001b[0m\u001b[0m\n\u001b[0m",
      "\u001b[0;32m~/opt/anaconda3/lib/python3.8/site-packages/sklearn/neighbors/_base.py\u001b[0m in \u001b[0;36mfit\u001b[0;34m(self, X, y)\u001b[0m\n\u001b[1;32m   1129\u001b[0m         \"\"\"\n\u001b[1;32m   1130\u001b[0m         \u001b[0;32mif\u001b[0m \u001b[0;32mnot\u001b[0m \u001b[0misinstance\u001b[0m\u001b[0;34m(\u001b[0m\u001b[0mX\u001b[0m\u001b[0;34m,\u001b[0m \u001b[0;34m(\u001b[0m\u001b[0mKDTree\u001b[0m\u001b[0;34m,\u001b[0m \u001b[0mBallTree\u001b[0m\u001b[0;34m)\u001b[0m\u001b[0;34m)\u001b[0m\u001b[0;34m:\u001b[0m\u001b[0;34m\u001b[0m\u001b[0;34m\u001b[0m\u001b[0m\n\u001b[0;32m-> 1131\u001b[0;31m             X, y = self._validate_data(X, y, accept_sparse=\"csr\",\n\u001b[0m\u001b[1;32m   1132\u001b[0m                                        multi_output=True)\n\u001b[1;32m   1133\u001b[0m \u001b[0;34m\u001b[0m\u001b[0m\n",
      "\u001b[0;32m~/opt/anaconda3/lib/python3.8/site-packages/sklearn/base.py\u001b[0m in \u001b[0;36m_validate_data\u001b[0;34m(self, X, y, reset, validate_separately, **check_params)\u001b[0m\n\u001b[1;32m    430\u001b[0m                 \u001b[0my\u001b[0m \u001b[0;34m=\u001b[0m \u001b[0mcheck_array\u001b[0m\u001b[0;34m(\u001b[0m\u001b[0my\u001b[0m\u001b[0;34m,\u001b[0m \u001b[0;34m**\u001b[0m\u001b[0mcheck_y_params\u001b[0m\u001b[0;34m)\u001b[0m\u001b[0;34m\u001b[0m\u001b[0;34m\u001b[0m\u001b[0m\n\u001b[1;32m    431\u001b[0m             \u001b[0;32melse\u001b[0m\u001b[0;34m:\u001b[0m\u001b[0;34m\u001b[0m\u001b[0;34m\u001b[0m\u001b[0m\n\u001b[0;32m--> 432\u001b[0;31m                 \u001b[0mX\u001b[0m\u001b[0;34m,\u001b[0m \u001b[0my\u001b[0m \u001b[0;34m=\u001b[0m \u001b[0mcheck_X_y\u001b[0m\u001b[0;34m(\u001b[0m\u001b[0mX\u001b[0m\u001b[0;34m,\u001b[0m \u001b[0my\u001b[0m\u001b[0;34m,\u001b[0m \u001b[0;34m**\u001b[0m\u001b[0mcheck_params\u001b[0m\u001b[0;34m)\u001b[0m\u001b[0;34m\u001b[0m\u001b[0;34m\u001b[0m\u001b[0m\n\u001b[0m\u001b[1;32m    433\u001b[0m             \u001b[0mout\u001b[0m \u001b[0;34m=\u001b[0m \u001b[0mX\u001b[0m\u001b[0;34m,\u001b[0m \u001b[0my\u001b[0m\u001b[0;34m\u001b[0m\u001b[0;34m\u001b[0m\u001b[0m\n\u001b[1;32m    434\u001b[0m \u001b[0;34m\u001b[0m\u001b[0m\n",
      "\u001b[0;32m~/opt/anaconda3/lib/python3.8/site-packages/sklearn/utils/validation.py\u001b[0m in \u001b[0;36minner_f\u001b[0;34m(*args, **kwargs)\u001b[0m\n\u001b[1;32m     71\u001b[0m                           FutureWarning)\n\u001b[1;32m     72\u001b[0m         \u001b[0mkwargs\u001b[0m\u001b[0;34m.\u001b[0m\u001b[0mupdate\u001b[0m\u001b[0;34m(\u001b[0m\u001b[0;34m{\u001b[0m\u001b[0mk\u001b[0m\u001b[0;34m:\u001b[0m \u001b[0marg\u001b[0m \u001b[0;32mfor\u001b[0m \u001b[0mk\u001b[0m\u001b[0;34m,\u001b[0m \u001b[0marg\u001b[0m \u001b[0;32min\u001b[0m \u001b[0mzip\u001b[0m\u001b[0;34m(\u001b[0m\u001b[0msig\u001b[0m\u001b[0;34m.\u001b[0m\u001b[0mparameters\u001b[0m\u001b[0;34m,\u001b[0m \u001b[0margs\u001b[0m\u001b[0;34m)\u001b[0m\u001b[0;34m}\u001b[0m\u001b[0;34m)\u001b[0m\u001b[0;34m\u001b[0m\u001b[0;34m\u001b[0m\u001b[0m\n\u001b[0;32m---> 73\u001b[0;31m         \u001b[0;32mreturn\u001b[0m \u001b[0mf\u001b[0m\u001b[0;34m(\u001b[0m\u001b[0;34m**\u001b[0m\u001b[0mkwargs\u001b[0m\u001b[0;34m)\u001b[0m\u001b[0;34m\u001b[0m\u001b[0;34m\u001b[0m\u001b[0m\n\u001b[0m\u001b[1;32m     74\u001b[0m     \u001b[0;32mreturn\u001b[0m \u001b[0minner_f\u001b[0m\u001b[0;34m\u001b[0m\u001b[0;34m\u001b[0m\u001b[0m\n\u001b[1;32m     75\u001b[0m \u001b[0;34m\u001b[0m\u001b[0m\n",
      "\u001b[0;32m~/opt/anaconda3/lib/python3.8/site-packages/sklearn/utils/validation.py\u001b[0m in \u001b[0;36mcheck_X_y\u001b[0;34m(X, y, accept_sparse, accept_large_sparse, dtype, order, copy, force_all_finite, ensure_2d, allow_nd, multi_output, ensure_min_samples, ensure_min_features, y_numeric, estimator)\u001b[0m\n\u001b[1;32m    794\u001b[0m         \u001b[0;32mraise\u001b[0m \u001b[0mValueError\u001b[0m\u001b[0;34m(\u001b[0m\u001b[0;34m\"y cannot be None\"\u001b[0m\u001b[0;34m)\u001b[0m\u001b[0;34m\u001b[0m\u001b[0;34m\u001b[0m\u001b[0m\n\u001b[1;32m    795\u001b[0m \u001b[0;34m\u001b[0m\u001b[0m\n\u001b[0;32m--> 796\u001b[0;31m     X = check_array(X, accept_sparse=accept_sparse,\n\u001b[0m\u001b[1;32m    797\u001b[0m                     \u001b[0maccept_large_sparse\u001b[0m\u001b[0;34m=\u001b[0m\u001b[0maccept_large_sparse\u001b[0m\u001b[0;34m,\u001b[0m\u001b[0;34m\u001b[0m\u001b[0;34m\u001b[0m\u001b[0m\n\u001b[1;32m    798\u001b[0m                     \u001b[0mdtype\u001b[0m\u001b[0;34m=\u001b[0m\u001b[0mdtype\u001b[0m\u001b[0;34m,\u001b[0m \u001b[0morder\u001b[0m\u001b[0;34m=\u001b[0m\u001b[0morder\u001b[0m\u001b[0;34m,\u001b[0m \u001b[0mcopy\u001b[0m\u001b[0;34m=\u001b[0m\u001b[0mcopy\u001b[0m\u001b[0;34m,\u001b[0m\u001b[0;34m\u001b[0m\u001b[0;34m\u001b[0m\u001b[0m\n",
      "\u001b[0;32m~/opt/anaconda3/lib/python3.8/site-packages/sklearn/utils/validation.py\u001b[0m in \u001b[0;36minner_f\u001b[0;34m(*args, **kwargs)\u001b[0m\n\u001b[1;32m     71\u001b[0m                           FutureWarning)\n\u001b[1;32m     72\u001b[0m         \u001b[0mkwargs\u001b[0m\u001b[0;34m.\u001b[0m\u001b[0mupdate\u001b[0m\u001b[0;34m(\u001b[0m\u001b[0;34m{\u001b[0m\u001b[0mk\u001b[0m\u001b[0;34m:\u001b[0m \u001b[0marg\u001b[0m \u001b[0;32mfor\u001b[0m \u001b[0mk\u001b[0m\u001b[0;34m,\u001b[0m \u001b[0marg\u001b[0m \u001b[0;32min\u001b[0m \u001b[0mzip\u001b[0m\u001b[0;34m(\u001b[0m\u001b[0msig\u001b[0m\u001b[0;34m.\u001b[0m\u001b[0mparameters\u001b[0m\u001b[0;34m,\u001b[0m \u001b[0margs\u001b[0m\u001b[0;34m)\u001b[0m\u001b[0;34m}\u001b[0m\u001b[0;34m)\u001b[0m\u001b[0;34m\u001b[0m\u001b[0;34m\u001b[0m\u001b[0m\n\u001b[0;32m---> 73\u001b[0;31m         \u001b[0;32mreturn\u001b[0m \u001b[0mf\u001b[0m\u001b[0;34m(\u001b[0m\u001b[0;34m**\u001b[0m\u001b[0mkwargs\u001b[0m\u001b[0;34m)\u001b[0m\u001b[0;34m\u001b[0m\u001b[0;34m\u001b[0m\u001b[0m\n\u001b[0m\u001b[1;32m     74\u001b[0m     \u001b[0;32mreturn\u001b[0m \u001b[0minner_f\u001b[0m\u001b[0;34m\u001b[0m\u001b[0;34m\u001b[0m\u001b[0m\n\u001b[1;32m     75\u001b[0m \u001b[0;34m\u001b[0m\u001b[0m\n",
      "\u001b[0;32m~/opt/anaconda3/lib/python3.8/site-packages/sklearn/utils/validation.py\u001b[0m in \u001b[0;36mcheck_array\u001b[0;34m(array, accept_sparse, accept_large_sparse, dtype, order, copy, force_all_finite, ensure_2d, allow_nd, ensure_min_samples, ensure_min_features, estimator)\u001b[0m\n\u001b[1;32m    643\u001b[0m \u001b[0;34m\u001b[0m\u001b[0m\n\u001b[1;32m    644\u001b[0m         \u001b[0;32mif\u001b[0m \u001b[0mforce_all_finite\u001b[0m\u001b[0;34m:\u001b[0m\u001b[0;34m\u001b[0m\u001b[0;34m\u001b[0m\u001b[0m\n\u001b[0;32m--> 645\u001b[0;31m             _assert_all_finite(array,\n\u001b[0m\u001b[1;32m    646\u001b[0m                                allow_nan=force_all_finite == 'allow-nan')\n\u001b[1;32m    647\u001b[0m \u001b[0;34m\u001b[0m\u001b[0m\n",
      "\u001b[0;32m~/opt/anaconda3/lib/python3.8/site-packages/sklearn/utils/validation.py\u001b[0m in \u001b[0;36m_assert_all_finite\u001b[0;34m(X, allow_nan, msg_dtype)\u001b[0m\n\u001b[1;32m     95\u001b[0m                 not allow_nan and not np.isfinite(X).all()):\n\u001b[1;32m     96\u001b[0m             \u001b[0mtype_err\u001b[0m \u001b[0;34m=\u001b[0m \u001b[0;34m'infinity'\u001b[0m \u001b[0;32mif\u001b[0m \u001b[0mallow_nan\u001b[0m \u001b[0;32melse\u001b[0m \u001b[0;34m'NaN, infinity'\u001b[0m\u001b[0;34m\u001b[0m\u001b[0;34m\u001b[0m\u001b[0m\n\u001b[0;32m---> 97\u001b[0;31m             raise ValueError(\n\u001b[0m\u001b[1;32m     98\u001b[0m                     \u001b[0mmsg_err\u001b[0m\u001b[0;34m.\u001b[0m\u001b[0mformat\u001b[0m\u001b[0;34m\u001b[0m\u001b[0;34m\u001b[0m\u001b[0m\n\u001b[1;32m     99\u001b[0m                     (type_err,\n",
      "\u001b[0;31mValueError\u001b[0m: Input contains NaN, infinity or a value too large for dtype('float64')."
     ]
    }
   ],
   "source": [
    "knn.fit(X,y)"
   ]
  },
  {
   "cell_type": "code",
   "execution_count": 122,
   "metadata": {},
   "outputs": [
    {
     "data": {
      "text/plain": [
       "Unnamed: 0                                0\n",
       "Unnamed: 0.1                              0\n",
       "YEAR                                      0\n",
       "raceeth                                1035\n",
       "How old are you                         227\n",
       "What is your sex                        241\n",
       "In what grade are you                   307\n",
       "How tall are you                       3935\n",
       "How much do you weigh                  3935\n",
       "Seat belt use                          1013\n",
       "Riding with a drinking driver          1064\n",
       "Drinking and driving                   2709\n",
       "Weapon carrying                        1767\n",
       "Weapon carrying at school               948\n",
       "Safety concerns at school               105\n",
       "Threatened at school                    143\n",
       "Physical fighting                      1088\n",
       "Physical fighting at school             783\n",
       "Forced sexual intercourse               185\n",
       "Bullying at school                      521\n",
       "Electronic bullying                    1105\n",
       "Sad or hopeless                         141\n",
       "Considered suicide                        0\n",
       "Made a suicide plan                     274\n",
       "Attempted suicide                         0\n",
       "Injurious suicide attempt              2413\n",
       "Ever cigarette use                     3089\n",
       "Initiation of cigarette smoking        2138\n",
       "Current cigarette use                  1993\n",
       "Current smokeless tobacco use          1445\n",
       "Current cigar use                      1815\n",
       "Initiation of alcohol use              1151\n",
       "Current alcohol use                    4128\n",
       "Source of alcohol                      5738\n",
       "Ever marijuana use                     1872\n",
       "Initiation of marijuana use             510\n",
       "Current marijuana use                   483\n",
       "Ever prescription pain medicine use    1419\n",
       "Ever cocaine use                       1104\n",
       "Ever inhalant use                      1603\n",
       "Ever heroin use                        1925\n",
       "Ever methamphetamine use               1257\n",
       "Ever ecstasy use                       1673\n",
       "Ever steroid use                       2571\n",
       "Illegal injected drug use              3067\n",
       "Illegal drugs at school                 256\n",
       "Ever sexual intercourse                 981\n",
       "Sex before 13 years                     153\n",
       "Multiple sex partners                   213\n",
       "Current sexual activity                 254\n",
       "Alcohol/drugs and sex                     0\n",
       "Condom use                                0\n",
       "Birth control pill use                  784\n",
       "Perception of weight                   1620\n",
       "Weight loss                            1347\n",
       "Fruit juice drinking                   1046\n",
       "Fruit eating                           1074\n",
       "Green salad eating                     1870\n",
       "Potato eating                          2057\n",
       "Carrot eating                          2114\n",
       "Other vegetable eating                 1984\n",
       "No soda drinking                       2495\n",
       "No milk drinking                       3880\n",
       "Breakfast eating                       4161\n",
       "Television watching                    1459\n",
       "Computer use                           1107\n",
       "PE attendance                          2179\n",
       "Sports team participation              2152\n",
       "HIV testing                            4166\n",
       "Asthma                                 2088\n",
       "Sleep                                  3676\n",
       "Ever used LSD                          7356\n",
       "Muscle strengthening                   8326\n",
       "BMIPCT                                 3935\n",
       "weight                                    0\n",
       "stratum                                   0\n",
       "psu                                       0\n",
       "Has used hard drugs                       0\n",
       "dtype: int64"
      ]
     },
     "execution_count": 122,
     "metadata": {},
     "output_type": "execute_result"
    }
   ],
   "source": [
    "df.isnull().sum()"
   ]
  },
  {
   "cell_type": "markdown",
   "metadata": {},
   "source": [
    "# Feature engineering and columns dropping"
   ]
  },
  {
   "cell_type": "markdown",
   "metadata": {},
   "source": [
    "**Dropping 'What is your race' & 'Are you Hispanic/Latino'**"
   ]
  },
  {
   "cell_type": "code",
   "execution_count": 155,
   "metadata": {},
   "outputs": [],
   "source": [
    "df.drop(['What is your race','Are you Hispanic/Latino'],axis = 1, inplace=True)"
   ]
  },
  {
   "cell_type": "markdown",
   "metadata": {},
   "source": [
    "**Dropping indoor tanning**"
   ]
  },
  {
   "cell_type": "code",
   "execution_count": 156,
   "metadata": {},
   "outputs": [],
   "source": [
    "df.drop('Indoor tanning',axis = 1,inplace = True)"
   ]
  },
  {
   "cell_type": "markdown",
   "metadata": {},
   "source": [
    "**Combining hard drug columns**"
   ]
  },
  {
   "cell_type": "code",
   "execution_count": 157,
   "metadata": {},
   "outputs": [],
   "source": [
    "conditions = [(df['Ever cocaine use']>=1)|(df['Ever prescription pain medicine use']>=1)|\n",
    "              (df['Ever inhalant use']>=1)|(df['Ever heroin use']>=1)|(df['Ever methamphetamine use']>=1)|\n",
    "              (df['Ever ecstasy use']>=1)]\n",
    "values = [1]\n",
    "\n",
    "df['Has used hard drugs'] = np.select(conditions, values)"
   ]
  },
  {
   "cell_type": "markdown",
   "metadata": {},
   "source": [
    "**Combining health columns**"
   ]
  },
  {
   "cell_type": "code",
   "execution_count": 158,
   "metadata": {},
   "outputs": [
    {
     "data": {
      "text/html": [
       "<div>\n",
       "<style scoped>\n",
       "    .dataframe tbody tr th:only-of-type {\n",
       "        vertical-align: middle;\n",
       "    }\n",
       "\n",
       "    .dataframe tbody tr th {\n",
       "        vertical-align: top;\n",
       "    }\n",
       "\n",
       "    .dataframe thead th {\n",
       "        text-align: right;\n",
       "    }\n",
       "</style>\n",
       "<table border=\"1\" class=\"dataframe\">\n",
       "  <thead>\n",
       "    <tr style=\"text-align: right;\">\n",
       "      <th></th>\n",
       "      <th>Unnamed: 0</th>\n",
       "      <th>Unnamed: 0.1</th>\n",
       "      <th>YEAR</th>\n",
       "      <th>raceeth</th>\n",
       "      <th>How old are you</th>\n",
       "      <th>What is your sex</th>\n",
       "      <th>In what grade are you</th>\n",
       "      <th>How tall are you</th>\n",
       "      <th>How much do you weigh</th>\n",
       "      <th>Seat belt use</th>\n",
       "      <th>Riding with a drinking driver</th>\n",
       "      <th>Drinking and driving</th>\n",
       "      <th>Weapon carrying</th>\n",
       "      <th>Weapon carrying at school</th>\n",
       "      <th>Safety concerns at school</th>\n",
       "      <th>Threatened at school</th>\n",
       "      <th>Physical fighting</th>\n",
       "      <th>Physical fighting at school</th>\n",
       "      <th>Forced sexual intercourse</th>\n",
       "      <th>Bullying at school</th>\n",
       "      <th>Electronic bullying</th>\n",
       "      <th>Sad or hopeless</th>\n",
       "      <th>Considered suicide</th>\n",
       "      <th>Made a suicide plan</th>\n",
       "      <th>Attempted suicide</th>\n",
       "      <th>Injurious suicide attempt</th>\n",
       "      <th>Ever cigarette use</th>\n",
       "      <th>Initiation of cigarette smoking</th>\n",
       "      <th>Current cigarette use</th>\n",
       "      <th>Current smokeless tobacco use</th>\n",
       "      <th>Current cigar use</th>\n",
       "      <th>Initiation of alcohol use</th>\n",
       "      <th>Current alcohol use</th>\n",
       "      <th>Source of alcohol</th>\n",
       "      <th>Ever marijuana use</th>\n",
       "      <th>Initiation of marijuana use</th>\n",
       "      <th>Current marijuana use</th>\n",
       "      <th>Ever prescription pain medicine use</th>\n",
       "      <th>Ever cocaine use</th>\n",
       "      <th>Ever inhalant use</th>\n",
       "      <th>Ever heroin use</th>\n",
       "      <th>Ever methamphetamine use</th>\n",
       "      <th>Ever ecstasy use</th>\n",
       "      <th>Ever steroid use</th>\n",
       "      <th>Illegal injected drug use</th>\n",
       "      <th>Illegal drugs at school</th>\n",
       "      <th>Ever sexual intercourse</th>\n",
       "      <th>Sex before 13 years</th>\n",
       "      <th>Multiple sex partners</th>\n",
       "      <th>Current sexual activity</th>\n",
       "      <th>Alcohol/drugs and sex</th>\n",
       "      <th>Condom use</th>\n",
       "      <th>Birth control pill use</th>\n",
       "      <th>Perception of weight</th>\n",
       "      <th>Weight loss</th>\n",
       "      <th>Fruit juice drinking</th>\n",
       "      <th>Fruit eating</th>\n",
       "      <th>Green salad eating</th>\n",
       "      <th>Potato eating</th>\n",
       "      <th>Carrot eating</th>\n",
       "      <th>Other vegetable eating</th>\n",
       "      <th>No soda drinking</th>\n",
       "      <th>No milk drinking</th>\n",
       "      <th>Breakfast eating</th>\n",
       "      <th>Television watching</th>\n",
       "      <th>Computer use</th>\n",
       "      <th>PE attendance</th>\n",
       "      <th>Sports team participation</th>\n",
       "      <th>HIV testing</th>\n",
       "      <th>Asthma</th>\n",
       "      <th>Sleep</th>\n",
       "      <th>Ever used LSD</th>\n",
       "      <th>Muscle strengthening</th>\n",
       "      <th>BMIPCT</th>\n",
       "      <th>weight</th>\n",
       "      <th>stratum</th>\n",
       "      <th>psu</th>\n",
       "      <th>Has used hard drugs</th>\n",
       "      <th>healthy_eating</th>\n",
       "    </tr>\n",
       "  </thead>\n",
       "  <tbody>\n",
       "    <tr>\n",
       "      <th>0</th>\n",
       "      <td>0</td>\n",
       "      <td>0</td>\n",
       "      <td>2019.0</td>\n",
       "      <td>7.0</td>\n",
       "      <td>5.0</td>\n",
       "      <td>2.0</td>\n",
       "      <td>2.0</td>\n",
       "      <td>1.63</td>\n",
       "      <td>54.89</td>\n",
       "      <td>4.0</td>\n",
       "      <td>1.0</td>\n",
       "      <td>2.0</td>\n",
       "      <td>1.0</td>\n",
       "      <td>1.0</td>\n",
       "      <td>1.0</td>\n",
       "      <td>1.0</td>\n",
       "      <td>1.0</td>\n",
       "      <td>1.0</td>\n",
       "      <td>2.0</td>\n",
       "      <td>2.0</td>\n",
       "      <td>2.0</td>\n",
       "      <td>2.0</td>\n",
       "      <td>2.0</td>\n",
       "      <td>2.0</td>\n",
       "      <td>1.0</td>\n",
       "      <td>1.0</td>\n",
       "      <td>2.0</td>\n",
       "      <td>1.0</td>\n",
       "      <td>1.0</td>\n",
       "      <td>1.0</td>\n",
       "      <td>1.0</td>\n",
       "      <td>1.0</td>\n",
       "      <td>1.0</td>\n",
       "      <td>1.0</td>\n",
       "      <td>1.0</td>\n",
       "      <td>1.0</td>\n",
       "      <td>1.0</td>\n",
       "      <td>1.0</td>\n",
       "      <td>1.0</td>\n",
       "      <td>1.0</td>\n",
       "      <td>1.0</td>\n",
       "      <td>1.0</td>\n",
       "      <td>1.0</td>\n",
       "      <td>1.0</td>\n",
       "      <td>1.0</td>\n",
       "      <td>1.0</td>\n",
       "      <td>2.0</td>\n",
       "      <td>1.0</td>\n",
       "      <td>1.0</td>\n",
       "      <td>1.0</td>\n",
       "      <td>1.0</td>\n",
       "      <td>1.0</td>\n",
       "      <td>1.0</td>\n",
       "      <td>3.0</td>\n",
       "      <td>3.0</td>\n",
       "      <td>2.0</td>\n",
       "      <td>3.0</td>\n",
       "      <td>1.0</td>\n",
       "      <td>1.0</td>\n",
       "      <td>1.0</td>\n",
       "      <td>2.0</td>\n",
       "      <td>3.0</td>\n",
       "      <td>3.0</td>\n",
       "      <td>1.0</td>\n",
       "      <td>2.0</td>\n",
       "      <td>5.0</td>\n",
       "      <td>1.0</td>\n",
       "      <td>2.0</td>\n",
       "      <td>2.0</td>\n",
       "      <td>2.0</td>\n",
       "      <td>4.0</td>\n",
       "      <td>1.0</td>\n",
       "      <td>5.0</td>\n",
       "      <td>46.882141</td>\n",
       "      <td>1.6659</td>\n",
       "      <td>213.0</td>\n",
       "      <td>57923.0</td>\n",
       "      <td>1</td>\n",
       "      <td>1</td>\n",
       "    </tr>\n",
       "    <tr>\n",
       "      <th>1</th>\n",
       "      <td>1</td>\n",
       "      <td>1</td>\n",
       "      <td>2019.0</td>\n",
       "      <td>8.0</td>\n",
       "      <td>4.0</td>\n",
       "      <td>2.0</td>\n",
       "      <td>2.0</td>\n",
       "      <td>1.60</td>\n",
       "      <td>53.98</td>\n",
       "      <td>5.0</td>\n",
       "      <td>2.0</td>\n",
       "      <td>2.0</td>\n",
       "      <td>1.0</td>\n",
       "      <td>1.0</td>\n",
       "      <td>1.0</td>\n",
       "      <td>1.0</td>\n",
       "      <td>1.0</td>\n",
       "      <td>1.0</td>\n",
       "      <td>2.0</td>\n",
       "      <td>1.0</td>\n",
       "      <td>2.0</td>\n",
       "      <td>2.0</td>\n",
       "      <td>2.0</td>\n",
       "      <td>2.0</td>\n",
       "      <td>1.0</td>\n",
       "      <td>1.0</td>\n",
       "      <td>2.0</td>\n",
       "      <td>1.0</td>\n",
       "      <td>1.0</td>\n",
       "      <td>1.0</td>\n",
       "      <td>1.0</td>\n",
       "      <td>1.0</td>\n",
       "      <td>1.0</td>\n",
       "      <td>1.0</td>\n",
       "      <td>2.0</td>\n",
       "      <td>5.0</td>\n",
       "      <td>1.0</td>\n",
       "      <td>1.0</td>\n",
       "      <td>1.0</td>\n",
       "      <td>1.0</td>\n",
       "      <td>1.0</td>\n",
       "      <td>1.0</td>\n",
       "      <td>1.0</td>\n",
       "      <td>1.0</td>\n",
       "      <td>1.0</td>\n",
       "      <td>2.0</td>\n",
       "      <td>2.0</td>\n",
       "      <td>1.0</td>\n",
       "      <td>1.0</td>\n",
       "      <td>1.0</td>\n",
       "      <td>1.0</td>\n",
       "      <td>1.0</td>\n",
       "      <td>1.0</td>\n",
       "      <td>3.0</td>\n",
       "      <td>1.0</td>\n",
       "      <td>2.0</td>\n",
       "      <td>7.0</td>\n",
       "      <td>6.0</td>\n",
       "      <td>5.0</td>\n",
       "      <td>5.0</td>\n",
       "      <td>6.0</td>\n",
       "      <td>1.0</td>\n",
       "      <td>5.0</td>\n",
       "      <td>8.0</td>\n",
       "      <td>3.0</td>\n",
       "      <td>3.0</td>\n",
       "      <td>1.0</td>\n",
       "      <td>1.0</td>\n",
       "      <td>2.0</td>\n",
       "      <td>2.0</td>\n",
       "      <td>4.0</td>\n",
       "      <td>1.0</td>\n",
       "      <td>6.0</td>\n",
       "      <td>62.232194</td>\n",
       "      <td>1.3851</td>\n",
       "      <td>213.0</td>\n",
       "      <td>57923.0</td>\n",
       "      <td>1</td>\n",
       "      <td>1</td>\n",
       "    </tr>\n",
       "    <tr>\n",
       "      <th>2</th>\n",
       "      <td>2</td>\n",
       "      <td>2</td>\n",
       "      <td>2019.0</td>\n",
       "      <td>8.0</td>\n",
       "      <td>4.0</td>\n",
       "      <td>1.0</td>\n",
       "      <td>2.0</td>\n",
       "      <td>1.68</td>\n",
       "      <td>43.09</td>\n",
       "      <td>4.0</td>\n",
       "      <td>1.0</td>\n",
       "      <td>2.0</td>\n",
       "      <td>1.0</td>\n",
       "      <td>1.0</td>\n",
       "      <td>1.0</td>\n",
       "      <td>1.0</td>\n",
       "      <td>1.0</td>\n",
       "      <td>1.0</td>\n",
       "      <td>2.0</td>\n",
       "      <td>2.0</td>\n",
       "      <td>2.0</td>\n",
       "      <td>2.0</td>\n",
       "      <td>2.0</td>\n",
       "      <td>2.0</td>\n",
       "      <td>1.0</td>\n",
       "      <td>1.0</td>\n",
       "      <td>2.0</td>\n",
       "      <td>1.0</td>\n",
       "      <td>1.0</td>\n",
       "      <td>1.0</td>\n",
       "      <td>1.0</td>\n",
       "      <td>1.0</td>\n",
       "      <td>1.0</td>\n",
       "      <td>1.0</td>\n",
       "      <td>1.0</td>\n",
       "      <td>1.0</td>\n",
       "      <td>1.0</td>\n",
       "      <td>1.0</td>\n",
       "      <td>1.0</td>\n",
       "      <td>1.0</td>\n",
       "      <td>1.0</td>\n",
       "      <td>1.0</td>\n",
       "      <td>1.0</td>\n",
       "      <td>1.0</td>\n",
       "      <td>1.0</td>\n",
       "      <td>2.0</td>\n",
       "      <td>2.0</td>\n",
       "      <td>1.0</td>\n",
       "      <td>1.0</td>\n",
       "      <td>1.0</td>\n",
       "      <td>1.0</td>\n",
       "      <td>1.0</td>\n",
       "      <td>1.0</td>\n",
       "      <td>2.0</td>\n",
       "      <td>4.0</td>\n",
       "      <td>1.0</td>\n",
       "      <td>4.0</td>\n",
       "      <td>2.0</td>\n",
       "      <td>2.0</td>\n",
       "      <td>2.0</td>\n",
       "      <td>5.0</td>\n",
       "      <td>2.0</td>\n",
       "      <td>2.0</td>\n",
       "      <td>8.0</td>\n",
       "      <td>2.0</td>\n",
       "      <td>4.0</td>\n",
       "      <td>1.0</td>\n",
       "      <td>1.0</td>\n",
       "      <td>3.0</td>\n",
       "      <td>2.0</td>\n",
       "      <td>5.0</td>\n",
       "      <td>1.0</td>\n",
       "      <td>1.0</td>\n",
       "      <td>0.590171</td>\n",
       "      <td>1.4958</td>\n",
       "      <td>213.0</td>\n",
       "      <td>57923.0</td>\n",
       "      <td>1</td>\n",
       "      <td>1</td>\n",
       "    </tr>\n",
       "    <tr>\n",
       "      <th>3</th>\n",
       "      <td>3</td>\n",
       "      <td>3</td>\n",
       "      <td>2019.0</td>\n",
       "      <td>5.0</td>\n",
       "      <td>4.0</td>\n",
       "      <td>2.0</td>\n",
       "      <td>2.0</td>\n",
       "      <td>1.78</td>\n",
       "      <td>68.95</td>\n",
       "      <td>4.0</td>\n",
       "      <td>1.0</td>\n",
       "      <td>1.0</td>\n",
       "      <td>1.0</td>\n",
       "      <td>1.0</td>\n",
       "      <td>1.0</td>\n",
       "      <td>1.0</td>\n",
       "      <td>1.0</td>\n",
       "      <td>1.0</td>\n",
       "      <td>2.0</td>\n",
       "      <td>2.0</td>\n",
       "      <td>2.0</td>\n",
       "      <td>1.0</td>\n",
       "      <td>2.0</td>\n",
       "      <td>2.0</td>\n",
       "      <td>1.0</td>\n",
       "      <td>1.0</td>\n",
       "      <td>1.0</td>\n",
       "      <td>4.0</td>\n",
       "      <td>3.0</td>\n",
       "      <td>1.0</td>\n",
       "      <td>1.0</td>\n",
       "      <td>5.0</td>\n",
       "      <td>3.0</td>\n",
       "      <td>7.0</td>\n",
       "      <td>7.0</td>\n",
       "      <td>4.0</td>\n",
       "      <td>6.0</td>\n",
       "      <td>3.0</td>\n",
       "      <td>3.0</td>\n",
       "      <td>1.0</td>\n",
       "      <td>1.0</td>\n",
       "      <td>1.0</td>\n",
       "      <td>1.0</td>\n",
       "      <td>1.0</td>\n",
       "      <td>1.0</td>\n",
       "      <td>1.0</td>\n",
       "      <td>2.0</td>\n",
       "      <td>1.0</td>\n",
       "      <td>1.0</td>\n",
       "      <td>1.0</td>\n",
       "      <td>1.0</td>\n",
       "      <td>1.0</td>\n",
       "      <td>1.0</td>\n",
       "      <td>3.0</td>\n",
       "      <td>3.0</td>\n",
       "      <td>2.0</td>\n",
       "      <td>2.0</td>\n",
       "      <td>1.0</td>\n",
       "      <td>2.0</td>\n",
       "      <td>2.0</td>\n",
       "      <td>3.0</td>\n",
       "      <td>2.0</td>\n",
       "      <td>3.0</td>\n",
       "      <td>1.0</td>\n",
       "      <td>7.0</td>\n",
       "      <td>7.0</td>\n",
       "      <td>1.0</td>\n",
       "      <td>1.0</td>\n",
       "      <td>2.0</td>\n",
       "      <td>3.0</td>\n",
       "      <td>4.0</td>\n",
       "      <td>3.0</td>\n",
       "      <td>1.0</td>\n",
       "      <td>69.786634</td>\n",
       "      <td>1.7114</td>\n",
       "      <td>213.0</td>\n",
       "      <td>57923.0</td>\n",
       "      <td>1</td>\n",
       "      <td>1</td>\n",
       "    </tr>\n",
       "    <tr>\n",
       "      <th>4</th>\n",
       "      <td>4</td>\n",
       "      <td>4</td>\n",
       "      <td>2019.0</td>\n",
       "      <td>6.0</td>\n",
       "      <td>5.0</td>\n",
       "      <td>2.0</td>\n",
       "      <td>2.0</td>\n",
       "      <td>1.78</td>\n",
       "      <td>58.97</td>\n",
       "      <td>4.0</td>\n",
       "      <td>1.0</td>\n",
       "      <td>1.0</td>\n",
       "      <td>1.0</td>\n",
       "      <td>1.0</td>\n",
       "      <td>1.0</td>\n",
       "      <td>1.0</td>\n",
       "      <td>1.0</td>\n",
       "      <td>1.0</td>\n",
       "      <td>2.0</td>\n",
       "      <td>2.0</td>\n",
       "      <td>2.0</td>\n",
       "      <td>2.0</td>\n",
       "      <td>2.0</td>\n",
       "      <td>2.0</td>\n",
       "      <td>1.0</td>\n",
       "      <td>1.0</td>\n",
       "      <td>2.0</td>\n",
       "      <td>1.0</td>\n",
       "      <td>1.0</td>\n",
       "      <td>1.0</td>\n",
       "      <td>1.0</td>\n",
       "      <td>1.0</td>\n",
       "      <td>1.0</td>\n",
       "      <td>1.0</td>\n",
       "      <td>1.0</td>\n",
       "      <td>1.0</td>\n",
       "      <td>1.0</td>\n",
       "      <td>1.0</td>\n",
       "      <td>1.0</td>\n",
       "      <td>1.0</td>\n",
       "      <td>1.0</td>\n",
       "      <td>1.0</td>\n",
       "      <td>1.0</td>\n",
       "      <td>1.0</td>\n",
       "      <td>1.0</td>\n",
       "      <td>2.0</td>\n",
       "      <td>2.0</td>\n",
       "      <td>1.0</td>\n",
       "      <td>1.0</td>\n",
       "      <td>1.0</td>\n",
       "      <td>1.0</td>\n",
       "      <td>1.0</td>\n",
       "      <td>1.0</td>\n",
       "      <td>3.0</td>\n",
       "      <td>4.0</td>\n",
       "      <td>4.0</td>\n",
       "      <td>5.0</td>\n",
       "      <td>1.0</td>\n",
       "      <td>2.0</td>\n",
       "      <td>3.0</td>\n",
       "      <td>4.0</td>\n",
       "      <td>2.0</td>\n",
       "      <td>5.0</td>\n",
       "      <td>1.0</td>\n",
       "      <td>1.0</td>\n",
       "      <td>4.0</td>\n",
       "      <td>1.0</td>\n",
       "      <td>1.0</td>\n",
       "      <td>2.0</td>\n",
       "      <td>2.0</td>\n",
       "      <td>2.0</td>\n",
       "      <td>1.0</td>\n",
       "      <td>2.0</td>\n",
       "      <td>16.739994</td>\n",
       "      <td>1.6659</td>\n",
       "      <td>213.0</td>\n",
       "      <td>57923.0</td>\n",
       "      <td>1</td>\n",
       "      <td>1</td>\n",
       "    </tr>\n",
       "  </tbody>\n",
       "</table>\n",
       "</div>"
      ],
      "text/plain": [
       "   Unnamed: 0  Unnamed: 0.1    YEAR  raceeth  How old are you  \\\n",
       "0           0             0  2019.0      7.0              5.0   \n",
       "1           1             1  2019.0      8.0              4.0   \n",
       "2           2             2  2019.0      8.0              4.0   \n",
       "3           3             3  2019.0      5.0              4.0   \n",
       "4           4             4  2019.0      6.0              5.0   \n",
       "\n",
       "   What is your sex  In what grade are you  How tall are you  \\\n",
       "0               2.0                    2.0              1.63   \n",
       "1               2.0                    2.0              1.60   \n",
       "2               1.0                    2.0              1.68   \n",
       "3               2.0                    2.0              1.78   \n",
       "4               2.0                    2.0              1.78   \n",
       "\n",
       "   How much do you weigh  Seat belt use  Riding with a drinking driver  \\\n",
       "0                  54.89            4.0                            1.0   \n",
       "1                  53.98            5.0                            2.0   \n",
       "2                  43.09            4.0                            1.0   \n",
       "3                  68.95            4.0                            1.0   \n",
       "4                  58.97            4.0                            1.0   \n",
       "\n",
       "   Drinking and driving  Weapon carrying  Weapon carrying at school  \\\n",
       "0                   2.0              1.0                        1.0   \n",
       "1                   2.0              1.0                        1.0   \n",
       "2                   2.0              1.0                        1.0   \n",
       "3                   1.0              1.0                        1.0   \n",
       "4                   1.0              1.0                        1.0   \n",
       "\n",
       "   Safety concerns at school  Threatened at school  Physical fighting  \\\n",
       "0                        1.0                   1.0                1.0   \n",
       "1                        1.0                   1.0                1.0   \n",
       "2                        1.0                   1.0                1.0   \n",
       "3                        1.0                   1.0                1.0   \n",
       "4                        1.0                   1.0                1.0   \n",
       "\n",
       "   Physical fighting at school  Forced sexual intercourse  Bullying at school  \\\n",
       "0                          1.0                        2.0                 2.0   \n",
       "1                          1.0                        2.0                 1.0   \n",
       "2                          1.0                        2.0                 2.0   \n",
       "3                          1.0                        2.0                 2.0   \n",
       "4                          1.0                        2.0                 2.0   \n",
       "\n",
       "   Electronic bullying  Sad or hopeless  Considered suicide  \\\n",
       "0                  2.0              2.0                 2.0   \n",
       "1                  2.0              2.0                 2.0   \n",
       "2                  2.0              2.0                 2.0   \n",
       "3                  2.0              1.0                 2.0   \n",
       "4                  2.0              2.0                 2.0   \n",
       "\n",
       "   Made a suicide plan  Attempted suicide  Injurious suicide attempt  \\\n",
       "0                  2.0                1.0                        1.0   \n",
       "1                  2.0                1.0                        1.0   \n",
       "2                  2.0                1.0                        1.0   \n",
       "3                  2.0                1.0                        1.0   \n",
       "4                  2.0                1.0                        1.0   \n",
       "\n",
       "   Ever cigarette use  Initiation of cigarette smoking  Current cigarette use  \\\n",
       "0                 2.0                              1.0                    1.0   \n",
       "1                 2.0                              1.0                    1.0   \n",
       "2                 2.0                              1.0                    1.0   \n",
       "3                 1.0                              4.0                    3.0   \n",
       "4                 2.0                              1.0                    1.0   \n",
       "\n",
       "   Current smokeless tobacco use  Current cigar use  \\\n",
       "0                            1.0                1.0   \n",
       "1                            1.0                1.0   \n",
       "2                            1.0                1.0   \n",
       "3                            1.0                1.0   \n",
       "4                            1.0                1.0   \n",
       "\n",
       "   Initiation of alcohol use  Current alcohol use  Source of alcohol  \\\n",
       "0                        1.0                  1.0                1.0   \n",
       "1                        1.0                  1.0                1.0   \n",
       "2                        1.0                  1.0                1.0   \n",
       "3                        5.0                  3.0                7.0   \n",
       "4                        1.0                  1.0                1.0   \n",
       "\n",
       "   Ever marijuana use  Initiation of marijuana use  Current marijuana use  \\\n",
       "0                 1.0                          1.0                    1.0   \n",
       "1                 2.0                          5.0                    1.0   \n",
       "2                 1.0                          1.0                    1.0   \n",
       "3                 7.0                          4.0                    6.0   \n",
       "4                 1.0                          1.0                    1.0   \n",
       "\n",
       "   Ever prescription pain medicine use  Ever cocaine use  Ever inhalant use  \\\n",
       "0                                  1.0               1.0                1.0   \n",
       "1                                  1.0               1.0                1.0   \n",
       "2                                  1.0               1.0                1.0   \n",
       "3                                  3.0               3.0                1.0   \n",
       "4                                  1.0               1.0                1.0   \n",
       "\n",
       "   Ever heroin use  Ever methamphetamine use  Ever ecstasy use  \\\n",
       "0              1.0                       1.0               1.0   \n",
       "1              1.0                       1.0               1.0   \n",
       "2              1.0                       1.0               1.0   \n",
       "3              1.0                       1.0               1.0   \n",
       "4              1.0                       1.0               1.0   \n",
       "\n",
       "   Ever steroid use  Illegal injected drug use  Illegal drugs at school  \\\n",
       "0               1.0                        1.0                      1.0   \n",
       "1               1.0                        1.0                      2.0   \n",
       "2               1.0                        1.0                      2.0   \n",
       "3               1.0                        1.0                      1.0   \n",
       "4               1.0                        1.0                      2.0   \n",
       "\n",
       "   Ever sexual intercourse  Sex before 13 years  Multiple sex partners  \\\n",
       "0                      2.0                  1.0                    1.0   \n",
       "1                      2.0                  1.0                    1.0   \n",
       "2                      2.0                  1.0                    1.0   \n",
       "3                      2.0                  1.0                    1.0   \n",
       "4                      2.0                  1.0                    1.0   \n",
       "\n",
       "   Current sexual activity  Alcohol/drugs and sex  Condom use  \\\n",
       "0                      1.0                    1.0         1.0   \n",
       "1                      1.0                    1.0         1.0   \n",
       "2                      1.0                    1.0         1.0   \n",
       "3                      1.0                    1.0         1.0   \n",
       "4                      1.0                    1.0         1.0   \n",
       "\n",
       "   Birth control pill use  Perception of weight  Weight loss  \\\n",
       "0                     1.0                   3.0          3.0   \n",
       "1                     1.0                   3.0          1.0   \n",
       "2                     1.0                   2.0          4.0   \n",
       "3                     1.0                   3.0          3.0   \n",
       "4                     1.0                   3.0          4.0   \n",
       "\n",
       "   Fruit juice drinking  Fruit eating  Green salad eating  Potato eating  \\\n",
       "0                   2.0           3.0                 1.0            1.0   \n",
       "1                   2.0           7.0                 6.0            5.0   \n",
       "2                   1.0           4.0                 2.0            2.0   \n",
       "3                   2.0           2.0                 1.0            2.0   \n",
       "4                   4.0           5.0                 1.0            2.0   \n",
       "\n",
       "   Carrot eating  Other vegetable eating  No soda drinking  No milk drinking  \\\n",
       "0            1.0                     2.0               3.0               3.0   \n",
       "1            5.0                     6.0               1.0               5.0   \n",
       "2            2.0                     5.0               2.0               2.0   \n",
       "3            2.0                     3.0               2.0               3.0   \n",
       "4            3.0                     4.0               2.0               5.0   \n",
       "\n",
       "   Breakfast eating  Television watching  Computer use  PE attendance  \\\n",
       "0               1.0                  2.0           5.0            1.0   \n",
       "1               8.0                  3.0           3.0            1.0   \n",
       "2               8.0                  2.0           4.0            1.0   \n",
       "3               1.0                  7.0           7.0            1.0   \n",
       "4               1.0                  1.0           4.0            1.0   \n",
       "\n",
       "   Sports team participation  HIV testing  Asthma  Sleep  Ever used LSD  \\\n",
       "0                        2.0          2.0     2.0    4.0            1.0   \n",
       "1                        1.0          2.0     2.0    4.0            1.0   \n",
       "2                        1.0          3.0     2.0    5.0            1.0   \n",
       "3                        1.0          2.0     3.0    4.0            3.0   \n",
       "4                        1.0          2.0     2.0    2.0            1.0   \n",
       "\n",
       "   Muscle strengthening     BMIPCT  weight  stratum      psu  \\\n",
       "0                   5.0  46.882141  1.6659    213.0  57923.0   \n",
       "1                   6.0  62.232194  1.3851    213.0  57923.0   \n",
       "2                   1.0   0.590171  1.4958    213.0  57923.0   \n",
       "3                   1.0  69.786634  1.7114    213.0  57923.0   \n",
       "4                   2.0  16.739994  1.6659    213.0  57923.0   \n",
       "\n",
       "   Has used hard drugs  healthy_eating  \n",
       "0                    1               1  \n",
       "1                    1               1  \n",
       "2                    1               1  \n",
       "3                    1               1  \n",
       "4                    1               1  "
      ]
     },
     "execution_count": 158,
     "metadata": {},
     "output_type": "execute_result"
    }
   ],
   "source": [
    "# create a list of our conditions\n",
    "conditions = [\n",
    "    (df['Fruit juice drinking'] > 2) | (df['Fruit eating'] > 2) | (df['Green salad eating'] > 2) |\n",
    "    (df['Potato eating'] > 2) | (df['Carrot eating'] > 2)| (df['Other vegetable eating'] > 2) |\n",
    "    (df['No soda drinking'] <= 2) | (df['No milk drinking'] > 2)| (df['Breakfast eating'] > 4)\n",
    "    ]\n",
    "# create a list of the values we want to assign for each condition\n",
    "values = [1]\n",
    "# create a new column and use np.select to assign values to it using our lists as arguments\n",
    "df['healthy_eating'] = np.select(conditions, values)"
   ]
  },
  {
   "cell_type": "markdown",
   "metadata": {},
   "source": [
    "**Dropping food columns**"
   ]
  },
  {
   "cell_type": "code",
   "execution_count": 159,
   "metadata": {},
   "outputs": [],
   "source": [
    "#drop columns relating to healthy eating\n",
    "df.drop(columns = ['Fruit juice drinking', 'Fruit eating', 'Green salad eating',\n",
    "                   'Potato eating', 'Carrot eating', 'Other vegetable eating',\n",
    "                   'No soda drinking', 'No milk drinking', 'Breakfast eating'], axis = 1, inplace=True)"
   ]
  },
  {
   "cell_type": "markdown",
   "metadata": {},
   "source": [
    "**Combining physical activity columns**"
   ]
  },
  {
   "cell_type": "code",
   "execution_count": 160,
   "metadata": {},
   "outputs": [],
   "source": [
    "conditions = [(df['PE attendance']>3)|(df['Sports team participation']>=2)|\n",
    "             (df['Muscle strengthening']>3)]\n",
    "values = [1]\n",
    "df['regular_activity'] = np.select(conditions, values)"
   ]
  },
  {
   "cell_type": "markdown",
   "metadata": {},
   "source": [
    "**Dropping rows who have missing values for our target value**"
   ]
  },
  {
   "cell_type": "code",
   "execution_count": 161,
   "metadata": {},
   "outputs": [],
   "source": [
    "df.dropna(subset=['Considered suicide','Attempted suicide','Alcohol/drugs and sex','Condom use'],inplace = True, axis = 0)"
   ]
  },
  {
   "cell_type": "markdown",
   "metadata": {},
   "source": [
    "**Checking to see rows with Nan**"
   ]
  },
  {
   "cell_type": "code",
   "execution_count": 162,
   "metadata": {},
   "outputs": [],
   "source": [
    "df1 = df[df.isna().any(axis=1)]"
   ]
  },
  {
   "cell_type": "code",
   "execution_count": 163,
   "metadata": {},
   "outputs": [
    {
     "data": {
      "text/plain": [
       "(21874, 71)"
      ]
     },
     "execution_count": 163,
     "metadata": {},
     "output_type": "execute_result"
    }
   ],
   "source": [
    "df1.shape"
   ]
  },
  {
   "cell_type": "markdown",
   "metadata": {},
   "source": [
    "**Stuff to talk about in the README**"
   ]
  },
  {
   "cell_type": "code",
   "execution_count": 82,
   "metadata": {},
   "outputs": [
    {
     "data": {
      "text/plain": [
       "1.0    53968\n",
       "2.0     2795\n",
       "3.0     1628\n",
       "5.0      517\n",
       "4.0      361\n",
       "Name: Attempted suicide, dtype: int64"
      ]
     },
     "execution_count": 82,
     "metadata": {},
     "output_type": "execute_result"
    }
   ],
   "source": [
    "df['Attempted suicide'].value_counts()"
   ]
  },
  {
   "cell_type": "code",
   "execution_count": 83,
   "metadata": {},
   "outputs": [
    {
     "data": {
      "text/plain": [
       "2.0    59513\n",
       "1.0    12695\n",
       "Name: Considered suicide, dtype: int64"
      ]
     },
     "execution_count": 83,
     "metadata": {},
     "output_type": "execute_result"
    }
   ],
   "source": [
    "df['Considered suicide'].value_counts()"
   ]
  },
  {
   "cell_type": "code",
   "execution_count": 84,
   "metadata": {},
   "outputs": [
    {
     "data": {
      "text/plain": [
       "5301"
      ]
     },
     "execution_count": 84,
     "metadata": {},
     "output_type": "execute_result"
    }
   ],
   "source": [
    "2795+1628+517+361"
   ]
  },
  {
   "cell_type": "markdown",
   "metadata": {},
   "source": [
    "**Examining race variable**"
   ]
  },
  {
   "cell_type": "code",
   "execution_count": 89,
   "metadata": {},
   "outputs": [
    {
     "data": {
      "text/plain": [
       "5.0    31398\n",
       "3.0    12263\n",
       "7.0    10950\n",
       "6.0     8878\n",
       "8.0     3555\n",
       "2.0     2860\n",
       "1.0      859\n",
       "4.0      545\n",
       "Name: raceeth, dtype: int64"
      ]
     },
     "execution_count": 89,
     "metadata": {},
     "output_type": "execute_result"
    }
   ],
   "source": [
    "df['raceeth'].value_counts()"
   ]
  },
  {
   "cell_type": "code",
   "execution_count": 91,
   "metadata": {},
   "outputs": [
    {
     "data": {
      "text/plain": [
       "2.0    51924\n",
       "1.0    19882\n",
       "Name: Are you Hispanic/Latino, dtype: int64"
      ]
     },
     "execution_count": 91,
     "metadata": {},
     "output_type": "execute_result"
    }
   ],
   "source": [
    "df['Are you Hispanic/Latino'].value_counts()"
   ]
  },
  {
   "cell_type": "markdown",
   "metadata": {},
   "source": [
    "**Changing datatypes to objecta**"
   ]
  },
  {
   "cell_type": "code",
   "execution_count": 105,
   "metadata": {},
   "outputs": [],
   "source": [
    "df = df.astype(object) "
   ]
  },
  {
   "cell_type": "markdown",
   "metadata": {},
   "source": [
    "**KNNImputer for missing values**"
   ]
  },
  {
   "cell_type": "code",
   "execution_count": 104,
   "metadata": {},
   "outputs": [],
   "source": [
    "from sklearn.impute import KNNImputer"
   ]
  },
  {
   "cell_type": "code",
   "execution_count": null,
   "metadata": {},
   "outputs": [],
   "source": [
    "# if we are going to use the imputer we are going to need to decide which columns we are going to want to \n",
    "# impute on \n",
    "\n",
    "imputer = KNNImputer(n_neighbors=5)\n",
    "df = pd.DataFrame(imputer.fit_transform(df),columns = df.columns)"
   ]
  },
  {
   "cell_type": "markdown",
   "metadata": {},
   "source": [
    "**Label encodeer**"
   ]
  },
  {
   "cell_type": "code",
   "execution_count": null,
   "metadata": {},
   "outputs": [],
   "source": [
    "from sklearn import preprocessing"
   ]
  },
  {
   "cell_type": "code",
   "execution_count": null,
   "metadata": {},
   "outputs": [],
   "source": [
    "le = preprocessing.LabelEncoder()"
   ]
  },
  {
   "cell_type": "code",
   "execution_count": null,
   "metadata": {},
   "outputs": [],
   "source": []
  }
 ],
 "metadata": {
  "kernelspec": {
   "display_name": "learn-env",
   "language": "python",
   "name": "learn-env"
  },
  "language_info": {
   "codemirror_mode": {
    "name": "ipython",
    "version": 3
   },
   "file_extension": ".py",
   "mimetype": "text/x-python",
   "name": "python",
   "nbconvert_exporter": "python",
   "pygments_lexer": "ipython3",
   "version": "3.8.3"
  },
  "toc": {
   "base_numbering": 1,
   "nav_menu": {},
   "number_sections": true,
   "sideBar": true,
   "skip_h1_title": false,
   "title_cell": "Table of Contents",
   "title_sidebar": "Contents",
   "toc_cell": false,
   "toc_position": {},
   "toc_section_display": true,
   "toc_window_display": false
  }
 },
 "nbformat": 4,
 "nbformat_minor": 4
}
