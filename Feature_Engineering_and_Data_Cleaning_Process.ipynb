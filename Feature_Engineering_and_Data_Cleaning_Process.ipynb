{
 "cells": [
  {
   "cell_type": "markdown",
   "metadata": {},
   "source": [
    "# Feature Engineering and Data Cleaning Process"
   ]
  },
  {
   "cell_type": "code",
   "execution_count": 1,
   "metadata": {},
   "outputs": [],
   "source": [
    "import pandas as pd\n",
    "import seaborn as sns\n",
    "import numpy as np\n",
    "import matplotlib.pyplot as plt\n",
    "%matplotlib inline\n",
    "pd.set_option('display.max_columns', 150, 'display.max_rows', 150)"
   ]
  },
  {
   "cell_type": "markdown",
   "metadata": {
    "heading_collapsed": true
   },
   "source": [
    "### Reading in all dataframes\n",
    "\n",
    "All of our data was obtained from the CDC through their Youth Risk Behavior Surveillance System. "
   ]
  },
  {
   "cell_type": "code",
   "execution_count": null,
   "metadata": {
    "hidden": true
   },
   "outputs": [],
   "source": []
  },
  {
   "cell_type": "code",
   "execution_count": 2,
   "metadata": {
    "hidden": true
   },
   "outputs": [
    {
     "name": "stderr",
     "output_type": "stream",
     "text": [
      "/Users/alexandrabruno/opt/anaconda3/lib/python3.8/site-packages/IPython/core/interactiveshell.py:3071: DtypeWarning: Columns (3,4) have mixed types.Specify dtype option on import or set low_memory=False.\n",
      "  has_raised = await self.run_ast_nodes(code_ast.body, cell_name,\n"
     ]
    }
   ],
   "source": [
    "df = pd.read_csv('updated_df.csv')"
   ]
  },
  {
   "cell_type": "code",
   "execution_count": 3,
   "metadata": {
    "hidden": true
   },
   "outputs": [],
   "source": [
    "df19 = pd.read_csv('twnty19.csv')"
   ]
  },
  {
   "cell_type": "code",
   "execution_count": 4,
   "metadata": {
    "hidden": true
   },
   "outputs": [
    {
     "name": "stderr",
     "output_type": "stream",
     "text": [
      "/Users/alexandrabruno/opt/anaconda3/lib/python3.8/site-packages/IPython/core/interactiveshell.py:3071: DtypeWarning: Columns (4) have mixed types.Specify dtype option on import or set low_memory=False.\n",
      "  has_raised = await self.run_ast_nodes(code_ast.body, cell_name,\n"
     ]
    }
   ],
   "source": [
    "df17 = pd.read_csv('twnty17.csv')"
   ]
  },
  {
   "cell_type": "code",
   "execution_count": 5,
   "metadata": {
    "hidden": true
   },
   "outputs": [],
   "source": [
    "df15 = pd.read_csv('twnty15.csv')"
   ]
  },
  {
   "cell_type": "code",
   "execution_count": 6,
   "metadata": {
    "hidden": true
   },
   "outputs": [],
   "source": [
    "df13 = pd.read_csv('twnty13.csv')"
   ]
  },
  {
   "cell_type": "code",
   "execution_count": 7,
   "metadata": {
    "hidden": true
   },
   "outputs": [],
   "source": [
    "df11 = pd.read_csv('twnty11.csv')"
   ]
  },
  {
   "cell_type": "markdown",
   "metadata": {},
   "source": [
    "### Checking what columns all our dataframes have in common"
   ]
  },
  {
   "cell_type": "code",
   "execution_count": 8,
   "metadata": {},
   "outputs": [],
   "source": [
    "columns = df19.columns\n",
    "columns = [x for x in columns if x in df17.columns]\n",
    "columns = [x for x in columns if x in df15.columns]\n",
    "columns = [x for x in columns if x in df13.columns]\n",
    "columns = [x for x in columns if x in df11.columns]"
   ]
  },
  {
   "cell_type": "markdown",
   "metadata": {},
   "source": [
    "### Finding the columns not in common and dropping them from the data frame"
   ]
  },
  {
   "cell_type": "code",
   "execution_count": 9,
   "metadata": {},
   "outputs": [],
   "source": [
    "drop_columns = df.columns\n",
    "drop_columns = [x for x in drop_columns if x not in columns]"
   ]
  },
  {
   "cell_type": "code",
   "execution_count": 10,
   "metadata": {},
   "outputs": [],
   "source": [
    "df.drop(['q6orig',\n",
    " 'q7orig',\n",
    " 'record',\n",
    " 'orig_rec',\n",
    " 'Texting and driving',\n",
    " 'Gun carrying past 12 mos',\n",
    " 'Sexual violence',\n",
    " 'Sexual dating violence',\n",
    " 'Physical dating violence',\n",
    " 'Smoked > 10 cigarettes',\n",
    " 'Electronic vapor product use',\n",
    " 'Current electronic vapor use',\n",
    " 'EVP from store',\n",
    " 'All tobacco product cessation',\n",
    " 'Current binge drinking',\n",
    " 'Largest number of drinks',\n",
    " 'Ever synthetic marijuana use',\n",
    " 'Sex of sexual contacts',\n",
    " 'Sexual identity',\n",
    " 'Physical activity >= 5 days',\n",
    " 'Concussion',\n",
    " 'STD testing',\n",
    " 'Oral health care',\n",
    " 'Grades in school',\n",
    " 'Current prescription pain medicine use',\n",
    " 'Sports drinks',\n",
    " 'Plain water',\n",
    " 'Food allergies',\n",
    " 'Sunscreen',\n",
    " 'Difficulty concentrating',\n",
    " 'How well speak English',\n",
    " 'Smoked>10 cigarettes',\n",
    " 'Current electronic vapor product use',\n",
    " 'Ever alcohol use',\n",
    " 'Physical activity>=5 days',\n",
    " 'Drive when using marijuana',\n",
    " 'Sunburn',\n",
    " 'Bicycle helmet use',\n",
    " 'Gun carrying',\n",
    " 'Injurious physical fighting',\n",
    " 'Cigarette from store',\n",
    " 'Smoking cessation',\n",
    " '5 or more drinks in a row',\n",
    " 'Usual use of marijuana',\n",
    " 'qnowt',\n",
    " 'qnobese'],axis =1, inplace = True)"
   ]
  },
  {
   "cell_type": "code",
   "execution_count": 11,
   "metadata": {},
   "outputs": [
    {
     "data": {
      "text/plain": [
       "(73074, 79)"
      ]
     },
     "execution_count": 11,
     "metadata": {},
     "output_type": "execute_result"
    }
   ],
   "source": [
    "df.shape"
   ]
  },
  {
   "cell_type": "markdown",
   "metadata": {},
   "source": [
    "### Examining columns with null values"
   ]
  },
  {
   "cell_type": "code",
   "execution_count": 12,
   "metadata": {},
   "outputs": [
    {
     "data": {
      "text/plain": [
       "Unnamed: 0                                 0\n",
       "YEAR                                       0\n",
       "raceeth                                 1766\n",
       "How old are you                          358\n",
       "What is your sex                         469\n",
       "In what grade are you                    521\n",
       "Are you Hispanic/Latino                 1268\n",
       "What is your race                       9778\n",
       "How tall are you                        6566\n",
       "How much do you weigh                   6566\n",
       "Seat belt use                           7482\n",
       "Riding with a drinking driver           1534\n",
       "Drinking and driving                    5401\n",
       "Weapon carrying                         8093\n",
       "Weapon carrying at school               1918\n",
       "Safety concerns at school               2865\n",
       "Threatened at school                     935\n",
       "Physical fighting                       8684\n",
       "Physical fighting at school             1611\n",
       "Forced sexual intercourse               3793\n",
       "Bullying at school                      1363\n",
       "Electronic bullying                     2151\n",
       "Sad or hopeless                          907\n",
       "Considered suicide                       866\n",
       "Made a suicide plan                     1207\n",
       "Attempted suicide                      13805\n",
       "Injurious suicide attempt              16665\n",
       "Ever cigarette use                     10832\n",
       "Initiation of cigarette smoking         6299\n",
       "Current cigarette use                   3596\n",
       "Current smokeless tobacco use           2354\n",
       "Current cigar use                       2765\n",
       "Initiation of alcohol use               2623\n",
       "Current alcohol use                     7134\n",
       "Source of alcohol                      13534\n",
       "Ever marijuana use                      3807\n",
       "Initiation of marijuana use             1958\n",
       "Current marijuana use                   1849\n",
       "Ever prescription pain medicine use     2760\n",
       "Ever cocaine use                        2367\n",
       "Ever inhalant use                       7389\n",
       "Ever heroin use                         3235\n",
       "Ever methamphetamine use                2827\n",
       "Ever ecstasy use                        3246\n",
       "Ever steroid use                        8514\n",
       "Illegal injected drug use               5592\n",
       "Illegal drugs at school                 1983\n",
       "Ever sexual intercourse                 7528\n",
       "Sex before 13 years                     6743\n",
       "Multiple sex partners                   6885\n",
       "Current sexual activity                 6954\n",
       "Alcohol/drugs and sex                   7641\n",
       "Condom use                              7429\n",
       "Birth control pill use                  8155\n",
       "Perception of weight                    3336\n",
       "Weight loss                             8709\n",
       "Fruit juice drinking                    2614\n",
       "Fruit eating                            2407\n",
       "Green salad eating                      3742\n",
       "Potato eating                           3954\n",
       "Carrot eating                           4037\n",
       "Other vegetable eating                  3930\n",
       "No soda drinking                        4455\n",
       "No milk drinking                       12892\n",
       "Breakfast eating                       10369\n",
       "Television watching                     3032\n",
       "Computer use                            2628\n",
       "PE attendance                           4339\n",
       "Sports team participation              10359\n",
       "HIV testing                             7485\n",
       "Asthma                                  4761\n",
       "Sleep                                   9091\n",
       "Ever used LSD                          17274\n",
       "Muscle strengthening                   18607\n",
       "Indoor tanning                         16613\n",
       "BMIPCT                                  6566\n",
       "weight                                     0\n",
       "stratum                                    0\n",
       "psu                                        0\n",
       "dtype: int64"
      ]
     },
     "execution_count": 12,
     "metadata": {},
     "output_type": "execute_result"
    }
   ],
   "source": [
    "df.isnull().sum()"
   ]
  },
  {
   "cell_type": "markdown",
   "metadata": {},
   "source": [
    "### Feature Engineering"
   ]
  },
  {
   "cell_type": "code",
   "execution_count": 13,
   "metadata": {},
   "outputs": [],
   "source": [
    "conditions = [(df['Ever cocaine use']>=2)|(df['Ever prescription pain medicine use']>=2)|\n",
    "              (df['Ever inhalant use']>=2)|(df['Ever heroin use']>=2)|(df['Ever methamphetamine use']>=2)|\n",
    "              (df['Ever ecstasy use']>=2)]\n",
    "values = [1]\n",
    "\n",
    "df['Has used hard drugs'] = np.select(conditions, values)"
   ]
  },
  {
   "cell_type": "code",
   "execution_count": 14,
   "metadata": {},
   "outputs": [],
   "source": [
    "# create a list of our conditions\n",
    "conditions = [\n",
    "    (df['Fruit juice drinking'] > 2) | (df['Fruit eating'] > 2) | (df['Green salad eating'] > 2) |\n",
    "    (df['Potato eating'] > 2) | (df['Carrot eating'] > 2)| (df['Other vegetable eating'] > 2) |\n",
    "    (df['No soda drinking'] <= 2) | (df['No milk drinking'] > 2)| (df['Breakfast eating'] > 4)\n",
    "    ]\n",
    "# create a list of the values we want to assign for each condition\n",
    "values = [1]\n",
    "# create a new column and use np.select to assign values to it using our lists as arguments\n",
    "df['healthy_eating'] = np.select(conditions, values)"
   ]
  },
  {
   "cell_type": "code",
   "execution_count": 15,
   "metadata": {},
   "outputs": [],
   "source": [
    "conditions = [(df['PE attendance']>3)|(df['Sports team participation']>=2)|\n",
    "             (df['Muscle strengthening']>3)]\n",
    "values = [1]\n",
    "df['regular_activity'] = np.select(conditions, values)"
   ]
  },
  {
   "cell_type": "markdown",
   "metadata": {},
   "source": [
    "### Dropping columns that we used for feature engineering and others"
   ]
  },
  {
   "cell_type": "code",
   "execution_count": 16,
   "metadata": {},
   "outputs": [],
   "source": [
    "columns_to_drop = ['What is your race','Are you Hispanic/Latino','Indoor tanning','Fruit juice drinking', \n",
    "                   'Fruit eating', 'Green salad eating',\n",
    "                   'Potato eating', 'Carrot eating', 'Other vegetable eating',\n",
    "                   'No soda drinking', 'No milk drinking', 'Breakfast eating','PE attendance',\n",
    "                   'Sports team participation','Muscle strengthening','Ever cocaine use', 'Ever prescription pain medicine use',\n",
    "                   'Ever inhalant use', 'Ever heroin use', 'Ever methamphetamine use',\n",
    "                   'Ever ecstasy use','Unnamed: 0']\n",
    "df.drop(columns =columns_to_drop,axis=1,inplace=True)"
   ]
  },
  {
   "cell_type": "markdown",
   "metadata": {},
   "source": [
    "### Dropping all rows that have NA for our target variable"
   ]
  },
  {
   "cell_type": "code",
   "execution_count": 17,
   "metadata": {},
   "outputs": [],
   "source": [
    "df.dropna(subset=['Considered suicide','Attempted suicide','Alcohol/drugs and sex','Condom use'],inplace = True, axis = 0)"
   ]
  },
  {
   "cell_type": "markdown",
   "metadata": {},
   "source": [
    "### Checking the shape of the dataframe"
   ]
  },
  {
   "cell_type": "code",
   "execution_count": 18,
   "metadata": {},
   "outputs": [
    {
     "data": {
      "text/plain": [
       "(53548, 60)"
      ]
     },
     "execution_count": 18,
     "metadata": {},
     "output_type": "execute_result"
    }
   ],
   "source": [
    "df.shape"
   ]
  },
  {
   "cell_type": "markdown",
   "metadata": {},
   "source": [
    "### Categorical imputer"
   ]
  },
  {
   "cell_type": "code",
   "execution_count": 27,
   "metadata": {},
   "outputs": [],
   "source": [
    "from sklearn.impute import SimpleImputer"
   ]
  },
  {
   "cell_type": "code",
   "execution_count": 28,
   "metadata": {},
   "outputs": [],
   "source": [
    "df = pd.DataFrame(SimpleImputer(strategy=\"most_frequent\").fit_transform(df), columns = df.columns)"
   ]
  },
  {
   "cell_type": "code",
   "execution_count": 41,
   "metadata": {},
   "outputs": [],
   "source": [
    "df.to_csv('final_df.csv')"
   ]
  }
 ],
 "metadata": {
  "kernelspec": {
   "display_name": "learn-env",
   "language": "python",
   "name": "learn-env"
  },
  "language_info": {
   "codemirror_mode": {
    "name": "ipython",
    "version": 3
   },
   "file_extension": ".py",
   "mimetype": "text/x-python",
   "name": "python",
   "nbconvert_exporter": "python",
   "pygments_lexer": "ipython3",
   "version": "3.8.3"
  },
  "toc": {
   "base_numbering": 1,
   "nav_menu": {},
   "number_sections": true,
   "sideBar": true,
   "skip_h1_title": false,
   "title_cell": "Table of Contents",
   "title_sidebar": "Contents",
   "toc_cell": false,
   "toc_position": {},
   "toc_section_display": true,
   "toc_window_display": false
  }
 },
 "nbformat": 4,
 "nbformat_minor": 4
}
