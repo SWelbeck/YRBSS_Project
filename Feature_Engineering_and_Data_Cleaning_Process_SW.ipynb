{
 "cells": [
  {
   "cell_type": "markdown",
   "metadata": {},
   "source": [
    "# Feature Engineering and Data Cleaning Process"
   ]
  },
  {
   "cell_type": "code",
   "execution_count": 27,
   "metadata": {
    "ExecuteTime": {
     "end_time": "2021-01-07T02:02:59.970045Z",
     "start_time": "2021-01-07T02:02:57.764065Z"
    }
   },
   "outputs": [],
   "source": [
    "import pandas as pd\n",
    "import seaborn as sns\n",
    "import numpy as np\n",
    "import matplotlib.pyplot as plt\n",
    "%matplotlib inline\n",
    "pd.set_option('display.max_columns', 150, 'display.max_rows', 150)\n",
    "\n",
    "#importing necessary libraries and modules\n",
    "import pandas as pd\n",
    "import matplotlib.pyplot as plt\n",
    "%matplotlib inline\n",
    "import seaborn as sns\n",
    "import numpy as np\n",
    "from statsmodels.formula.api import ols\n",
    "import scipy.stats as stats\n",
    "import math\n",
    "import folium\n",
    "import geopandas as gpd\n",
    "\n",
    "pd.set_option('display.max_columns', 150, 'display.max_rows', 150)\n",
    "\n",
    "from sklearn import linear_model\n",
    "from sklearn.linear_model import LinearRegression\n",
    "from sklearn.model_selection import train_test_split\n",
    "from sklearn import metrics\n",
    "from sklearn.preprocessing import PolynomialFeatures\n",
    "from sklearn.preprocessing import StandardScaler"
   ]
  },
  {
   "cell_type": "code",
   "execution_count": 2,
   "metadata": {
    "ExecuteTime": {
     "end_time": "2021-01-07T01:56:01.681631Z",
     "start_time": "2021-01-07T01:55:59.461030Z"
    }
   },
   "outputs": [
    {
     "name": "stderr",
     "output_type": "stream",
     "text": [
      "/Users/sandrawelbeck/opt/anaconda3/envs/learn-env/lib/python3.6/site-packages/IPython/core/interactiveshell.py:3072: DtypeWarning: Columns (3,4) have mixed types.Specify dtype option on import or set low_memory=False.\n",
      "  interactivity=interactivity, compiler=compiler, result=result)\n"
     ]
    }
   ],
   "source": [
    "df = pd.read_csv('updated_df.csv')"
   ]
  },
  {
   "cell_type": "markdown",
   "metadata": {},
   "source": [
    "### Checking what columns all our dataframes have in common"
   ]
  },
  {
   "cell_type": "code",
   "execution_count": 3,
   "metadata": {
    "ExecuteTime": {
     "end_time": "2021-01-07T01:56:02.034765Z",
     "start_time": "2021-01-07T01:56:01.687134Z"
    }
   },
   "outputs": [],
   "source": [
    "df19 = pd.read_csv('twnty19.csv')"
   ]
  },
  {
   "cell_type": "code",
   "execution_count": 4,
   "metadata": {
    "ExecuteTime": {
     "end_time": "2021-01-07T01:56:02.443661Z",
     "start_time": "2021-01-07T01:56:02.037319Z"
    }
   },
   "outputs": [
    {
     "name": "stderr",
     "output_type": "stream",
     "text": [
      "/Users/sandrawelbeck/opt/anaconda3/envs/learn-env/lib/python3.6/site-packages/IPython/core/interactiveshell.py:3072: DtypeWarning: Columns (4) have mixed types.Specify dtype option on import or set low_memory=False.\n",
      "  interactivity=interactivity, compiler=compiler, result=result)\n"
     ]
    }
   ],
   "source": [
    "df17 = pd.read_csv('twnty17.csv')"
   ]
  },
  {
   "cell_type": "code",
   "execution_count": 5,
   "metadata": {
    "ExecuteTime": {
     "end_time": "2021-01-07T01:56:02.764126Z",
     "start_time": "2021-01-07T01:56:02.446815Z"
    }
   },
   "outputs": [],
   "source": [
    "df15 = pd.read_csv('twnty15.csv')"
   ]
  },
  {
   "cell_type": "code",
   "execution_count": 6,
   "metadata": {
    "ExecuteTime": {
     "end_time": "2021-01-07T01:56:06.489026Z",
     "start_time": "2021-01-07T01:56:06.101616Z"
    }
   },
   "outputs": [],
   "source": [
    "df13 = pd.read_csv('twnty13.csv')"
   ]
  },
  {
   "cell_type": "code",
   "execution_count": 7,
   "metadata": {
    "ExecuteTime": {
     "end_time": "2021-01-07T01:56:08.053232Z",
     "start_time": "2021-01-07T01:56:07.161440Z"
    }
   },
   "outputs": [],
   "source": [
    "df11 = pd.read_csv('twnty11.csv')"
   ]
  },
  {
   "cell_type": "code",
   "execution_count": 8,
   "metadata": {
    "ExecuteTime": {
     "end_time": "2021-01-07T01:56:08.083237Z",
     "start_time": "2021-01-07T01:56:08.066985Z"
    }
   },
   "outputs": [],
   "source": [
    "columns = df19.columns\n",
    "columns = [x for x in columns if x in df17.columns]\n",
    "columns = [x for x in columns if x in df15.columns]\n",
    "columns = [x for x in columns if x in df13.columns]\n",
    "columns = [x for x in columns if x in df11.columns]"
   ]
  },
  {
   "cell_type": "markdown",
   "metadata": {},
   "source": [
    "### Finding the columns not in common and dropping them from the data frame"
   ]
  },
  {
   "cell_type": "code",
   "execution_count": 9,
   "metadata": {
    "ExecuteTime": {
     "end_time": "2021-01-07T01:56:28.179050Z",
     "start_time": "2021-01-07T01:56:28.160004Z"
    }
   },
   "outputs": [],
   "source": [
    "drop_columns = df.columns\n",
    "drop_columns = [x for x in drop_columns if x not in columns]"
   ]
  },
  {
   "cell_type": "code",
   "execution_count": 10,
   "metadata": {
    "ExecuteTime": {
     "end_time": "2021-01-07T01:56:29.368895Z",
     "start_time": "2021-01-07T01:56:28.986155Z"
    }
   },
   "outputs": [],
   "source": [
    "df.drop(['q6orig',\n",
    " 'q7orig',\n",
    " 'record',\n",
    " 'orig_rec',\n",
    " 'Texting and driving',\n",
    " 'Gun carrying past 12 mos',\n",
    " 'Sexual violence',\n",
    " 'Sexual dating violence',\n",
    " 'Physical dating violence',\n",
    " 'Smoked > 10 cigarettes',\n",
    " 'Electronic vapor product use',\n",
    " 'Current electronic vapor use',\n",
    " 'EVP from store',\n",
    " 'All tobacco product cessation',\n",
    " 'Current binge drinking',\n",
    " 'Largest number of drinks',\n",
    " 'Ever synthetic marijuana use',\n",
    " 'Sex of sexual contacts',\n",
    " 'Sexual identity',\n",
    " 'Physical activity >= 5 days',\n",
    " 'Concussion',\n",
    " 'STD testing',\n",
    " 'Oral health care',\n",
    " 'Grades in school',\n",
    " 'Current prescription pain medicine use',\n",
    " 'Sports drinks',\n",
    " 'Plain water',\n",
    " 'Food allergies',\n",
    " 'Sunscreen',\n",
    " 'Difficulty concentrating',\n",
    " 'How well speak English',\n",
    " 'Smoked>10 cigarettes',\n",
    " 'Current electronic vapor product use',\n",
    " 'Ever alcohol use',\n",
    " 'Physical activity>=5 days',\n",
    " 'Drive when using marijuana',\n",
    " 'Sunburn',\n",
    " 'Bicycle helmet use',\n",
    " 'Gun carrying',\n",
    " 'Injurious physical fighting',\n",
    " 'Cigarette from store',\n",
    " 'Smoking cessation',\n",
    " '5 or more drinks in a row',\n",
    " 'Usual use of marijuana',\n",
    " 'qnowt',\n",
    " 'qnobese'],axis =1, inplace = True)"
   ]
  },
  {
   "cell_type": "code",
   "execution_count": 11,
   "metadata": {
    "ExecuteTime": {
     "end_time": "2021-01-07T01:56:29.836025Z",
     "start_time": "2021-01-07T01:56:29.705409Z"
    }
   },
   "outputs": [
    {
     "data": {
      "text/plain": [
       "(73074, 79)"
      ]
     },
     "execution_count": 11,
     "metadata": {},
     "output_type": "execute_result"
    }
   ],
   "source": [
    "df.shape"
   ]
  },
  {
   "cell_type": "markdown",
   "metadata": {},
   "source": [
    "### Examining columns with null values"
   ]
  },
  {
   "cell_type": "code",
   "execution_count": 12,
   "metadata": {
    "ExecuteTime": {
     "end_time": "2021-01-07T01:56:30.906137Z",
     "start_time": "2021-01-07T01:56:30.809426Z"
    }
   },
   "outputs": [
    {
     "data": {
      "text/plain": [
       "Unnamed: 0                                 0\n",
       "YEAR                                       0\n",
       "raceeth                                 1766\n",
       "How old are you                          358\n",
       "What is your sex                         469\n",
       "In what grade are you                    521\n",
       "Are you Hispanic/Latino                 1268\n",
       "What is your race                       9778\n",
       "How tall are you                        6566\n",
       "How much do you weigh                   6566\n",
       "Seat belt use                           7482\n",
       "Riding with a drinking driver           1534\n",
       "Drinking and driving                    5401\n",
       "Weapon carrying                         8093\n",
       "Weapon carrying at school               1918\n",
       "Safety concerns at school               2865\n",
       "Threatened at school                     935\n",
       "Physical fighting                       8684\n",
       "Physical fighting at school             1611\n",
       "Forced sexual intercourse               3793\n",
       "Bullying at school                      1363\n",
       "Electronic bullying                     2151\n",
       "Sad or hopeless                          907\n",
       "Considered suicide                       866\n",
       "Made a suicide plan                     1207\n",
       "Attempted suicide                      13805\n",
       "Injurious suicide attempt              16665\n",
       "Ever cigarette use                     10832\n",
       "Initiation of cigarette smoking         6299\n",
       "Current cigarette use                   3596\n",
       "Current smokeless tobacco use           2354\n",
       "Current cigar use                       2765\n",
       "Initiation of alcohol use               2623\n",
       "Current alcohol use                     7134\n",
       "Source of alcohol                      13534\n",
       "Ever marijuana use                      3807\n",
       "Initiation of marijuana use             1958\n",
       "Current marijuana use                   1849\n",
       "Ever prescription pain medicine use     2760\n",
       "Ever cocaine use                        2367\n",
       "Ever inhalant use                       7389\n",
       "Ever heroin use                         3235\n",
       "Ever methamphetamine use                2827\n",
       "Ever ecstasy use                        3246\n",
       "Ever steroid use                        8514\n",
       "Illegal injected drug use               5592\n",
       "Illegal drugs at school                 1983\n",
       "Ever sexual intercourse                 7528\n",
       "Sex before 13 years                     6743\n",
       "Multiple sex partners                   6885\n",
       "Current sexual activity                 6954\n",
       "Alcohol/drugs and sex                   7641\n",
       "Condom use                              7429\n",
       "Birth control pill use                  8155\n",
       "Perception of weight                    3336\n",
       "Weight loss                             8709\n",
       "Fruit juice drinking                    2614\n",
       "Fruit eating                            2407\n",
       "Green salad eating                      3742\n",
       "Potato eating                           3954\n",
       "Carrot eating                           4037\n",
       "Other vegetable eating                  3930\n",
       "No soda drinking                        4455\n",
       "No milk drinking                       12892\n",
       "Breakfast eating                       10369\n",
       "Television watching                     3032\n",
       "Computer use                            2628\n",
       "PE attendance                           4339\n",
       "Sports team participation              10359\n",
       "HIV testing                             7485\n",
       "Asthma                                  4761\n",
       "Sleep                                   9091\n",
       "Ever used LSD                          17274\n",
       "Muscle strengthening                   18607\n",
       "Indoor tanning                         16613\n",
       "BMIPCT                                  6566\n",
       "weight                                     0\n",
       "stratum                                    0\n",
       "psu                                        0\n",
       "dtype: int64"
      ]
     },
     "execution_count": 12,
     "metadata": {},
     "output_type": "execute_result"
    }
   ],
   "source": [
    "df.isnull().sum()"
   ]
  },
  {
   "cell_type": "markdown",
   "metadata": {},
   "source": [
    "### Feature Engineering"
   ]
  },
  {
   "cell_type": "code",
   "execution_count": 13,
   "metadata": {
    "ExecuteTime": {
     "end_time": "2021-01-07T01:56:32.812425Z",
     "start_time": "2021-01-07T01:56:32.743990Z"
    }
   },
   "outputs": [],
   "source": [
    "conditions = [(df['Ever cocaine use']>=2)|(df['Ever prescription pain medicine use']>=2)|\n",
    "              (df['Ever inhalant use']>=2)|(df['Ever heroin use']>=2)|(df['Ever methamphetamine use']>=2)|\n",
    "              (df['Ever ecstasy use']>=2)]\n",
    "values = [1]\n",
    "\n",
    "df['Has used hard drugs'] = np.select(conditions, values)"
   ]
  },
  {
   "cell_type": "code",
   "execution_count": 14,
   "metadata": {
    "ExecuteTime": {
     "end_time": "2021-01-07T01:56:33.792223Z",
     "start_time": "2021-01-07T01:56:33.749644Z"
    }
   },
   "outputs": [],
   "source": [
    "# create a list of our conditions\n",
    "conditions = [\n",
    "    (df['Fruit juice drinking'] > 2) | (df['Fruit eating'] > 2) | (df['Green salad eating'] > 2) |\n",
    "    (df['Potato eating'] > 2) | (df['Carrot eating'] > 2)| (df['Other vegetable eating'] > 2) |\n",
    "    (df['No soda drinking'] <= 2) | (df['No milk drinking'] > 2)| (df['Breakfast eating'] > 4)\n",
    "    ]\n",
    "# create a list of the values we want to assign for each condition\n",
    "values = [1]\n",
    "# create a new column and use np.select to assign values to it using our lists as arguments\n",
    "df['healthy_eating'] = np.select(conditions, values)"
   ]
  },
  {
   "cell_type": "code",
   "execution_count": 15,
   "metadata": {
    "ExecuteTime": {
     "end_time": "2021-01-07T01:56:34.482565Z",
     "start_time": "2021-01-07T01:56:34.466266Z"
    }
   },
   "outputs": [],
   "source": [
    "conditions = [(df['PE attendance']>3)|(df['Sports team participation']>=2)|\n",
    "             (df['Muscle strengthening']>3)]\n",
    "values = [1]\n",
    "df['regular_activity'] = np.select(conditions, values)"
   ]
  },
  {
   "cell_type": "markdown",
   "metadata": {},
   "source": [
    "### Dropping columns that we used for feature engineering and others"
   ]
  },
  {
   "cell_type": "code",
   "execution_count": 16,
   "metadata": {
    "ExecuteTime": {
     "end_time": "2021-01-07T01:56:35.765963Z",
     "start_time": "2021-01-07T01:56:35.708838Z"
    }
   },
   "outputs": [],
   "source": [
    "columns_to_drop = ['What is your race','Are you Hispanic/Latino','Indoor tanning','Fruit juice drinking', \n",
    "                   'Fruit eating', 'Green salad eating',\n",
    "                   'Potato eating', 'Carrot eating', 'Other vegetable eating',\n",
    "                   'No soda drinking', 'No milk drinking', 'Breakfast eating','PE attendance',\n",
    "                   'Sports team participation','Muscle strengthening','Ever cocaine use', 'Ever prescription pain medicine use',\n",
    "                   'Ever inhalant use', 'Ever heroin use', 'Ever methamphetamine use',\n",
    "                   'Ever ecstasy use','Unnamed: 0']\n",
    "df.drop(columns =columns_to_drop,axis=1,inplace=True)"
   ]
  },
  {
   "cell_type": "markdown",
   "metadata": {},
   "source": [
    "### Dropping all rows that have NA for our target variable"
   ]
  },
  {
   "cell_type": "code",
   "execution_count": 17,
   "metadata": {
    "ExecuteTime": {
     "end_time": "2021-01-07T01:56:37.294123Z",
     "start_time": "2021-01-07T01:56:37.108946Z"
    }
   },
   "outputs": [],
   "source": [
    "df.dropna(subset=['Considered suicide','Attempted suicide','Alcohol/drugs and sex','Condom use'],inplace = True, axis = 0)"
   ]
  },
  {
   "cell_type": "markdown",
   "metadata": {},
   "source": [
    "### Checking the shape of the dataframe"
   ]
  },
  {
   "cell_type": "code",
   "execution_count": 18,
   "metadata": {
    "ExecuteTime": {
     "end_time": "2021-01-07T01:56:48.426872Z",
     "start_time": "2021-01-07T01:56:48.419820Z"
    }
   },
   "outputs": [
    {
     "data": {
      "text/plain": [
       "(53548, 60)"
      ]
     },
     "execution_count": 18,
     "metadata": {},
     "output_type": "execute_result"
    }
   ],
   "source": [
    "df.shape"
   ]
  },
  {
   "cell_type": "markdown",
   "metadata": {
    "heading_collapsed": true
   },
   "source": [
    "### KNN Imputer"
   ]
  },
  {
   "cell_type": "markdown",
   "metadata": {
    "hidden": true
   },
   "source": [
    "**Importing KNNImputer**"
   ]
  },
  {
   "cell_type": "code",
   "execution_count": 19,
   "metadata": {
    "hidden": true
   },
   "outputs": [],
   "source": [
    "# df = df.astype(object) "
   ]
  },
  {
   "cell_type": "code",
   "execution_count": 20,
   "metadata": {
    "hidden": true
   },
   "outputs": [],
   "source": [
    "# df.info()"
   ]
  },
  {
   "cell_type": "code",
   "execution_count": 21,
   "metadata": {
    "hidden": true
   },
   "outputs": [],
   "source": [
    "# from sklearn.impute import KNNImputer"
   ]
  },
  {
   "cell_type": "code",
   "execution_count": 22,
   "metadata": {
    "hidden": true
   },
   "outputs": [],
   "source": [
    "# if we are going to use the imputer we are going to need to decide which columns we are going to want to \n",
    "# impute on \n",
    "\n",
    "# imputer = KNNImputer(n_neighbors=5)\n",
    "# df = pd.DataFrame(imputer.fit_transform(df),columns = df.columns)"
   ]
  },
  {
   "cell_type": "markdown",
   "metadata": {},
   "source": [
    "### Categorical imputer"
   ]
  },
  {
   "cell_type": "code",
   "execution_count": 23,
   "metadata": {},
   "outputs": [],
   "source": [
    "# from sklearn_pandas import CategoricalImputer"
   ]
  },
  {
   "cell_type": "code",
   "execution_count": 24,
   "metadata": {},
   "outputs": [],
   "source": [
    "# df = df.astype(str) "
   ]
  },
  {
   "cell_type": "code",
   "execution_count": 25,
   "metadata": {},
   "outputs": [],
   "source": [
    "# data = df"
   ]
  },
  {
   "cell_type": "code",
   "execution_count": 26,
   "metadata": {},
   "outputs": [],
   "source": [
    "# imputer = CategoricalImputer()\n",
    "# imputer.fit_transform(data)"
   ]
  },
  {
   "cell_type": "code",
   "execution_count": 19,
   "metadata": {
    "ExecuteTime": {
     "end_time": "2021-01-07T01:57:14.569448Z",
     "start_time": "2021-01-07T01:57:13.608881Z"
    }
   },
   "outputs": [],
   "source": [
    "from sklearn.impute import SimpleImputer"
   ]
  },
  {
   "cell_type": "code",
   "execution_count": 20,
   "metadata": {
    "ExecuteTime": {
     "end_time": "2021-01-07T01:57:14.852128Z",
     "start_time": "2021-01-07T01:57:14.571775Z"
    }
   },
   "outputs": [],
   "source": [
    "df = pd.DataFrame(SimpleImputer(strategy=\"most_frequent\").fit_transform(df), columns = df.columns)"
   ]
  },
  {
   "cell_type": "code",
   "execution_count": 29,
   "metadata": {},
   "outputs": [],
   "source": [
    "# imp = SimpleImputer(strategy=\"most_frequent\")"
   ]
  },
  {
   "cell_type": "code",
   "execution_count": 30,
   "metadata": {},
   "outputs": [],
   "source": [
    "# df1 = imp.fit_transform(df)"
   ]
  },
  {
   "cell_type": "code",
   "execution_count": 31,
   "metadata": {},
   "outputs": [],
   "source": [
    "# df = pd.DataFrame(imp.fit_transform(df1))"
   ]
  },
  {
   "cell_type": "code",
   "execution_count": 32,
   "metadata": {},
   "outputs": [],
   "source": [
    "# df.columns"
   ]
  },
  {
   "cell_type": "code",
   "execution_count": 33,
   "metadata": {},
   "outputs": [],
   "source": [
    "# df.head()"
   ]
  },
  {
   "cell_type": "code",
   "execution_count": 21,
   "metadata": {
    "ExecuteTime": {
     "end_time": "2021-01-07T01:57:58.268216Z",
     "start_time": "2021-01-07T01:57:58.251396Z"
    }
   },
   "outputs": [
    {
     "data": {
      "text/plain": [
       "(53548, 60)"
      ]
     },
     "execution_count": 21,
     "metadata": {},
     "output_type": "execute_result"
    }
   ],
   "source": [
    "df.shape"
   ]
  },
  {
   "cell_type": "code",
   "execution_count": 22,
   "metadata": {
    "ExecuteTime": {
     "end_time": "2021-01-07T01:57:58.994372Z",
     "start_time": "2021-01-07T01:57:58.766404Z"
    }
   },
   "outputs": [
    {
     "data": {
      "text/html": [
       "<div>\n",
       "<style scoped>\n",
       "    .dataframe tbody tr th:only-of-type {\n",
       "        vertical-align: middle;\n",
       "    }\n",
       "\n",
       "    .dataframe tbody tr th {\n",
       "        vertical-align: top;\n",
       "    }\n",
       "\n",
       "    .dataframe thead th {\n",
       "        text-align: right;\n",
       "    }\n",
       "</style>\n",
       "<table border=\"1\" class=\"dataframe\">\n",
       "  <thead>\n",
       "    <tr style=\"text-align: right;\">\n",
       "      <th></th>\n",
       "      <th>YEAR</th>\n",
       "      <th>raceeth</th>\n",
       "      <th>How old are you</th>\n",
       "      <th>What is your sex</th>\n",
       "      <th>In what grade are you</th>\n",
       "      <th>How tall are you</th>\n",
       "      <th>How much do you weigh</th>\n",
       "      <th>Seat belt use</th>\n",
       "      <th>Riding with a drinking driver</th>\n",
       "      <th>Drinking and driving</th>\n",
       "      <th>Weapon carrying</th>\n",
       "      <th>Weapon carrying at school</th>\n",
       "      <th>Safety concerns at school</th>\n",
       "      <th>Threatened at school</th>\n",
       "      <th>Physical fighting</th>\n",
       "      <th>Physical fighting at school</th>\n",
       "      <th>Forced sexual intercourse</th>\n",
       "      <th>Bullying at school</th>\n",
       "      <th>Electronic bullying</th>\n",
       "      <th>Sad or hopeless</th>\n",
       "      <th>Considered suicide</th>\n",
       "      <th>Made a suicide plan</th>\n",
       "      <th>Attempted suicide</th>\n",
       "      <th>Injurious suicide attempt</th>\n",
       "      <th>Ever cigarette use</th>\n",
       "      <th>Initiation of cigarette smoking</th>\n",
       "      <th>Current cigarette use</th>\n",
       "      <th>Current smokeless tobacco use</th>\n",
       "      <th>Current cigar use</th>\n",
       "      <th>Initiation of alcohol use</th>\n",
       "      <th>Current alcohol use</th>\n",
       "      <th>Source of alcohol</th>\n",
       "      <th>Ever marijuana use</th>\n",
       "      <th>Initiation of marijuana use</th>\n",
       "      <th>Current marijuana use</th>\n",
       "      <th>Ever steroid use</th>\n",
       "      <th>Illegal injected drug use</th>\n",
       "      <th>Illegal drugs at school</th>\n",
       "      <th>Ever sexual intercourse</th>\n",
       "      <th>Sex before 13 years</th>\n",
       "      <th>Multiple sex partners</th>\n",
       "      <th>Current sexual activity</th>\n",
       "      <th>Alcohol/drugs and sex</th>\n",
       "      <th>Condom use</th>\n",
       "      <th>Birth control pill use</th>\n",
       "      <th>Perception of weight</th>\n",
       "      <th>Weight loss</th>\n",
       "      <th>Television watching</th>\n",
       "      <th>Computer use</th>\n",
       "      <th>HIV testing</th>\n",
       "      <th>Asthma</th>\n",
       "      <th>Sleep</th>\n",
       "      <th>Ever used LSD</th>\n",
       "      <th>BMIPCT</th>\n",
       "      <th>weight</th>\n",
       "      <th>stratum</th>\n",
       "      <th>psu</th>\n",
       "      <th>Has used hard drugs</th>\n",
       "      <th>healthy_eating</th>\n",
       "      <th>regular_activity</th>\n",
       "    </tr>\n",
       "  </thead>\n",
       "  <tbody>\n",
       "    <tr>\n",
       "      <th>0</th>\n",
       "      <td>2019.0</td>\n",
       "      <td>7.0</td>\n",
       "      <td>5.0</td>\n",
       "      <td>2.0</td>\n",
       "      <td>2.0</td>\n",
       "      <td>1.63</td>\n",
       "      <td>54.89</td>\n",
       "      <td>4.0</td>\n",
       "      <td>1.0</td>\n",
       "      <td>2.0</td>\n",
       "      <td>1.0</td>\n",
       "      <td>1.0</td>\n",
       "      <td>1.0</td>\n",
       "      <td>1.0</td>\n",
       "      <td>1.0</td>\n",
       "      <td>1.0</td>\n",
       "      <td>2.0</td>\n",
       "      <td>2.0</td>\n",
       "      <td>2.0</td>\n",
       "      <td>2.0</td>\n",
       "      <td>2.0</td>\n",
       "      <td>2.0</td>\n",
       "      <td>1.0</td>\n",
       "      <td>1.0</td>\n",
       "      <td>2.0</td>\n",
       "      <td>1.0</td>\n",
       "      <td>1.0</td>\n",
       "      <td>1.0</td>\n",
       "      <td>1.0</td>\n",
       "      <td>1.0</td>\n",
       "      <td>1.0</td>\n",
       "      <td>1.0</td>\n",
       "      <td>1.0</td>\n",
       "      <td>1.0</td>\n",
       "      <td>1.0</td>\n",
       "      <td>1.0</td>\n",
       "      <td>1.0</td>\n",
       "      <td>1.0</td>\n",
       "      <td>2.0</td>\n",
       "      <td>1.0</td>\n",
       "      <td>1.0</td>\n",
       "      <td>1.0</td>\n",
       "      <td>1.0</td>\n",
       "      <td>1.0</td>\n",
       "      <td>1.0</td>\n",
       "      <td>3.0</td>\n",
       "      <td>3.0</td>\n",
       "      <td>2.0</td>\n",
       "      <td>5.0</td>\n",
       "      <td>2.0</td>\n",
       "      <td>2.0</td>\n",
       "      <td>4.0</td>\n",
       "      <td>1.0</td>\n",
       "      <td>46.882141</td>\n",
       "      <td>1.6659</td>\n",
       "      <td>213.0</td>\n",
       "      <td>57923.0</td>\n",
       "      <td>0.0</td>\n",
       "      <td>1.0</td>\n",
       "      <td>1.0</td>\n",
       "    </tr>\n",
       "    <tr>\n",
       "      <th>1</th>\n",
       "      <td>2019.0</td>\n",
       "      <td>8.0</td>\n",
       "      <td>4.0</td>\n",
       "      <td>2.0</td>\n",
       "      <td>2.0</td>\n",
       "      <td>1.60</td>\n",
       "      <td>53.98</td>\n",
       "      <td>5.0</td>\n",
       "      <td>2.0</td>\n",
       "      <td>2.0</td>\n",
       "      <td>1.0</td>\n",
       "      <td>1.0</td>\n",
       "      <td>1.0</td>\n",
       "      <td>1.0</td>\n",
       "      <td>1.0</td>\n",
       "      <td>1.0</td>\n",
       "      <td>2.0</td>\n",
       "      <td>1.0</td>\n",
       "      <td>2.0</td>\n",
       "      <td>2.0</td>\n",
       "      <td>2.0</td>\n",
       "      <td>2.0</td>\n",
       "      <td>1.0</td>\n",
       "      <td>1.0</td>\n",
       "      <td>2.0</td>\n",
       "      <td>1.0</td>\n",
       "      <td>1.0</td>\n",
       "      <td>1.0</td>\n",
       "      <td>1.0</td>\n",
       "      <td>1.0</td>\n",
       "      <td>1.0</td>\n",
       "      <td>1.0</td>\n",
       "      <td>2.0</td>\n",
       "      <td>5.0</td>\n",
       "      <td>1.0</td>\n",
       "      <td>1.0</td>\n",
       "      <td>1.0</td>\n",
       "      <td>2.0</td>\n",
       "      <td>2.0</td>\n",
       "      <td>1.0</td>\n",
       "      <td>1.0</td>\n",
       "      <td>1.0</td>\n",
       "      <td>1.0</td>\n",
       "      <td>1.0</td>\n",
       "      <td>1.0</td>\n",
       "      <td>3.0</td>\n",
       "      <td>1.0</td>\n",
       "      <td>3.0</td>\n",
       "      <td>3.0</td>\n",
       "      <td>2.0</td>\n",
       "      <td>2.0</td>\n",
       "      <td>4.0</td>\n",
       "      <td>1.0</td>\n",
       "      <td>62.232194</td>\n",
       "      <td>1.3851</td>\n",
       "      <td>213.0</td>\n",
       "      <td>57923.0</td>\n",
       "      <td>0.0</td>\n",
       "      <td>1.0</td>\n",
       "      <td>1.0</td>\n",
       "    </tr>\n",
       "    <tr>\n",
       "      <th>2</th>\n",
       "      <td>2019.0</td>\n",
       "      <td>8.0</td>\n",
       "      <td>4.0</td>\n",
       "      <td>1.0</td>\n",
       "      <td>2.0</td>\n",
       "      <td>1.68</td>\n",
       "      <td>43.09</td>\n",
       "      <td>4.0</td>\n",
       "      <td>1.0</td>\n",
       "      <td>2.0</td>\n",
       "      <td>1.0</td>\n",
       "      <td>1.0</td>\n",
       "      <td>1.0</td>\n",
       "      <td>1.0</td>\n",
       "      <td>1.0</td>\n",
       "      <td>1.0</td>\n",
       "      <td>2.0</td>\n",
       "      <td>2.0</td>\n",
       "      <td>2.0</td>\n",
       "      <td>2.0</td>\n",
       "      <td>2.0</td>\n",
       "      <td>2.0</td>\n",
       "      <td>1.0</td>\n",
       "      <td>1.0</td>\n",
       "      <td>2.0</td>\n",
       "      <td>1.0</td>\n",
       "      <td>1.0</td>\n",
       "      <td>1.0</td>\n",
       "      <td>1.0</td>\n",
       "      <td>1.0</td>\n",
       "      <td>1.0</td>\n",
       "      <td>1.0</td>\n",
       "      <td>1.0</td>\n",
       "      <td>1.0</td>\n",
       "      <td>1.0</td>\n",
       "      <td>1.0</td>\n",
       "      <td>1.0</td>\n",
       "      <td>2.0</td>\n",
       "      <td>2.0</td>\n",
       "      <td>1.0</td>\n",
       "      <td>1.0</td>\n",
       "      <td>1.0</td>\n",
       "      <td>1.0</td>\n",
       "      <td>1.0</td>\n",
       "      <td>1.0</td>\n",
       "      <td>2.0</td>\n",
       "      <td>4.0</td>\n",
       "      <td>2.0</td>\n",
       "      <td>4.0</td>\n",
       "      <td>3.0</td>\n",
       "      <td>2.0</td>\n",
       "      <td>5.0</td>\n",
       "      <td>1.0</td>\n",
       "      <td>0.590171</td>\n",
       "      <td>1.4958</td>\n",
       "      <td>213.0</td>\n",
       "      <td>57923.0</td>\n",
       "      <td>0.0</td>\n",
       "      <td>1.0</td>\n",
       "      <td>0.0</td>\n",
       "    </tr>\n",
       "    <tr>\n",
       "      <th>3</th>\n",
       "      <td>2019.0</td>\n",
       "      <td>5.0</td>\n",
       "      <td>4.0</td>\n",
       "      <td>2.0</td>\n",
       "      <td>2.0</td>\n",
       "      <td>1.78</td>\n",
       "      <td>68.95</td>\n",
       "      <td>4.0</td>\n",
       "      <td>1.0</td>\n",
       "      <td>1.0</td>\n",
       "      <td>1.0</td>\n",
       "      <td>1.0</td>\n",
       "      <td>1.0</td>\n",
       "      <td>1.0</td>\n",
       "      <td>1.0</td>\n",
       "      <td>1.0</td>\n",
       "      <td>2.0</td>\n",
       "      <td>2.0</td>\n",
       "      <td>2.0</td>\n",
       "      <td>1.0</td>\n",
       "      <td>2.0</td>\n",
       "      <td>2.0</td>\n",
       "      <td>1.0</td>\n",
       "      <td>1.0</td>\n",
       "      <td>1.0</td>\n",
       "      <td>4.0</td>\n",
       "      <td>3.0</td>\n",
       "      <td>1.0</td>\n",
       "      <td>1.0</td>\n",
       "      <td>5.0</td>\n",
       "      <td>3.0</td>\n",
       "      <td>7.0</td>\n",
       "      <td>7.0</td>\n",
       "      <td>4.0</td>\n",
       "      <td>6.0</td>\n",
       "      <td>1.0</td>\n",
       "      <td>1.0</td>\n",
       "      <td>1.0</td>\n",
       "      <td>2.0</td>\n",
       "      <td>1.0</td>\n",
       "      <td>1.0</td>\n",
       "      <td>1.0</td>\n",
       "      <td>1.0</td>\n",
       "      <td>1.0</td>\n",
       "      <td>1.0</td>\n",
       "      <td>3.0</td>\n",
       "      <td>3.0</td>\n",
       "      <td>7.0</td>\n",
       "      <td>7.0</td>\n",
       "      <td>2.0</td>\n",
       "      <td>3.0</td>\n",
       "      <td>4.0</td>\n",
       "      <td>3.0</td>\n",
       "      <td>69.786634</td>\n",
       "      <td>1.7114</td>\n",
       "      <td>213.0</td>\n",
       "      <td>57923.0</td>\n",
       "      <td>1.0</td>\n",
       "      <td>1.0</td>\n",
       "      <td>0.0</td>\n",
       "    </tr>\n",
       "    <tr>\n",
       "      <th>4</th>\n",
       "      <td>2019.0</td>\n",
       "      <td>6.0</td>\n",
       "      <td>5.0</td>\n",
       "      <td>2.0</td>\n",
       "      <td>2.0</td>\n",
       "      <td>1.78</td>\n",
       "      <td>58.97</td>\n",
       "      <td>4.0</td>\n",
       "      <td>1.0</td>\n",
       "      <td>1.0</td>\n",
       "      <td>1.0</td>\n",
       "      <td>1.0</td>\n",
       "      <td>1.0</td>\n",
       "      <td>1.0</td>\n",
       "      <td>1.0</td>\n",
       "      <td>1.0</td>\n",
       "      <td>2.0</td>\n",
       "      <td>2.0</td>\n",
       "      <td>2.0</td>\n",
       "      <td>2.0</td>\n",
       "      <td>2.0</td>\n",
       "      <td>2.0</td>\n",
       "      <td>1.0</td>\n",
       "      <td>1.0</td>\n",
       "      <td>2.0</td>\n",
       "      <td>1.0</td>\n",
       "      <td>1.0</td>\n",
       "      <td>1.0</td>\n",
       "      <td>1.0</td>\n",
       "      <td>1.0</td>\n",
       "      <td>1.0</td>\n",
       "      <td>1.0</td>\n",
       "      <td>1.0</td>\n",
       "      <td>1.0</td>\n",
       "      <td>1.0</td>\n",
       "      <td>1.0</td>\n",
       "      <td>1.0</td>\n",
       "      <td>2.0</td>\n",
       "      <td>2.0</td>\n",
       "      <td>1.0</td>\n",
       "      <td>1.0</td>\n",
       "      <td>1.0</td>\n",
       "      <td>1.0</td>\n",
       "      <td>1.0</td>\n",
       "      <td>1.0</td>\n",
       "      <td>3.0</td>\n",
       "      <td>4.0</td>\n",
       "      <td>1.0</td>\n",
       "      <td>4.0</td>\n",
       "      <td>2.0</td>\n",
       "      <td>2.0</td>\n",
       "      <td>2.0</td>\n",
       "      <td>1.0</td>\n",
       "      <td>16.739994</td>\n",
       "      <td>1.6659</td>\n",
       "      <td>213.0</td>\n",
       "      <td>57923.0</td>\n",
       "      <td>0.0</td>\n",
       "      <td>1.0</td>\n",
       "      <td>0.0</td>\n",
       "    </tr>\n",
       "  </tbody>\n",
       "</table>\n",
       "</div>"
      ],
      "text/plain": [
       "     YEAR  raceeth  How old are you  What is your sex  In what grade are you  \\\n",
       "0  2019.0      7.0              5.0               2.0                    2.0   \n",
       "1  2019.0      8.0              4.0               2.0                    2.0   \n",
       "2  2019.0      8.0              4.0               1.0                    2.0   \n",
       "3  2019.0      5.0              4.0               2.0                    2.0   \n",
       "4  2019.0      6.0              5.0               2.0                    2.0   \n",
       "\n",
       "   How tall are you  How much do you weigh  Seat belt use  \\\n",
       "0              1.63                  54.89            4.0   \n",
       "1              1.60                  53.98            5.0   \n",
       "2              1.68                  43.09            4.0   \n",
       "3              1.78                  68.95            4.0   \n",
       "4              1.78                  58.97            4.0   \n",
       "\n",
       "   Riding with a drinking driver  Drinking and driving  Weapon carrying  \\\n",
       "0                            1.0                   2.0              1.0   \n",
       "1                            2.0                   2.0              1.0   \n",
       "2                            1.0                   2.0              1.0   \n",
       "3                            1.0                   1.0              1.0   \n",
       "4                            1.0                   1.0              1.0   \n",
       "\n",
       "   Weapon carrying at school  Safety concerns at school  Threatened at school  \\\n",
       "0                        1.0                        1.0                   1.0   \n",
       "1                        1.0                        1.0                   1.0   \n",
       "2                        1.0                        1.0                   1.0   \n",
       "3                        1.0                        1.0                   1.0   \n",
       "4                        1.0                        1.0                   1.0   \n",
       "\n",
       "   Physical fighting  Physical fighting at school  Forced sexual intercourse  \\\n",
       "0                1.0                          1.0                        2.0   \n",
       "1                1.0                          1.0                        2.0   \n",
       "2                1.0                          1.0                        2.0   \n",
       "3                1.0                          1.0                        2.0   \n",
       "4                1.0                          1.0                        2.0   \n",
       "\n",
       "   Bullying at school  Electronic bullying  Sad or hopeless  \\\n",
       "0                 2.0                  2.0              2.0   \n",
       "1                 1.0                  2.0              2.0   \n",
       "2                 2.0                  2.0              2.0   \n",
       "3                 2.0                  2.0              1.0   \n",
       "4                 2.0                  2.0              2.0   \n",
       "\n",
       "   Considered suicide  Made a suicide plan  Attempted suicide  \\\n",
       "0                 2.0                  2.0                1.0   \n",
       "1                 2.0                  2.0                1.0   \n",
       "2                 2.0                  2.0                1.0   \n",
       "3                 2.0                  2.0                1.0   \n",
       "4                 2.0                  2.0                1.0   \n",
       "\n",
       "   Injurious suicide attempt  Ever cigarette use  \\\n",
       "0                        1.0                 2.0   \n",
       "1                        1.0                 2.0   \n",
       "2                        1.0                 2.0   \n",
       "3                        1.0                 1.0   \n",
       "4                        1.0                 2.0   \n",
       "\n",
       "   Initiation of cigarette smoking  Current cigarette use  \\\n",
       "0                              1.0                    1.0   \n",
       "1                              1.0                    1.0   \n",
       "2                              1.0                    1.0   \n",
       "3                              4.0                    3.0   \n",
       "4                              1.0                    1.0   \n",
       "\n",
       "   Current smokeless tobacco use  Current cigar use  \\\n",
       "0                            1.0                1.0   \n",
       "1                            1.0                1.0   \n",
       "2                            1.0                1.0   \n",
       "3                            1.0                1.0   \n",
       "4                            1.0                1.0   \n",
       "\n",
       "   Initiation of alcohol use  Current alcohol use  Source of alcohol  \\\n",
       "0                        1.0                  1.0                1.0   \n",
       "1                        1.0                  1.0                1.0   \n",
       "2                        1.0                  1.0                1.0   \n",
       "3                        5.0                  3.0                7.0   \n",
       "4                        1.0                  1.0                1.0   \n",
       "\n",
       "   Ever marijuana use  Initiation of marijuana use  Current marijuana use  \\\n",
       "0                 1.0                          1.0                    1.0   \n",
       "1                 2.0                          5.0                    1.0   \n",
       "2                 1.0                          1.0                    1.0   \n",
       "3                 7.0                          4.0                    6.0   \n",
       "4                 1.0                          1.0                    1.0   \n",
       "\n",
       "   Ever steroid use  Illegal injected drug use  Illegal drugs at school  \\\n",
       "0               1.0                        1.0                      1.0   \n",
       "1               1.0                        1.0                      2.0   \n",
       "2               1.0                        1.0                      2.0   \n",
       "3               1.0                        1.0                      1.0   \n",
       "4               1.0                        1.0                      2.0   \n",
       "\n",
       "   Ever sexual intercourse  Sex before 13 years  Multiple sex partners  \\\n",
       "0                      2.0                  1.0                    1.0   \n",
       "1                      2.0                  1.0                    1.0   \n",
       "2                      2.0                  1.0                    1.0   \n",
       "3                      2.0                  1.0                    1.0   \n",
       "4                      2.0                  1.0                    1.0   \n",
       "\n",
       "   Current sexual activity  Alcohol/drugs and sex  Condom use  \\\n",
       "0                      1.0                    1.0         1.0   \n",
       "1                      1.0                    1.0         1.0   \n",
       "2                      1.0                    1.0         1.0   \n",
       "3                      1.0                    1.0         1.0   \n",
       "4                      1.0                    1.0         1.0   \n",
       "\n",
       "   Birth control pill use  Perception of weight  Weight loss  \\\n",
       "0                     1.0                   3.0          3.0   \n",
       "1                     1.0                   3.0          1.0   \n",
       "2                     1.0                   2.0          4.0   \n",
       "3                     1.0                   3.0          3.0   \n",
       "4                     1.0                   3.0          4.0   \n",
       "\n",
       "   Television watching  Computer use  HIV testing  Asthma  Sleep  \\\n",
       "0                  2.0           5.0          2.0     2.0    4.0   \n",
       "1                  3.0           3.0          2.0     2.0    4.0   \n",
       "2                  2.0           4.0          3.0     2.0    5.0   \n",
       "3                  7.0           7.0          2.0     3.0    4.0   \n",
       "4                  1.0           4.0          2.0     2.0    2.0   \n",
       "\n",
       "   Ever used LSD     BMIPCT  weight  stratum      psu  Has used hard drugs  \\\n",
       "0            1.0  46.882141  1.6659    213.0  57923.0                  0.0   \n",
       "1            1.0  62.232194  1.3851    213.0  57923.0                  0.0   \n",
       "2            1.0   0.590171  1.4958    213.0  57923.0                  0.0   \n",
       "3            3.0  69.786634  1.7114    213.0  57923.0                  1.0   \n",
       "4            1.0  16.739994  1.6659    213.0  57923.0                  0.0   \n",
       "\n",
       "   healthy_eating  regular_activity  \n",
       "0             1.0               1.0  \n",
       "1             1.0               1.0  \n",
       "2             1.0               0.0  \n",
       "3             1.0               0.0  \n",
       "4             1.0               0.0  "
      ]
     },
     "execution_count": 22,
     "metadata": {},
     "output_type": "execute_result"
    }
   ],
   "source": [
    "df.head()"
   ]
  },
  {
   "cell_type": "code",
   "execution_count": 24,
   "metadata": {
    "ExecuteTime": {
     "end_time": "2021-01-07T01:58:05.124197Z",
     "start_time": "2021-01-07T01:58:05.107617Z"
    }
   },
   "outputs": [
    {
     "data": {
      "text/plain": [
       "2.0    36305\n",
       "1.0    17243\n",
       "Name: Sad or hopeless, dtype: int64"
      ]
     },
     "execution_count": 24,
     "metadata": {},
     "output_type": "execute_result"
    }
   ],
   "source": [
    "df['Sad or hopeless'].value_counts()"
   ]
  },
  {
   "cell_type": "code",
   "execution_count": 62,
   "metadata": {
    "ExecuteTime": {
     "end_time": "2021-01-07T13:30:26.616245Z",
     "start_time": "2021-01-07T13:30:25.852859Z"
    }
   },
   "outputs": [
    {
     "data": {
      "text/plain": [
       "0"
      ]
     },
     "execution_count": 62,
     "metadata": {},
     "output_type": "execute_result"
    }
   ],
   "source": [
    "df.isnull().sum().sum()"
   ]
  },
  {
   "cell_type": "code",
   "execution_count": 26,
   "metadata": {
    "ExecuteTime": {
     "end_time": "2021-01-07T01:58:16.010704Z",
     "start_time": "2021-01-07T01:58:15.265435Z"
    },
    "collapsed": true
   },
   "outputs": [
    {
     "data": {
      "text/html": [
       "<div>\n",
       "<style scoped>\n",
       "    .dataframe tbody tr th:only-of-type {\n",
       "        vertical-align: middle;\n",
       "    }\n",
       "\n",
       "    .dataframe tbody tr th {\n",
       "        vertical-align: top;\n",
       "    }\n",
       "\n",
       "    .dataframe thead th {\n",
       "        text-align: right;\n",
       "    }\n",
       "</style>\n",
       "<table border=\"1\" class=\"dataframe\">\n",
       "  <thead>\n",
       "    <tr style=\"text-align: right;\">\n",
       "      <th></th>\n",
       "      <th>YEAR</th>\n",
       "      <th>raceeth</th>\n",
       "      <th>How old are you</th>\n",
       "      <th>What is your sex</th>\n",
       "      <th>In what grade are you</th>\n",
       "      <th>How tall are you</th>\n",
       "      <th>How much do you weigh</th>\n",
       "      <th>Seat belt use</th>\n",
       "      <th>Riding with a drinking driver</th>\n",
       "      <th>Drinking and driving</th>\n",
       "      <th>Weapon carrying</th>\n",
       "      <th>Weapon carrying at school</th>\n",
       "      <th>Safety concerns at school</th>\n",
       "      <th>Threatened at school</th>\n",
       "      <th>Physical fighting</th>\n",
       "      <th>Physical fighting at school</th>\n",
       "      <th>Forced sexual intercourse</th>\n",
       "      <th>Bullying at school</th>\n",
       "      <th>Electronic bullying</th>\n",
       "      <th>Sad or hopeless</th>\n",
       "      <th>Considered suicide</th>\n",
       "      <th>Made a suicide plan</th>\n",
       "      <th>Attempted suicide</th>\n",
       "      <th>Injurious suicide attempt</th>\n",
       "      <th>Ever cigarette use</th>\n",
       "      <th>Initiation of cigarette smoking</th>\n",
       "      <th>Current cigarette use</th>\n",
       "      <th>Current smokeless tobacco use</th>\n",
       "      <th>Current cigar use</th>\n",
       "      <th>Initiation of alcohol use</th>\n",
       "      <th>Current alcohol use</th>\n",
       "      <th>Source of alcohol</th>\n",
       "      <th>Ever marijuana use</th>\n",
       "      <th>Initiation of marijuana use</th>\n",
       "      <th>Current marijuana use</th>\n",
       "      <th>Ever steroid use</th>\n",
       "      <th>Illegal injected drug use</th>\n",
       "      <th>Illegal drugs at school</th>\n",
       "      <th>Ever sexual intercourse</th>\n",
       "      <th>Sex before 13 years</th>\n",
       "      <th>Multiple sex partners</th>\n",
       "      <th>Current sexual activity</th>\n",
       "      <th>Alcohol/drugs and sex</th>\n",
       "      <th>Condom use</th>\n",
       "      <th>Birth control pill use</th>\n",
       "      <th>Perception of weight</th>\n",
       "      <th>Weight loss</th>\n",
       "      <th>Television watching</th>\n",
       "      <th>Computer use</th>\n",
       "      <th>HIV testing</th>\n",
       "      <th>Asthma</th>\n",
       "      <th>Sleep</th>\n",
       "      <th>Ever used LSD</th>\n",
       "      <th>BMIPCT</th>\n",
       "      <th>weight</th>\n",
       "      <th>stratum</th>\n",
       "      <th>psu</th>\n",
       "      <th>Has used hard drugs</th>\n",
       "      <th>healthy_eating</th>\n",
       "      <th>regular_activity</th>\n",
       "    </tr>\n",
       "  </thead>\n",
       "  <tbody>\n",
       "    <tr>\n",
       "      <th>count</th>\n",
       "      <td>53548.000000</td>\n",
       "      <td>53548.000000</td>\n",
       "      <td>53548.000000</td>\n",
       "      <td>53548.000000</td>\n",
       "      <td>53548.000000</td>\n",
       "      <td>53548.000000</td>\n",
       "      <td>53548.000000</td>\n",
       "      <td>53548.000000</td>\n",
       "      <td>53548.000000</td>\n",
       "      <td>53548.000000</td>\n",
       "      <td>53548.000000</td>\n",
       "      <td>53548.000000</td>\n",
       "      <td>53548.000000</td>\n",
       "      <td>53548.000000</td>\n",
       "      <td>53548.000000</td>\n",
       "      <td>53548.000000</td>\n",
       "      <td>53548.000000</td>\n",
       "      <td>53548.000000</td>\n",
       "      <td>53548.000000</td>\n",
       "      <td>53548.000000</td>\n",
       "      <td>53548.000000</td>\n",
       "      <td>53548.000000</td>\n",
       "      <td>53548.000000</td>\n",
       "      <td>53548.000000</td>\n",
       "      <td>53548.000000</td>\n",
       "      <td>53548.000000</td>\n",
       "      <td>53548.000000</td>\n",
       "      <td>53548.000000</td>\n",
       "      <td>53548.000000</td>\n",
       "      <td>53548.000000</td>\n",
       "      <td>53548.000000</td>\n",
       "      <td>53548.000000</td>\n",
       "      <td>53548.000000</td>\n",
       "      <td>53548.000000</td>\n",
       "      <td>53548.000000</td>\n",
       "      <td>53548.000000</td>\n",
       "      <td>53548.000000</td>\n",
       "      <td>53548.000000</td>\n",
       "      <td>53548.000000</td>\n",
       "      <td>53548.000000</td>\n",
       "      <td>53548.000000</td>\n",
       "      <td>53548.000000</td>\n",
       "      <td>53548.000000</td>\n",
       "      <td>53548.000000</td>\n",
       "      <td>53548.000000</td>\n",
       "      <td>53548.000000</td>\n",
       "      <td>53548.000000</td>\n",
       "      <td>53548.000000</td>\n",
       "      <td>53548.000000</td>\n",
       "      <td>53548.000000</td>\n",
       "      <td>53548.000000</td>\n",
       "      <td>53548.000000</td>\n",
       "      <td>53548.000000</td>\n",
       "      <td>5.354800e+04</td>\n",
       "      <td>53548.000000</td>\n",
       "      <td>53548.000000</td>\n",
       "      <td>53548.000000</td>\n",
       "      <td>53548.000000</td>\n",
       "      <td>53548.000000</td>\n",
       "      <td>53548.000000</td>\n",
       "    </tr>\n",
       "    <tr>\n",
       "      <th>mean</th>\n",
       "      <td>2014.679092</td>\n",
       "      <td>5.126653</td>\n",
       "      <td>5.087286</td>\n",
       "      <td>1.481829</td>\n",
       "      <td>2.480541</td>\n",
       "      <td>1.688293</td>\n",
       "      <td>67.017479</td>\n",
       "      <td>4.352338</td>\n",
       "      <td>1.388493</td>\n",
       "      <td>1.519328</td>\n",
       "      <td>1.408661</td>\n",
       "      <td>1.103533</td>\n",
       "      <td>1.109715</td>\n",
       "      <td>1.141219</td>\n",
       "      <td>1.520169</td>\n",
       "      <td>1.138156</td>\n",
       "      <td>1.927374</td>\n",
       "      <td>1.811291</td>\n",
       "      <td>1.854560</td>\n",
       "      <td>1.677990</td>\n",
       "      <td>1.824998</td>\n",
       "      <td>1.855849</td>\n",
       "      <td>1.140453</td>\n",
       "      <td>1.131284</td>\n",
       "      <td>1.671080</td>\n",
       "      <td>2.055726</td>\n",
       "      <td>1.348248</td>\n",
       "      <td>1.173527</td>\n",
       "      <td>1.217394</td>\n",
       "      <td>3.429316</td>\n",
       "      <td>1.576417</td>\n",
       "      <td>2.541570</td>\n",
       "      <td>2.324419</td>\n",
       "      <td>2.699186</td>\n",
       "      <td>1.572085</td>\n",
       "      <td>1.057444</td>\n",
       "      <td>1.018152</td>\n",
       "      <td>1.766359</td>\n",
       "      <td>1.571917</td>\n",
       "      <td>2.992007</td>\n",
       "      <td>2.145346</td>\n",
       "      <td>1.896934</td>\n",
       "      <td>1.786341</td>\n",
       "      <td>1.606876</td>\n",
       "      <td>2.300627</td>\n",
       "      <td>3.206488</td>\n",
       "      <td>2.021831</td>\n",
       "      <td>3.443079</td>\n",
       "      <td>4.081889</td>\n",
       "      <td>1.991111</td>\n",
       "      <td>1.821506</td>\n",
       "      <td>3.656439</td>\n",
       "      <td>1.109416</td>\n",
       "      <td>6.213372e+01</td>\n",
       "      <td>1.082591</td>\n",
       "      <td>164.717002</td>\n",
       "      <td>264860.247479</td>\n",
       "      <td>0.220662</td>\n",
       "      <td>0.945003</td>\n",
       "      <td>0.752783</td>\n",
       "    </tr>\n",
       "    <tr>\n",
       "      <th>std</th>\n",
       "      <td>2.815448</td>\n",
       "      <td>1.510659</td>\n",
       "      <td>1.228198</td>\n",
       "      <td>0.499674</td>\n",
       "      <td>1.121861</td>\n",
       "      <td>0.098875</td>\n",
       "      <td>16.683080</td>\n",
       "      <td>0.939576</td>\n",
       "      <td>0.914615</td>\n",
       "      <td>0.702596</td>\n",
       "      <td>1.094574</td>\n",
       "      <td>0.584567</td>\n",
       "      <td>0.498348</td>\n",
       "      <td>0.727962</td>\n",
       "      <td>1.216012</td>\n",
       "      <td>0.613862</td>\n",
       "      <td>0.259525</td>\n",
       "      <td>0.391281</td>\n",
       "      <td>0.352547</td>\n",
       "      <td>0.467251</td>\n",
       "      <td>0.379972</td>\n",
       "      <td>0.351246</td>\n",
       "      <td>0.538586</td>\n",
       "      <td>0.470844</td>\n",
       "      <td>0.469825</td>\n",
       "      <td>1.884897</td>\n",
       "      <td>1.184557</td>\n",
       "      <td>0.870642</td>\n",
       "      <td>0.851894</td>\n",
       "      <td>2.188578</td>\n",
       "      <td>1.070177</td>\n",
       "      <td>2.454069</td>\n",
       "      <td>2.050970</td>\n",
       "      <td>2.191601</td>\n",
       "      <td>1.282910</td>\n",
       "      <td>0.444195</td>\n",
       "      <td>0.177988</td>\n",
       "      <td>0.423150</td>\n",
       "      <td>0.494806</td>\n",
       "      <td>2.505909</td>\n",
       "      <td>1.773185</td>\n",
       "      <td>1.278619</td>\n",
       "      <td>0.933065</td>\n",
       "      <td>0.763048</td>\n",
       "      <td>1.805916</td>\n",
       "      <td>0.779903</td>\n",
       "      <td>1.163381</td>\n",
       "      <td>1.808349</td>\n",
       "      <td>2.097703</td>\n",
       "      <td>0.441633</td>\n",
       "      <td>0.470584</td>\n",
       "      <td>1.307949</td>\n",
       "      <td>0.538331</td>\n",
       "      <td>2.784126e+01</td>\n",
       "      <td>0.941813</td>\n",
       "      <td>50.440779</td>\n",
       "      <td>178287.459596</td>\n",
       "      <td>0.414697</td>\n",
       "      <td>0.227977</td>\n",
       "      <td>0.431398</td>\n",
       "    </tr>\n",
       "    <tr>\n",
       "      <th>min</th>\n",
       "      <td>2011.000000</td>\n",
       "      <td>1.000000</td>\n",
       "      <td>1.000000</td>\n",
       "      <td>1.000000</td>\n",
       "      <td>1.000000</td>\n",
       "      <td>1.270000</td>\n",
       "      <td>24.950000</td>\n",
       "      <td>1.000000</td>\n",
       "      <td>1.000000</td>\n",
       "      <td>1.000000</td>\n",
       "      <td>1.000000</td>\n",
       "      <td>1.000000</td>\n",
       "      <td>1.000000</td>\n",
       "      <td>1.000000</td>\n",
       "      <td>1.000000</td>\n",
       "      <td>1.000000</td>\n",
       "      <td>1.000000</td>\n",
       "      <td>1.000000</td>\n",
       "      <td>1.000000</td>\n",
       "      <td>1.000000</td>\n",
       "      <td>1.000000</td>\n",
       "      <td>1.000000</td>\n",
       "      <td>1.000000</td>\n",
       "      <td>1.000000</td>\n",
       "      <td>1.000000</td>\n",
       "      <td>1.000000</td>\n",
       "      <td>1.000000</td>\n",
       "      <td>1.000000</td>\n",
       "      <td>1.000000</td>\n",
       "      <td>1.000000</td>\n",
       "      <td>1.000000</td>\n",
       "      <td>1.000000</td>\n",
       "      <td>1.000000</td>\n",
       "      <td>1.000000</td>\n",
       "      <td>1.000000</td>\n",
       "      <td>1.000000</td>\n",
       "      <td>1.000000</td>\n",
       "      <td>1.000000</td>\n",
       "      <td>1.000000</td>\n",
       "      <td>1.000000</td>\n",
       "      <td>1.000000</td>\n",
       "      <td>1.000000</td>\n",
       "      <td>1.000000</td>\n",
       "      <td>1.000000</td>\n",
       "      <td>1.000000</td>\n",
       "      <td>1.000000</td>\n",
       "      <td>1.000000</td>\n",
       "      <td>1.000000</td>\n",
       "      <td>1.000000</td>\n",
       "      <td>1.000000</td>\n",
       "      <td>1.000000</td>\n",
       "      <td>1.000000</td>\n",
       "      <td>1.000000</td>\n",
       "      <td>2.039970e-08</td>\n",
       "      <td>0.028600</td>\n",
       "      <td>101.000000</td>\n",
       "      <td>10530.000000</td>\n",
       "      <td>0.000000</td>\n",
       "      <td>0.000000</td>\n",
       "      <td>0.000000</td>\n",
       "    </tr>\n",
       "    <tr>\n",
       "      <th>25%</th>\n",
       "      <td>2013.000000</td>\n",
       "      <td>5.000000</td>\n",
       "      <td>4.000000</td>\n",
       "      <td>1.000000</td>\n",
       "      <td>1.000000</td>\n",
       "      <td>1.630000</td>\n",
       "      <td>56.700000</td>\n",
       "      <td>4.000000</td>\n",
       "      <td>1.000000</td>\n",
       "      <td>1.000000</td>\n",
       "      <td>1.000000</td>\n",
       "      <td>1.000000</td>\n",
       "      <td>1.000000</td>\n",
       "      <td>1.000000</td>\n",
       "      <td>1.000000</td>\n",
       "      <td>1.000000</td>\n",
       "      <td>2.000000</td>\n",
       "      <td>2.000000</td>\n",
       "      <td>2.000000</td>\n",
       "      <td>1.000000</td>\n",
       "      <td>2.000000</td>\n",
       "      <td>2.000000</td>\n",
       "      <td>1.000000</td>\n",
       "      <td>1.000000</td>\n",
       "      <td>1.000000</td>\n",
       "      <td>1.000000</td>\n",
       "      <td>1.000000</td>\n",
       "      <td>1.000000</td>\n",
       "      <td>1.000000</td>\n",
       "      <td>1.000000</td>\n",
       "      <td>1.000000</td>\n",
       "      <td>1.000000</td>\n",
       "      <td>1.000000</td>\n",
       "      <td>1.000000</td>\n",
       "      <td>1.000000</td>\n",
       "      <td>1.000000</td>\n",
       "      <td>1.000000</td>\n",
       "      <td>2.000000</td>\n",
       "      <td>1.000000</td>\n",
       "      <td>1.000000</td>\n",
       "      <td>1.000000</td>\n",
       "      <td>1.000000</td>\n",
       "      <td>1.000000</td>\n",
       "      <td>1.000000</td>\n",
       "      <td>1.000000</td>\n",
       "      <td>3.000000</td>\n",
       "      <td>1.000000</td>\n",
       "      <td>2.000000</td>\n",
       "      <td>2.000000</td>\n",
       "      <td>2.000000</td>\n",
       "      <td>2.000000</td>\n",
       "      <td>3.000000</td>\n",
       "      <td>1.000000</td>\n",
       "      <td>4.429519e+01</td>\n",
       "      <td>0.463000</td>\n",
       "      <td>104.000000</td>\n",
       "      <td>88352.000000</td>\n",
       "      <td>0.000000</td>\n",
       "      <td>1.000000</td>\n",
       "      <td>1.000000</td>\n",
       "    </tr>\n",
       "    <tr>\n",
       "      <th>50%</th>\n",
       "      <td>2015.000000</td>\n",
       "      <td>5.000000</td>\n",
       "      <td>5.000000</td>\n",
       "      <td>1.000000</td>\n",
       "      <td>2.000000</td>\n",
       "      <td>1.680000</td>\n",
       "      <td>62.600000</td>\n",
       "      <td>5.000000</td>\n",
       "      <td>1.000000</td>\n",
       "      <td>1.000000</td>\n",
       "      <td>1.000000</td>\n",
       "      <td>1.000000</td>\n",
       "      <td>1.000000</td>\n",
       "      <td>1.000000</td>\n",
       "      <td>1.000000</td>\n",
       "      <td>1.000000</td>\n",
       "      <td>2.000000</td>\n",
       "      <td>2.000000</td>\n",
       "      <td>2.000000</td>\n",
       "      <td>2.000000</td>\n",
       "      <td>2.000000</td>\n",
       "      <td>2.000000</td>\n",
       "      <td>1.000000</td>\n",
       "      <td>1.000000</td>\n",
       "      <td>2.000000</td>\n",
       "      <td>1.000000</td>\n",
       "      <td>1.000000</td>\n",
       "      <td>1.000000</td>\n",
       "      <td>1.000000</td>\n",
       "      <td>4.000000</td>\n",
       "      <td>1.000000</td>\n",
       "      <td>1.000000</td>\n",
       "      <td>1.000000</td>\n",
       "      <td>1.000000</td>\n",
       "      <td>1.000000</td>\n",
       "      <td>1.000000</td>\n",
       "      <td>1.000000</td>\n",
       "      <td>2.000000</td>\n",
       "      <td>2.000000</td>\n",
       "      <td>1.000000</td>\n",
       "      <td>1.000000</td>\n",
       "      <td>1.000000</td>\n",
       "      <td>1.000000</td>\n",
       "      <td>1.000000</td>\n",
       "      <td>1.000000</td>\n",
       "      <td>3.000000</td>\n",
       "      <td>2.000000</td>\n",
       "      <td>3.000000</td>\n",
       "      <td>4.000000</td>\n",
       "      <td>2.000000</td>\n",
       "      <td>2.000000</td>\n",
       "      <td>4.000000</td>\n",
       "      <td>1.000000</td>\n",
       "      <td>6.516580e+01</td>\n",
       "      <td>0.845100</td>\n",
       "      <td>201.000000</td>\n",
       "      <td>240330.000000</td>\n",
       "      <td>0.000000</td>\n",
       "      <td>1.000000</td>\n",
       "      <td>1.000000</td>\n",
       "    </tr>\n",
       "    <tr>\n",
       "      <th>75%</th>\n",
       "      <td>2017.000000</td>\n",
       "      <td>6.000000</td>\n",
       "      <td>6.000000</td>\n",
       "      <td>2.000000</td>\n",
       "      <td>3.000000</td>\n",
       "      <td>1.750000</td>\n",
       "      <td>74.840000</td>\n",
       "      <td>5.000000</td>\n",
       "      <td>1.000000</td>\n",
       "      <td>2.000000</td>\n",
       "      <td>1.000000</td>\n",
       "      <td>1.000000</td>\n",
       "      <td>1.000000</td>\n",
       "      <td>1.000000</td>\n",
       "      <td>1.000000</td>\n",
       "      <td>1.000000</td>\n",
       "      <td>2.000000</td>\n",
       "      <td>2.000000</td>\n",
       "      <td>2.000000</td>\n",
       "      <td>2.000000</td>\n",
       "      <td>2.000000</td>\n",
       "      <td>2.000000</td>\n",
       "      <td>1.000000</td>\n",
       "      <td>1.000000</td>\n",
       "      <td>2.000000</td>\n",
       "      <td>2.000000</td>\n",
       "      <td>1.000000</td>\n",
       "      <td>1.000000</td>\n",
       "      <td>1.000000</td>\n",
       "      <td>5.000000</td>\n",
       "      <td>2.000000</td>\n",
       "      <td>5.000000</td>\n",
       "      <td>3.000000</td>\n",
       "      <td>5.000000</td>\n",
       "      <td>1.000000</td>\n",
       "      <td>1.000000</td>\n",
       "      <td>1.000000</td>\n",
       "      <td>2.000000</td>\n",
       "      <td>2.000000</td>\n",
       "      <td>5.000000</td>\n",
       "      <td>3.000000</td>\n",
       "      <td>3.000000</td>\n",
       "      <td>3.000000</td>\n",
       "      <td>2.000000</td>\n",
       "      <td>4.000000</td>\n",
       "      <td>4.000000</td>\n",
       "      <td>3.000000</td>\n",
       "      <td>5.000000</td>\n",
       "      <td>6.000000</td>\n",
       "      <td>2.000000</td>\n",
       "      <td>2.000000</td>\n",
       "      <td>5.000000</td>\n",
       "      <td>1.000000</td>\n",
       "      <td>8.760221e+01</td>\n",
       "      <td>1.386600</td>\n",
       "      <td>211.000000</td>\n",
       "      <td>417702.000000</td>\n",
       "      <td>0.000000</td>\n",
       "      <td>1.000000</td>\n",
       "      <td>1.000000</td>\n",
       "    </tr>\n",
       "    <tr>\n",
       "      <th>max</th>\n",
       "      <td>2019.000000</td>\n",
       "      <td>8.000000</td>\n",
       "      <td>7.000000</td>\n",
       "      <td>2.000000</td>\n",
       "      <td>5.000000</td>\n",
       "      <td>2.110000</td>\n",
       "      <td>180.990000</td>\n",
       "      <td>5.000000</td>\n",
       "      <td>5.000000</td>\n",
       "      <td>6.000000</td>\n",
       "      <td>5.000000</td>\n",
       "      <td>5.000000</td>\n",
       "      <td>5.000000</td>\n",
       "      <td>8.000000</td>\n",
       "      <td>8.000000</td>\n",
       "      <td>8.000000</td>\n",
       "      <td>2.000000</td>\n",
       "      <td>2.000000</td>\n",
       "      <td>2.000000</td>\n",
       "      <td>2.000000</td>\n",
       "      <td>2.000000</td>\n",
       "      <td>2.000000</td>\n",
       "      <td>5.000000</td>\n",
       "      <td>3.000000</td>\n",
       "      <td>2.000000</td>\n",
       "      <td>7.000000</td>\n",
       "      <td>7.000000</td>\n",
       "      <td>7.000000</td>\n",
       "      <td>7.000000</td>\n",
       "      <td>7.000000</td>\n",
       "      <td>7.000000</td>\n",
       "      <td>8.000000</td>\n",
       "      <td>7.000000</td>\n",
       "      <td>7.000000</td>\n",
       "      <td>6.000000</td>\n",
       "      <td>6.000000</td>\n",
       "      <td>3.000000</td>\n",
       "      <td>2.000000</td>\n",
       "      <td>2.000000</td>\n",
       "      <td>8.000000</td>\n",
       "      <td>7.000000</td>\n",
       "      <td>8.000000</td>\n",
       "      <td>3.000000</td>\n",
       "      <td>3.000000</td>\n",
       "      <td>8.000000</td>\n",
       "      <td>5.000000</td>\n",
       "      <td>4.000000</td>\n",
       "      <td>7.000000</td>\n",
       "      <td>7.000000</td>\n",
       "      <td>3.000000</td>\n",
       "      <td>3.000000</td>\n",
       "      <td>7.000000</td>\n",
       "      <td>6.000000</td>\n",
       "      <td>9.996470e+01</td>\n",
       "      <td>10.678100</td>\n",
       "      <td>214.000000</td>\n",
       "      <td>787890.000000</td>\n",
       "      <td>1.000000</td>\n",
       "      <td>1.000000</td>\n",
       "      <td>1.000000</td>\n",
       "    </tr>\n",
       "  </tbody>\n",
       "</table>\n",
       "</div>"
      ],
      "text/plain": [
       "               YEAR       raceeth  How old are you  What is your sex  \\\n",
       "count  53548.000000  53548.000000     53548.000000      53548.000000   \n",
       "mean    2014.679092      5.126653         5.087286          1.481829   \n",
       "std        2.815448      1.510659         1.228198          0.499674   \n",
       "min     2011.000000      1.000000         1.000000          1.000000   \n",
       "25%     2013.000000      5.000000         4.000000          1.000000   \n",
       "50%     2015.000000      5.000000         5.000000          1.000000   \n",
       "75%     2017.000000      6.000000         6.000000          2.000000   \n",
       "max     2019.000000      8.000000         7.000000          2.000000   \n",
       "\n",
       "       In what grade are you  How tall are you  How much do you weigh  \\\n",
       "count           53548.000000      53548.000000           53548.000000   \n",
       "mean                2.480541          1.688293              67.017479   \n",
       "std                 1.121861          0.098875              16.683080   \n",
       "min                 1.000000          1.270000              24.950000   \n",
       "25%                 1.000000          1.630000              56.700000   \n",
       "50%                 2.000000          1.680000              62.600000   \n",
       "75%                 3.000000          1.750000              74.840000   \n",
       "max                 5.000000          2.110000             180.990000   \n",
       "\n",
       "       Seat belt use  Riding with a drinking driver  Drinking and driving  \\\n",
       "count   53548.000000                   53548.000000          53548.000000   \n",
       "mean        4.352338                       1.388493              1.519328   \n",
       "std         0.939576                       0.914615              0.702596   \n",
       "min         1.000000                       1.000000              1.000000   \n",
       "25%         4.000000                       1.000000              1.000000   \n",
       "50%         5.000000                       1.000000              1.000000   \n",
       "75%         5.000000                       1.000000              2.000000   \n",
       "max         5.000000                       5.000000              6.000000   \n",
       "\n",
       "       Weapon carrying  Weapon carrying at school  Safety concerns at school  \\\n",
       "count     53548.000000               53548.000000               53548.000000   \n",
       "mean          1.408661                   1.103533                   1.109715   \n",
       "std           1.094574                   0.584567                   0.498348   \n",
       "min           1.000000                   1.000000                   1.000000   \n",
       "25%           1.000000                   1.000000                   1.000000   \n",
       "50%           1.000000                   1.000000                   1.000000   \n",
       "75%           1.000000                   1.000000                   1.000000   \n",
       "max           5.000000                   5.000000                   5.000000   \n",
       "\n",
       "       Threatened at school  Physical fighting  Physical fighting at school  \\\n",
       "count          53548.000000       53548.000000                 53548.000000   \n",
       "mean               1.141219           1.520169                     1.138156   \n",
       "std                0.727962           1.216012                     0.613862   \n",
       "min                1.000000           1.000000                     1.000000   \n",
       "25%                1.000000           1.000000                     1.000000   \n",
       "50%                1.000000           1.000000                     1.000000   \n",
       "75%                1.000000           1.000000                     1.000000   \n",
       "max                8.000000           8.000000                     8.000000   \n",
       "\n",
       "       Forced sexual intercourse  Bullying at school  Electronic bullying  \\\n",
       "count               53548.000000        53548.000000         53548.000000   \n",
       "mean                    1.927374            1.811291             1.854560   \n",
       "std                     0.259525            0.391281             0.352547   \n",
       "min                     1.000000            1.000000             1.000000   \n",
       "25%                     2.000000            2.000000             2.000000   \n",
       "50%                     2.000000            2.000000             2.000000   \n",
       "75%                     2.000000            2.000000             2.000000   \n",
       "max                     2.000000            2.000000             2.000000   \n",
       "\n",
       "       Sad or hopeless  Considered suicide  Made a suicide plan  \\\n",
       "count     53548.000000        53548.000000         53548.000000   \n",
       "mean          1.677990            1.824998             1.855849   \n",
       "std           0.467251            0.379972             0.351246   \n",
       "min           1.000000            1.000000             1.000000   \n",
       "25%           1.000000            2.000000             2.000000   \n",
       "50%           2.000000            2.000000             2.000000   \n",
       "75%           2.000000            2.000000             2.000000   \n",
       "max           2.000000            2.000000             2.000000   \n",
       "\n",
       "       Attempted suicide  Injurious suicide attempt  Ever cigarette use  \\\n",
       "count       53548.000000               53548.000000        53548.000000   \n",
       "mean            1.140453                   1.131284            1.671080   \n",
       "std             0.538586                   0.470844            0.469825   \n",
       "min             1.000000                   1.000000            1.000000   \n",
       "25%             1.000000                   1.000000            1.000000   \n",
       "50%             1.000000                   1.000000            2.000000   \n",
       "75%             1.000000                   1.000000            2.000000   \n",
       "max             5.000000                   3.000000            2.000000   \n",
       "\n",
       "       Initiation of cigarette smoking  Current cigarette use  \\\n",
       "count                     53548.000000           53548.000000   \n",
       "mean                          2.055726               1.348248   \n",
       "std                           1.884897               1.184557   \n",
       "min                           1.000000               1.000000   \n",
       "25%                           1.000000               1.000000   \n",
       "50%                           1.000000               1.000000   \n",
       "75%                           2.000000               1.000000   \n",
       "max                           7.000000               7.000000   \n",
       "\n",
       "       Current smokeless tobacco use  Current cigar use  \\\n",
       "count                   53548.000000       53548.000000   \n",
       "mean                        1.173527           1.217394   \n",
       "std                         0.870642           0.851894   \n",
       "min                         1.000000           1.000000   \n",
       "25%                         1.000000           1.000000   \n",
       "50%                         1.000000           1.000000   \n",
       "75%                         1.000000           1.000000   \n",
       "max                         7.000000           7.000000   \n",
       "\n",
       "       Initiation of alcohol use  Current alcohol use  Source of alcohol  \\\n",
       "count               53548.000000         53548.000000       53548.000000   \n",
       "mean                    3.429316             1.576417           2.541570   \n",
       "std                     2.188578             1.070177           2.454069   \n",
       "min                     1.000000             1.000000           1.000000   \n",
       "25%                     1.000000             1.000000           1.000000   \n",
       "50%                     4.000000             1.000000           1.000000   \n",
       "75%                     5.000000             2.000000           5.000000   \n",
       "max                     7.000000             7.000000           8.000000   \n",
       "\n",
       "       Ever marijuana use  Initiation of marijuana use  Current marijuana use  \\\n",
       "count        53548.000000                 53548.000000           53548.000000   \n",
       "mean             2.324419                     2.699186               1.572085   \n",
       "std              2.050970                     2.191601               1.282910   \n",
       "min              1.000000                     1.000000               1.000000   \n",
       "25%              1.000000                     1.000000               1.000000   \n",
       "50%              1.000000                     1.000000               1.000000   \n",
       "75%              3.000000                     5.000000               1.000000   \n",
       "max              7.000000                     7.000000               6.000000   \n",
       "\n",
       "       Ever steroid use  Illegal injected drug use  Illegal drugs at school  \\\n",
       "count      53548.000000               53548.000000             53548.000000   \n",
       "mean           1.057444                   1.018152                 1.766359   \n",
       "std            0.444195                   0.177988                 0.423150   \n",
       "min            1.000000                   1.000000                 1.000000   \n",
       "25%            1.000000                   1.000000                 2.000000   \n",
       "50%            1.000000                   1.000000                 2.000000   \n",
       "75%            1.000000                   1.000000                 2.000000   \n",
       "max            6.000000                   3.000000                 2.000000   \n",
       "\n",
       "       Ever sexual intercourse  Sex before 13 years  Multiple sex partners  \\\n",
       "count             53548.000000         53548.000000           53548.000000   \n",
       "mean                  1.571917             2.992007               2.145346   \n",
       "std                   0.494806             2.505909               1.773185   \n",
       "min                   1.000000             1.000000               1.000000   \n",
       "25%                   1.000000             1.000000               1.000000   \n",
       "50%                   2.000000             1.000000               1.000000   \n",
       "75%                   2.000000             5.000000               3.000000   \n",
       "max                   2.000000             8.000000               7.000000   \n",
       "\n",
       "       Current sexual activity  Alcohol/drugs and sex    Condom use  \\\n",
       "count             53548.000000           53548.000000  53548.000000   \n",
       "mean                  1.896934               1.786341      1.606876   \n",
       "std                   1.278619               0.933065      0.763048   \n",
       "min                   1.000000               1.000000      1.000000   \n",
       "25%                   1.000000               1.000000      1.000000   \n",
       "50%                   1.000000               1.000000      1.000000   \n",
       "75%                   3.000000               3.000000      2.000000   \n",
       "max                   8.000000               3.000000      3.000000   \n",
       "\n",
       "       Birth control pill use  Perception of weight   Weight loss  \\\n",
       "count            53548.000000          53548.000000  53548.000000   \n",
       "mean                 2.300627              3.206488      2.021831   \n",
       "std                  1.805916              0.779903      1.163381   \n",
       "min                  1.000000              1.000000      1.000000   \n",
       "25%                  1.000000              3.000000      1.000000   \n",
       "50%                  1.000000              3.000000      2.000000   \n",
       "75%                  4.000000              4.000000      3.000000   \n",
       "max                  8.000000              5.000000      4.000000   \n",
       "\n",
       "       Television watching  Computer use   HIV testing        Asthma  \\\n",
       "count         53548.000000  53548.000000  53548.000000  53548.000000   \n",
       "mean              3.443079      4.081889      1.991111      1.821506   \n",
       "std               1.808349      2.097703      0.441633      0.470584   \n",
       "min               1.000000      1.000000      1.000000      1.000000   \n",
       "25%               2.000000      2.000000      2.000000      2.000000   \n",
       "50%               3.000000      4.000000      2.000000      2.000000   \n",
       "75%               5.000000      6.000000      2.000000      2.000000   \n",
       "max               7.000000      7.000000      3.000000      3.000000   \n",
       "\n",
       "              Sleep  Ever used LSD        BMIPCT        weight       stratum  \\\n",
       "count  53548.000000   53548.000000  5.354800e+04  53548.000000  53548.000000   \n",
       "mean       3.656439       1.109416  6.213372e+01      1.082591    164.717002   \n",
       "std        1.307949       0.538331  2.784126e+01      0.941813     50.440779   \n",
       "min        1.000000       1.000000  2.039970e-08      0.028600    101.000000   \n",
       "25%        3.000000       1.000000  4.429519e+01      0.463000    104.000000   \n",
       "50%        4.000000       1.000000  6.516580e+01      0.845100    201.000000   \n",
       "75%        5.000000       1.000000  8.760221e+01      1.386600    211.000000   \n",
       "max        7.000000       6.000000  9.996470e+01     10.678100    214.000000   \n",
       "\n",
       "                 psu  Has used hard drugs  healthy_eating  regular_activity  \n",
       "count   53548.000000         53548.000000    53548.000000      53548.000000  \n",
       "mean   264860.247479             0.220662        0.945003          0.752783  \n",
       "std    178287.459596             0.414697        0.227977          0.431398  \n",
       "min     10530.000000             0.000000        0.000000          0.000000  \n",
       "25%     88352.000000             0.000000        1.000000          1.000000  \n",
       "50%    240330.000000             0.000000        1.000000          1.000000  \n",
       "75%    417702.000000             0.000000        1.000000          1.000000  \n",
       "max    787890.000000             1.000000        1.000000          1.000000  "
      ]
     },
     "execution_count": 26,
     "metadata": {},
     "output_type": "execute_result"
    }
   ],
   "source": [
    "df.describe()"
   ]
  },
  {
   "cell_type": "markdown",
   "metadata": {},
   "source": [
    "## Modeling"
   ]
  },
  {
   "cell_type": "markdown",
   "metadata": {},
   "source": [
    "### Logistic Regression"
   ]
  },
  {
   "cell_type": "code",
   "execution_count": 28,
   "metadata": {
    "ExecuteTime": {
     "end_time": "2021-01-07T02:04:47.103331Z",
     "start_time": "2021-01-07T02:04:46.695699Z"
    }
   },
   "outputs": [],
   "source": [
    "# define x and y \n",
    "y = df['Considered suicide']\n",
    "X = df.drop(columns=['Considered suicide'], axis=1)"
   ]
  },
  {
   "cell_type": "code",
   "execution_count": 29,
   "metadata": {
    "ExecuteTime": {
     "end_time": "2021-01-07T02:04:47.547570Z",
     "start_time": "2021-01-07T02:04:47.448232Z"
    }
   },
   "outputs": [],
   "source": [
    "X_train,X_test,y_train,y_test = train_test_split(X, y, test_size = 0.2, random_state = 42)"
   ]
  },
  {
   "cell_type": "code",
   "execution_count": 31,
   "metadata": {
    "ExecuteTime": {
     "end_time": "2021-01-07T02:06:22.436378Z",
     "start_time": "2021-01-07T02:06:21.709180Z"
    }
   },
   "outputs": [
    {
     "data": {
      "text/plain": [
       "LogisticRegression(C=1000000000000.0, fit_intercept=False, solver='liblinear')"
      ]
     },
     "execution_count": 31,
     "metadata": {},
     "output_type": "execute_result"
    }
   ],
   "source": [
    "from sklearn.linear_model import LogisticRegression\n",
    "\n",
    "logreg = LogisticRegression(fit_intercept=False, C=1e12, solver='liblinear')\n",
    "model_log = logreg.fit(X_train, y_train)\n",
    "model_log"
   ]
  },
  {
   "cell_type": "code",
   "execution_count": 32,
   "metadata": {
    "ExecuteTime": {
     "end_time": "2021-01-07T02:07:40.478497Z",
     "start_time": "2021-01-07T02:07:40.396225Z"
    }
   },
   "outputs": [],
   "source": [
    "y_pred = logreg.predict(X_test)"
   ]
  },
  {
   "cell_type": "code",
   "execution_count": 33,
   "metadata": {
    "ExecuteTime": {
     "end_time": "2021-01-07T02:08:53.130393Z",
     "start_time": "2021-01-07T02:08:53.092409Z"
    }
   },
   "outputs": [
    {
     "data": {
      "text/plain": [
       "array([[ 7.71462032e-04,  1.78924894e-06,  2.02000084e-06,\n",
       "         8.13799729e-07,  1.01787658e-06,  6.78051411e-07,\n",
       "         2.56956252e-05,  1.97817386e-06,  2.42168180e-07,\n",
       "         4.80215021e-07,  1.99592880e-07,  2.29689957e-07,\n",
       "         1.57609614e-07,  3.78160244e-08, -1.39142501e-08,\n",
       "         2.08980130e-07,  9.60574799e-07,  1.03981310e-06,\n",
       "         1.01566752e-06,  1.43072029e-06,  1.53619833e-06,\n",
       "        -5.42530396e-07, -4.84370877e-07,  8.63646017e-07,\n",
       "         7.94466860e-09, -4.49400334e-08,  3.36569470e-07,\n",
       "         1.69487436e-07,  7.07567808e-07,  1.01529294e-07,\n",
       "        -6.58722228e-08, -8.12810574e-08,  1.36793286e-07,\n",
       "         4.50791403e-08,  2.44325842e-07,  3.17477749e-07,\n",
       "         8.88940721e-07,  8.06832455e-07,  4.52088242e-07,\n",
       "         1.31291130e-07,  1.85232737e-07,  3.68059749e-07,\n",
       "         2.39417849e-07,  2.62367042e-07,  1.00133784e-06,\n",
       "         1.17716173e-06,  1.27499665e-06,  9.02423482e-07,\n",
       "         8.32509441e-07,  7.68209569e-07,  2.24178014e-06,\n",
       "         1.74907745e-07,  2.03386431e-05,  3.76949618e-07,\n",
       "         6.99238294e-05, -1.08855558e-07, -2.30135613e-07,\n",
       "         3.84808616e-07,  3.79967586e-07]])"
      ]
     },
     "execution_count": 33,
     "metadata": {},
     "output_type": "execute_result"
    }
   ],
   "source": [
    " logreg.coef_"
   ]
  },
  {
   "cell_type": "code",
   "execution_count": 35,
   "metadata": {
    "ExecuteTime": {
     "end_time": "2021-01-07T02:09:15.528817Z",
     "start_time": "2021-01-07T02:09:15.496896Z"
    }
   },
   "outputs": [
    {
     "data": {
      "text/plain": [
       "0.0"
      ]
     },
     "execution_count": 35,
     "metadata": {},
     "output_type": "execute_result"
    }
   ],
   "source": [
    "# examine the intercept\n",
    "\n",
    "logreg.intercept_"
   ]
  },
  {
   "cell_type": "markdown",
   "metadata": {},
   "source": [
    "### Decision Tree Classifier"
   ]
  },
  {
   "cell_type": "code",
   "execution_count": 28,
   "metadata": {
    "ExecuteTime": {
     "end_time": "2021-01-07T02:04:47.103331Z",
     "start_time": "2021-01-07T02:04:46.695699Z"
    }
   },
   "outputs": [],
   "source": [
    "# define x and y \n",
    "y = df['Considered suicide']\n",
    "X = df.drop(columns=['Considered suicide'], axis=1)"
   ]
  },
  {
   "cell_type": "code",
   "execution_count": 29,
   "metadata": {
    "ExecuteTime": {
     "end_time": "2021-01-07T02:04:47.547570Z",
     "start_time": "2021-01-07T02:04:47.448232Z"
    }
   },
   "outputs": [],
   "source": [
    "X_train,X_test,y_train,y_test = train_test_split(X, y, test_size = 0.2, random_state = 42)"
   ]
  },
  {
   "cell_type": "code",
   "execution_count": 36,
   "metadata": {
    "ExecuteTime": {
     "end_time": "2021-01-07T02:15:32.516450Z",
     "start_time": "2021-01-07T02:15:31.254501Z"
    }
   },
   "outputs": [
    {
     "data": {
      "text/plain": [
       "DecisionTreeClassifier()"
      ]
     },
     "execution_count": 36,
     "metadata": {},
     "output_type": "execute_result"
    }
   ],
   "source": [
    "#import decision tree classifier\n",
    "from sklearn.tree import DecisionTreeClassifier\n",
    "\n",
    "#instantiate classifier\n",
    "ctree=DecisionTreeClassifier()\n",
    "\n",
    "#fit classifier to training set\n",
    "ctree.fit(X_train,y_train)"
   ]
  },
  {
   "cell_type": "code",
   "execution_count": 37,
   "metadata": {
    "ExecuteTime": {
     "end_time": "2021-01-07T02:15:42.295589Z",
     "start_time": "2021-01-07T02:15:42.269756Z"
    }
   },
   "outputs": [],
   "source": [
    "y_pred = ctree.predict(X_test)"
   ]
  },
  {
   "cell_type": "code",
   "execution_count": 38,
   "metadata": {
    "ExecuteTime": {
     "end_time": "2021-01-07T02:15:51.470172Z",
     "start_time": "2021-01-07T02:15:51.407885Z"
    }
   },
   "outputs": [
    {
     "name": "stdout",
     "output_type": "stream",
     "text": [
      "0.8571428571428571\n"
     ]
    }
   ],
   "source": [
    "from sklearn.metrics import accuracy_score\n",
    "\n",
    "acc = accuracy_score(y_test, y_pred)\n",
    "print(acc)"
   ]
  },
  {
   "cell_type": "code",
   "execution_count": 41,
   "metadata": {
    "ExecuteTime": {
     "end_time": "2021-01-07T02:16:28.686511Z",
     "start_time": "2021-01-07T02:16:28.677668Z"
    }
   },
   "outputs": [
    {
     "data": {
      "text/plain": [
       "2.0    0.824998\n",
       "1.0    0.175002\n",
       "Name: Considered suicide, dtype: float64"
      ]
     },
     "execution_count": 41,
     "metadata": {},
     "output_type": "execute_result"
    }
   ],
   "source": [
    "#Class imbalance\n",
    "y.value_counts(normalize=True)"
   ]
  },
  {
   "cell_type": "code",
   "execution_count": 43,
   "metadata": {
    "ExecuteTime": {
     "end_time": "2021-01-07T02:19:07.952920Z",
     "start_time": "2021-01-07T02:18:37.515962Z"
    }
   },
   "outputs": [
    {
     "name": "stdout",
     "output_type": "stream",
     "text": [
      "0.8522259751864885\n",
      "[0.9062895077094467, 0.9145624151789964, 0.9159630626002114, 0.9157015828370945, 0.9155709441042014, 0.9149359676631205, 0.9121534585693322, 0.9107902187148049, 0.9082318271599512]\n"
     ]
    },
    {
     "data": {
      "image/png": "[encoded data removed]",
      "text/plain": [
       "<Figure size 720x720 with 1 Axes>"
      ]
     },
     "metadata": {
      "needs_background": "light"
     },
     "output_type": "display_data"
    }
   ],
   "source": [
    "from sklearn.model_selection import cross_val_score\n",
    "\n",
    "#cross validation score\n",
    "score = cross_val_score(ctree, X, y, cv = 10)\n",
    "print(score.mean())\n",
    "\n",
    "depth_range = range(1,10)\n",
    "val = []\n",
    "\n",
    "for depth in depth_range:\n",
    "    ctree = DecisionTreeClassifier(max_depth = depth)\n",
    "    depth_score = cross_val_score(ctree, X, y, cv = 10)\n",
    "    val.append(depth_score.mean())\n",
    "\n",
    "print(val)\n",
    "plt.figure(figsize = (10,10))\n",
    "plt.plot(depth_range, val)\n",
    "plt.xlabel('range of depth')\n",
    "plt.ylabel('cross validated values')\n",
    "plt.show()"
   ]
  },
  {
   "cell_type": "code",
   "execution_count": 52,
   "metadata": {
    "ExecuteTime": {
     "end_time": "2021-01-07T02:28:18.757402Z",
     "start_time": "2021-01-07T02:28:18.529909Z"
    }
   },
   "outputs": [
    {
     "name": "stdout",
     "output_type": "stream",
     "text": [
      "[[1152  682]\n",
      " [ 848 8028]]\n"
     ]
    },
    {
     "data": {
      "image/png": "[encoded data removed]",
      "text/plain": [
       "<Figure size 432x288 with 2 Axes>"
      ]
     },
     "metadata": {
      "needs_background": "light"
     },
     "output_type": "display_data"
    }
   ],
   "source": [
    "from sklearn.metrics import confusion_matrix, ConfusionMatrixDisplay\n",
    "\n",
    "classes= ['Yes', 'No']\n",
    "cm = confusion_matrix(y_test, y_pred, )\n",
    "print(cm)\n",
    "\n",
    "\n",
    "disp = ConfusionMatrixDisplay(confusion_matrix=cm)\n",
    "\n",
    "disp.plot(cmap='Blues')\n",
    "plt.show()"
   ]
  },
  {
   "cell_type": "code",
   "execution_count": 61,
   "metadata": {
    "ExecuteTime": {
     "end_time": "2021-01-07T02:31:21.507283Z",
     "start_time": "2021-01-07T02:31:21.394628Z"
    }
   },
   "outputs": [
    {
     "name": "stdout",
     "output_type": "stream",
     "text": [
      "Accuracy: 0.8571428571428571\n",
      "Precision: 0.576\n",
      "Recall: 0.6281352235550709\n",
      "F1: 0.6009389671361502\n"
     ]
    }
   ],
   "source": [
    "print('Accuracy:', metrics.accuracy_score(y_test, y_pred))\n",
    "print('Precision:', metrics.precision_score(y_test, y_pred))\n",
    "print('Recall:', metrics.recall_score(y_test, y_pred))\n",
    "print('F1:', metrics.f1_score(y_test, y_pred))"
   ]
  },
  {
   "cell_type": "code",
   "execution_count": 59,
   "metadata": {
    "ExecuteTime": {
     "end_time": "2021-01-07T02:30:22.904002Z",
     "start_time": "2021-01-07T02:30:22.867758Z"
    }
   },
   "outputs": [
    {
     "data": {
      "text/plain": [
       "1.8287581699346405"
      ]
     },
     "execution_count": 59,
     "metadata": {},
     "output_type": "execute_result"
    }
   ],
   "source": [
    "max(y_test.mean(), 1 - y_test.mean())"
   ]
  },
  {
   "cell_type": "code",
   "execution_count": null,
   "metadata": {},
   "outputs": [],
   "source": []
  }
 ],
 "metadata": {
  "kernelspec": {
   "display_name": "learn-env",
   "language": "python",
   "name": "learn-env"
  },
  "language_info": {
   "codemirror_mode": {
    "name": "ipython",
    "version": 3
   },
   "file_extension": ".py",
   "mimetype": "text/x-python",
   "name": "python",
   "nbconvert_exporter": "python",
   "pygments_lexer": "ipython3",
   "version": "3.6.10"
  },
  "toc": {
   "base_numbering": 1,
   "nav_menu": {},
   "number_sections": true,
   "sideBar": true,
   "skip_h1_title": false,
   "title_cell": "Table of Contents",
   "title_sidebar": "Contents",
   "toc_cell": false,
   "toc_position": {},
   "toc_section_display": true,
   "toc_window_display": false
  }
 },
 "nbformat": 4,
 "nbformat_minor": 4
}
