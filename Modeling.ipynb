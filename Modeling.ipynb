{
 "cells": [
  {
   "cell_type": "markdown",
   "metadata": {},
   "source": [
    "# KNN Modeling"
   ]
  },
  {
   "cell_type": "markdown",
   "metadata": {},
   "source": [
    "**Import the necessary packages**"
   ]
  },
  {
   "cell_type": "code",
   "execution_count": 27,
   "metadata": {},
   "outputs": [],
   "source": [
    "import pandas as pd\n",
    "import seaborn as sns\n",
    "import numpy as np\n",
    "import matplotlib.pyplot as plt\n",
    "%matplotlib inline\n",
    "pd.set_option('display.max_columns', 150, 'display.max_rows', 150)\n",
    "from sklearn.neighbors import KNeighborsClassifier\n",
    "from sklearn.metrics import accuracy_score\n",
    "from sklearn.model_selection import train_test_split\n",
    "from sklearn.preprocessing import StandardScaler\n",
    "from sklearn.metrics import f1_score\n",
    "from imblearn.over_sampling import SMOTE\n",
    "from sklearn.tree import DecisionTreeClassifier\n",
    "from sklearn.metrics import mean_squared_error\n",
    "from sklearn.metrics import roc_auc_score, roc_curve, auc, f1_score, accuracy_score, confusion_matrix, ConfusionMatrixDisplay, classification_report\n",
    "from sklearn.model_selection import cross_val_score"
   ]
  },
  {
   "cell_type": "markdown",
   "metadata": {},
   "source": [
    "**Read in the data**"
   ]
  },
  {
   "cell_type": "code",
   "execution_count": 2,
   "metadata": {},
   "outputs": [],
   "source": [
    "df = pd.read_csv('final_df.csv')"
   ]
  },
  {
   "cell_type": "markdown",
   "metadata": {},
   "source": [
    "**Defining our features for our Condom use model and our Alcohol/Drugs before sex model**"
   ]
  },
  {
   "cell_type": "code",
   "execution_count": 3,
   "metadata": {},
   "outputs": [],
   "source": [
    "# Condom use\n",
    "features_0 = ['YEAR', 'raceeth', 'How old are you', 'What is your sex',\n",
    "       'In what grade are you','Seat belt use', 'Riding with a drinking driver',\n",
    "       'Drinking and driving', 'Weapon carrying', 'Weapon carrying at school',\n",
    "       'Safety concerns at school', 'Threatened at school',\n",
    "       'Physical fighting', 'Physical fighting at school',\n",
    "       'Forced sexual intercourse', 'Bullying at school',\n",
    "       'Electronic bullying', 'Sad or hopeless', 'Considered suicide',\n",
    "       'Made a suicide plan', 'Attempted suicide', 'Injurious suicide attempt',\n",
    "       'Ever cigarette use', 'Initiation of cigarette smoking',\n",
    "       'Current cigarette use', 'Current smokeless tobacco use',\n",
    "       'Current cigar use', 'Initiation of alcohol use', 'Current alcohol use',\n",
    "       'Source of alcohol', 'Ever marijuana use',\n",
    "       'Initiation of marijuana use', 'Current marijuana use',\n",
    "       'Ever steroid use', 'Illegal injected drug use',\n",
    "       'Illegal drugs at school', 'Ever sexual intercourse',\n",
    "       'Sex before 13 years', 'Multiple sex partners',\n",
    "       'Current sexual activity', 'Alcohol/drugs and sex','Birth control pill use', \n",
    "        'Perception of weight', 'Weight loss',\n",
    "       'Television watching', 'Computer use', 'HIV testing', 'Asthma', 'Sleep',\n",
    "       'Ever used LSD',\n",
    "       'Has used hard drugs', 'healthy_eating', 'regular_activity']\n",
    "condom_use = df['Condom use']"
   ]
  },
  {
   "cell_type": "code",
   "execution_count": 4,
   "metadata": {},
   "outputs": [],
   "source": [
    "features_1 = ['YEAR', 'raceeth', 'How old are you', 'What is your sex',\n",
    "       'In what grade are you',\n",
    "       'Seat belt use', 'Riding with a drinking driver',\n",
    "       'Drinking and driving', 'Weapon carrying', 'Weapon carrying at school',\n",
    "       'Safety concerns at school', 'Threatened at school',\n",
    "       'Physical fighting', 'Physical fighting at school',\n",
    "       'Forced sexual intercourse', 'Bullying at school',\n",
    "       'Electronic bullying', 'Sad or hopeless', 'Considered suicide',\n",
    "       'Made a suicide plan', 'Attempted suicide', 'Injurious suicide attempt',\n",
    "       'Ever cigarette use', 'Initiation of cigarette smoking',\n",
    "       'Current cigarette use', 'Current smokeless tobacco use',\n",
    "       'Current cigar use', 'Initiation of alcohol use', 'Current alcohol use',\n",
    "       'Source of alcohol', 'Ever marijuana use',\n",
    "       'Initiation of marijuana use', 'Current marijuana use',\n",
    "       'Ever steroid use', 'Illegal injected drug use',\n",
    "       'Illegal drugs at school', 'Ever sexual intercourse',\n",
    "       'Sex before 13 years', 'Multiple sex partners',\n",
    "       'Current sexual activity', 'Condom use','Birth control pill use', \n",
    "        'Perception of weight', 'Weight loss',\n",
    "       'Television watching', 'Computer use', 'HIV testing', 'Asthma', 'Sleep',\n",
    "       'Ever used LSD',\n",
    "       'Has used hard drugs', 'healthy_eating', 'regular_activity']\n",
    "alc_and_sex = df['Alcohol/drugs and sex']"
   ]
  },
  {
   "cell_type": "markdown",
   "metadata": {},
   "source": [
    "**Dummy vars**"
   ]
  },
  {
   "cell_type": "code",
   "execution_count": 5,
   "metadata": {},
   "outputs": [],
   "source": [
    "#Turn all features into object types\n",
    "features_0 = df[features_0].astype('object')\n",
    "features_1 = df[features_1].astype('object')"
   ]
  },
  {
   "cell_type": "code",
   "execution_count": null,
   "metadata": {},
   "outputs": [],
   "source": []
  },
  {
   "cell_type": "code",
   "execution_count": 6,
   "metadata": {},
   "outputs": [],
   "source": [
    "dummies_0 = pd.get_dummies(features_0,drop_first=False)\n",
    "dummies_1 = pd.get_dummies(features_1,drop_first=False)"
   ]
  },
  {
   "cell_type": "markdown",
   "metadata": {},
   "source": [
    "**Let's take a look to see if there is a class imbalance amongst our two seperate target variables**"
   ]
  },
  {
   "cell_type": "markdown",
   "metadata": {},
   "source": [
    "**Condom use**"
   ]
  },
  {
   "cell_type": "code",
   "execution_count": 7,
   "metadata": {},
   "outputs": [
    {
     "name": "stdout",
     "output_type": "stream",
     "text": [
      "Raw counts: \n",
      "\n",
      "1.0    30252\n",
      "2.0    14095\n",
      "3.0     9201\n",
      "Name: Condom use, dtype: int64\n",
      "-----------------------------------\n",
      "Normalized counts: \n",
      "\n",
      "1.0    0.564951\n",
      "2.0    0.263222\n",
      "3.0    0.171827\n",
      "Name: Condom use, dtype: float64\n"
     ]
    }
   ],
   "source": [
    "print('Raw counts: \\n')\n",
    "print(condom_use.value_counts())\n",
    "print('-----------------------------------')\n",
    "print('Normalized counts: \\n')\n",
    "print(condom_use.value_counts(normalize=True))"
   ]
  },
  {
   "cell_type": "markdown",
   "metadata": {},
   "source": [
    "**Alcohol/drugs and sex**"
   ]
  },
  {
   "cell_type": "code",
   "execution_count": 8,
   "metadata": {},
   "outputs": [
    {
     "name": "stdout",
     "output_type": "stream",
     "text": [
      "Raw counts: \n",
      "\n",
      "1.0    30252\n",
      "3.0    18811\n",
      "2.0     4485\n",
      "Name: Alcohol/drugs and sex, dtype: int64\n",
      "-----------------------------------\n",
      "Normalized counts: \n",
      "\n",
      "1.0    0.564951\n",
      "3.0    0.351292\n",
      "2.0    0.083757\n",
      "Name: Alcohol/drugs and sex, dtype: float64\n"
     ]
    }
   ],
   "source": [
    "print('Raw counts: \\n')\n",
    "print(alc_and_sex.value_counts())\n",
    "print('-----------------------------------')\n",
    "print('Normalized counts: \\n')\n",
    "print(alc_and_sex.value_counts(normalize=True))"
   ]
  },
  {
   "cell_type": "markdown",
   "metadata": {},
   "source": [
    "## Modifying class imbalance amongst our target variables"
   ]
  },
  {
   "cell_type": "markdown",
   "metadata": {},
   "source": [
    "**Using SMOTE on condom use**"
   ]
  },
  {
   "cell_type": "code",
   "execution_count": 9,
   "metadata": {},
   "outputs": [],
   "source": [
    "X_train_0, X_test_0, y_train_0, y_test_0 = train_test_split(dummies_0, condom_use, test_size=0.25, random_state=1)\n",
    "smote = SMOTE()\n",
    "X_train_resampled, y_train_resampled = smote.fit_sample(X_train_0, y_train_0) "
   ]
  },
  {
   "cell_type": "code",
   "execution_count": 10,
   "metadata": {},
   "outputs": [
    {
     "name": "stdout",
     "output_type": "stream",
     "text": [
      "Synthetic sample class distribution: \n",
      "\n",
      "1.0    22727\n",
      "2.0    22727\n",
      "3.0    22727\n",
      "Name: Condom use, dtype: int64\n"
     ]
    }
   ],
   "source": [
    "print('Synthetic sample class distribution: \\n')\n",
    "print(pd.Series(y_train_resampled).value_counts())"
   ]
  },
  {
   "cell_type": "markdown",
   "metadata": {},
   "source": [
    "**Using SMOTE on alcohol/drugs with sex**"
   ]
  },
  {
   "cell_type": "code",
   "execution_count": 11,
   "metadata": {},
   "outputs": [],
   "source": [
    "X_train_1, X_test_1, y_train_1, y_test_1 = train_test_split(dummies_1, alc_and_sex, test_size=0.25, random_state=1)\n",
    "smote = SMOTE()\n",
    "X_train_resampled, y_train_resampled = smote.fit_sample(X_train_1, y_train_1) "
   ]
  },
  {
   "cell_type": "code",
   "execution_count": 12,
   "metadata": {},
   "outputs": [
    {
     "name": "stdout",
     "output_type": "stream",
     "text": [
      "Synthetic sample class distribution: \n",
      "\n",
      "1.0    22727\n",
      "3.0    22727\n",
      "2.0    22727\n",
      "Name: Alcohol/drugs and sex, dtype: int64\n"
     ]
    }
   ],
   "source": [
    "print('Synthetic sample class distribution: \\n')\n",
    "print(pd.Series(y_train_resampled).value_counts())"
   ]
  },
  {
   "cell_type": "markdown",
   "metadata": {},
   "source": [
    "## KNN with Condom Use as the dependant variable"
   ]
  },
  {
   "cell_type": "markdown",
   "metadata": {},
   "source": [
    "**Instantiate the KNN model**"
   ]
  },
  {
   "cell_type": "code",
   "execution_count": 13,
   "metadata": {},
   "outputs": [],
   "source": [
    "knn = KNeighborsClassifier(n_neighbors=1, p = 2)"
   ]
  },
  {
   "cell_type": "code",
   "execution_count": 14,
   "metadata": {},
   "outputs": [
    {
     "data": {
      "text/plain": [
       "KNeighborsClassifier(n_neighbors=1)"
      ]
     },
     "execution_count": 14,
     "metadata": {},
     "output_type": "execute_result"
    }
   ],
   "source": [
    "knn.fit(dummies_0,condom_use)"
   ]
  },
  {
   "cell_type": "markdown",
   "metadata": {},
   "source": [
    "**Train test split**"
   ]
  },
  {
   "cell_type": "code",
   "execution_count": 15,
   "metadata": {},
   "outputs": [],
   "source": [
    "scaler = StandardScaler()  \n",
    "scaler.fit(X_train_0)\n",
    "\n",
    "X_train_0 = scaler.transform(X_train_0)  \n",
    "X_test_0 = scaler.transform(X_test_0)  \n",
    "\n",
    "\n",
    "model = KNeighborsClassifier(n_neighbors=1)\n",
    "model.fit(X_train_0, y_train_0)\n",
    "\n",
    "y_predict_0 = model.predict(X_test_0)"
   ]
  },
  {
   "cell_type": "code",
   "execution_count": 16,
   "metadata": {},
   "outputs": [
    {
     "data": {
      "text/plain": [
       "0.8309088865269869"
      ]
     },
     "execution_count": 16,
     "metadata": {},
     "output_type": "execute_result"
    }
   ],
   "source": [
    "# F1 = 2 * (precision * recall) / (precision + recall)\n",
    "\n",
    "f1_score(y_test_0, y_predict_0, average='weighted')"
   ]
  },
  {
   "cell_type": "code",
   "execution_count": 41,
   "metadata": {},
   "outputs": [
    {
     "name": "stdout",
     "output_type": "stream",
     "text": [
      "Accuracy: 0.8420856054381116\n"
     ]
    }
   ],
   "source": [
    "print('Accuracy:', metrics.accuracy_score(y_test_0, y_predict_0))"
   ]
  },
  {
   "cell_type": "code",
   "execution_count": 53,
   "metadata": {},
   "outputs": [
    {
     "name": "stdout",
     "output_type": "stream",
     "text": [
      "[[7499   19    7]\n",
      " [ 160  606  306]\n",
      " [ 510 3133 1147]]\n"
     ]
    },
    {
     "data": {
      "image/png": "[encoded data removed]",
      "text/plain": [
       "<Figure size 432x288 with 2 Axes>"
      ]
     },
     "metadata": {
      "needs_background": "light"
     },
     "output_type": "display_data"
    }
   ],
   "source": [
    "cm = confusion_matrix(y_test_1, y_predict_0)\n",
    "print(cm)\n",
    "disp = ConfusionMatrixDisplay(confusion_matrix=cm)\n",
    "disp.plot(cmap='Blues')\n",
    "plt.show()"
   ]
  },
  {
   "cell_type": "markdown",
   "metadata": {},
   "source": [
    "## KNN with Alc and sex as dependant variable"
   ]
  },
  {
   "cell_type": "markdown",
   "metadata": {},
   "source": [
    "**Fitting the model**"
   ]
  },
  {
   "cell_type": "code",
   "execution_count": 17,
   "metadata": {},
   "outputs": [],
   "source": [
    "knn = KNeighborsClassifier(n_neighbors=1, p = 2)"
   ]
  },
  {
   "cell_type": "code",
   "execution_count": 18,
   "metadata": {},
   "outputs": [
    {
     "data": {
      "text/plain": [
       "KNeighborsClassifier(n_neighbors=1)"
      ]
     },
     "execution_count": 18,
     "metadata": {},
     "output_type": "execute_result"
    }
   ],
   "source": [
    "knn.fit(dummies_1,alc_and_sex)"
   ]
  },
  {
   "cell_type": "code",
   "execution_count": 19,
   "metadata": {},
   "outputs": [],
   "source": [
    "scaler = StandardScaler()  \n",
    "scaler.fit(X_train_1)\n",
    "\n",
    "X_train_1 = scaler.transform(X_train_1)  \n",
    "X_test_1 = scaler.transform(X_test_1)  \n",
    "\n",
    "\n",
    "model = KNeighborsClassifier(n_neighbors=1)\n",
    "model.fit(X_train_1, y_train_1)\n",
    "\n",
    "y_predict_1 = model.predict(X_test_1)"
   ]
  },
  {
   "cell_type": "code",
   "execution_count": 20,
   "metadata": {},
   "outputs": [
    {
     "data": {
      "text/plain": [
       "0.8582956548558817"
      ]
     },
     "execution_count": 20,
     "metadata": {},
     "output_type": "execute_result"
    }
   ],
   "source": [
    "# F1 = 2 * (precision * recall) / (precision + recall)\n",
    "\n",
    "f1_score(y_test_1, y_predict_1, average='weighted')"
   ]
  },
  {
   "cell_type": "code",
   "execution_count": 42,
   "metadata": {},
   "outputs": [
    {
     "name": "stdout",
     "output_type": "stream",
     "text": [
      "Accuracy: 0.8708448494808396\n"
     ]
    }
   ],
   "source": [
    "print('Accuracy:', metrics.accuracy_score(y_test_1, y_predict_1))"
   ]
  },
  {
   "cell_type": "code",
   "execution_count": 43,
   "metadata": {},
   "outputs": [
    {
     "name": "stdout",
     "output_type": "stream",
     "text": [
      "[[7499    8   18]\n",
      " [ 145  242  685]\n",
      " [ 524  349 3917]]\n"
     ]
    },
    {
     "data": {
      "image/png": "[encoded data removed]",
      "text/plain": [
       "<Figure size 432x288 with 2 Axes>"
      ]
     },
     "metadata": {
      "needs_background": "light"
     },
     "output_type": "display_data"
    }
   ],
   "source": [
    "cm = confusion_matrix(y_test_1, y_predict_1 )\n",
    "print(cm)\n",
    "disp = ConfusionMatrixDisplay(confusion_matrix=cm)\n",
    "disp.plot(cmap='Blues')\n",
    "plt.show()"
   ]
  },
  {
   "cell_type": "code",
   "execution_count": 44,
   "metadata": {},
   "outputs": [
    {
     "data": {
      "text/plain": [
       "1.0    30252\n",
       "3.0    18811\n",
       "2.0     4485\n",
       "Name: Alcohol/drugs and sex, dtype: int64"
      ]
     },
     "execution_count": 44,
     "metadata": {},
     "output_type": "execute_result"
    }
   ],
   "source": [
    "df['Alcohol/drugs and sex'].value_counts()"
   ]
  },
  {
   "cell_type": "markdown",
   "metadata": {},
   "source": [
    "# Decision Tree "
   ]
  },
  {
   "cell_type": "code",
   "execution_count": 30,
   "metadata": {},
   "outputs": [],
   "source": [
    "import sklearn.metrics as metrics"
   ]
  },
  {
   "cell_type": "markdown",
   "metadata": {},
   "source": [
    "**Decsion Tree for Condom use**"
   ]
  },
  {
   "cell_type": "code",
   "execution_count": null,
   "metadata": {},
   "outputs": [],
   "source": [
    "features_0 = ['YEAR', 'raceeth', 'How old are you', 'What is your sex',\n",
    "       'In what grade are you','Seat belt use', 'Riding with a drinking driver',\n",
    "       'Drinking and driving', 'Weapon carrying', 'Weapon carrying at school',\n",
    "       'Safety concerns at school', 'Threatened at school',\n",
    "       'Physical fighting', 'Physical fighting at school',\n",
    "       'Forced sexual intercourse', 'Bullying at school',\n",
    "       'Electronic bullying', 'Sad or hopeless', 'Considered suicide',\n",
    "       'Made a suicide plan', 'Attempted suicide', 'Injurious suicide attempt',\n",
    "       'Ever cigarette use', 'Initiation of cigarette smoking',\n",
    "       'Current cigarette use', 'Current smokeless tobacco use',\n",
    "       'Current cigar use', 'Initiation of alcohol use', 'Current alcohol use',\n",
    "       'Source of alcohol', 'Ever marijuana use',\n",
    "       'Initiation of marijuana use', 'Current marijuana use',\n",
    "       'Ever steroid use', 'Illegal injected drug use',\n",
    "       'Illegal drugs at school', 'Ever sexual intercourse',\n",
    "       'Sex before 13 years', 'Multiple sex partners',\n",
    "       'Current sexual activity', 'Alcohol/drugs and sex','Birth control pill use', \n",
    "        'Perception of weight', 'Weight loss',\n",
    "       'Television watching', 'Computer use', 'HIV testing', 'Asthma', 'Sleep',\n",
    "       'Ever used LSD',\n",
    "       'Has used hard drugs', 'healthy_eating', 'regular_activity']\n",
    "condom_use = df['Condom use']"
   ]
  },
  {
   "cell_type": "code",
   "execution_count": 28,
   "metadata": {},
   "outputs": [],
   "source": [
    "X_train_2, X_test_2, y_train_2, y_test_2 = train_test_split(df[features_0], condom_use, test_size=0.25, random_state=1)\n",
    "X_train_2, y_train_2 = smote.fit_sample(X_train_2, y_train_2) \n"
   ]
  },
  {
   "cell_type": "code",
   "execution_count": 32,
   "metadata": {},
   "outputs": [
    {
     "name": "stdout",
     "output_type": "stream",
     "text": [
      "0.9525397489197727\n"
     ]
    }
   ],
   "source": [
    "dtc = DecisionTreeClassifier(max_depth=5, class_weight='balanced')\n",
    "dtc.fit(X_train_2, y_train_2)\n",
    "dtc_preds_0  = dtc.predict(X_test_2)\n",
    "dtc_f1 = metrics.f1_score(y_test_2, dtc_preds_0,average = 'weighted')\n",
    "print(dtc_f1)"
   ]
  },
  {
   "cell_type": "code",
   "execution_count": 35,
   "metadata": {},
   "outputs": [
    {
     "name": "stdout",
     "output_type": "stream",
     "text": [
      "Accuracy: 0.9519683274818854\n"
     ]
    }
   ],
   "source": [
    "print('Accuracy:', metrics.accuracy_score(y_test_2, dtc_preds_0))"
   ]
  },
  {
   "cell_type": "code",
   "execution_count": 40,
   "metadata": {},
   "outputs": [
    {
     "name": "stdout",
     "output_type": "stream",
     "text": [
      "[[7525    0    0]\n",
      " [   0  991 2581]\n",
      " [   0  841 1449]]\n"
     ]
    },
    {
     "data": {
      "image/png": "[encoded data removed]",
      "text/plain": [
       "<Figure size 432x288 with 2 Axes>"
      ]
     },
     "metadata": {
      "needs_background": "light"
     },
     "output_type": "display_data"
    }
   ],
   "source": [
    "cm = confusion_matrix(y_test_2, dtc_preds_0 )\n",
    "print(cm)\n",
    "disp = ConfusionMatrixDisplay(confusion_matrix=cm)\n",
    "disp.plot(cmap='Blues')\n",
    "plt.show()"
   ]
  },
  {
   "cell_type": "markdown",
   "metadata": {},
   "source": [
    "**Decsion Tree for Alcohol/drugs and sex**"
   ]
  },
  {
   "cell_type": "code",
   "execution_count": 36,
   "metadata": {},
   "outputs": [],
   "source": [
    "features_1 = ['YEAR', 'raceeth', 'How old are you', 'What is your sex',\n",
    "       'In what grade are you',\n",
    "       'Seat belt use', 'Riding with a drinking driver',\n",
    "       'Drinking and driving', 'Weapon carrying', 'Weapon carrying at school',\n",
    "       'Safety concerns at school', 'Threatened at school',\n",
    "       'Physical fighting', 'Physical fighting at school',\n",
    "       'Forced sexual intercourse', 'Bullying at school',\n",
    "       'Electronic bullying', 'Sad or hopeless', 'Considered suicide',\n",
    "       'Made a suicide plan', 'Attempted suicide', 'Injurious suicide attempt',\n",
    "       'Ever cigarette use', 'Initiation of cigarette smoking',\n",
    "       'Current cigarette use', 'Current smokeless tobacco use',\n",
    "       'Current cigar use', 'Initiation of alcohol use', 'Current alcohol use',\n",
    "       'Source of alcohol', 'Ever marijuana use',\n",
    "       'Initiation of marijuana use', 'Current marijuana use',\n",
    "       'Ever steroid use', 'Illegal injected drug use',\n",
    "       'Illegal drugs at school', 'Ever sexual intercourse',\n",
    "       'Sex before 13 years', 'Multiple sex partners',\n",
    "       'Current sexual activity', 'Condom use','Birth control pill use', \n",
    "        'Perception of weight', 'Weight loss',\n",
    "       'Television watching', 'Computer use', 'HIV testing', 'Asthma', 'Sleep',\n",
    "       'Ever used LSD',\n",
    "       'Has used hard drugs', 'healthy_eating', 'regular_activity']\n",
    "alc_and_sex = df['Alcohol/drugs and sex']"
   ]
  },
  {
   "cell_type": "code",
   "execution_count": 37,
   "metadata": {},
   "outputs": [],
   "source": [
    "X_train_3, X_test_3, y_train_3, y_test_3 = train_test_split(df[features_1], alc_and_sex, test_size=0.25, random_state=1)\n",
    "X_train_3, y_train_3 = smote.fit_sample(X_train_3, y_train_3) \n"
   ]
  },
  {
   "cell_type": "code",
   "execution_count": 38,
   "metadata": {},
   "outputs": [
    {
     "name": "stdout",
     "output_type": "stream",
     "text": [
      "0.9025555564948794\n"
     ]
    }
   ],
   "source": [
    "dtc = DecisionTreeClassifier(max_depth=5, class_weight='balanced')\n",
    "dtc.fit(X_train_3, y_train_3)\n",
    "dtc_preds_0  = dtc.predict(X_test_3)\n",
    "dtc_f1 = metrics.f1_score(y_test_3, dtc_preds_0,average = 'weighted')\n",
    "print(dtc_f1)"
   ]
  },
  {
   "cell_type": "code",
   "execution_count": 39,
   "metadata": {},
   "outputs": [
    {
     "name": "stdout",
     "output_type": "stream",
     "text": [
      "Accuracy: 0.7443788750280123\n"
     ]
    }
   ],
   "source": [
    "print('Accuracy:', metrics.accuracy_score(y_test_2, dtc_preds_0))"
   ]
  },
  {
   "cell_type": "markdown",
   "metadata": {},
   "source": [
    "# Instantiate the classifier using 100 trees"
   ]
  },
  {
   "cell_type": "markdown",
   "metadata": {},
   "source": [
    "**Condom use**"
   ]
  },
  {
   "cell_type": "code",
   "execution_count": 45,
   "metadata": {},
   "outputs": [],
   "source": [
    "from sklearn.ensemble import RandomForestClassifier\n",
    "rfc = RandomForestClassifier(random_state = 1, n_estimators=100)"
   ]
  },
  {
   "cell_type": "code",
   "execution_count": 46,
   "metadata": {},
   "outputs": [
    {
     "data": {
      "text/plain": [
       "RandomForestClassifier(random_state=1)"
      ]
     },
     "execution_count": 46,
     "metadata": {},
     "output_type": "execute_result"
    }
   ],
   "source": [
    "#fit the model to the training data\n",
    "rfc.fit(X_train_0, y_train_0)"
   ]
  },
  {
   "cell_type": "code",
   "execution_count": 51,
   "metadata": {},
   "outputs": [
    {
     "name": "stdout",
     "output_type": "stream",
     "text": [
      "Test F1 score:  0.9518116314263805\n",
      "Test Accuracy score:  0.9512960334653021\n"
     ]
    }
   ],
   "source": [
    "#use the fitted model to predict on the test data\n",
    "rfc_preds = rfc.predict(X_test_0)\n",
    "rfc_f1 = metrics.f1_score(y_test_0, rfc_preds,average = 'weighted')\n",
    "rfc_acc = metrics.accuracy_score(y_test_0, rfc_preds)\n",
    "# checking accuracy on the test data\n",
    "print('Test F1 score: ', rfc_f1)\n",
    "print('Test Accuracy score: ', rfc_acc)"
   ]
  },
  {
   "cell_type": "code",
   "execution_count": 52,
   "metadata": {},
   "outputs": [
    {
     "name": "stdout",
     "output_type": "stream",
     "text": [
      "[[7525    0    0]\n",
      " [   0 3043  529]\n",
      " [   0  123 2167]]\n"
     ]
    },
    {
     "data": {
      "image/png": "[encoded data removed]",
      "text/plain": [
       "<Figure size 432x288 with 2 Axes>"
      ]
     },
     "metadata": {
      "needs_background": "light"
     },
     "output_type": "display_data"
    }
   ],
   "source": [
    "cm = confusion_matrix(y_test_0, rfc_preds,title = 'Confusion Matrix')\n",
    "print(cm)\n",
    "disp = ConfusionMatrixDisplay(confusion_matrix=cm)\n",
    "disp.plot(cmap='Blues')\n",
    "plt.show()"
   ]
  },
  {
   "cell_type": "markdown",
   "metadata": {},
   "source": [
    "**Alcohol/drugs and drugs**"
   ]
  },
  {
   "cell_type": "code",
   "execution_count": null,
   "metadata": {},
   "outputs": [],
   "source": [
    "#fit the model to the training data\n",
    "rfc.fit(X_train_1, y_train_1)"
   ]
  },
  {
   "cell_type": "code",
   "execution_count": 49,
   "metadata": {},
   "outputs": [
    {
     "name": "stdout",
     "output_type": "stream",
     "text": [
      "Test F1 score:  0.780572003268747\n",
      "Test Accuracy score:  0.7541644879360574\n"
     ]
    }
   ],
   "source": [
    "#use the fitted model to predict on the test data\n",
    "rfc_preds = rfc.predict(X_test_1)\n",
    "rfc_f1 = metrics.f1_score(y_test_1, rfc_preds,average = 'weighted')\n",
    "rfc_acc = metrics.accuracy_score(y_test_1, rfc_preds)\n",
    "# checking accuracy on the test data\n",
    "print('Test F1 score: ', rfc_f1)\n",
    "print('Test Accuracy score: ', rfc_acc)"
   ]
  },
  {
   "cell_type": "code",
   "execution_count": 50,
   "metadata": {},
   "outputs": [
    {
     "name": "stdout",
     "output_type": "stream",
     "text": [
      "[[7525    0    0]\n",
      " [   0  469  603]\n",
      " [   0 2688 2102]]\n"
     ]
    },
    {
     "data": {
      "image/png": "[encoded data removed]",
      "text/plain": [
       "<Figure size 432x288 with 2 Axes>"
      ]
     },
     "metadata": {
      "needs_background": "light"
     },
     "output_type": "display_data"
    }
   ],
   "source": [
    "cm = confusion_matrix(y_test_1, rfc_preds)\n",
    "print(cm)\n",
    "disp = ConfusionMatrixDisplay(confusion_matrix=cm)\n",
    "disp.plot(cmap='Blues')\n",
    "plt.show()"
   ]
  },
  {
   "cell_type": "code",
   "execution_count": null,
   "metadata": {},
   "outputs": [],
   "source": []
  }
 ],
 "metadata": {
  "kernelspec": {
   "display_name": "learn-env",
   "language": "python",
   "name": "learn-env"
  },
  "language_info": {
   "codemirror_mode": {
    "name": "ipython",
    "version": 3
   },
   "file_extension": ".py",
   "mimetype": "text/x-python",
   "name": "python",
   "nbconvert_exporter": "python",
   "pygments_lexer": "ipython3",
   "version": "3.8.3"
  },
  "toc": {
   "base_numbering": 1,
   "nav_menu": {},
   "number_sections": true,
   "sideBar": true,
   "skip_h1_title": false,
   "title_cell": "Table of Contents",
   "title_sidebar": "Contents",
   "toc_cell": false,
   "toc_position": {},
   "toc_section_display": true,
   "toc_window_display": false
  }
 },
 "nbformat": 4,
 "nbformat_minor": 4
}
