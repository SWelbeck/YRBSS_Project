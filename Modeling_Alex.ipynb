{
 "cells": [
  {
   "cell_type": "markdown",
   "metadata": {},
   "source": [
    "# KNN Modeling"
   ]
  },
  {
   "cell_type": "markdown",
   "metadata": {},
   "source": [
    "**Import the necessary packages**"
   ]
  },
  {
   "cell_type": "code",
   "execution_count": 67,
   "metadata": {
    "ExecuteTime": {
     "end_time": "2021-01-08T18:11:08.243309Z",
     "start_time": "2021-01-08T18:11:08.093448Z"
    }
   },
   "outputs": [],
   "source": [
    "import pandas as pd\n",
    "import seaborn as sns\n",
    "import numpy as np\n",
    "import matplotlib.pyplot as plt\n",
    "%matplotlib inline\n",
    "pd.set_option('display.max_columns', 150, 'display.max_rows', 150)\n",
    "from sklearn.neighbors import KNeighborsClassifier\n",
    "from sklearn.metrics import accuracy_score\n",
    "from sklearn.model_selection import train_test_split\n",
    "from sklearn.preprocessing import StandardScaler\n",
    "from sklearn.metrics import f1_score\n",
    "from imblearn.over_sampling import SMOTE\n",
    "from sklearn.tree import DecisionTreeClassifier\n",
    "from sklearn.metrics import mean_squared_error\n",
    "from sklearn.metrics import roc_auc_score, roc_curve, auc, f1_score, accuracy_score, confusion_matrix, ConfusionMatrixDisplay, classification_report\n",
    "from sklearn.model_selection import cross_val_score\n",
    "from sklearn.metrics import confusion_matrix\n",
    "from sklearn.model_selection import GridSearchCV"
   ]
  },
  {
   "cell_type": "markdown",
   "metadata": {},
   "source": [
    "**Read in the data**"
   ]
  },
  {
   "cell_type": "code",
   "execution_count": 68,
   "metadata": {
    "ExecuteTime": {
     "end_time": "2021-01-08T18:11:11.275201Z",
     "start_time": "2021-01-08T18:11:10.820758Z"
    }
   },
   "outputs": [],
   "source": [
    "df = pd.read_csv('final_df alex.csv')"
   ]
  },
  {
   "cell_type": "markdown",
   "metadata": {},
   "source": [
    "**Defining our features for our Condom use model and our Alcohol/Drugs before sex model**"
   ]
  },
  {
   "cell_type": "code",
   "execution_count": 45,
   "metadata": {
    "ExecuteTime": {
     "end_time": "2021-01-08T17:34:36.860748Z",
     "start_time": "2021-01-08T17:34:36.834061Z"
    }
   },
   "outputs": [],
   "source": [
    "# Condom use\n",
    "features_0 = ['YEAR', 'raceeth', 'How old are you', 'What is your sex',\n",
    "       'In what grade are you','Seat belt use', 'Riding with a drinking driver',\n",
    "       'Drinking and driving', 'Weapon carrying', 'Weapon carrying at school',\n",
    "       'Safety concerns at school', 'Threatened at school',\n",
    "       'Physical fighting', 'Physical fighting at school',\n",
    "       'Forced sexual intercourse', 'Bullying at school',\n",
    "       'Electronic bullying', 'Sad or hopeless', 'Considered suicide',\n",
    "       'Made a suicide plan', 'Attempted suicide', 'Injurious suicide attempt',\n",
    "       'Ever cigarette use', 'Initiation of cigarette smoking',\n",
    "       'Current cigarette use', 'Current smokeless tobacco use',\n",
    "       'Current cigar use', 'Initiation of alcohol use', 'Current alcohol use',\n",
    "       'Source of alcohol', 'Ever marijuana use',\n",
    "       'Initiation of marijuana use', 'Current marijuana use',\n",
    "       'Ever steroid use', 'Illegal injected drug use',\n",
    "       'Illegal drugs at school', 'Ever sexual intercourse',\n",
    "       'Sex before 13 years', 'Multiple sex partners',\n",
    "       'Current sexual activity', 'Alcohol/drugs and sex',\n",
    "        'Perception of weight', 'Weight loss',\n",
    "       'Television watching', 'Computer use', 'HIV testing', 'Asthma', 'Sleep',\n",
    "       'Ever used LSD',\n",
    "       'Has used hard drugs', 'healthy_eating', 'regular_activity']\n",
    "condom_use = df['Condom use']"
   ]
  },
  {
   "cell_type": "code",
   "execution_count": 5,
   "metadata": {
    "ExecuteTime": {
     "end_time": "2021-01-08T17:03:44.852116Z",
     "start_time": "2021-01-08T17:03:44.843624Z"
    }
   },
   "outputs": [],
   "source": [
    "features_1 = ['YEAR', 'raceeth', 'How old are you', 'What is your sex',\n",
    "       'In what grade are you',\n",
    "       'Seat belt use', 'Riding with a drinking driver',\n",
    "       'Drinking and driving', 'Weapon carrying', 'Weapon carrying at school',\n",
    "       'Safety concerns at school', 'Threatened at school',\n",
    "       'Physical fighting', 'Physical fighting at school',\n",
    "       'Forced sexual intercourse', 'Bullying at school',\n",
    "       'Electronic bullying', 'Sad or hopeless', 'Considered suicide',\n",
    "       'Made a suicide plan', 'Attempted suicide', 'Injurious suicide attempt',\n",
    "       'Ever cigarette use', 'Initiation of cigarette smoking',\n",
    "       'Current cigarette use', 'Current smokeless tobacco use',\n",
    "       'Current cigar use', 'Initiation of alcohol use', 'Current alcohol use',\n",
    "       'Source of alcohol', 'Ever marijuana use',\n",
    "       'Initiation of marijuana use', 'Current marijuana use',\n",
    "       'Ever steroid use', 'Illegal injected drug use',\n",
    "       'Illegal drugs at school', 'Ever sexual intercourse',\n",
    "       'Sex before 13 years', 'Multiple sex partners',\n",
    "       'Current sexual activity', 'Condom use','Birth control pill use', \n",
    "        'Perception of weight', 'Weight loss',\n",
    "       'Television watching', 'Computer use', 'HIV testing', 'Asthma', 'Sleep',\n",
    "       'Ever used LSD',\n",
    "       'Has used hard drugs', 'healthy_eating', 'regular_activity']\n",
    "alc_and_sex = df['Alcohol/drugs and sex']"
   ]
  },
  {
   "cell_type": "markdown",
   "metadata": {},
   "source": [
    "**Dummy vars**"
   ]
  },
  {
   "cell_type": "code",
   "execution_count": 6,
   "metadata": {
    "ExecuteTime": {
     "end_time": "2021-01-08T14:51:05.931100Z",
     "start_time": "2021-01-08T14:51:05.561707Z"
    }
   },
   "outputs": [],
   "source": [
    "#Turn all features into object types\n",
    "features_0 = df[features_0].astype('object')\n",
    "features_1 = df[features_1].astype('object')"
   ]
  },
  {
   "cell_type": "code",
   "execution_count": 7,
   "metadata": {
    "ExecuteTime": {
     "end_time": "2021-01-08T14:51:07.318016Z",
     "start_time": "2021-01-08T14:51:06.452667Z"
    }
   },
   "outputs": [],
   "source": [
    "dummies_0 = pd.get_dummies(features_0,drop_first=False)\n",
    "dummies_1 = pd.get_dummies(features_1,drop_first=False)"
   ]
  },
  {
   "cell_type": "markdown",
   "metadata": {},
   "source": [
    "**Let's take a look to see if there is a class imbalance amongst our two seperate target variables**"
   ]
  },
  {
   "cell_type": "markdown",
   "metadata": {},
   "source": [
    "**Condom use**"
   ]
  },
  {
   "cell_type": "code",
   "execution_count": 6,
   "metadata": {
    "ExecuteTime": {
     "end_time": "2021-01-08T17:03:49.409464Z",
     "start_time": "2021-01-08T17:03:49.374233Z"
    }
   },
   "outputs": [
    {
     "name": "stdout",
     "output_type": "stream",
     "text": [
      "Raw counts: \n",
      "\n",
      "1.0    30252\n",
      "2.0    14095\n",
      "3.0     9201\n",
      "Name: Condom use, dtype: int64\n",
      "-----------------------------------\n",
      "Normalized counts: \n",
      "\n",
      "1.0    0.564951\n",
      "2.0    0.263222\n",
      "3.0    0.171827\n",
      "Name: Condom use, dtype: float64\n"
     ]
    }
   ],
   "source": [
    "print('Raw counts: \\n')\n",
    "print(condom_use.value_counts())\n",
    "print('-----------------------------------')\n",
    "print('Normalized counts: \\n')\n",
    "print(condom_use.value_counts(normalize=True))"
   ]
  },
  {
   "cell_type": "markdown",
   "metadata": {},
   "source": [
    "**Alcohol/drugs and sex**"
   ]
  },
  {
   "cell_type": "code",
   "execution_count": 43,
   "metadata": {},
   "outputs": [
    {
     "name": "stdout",
     "output_type": "stream",
     "text": [
      "Raw counts: \n",
      "\n",
      "1.0    30252\n",
      "3.0    18811\n",
      "2.0     4485\n",
      "Name: Alcohol/drugs and sex, dtype: int64\n",
      "-----------------------------------\n",
      "Normalized counts: \n",
      "\n",
      "1.0    0.564951\n",
      "3.0    0.351292\n",
      "2.0    0.083757\n",
      "Name: Alcohol/drugs and sex, dtype: float64\n"
     ]
    }
   ],
   "source": [
    "print('Raw counts: \\n')\n",
    "print(alc_and_sex.value_counts())\n",
    "print('-----------------------------------')\n",
    "print('Normalized counts: \\n')\n",
    "print(alc_and_sex.value_counts(normalize=True))"
   ]
  },
  {
   "cell_type": "markdown",
   "metadata": {},
   "source": [
    "## Modifying class imbalance amongst our target variables"
   ]
  },
  {
   "cell_type": "markdown",
   "metadata": {},
   "source": [
    "**Using SMOTE on condom use**"
   ]
  },
  {
   "cell_type": "code",
   "execution_count": 10,
   "metadata": {
    "ExecuteTime": {
     "end_time": "2021-01-08T17:05:53.050582Z",
     "start_time": "2021-01-08T17:05:32.133837Z"
    }
   },
   "outputs": [],
   "source": [
    "X_train_0, X_test_0, y_train_0, y_test_0 = train_test_split(df[features_0], condom_use, test_size=0.25, random_state=1)\n",
    "smote = SMOTE()\n",
    "X_train_resampled, y_train_resampled = smote.fit_sample(X_train_0, y_train_0) "
   ]
  },
  {
   "cell_type": "code",
   "execution_count": 11,
   "metadata": {
    "ExecuteTime": {
     "end_time": "2021-01-08T17:05:53.068933Z",
     "start_time": "2021-01-08T17:05:53.053836Z"
    }
   },
   "outputs": [
    {
     "name": "stdout",
     "output_type": "stream",
     "text": [
      "Synthetic sample class distribution: \n",
      "\n",
      "1.0    22727\n",
      "2.0    22727\n",
      "3.0    22727\n",
      "Name: Condom use, dtype: int64\n"
     ]
    }
   ],
   "source": [
    "print('Synthetic sample class distribution: \\n')\n",
    "print(pd.Series(y_train_resampled).value_counts())"
   ]
  },
  {
   "cell_type": "markdown",
   "metadata": {},
   "source": [
    "**Using SMOTE on alcohol/drugs with sex**"
   ]
  },
  {
   "cell_type": "code",
   "execution_count": 11,
   "metadata": {
    "ExecuteTime": {
     "end_time": "2021-01-08T14:54:14.211172Z",
     "start_time": "2021-01-08T14:54:14.205655Z"
    }
   },
   "outputs": [],
   "source": [
    "# X_train_1, X_test_1, y_train_1, y_test_1 = train_test_split(dummies_1, alc_and_sex, test_size=0.25, random_state=1)\n",
    "# smote = SMOTE()\n",
    "# X_train_resampled, y_train_resampled = smote.fit_sample(X_train_1, y_train_1) "
   ]
  },
  {
   "cell_type": "code",
   "execution_count": 12,
   "metadata": {
    "ExecuteTime": {
     "end_time": "2021-01-08T14:54:14.240060Z",
     "start_time": "2021-01-08T14:54:14.225117Z"
    }
   },
   "outputs": [
    {
     "name": "stdout",
     "output_type": "stream",
     "text": [
      "Synthetic sample class distribution: \n",
      "\n",
      "1.0    22727\n",
      "2.0    22727\n",
      "3.0    22727\n",
      "Name: Condom use, dtype: int64\n"
     ]
    }
   ],
   "source": [
    "print('Synthetic sample class distribution: \\n')\n",
    "print(pd.Series(y_train_resampled).value_counts())"
   ]
  },
  {
   "cell_type": "markdown",
   "metadata": {},
   "source": [
    "## KNN with Condom Use as the dependant variable"
   ]
  },
  {
   "cell_type": "markdown",
   "metadata": {},
   "source": [
    "**Instantiate the KNN model**"
   ]
  },
  {
   "cell_type": "code",
   "execution_count": 13,
   "metadata": {
    "ExecuteTime": {
     "end_time": "2021-01-08T15:02:58.176214Z",
     "start_time": "2021-01-08T15:02:58.100656Z"
    }
   },
   "outputs": [],
   "source": [
    "knn = KNeighborsClassifier(n_neighbors=1, p = 2)"
   ]
  },
  {
   "cell_type": "code",
   "execution_count": 14,
   "metadata": {
    "ExecuteTime": {
     "end_time": "2021-01-08T15:03:07.779520Z",
     "start_time": "2021-01-08T15:02:58.685648Z"
    }
   },
   "outputs": [
    {
     "data": {
      "text/plain": [
       "KNeighborsClassifier(n_neighbors=1)"
      ]
     },
     "execution_count": 14,
     "metadata": {},
     "output_type": "execute_result"
    }
   ],
   "source": [
    "knn.fit(dummies_0,condom_use)"
   ]
  },
  {
   "cell_type": "markdown",
   "metadata": {},
   "source": [
    "**Train test split**"
   ]
  },
  {
   "cell_type": "code",
   "execution_count": 18,
   "metadata": {
    "ExecuteTime": {
     "end_time": "2021-01-08T15:56:28.845215Z",
     "start_time": "2021-01-08T15:27:40.457983Z"
    }
   },
   "outputs": [],
   "source": [
    "scaler = StandardScaler()  \n",
    "scaler.fit(X_train_0)\n",
    "\n",
    "X_train_0 = scaler.transform(X_train_0)  \n",
    "X_test_0 = scaler.transform(X_test_0)  \n",
    "\n",
    "\n",
    "model = KNeighborsClassifier(n_neighbors=5)\n",
    "model.fit(X_train_0, y_train_0)\n",
    "\n",
    "y_predict_test = model.predict(X_test_0)\n",
    "y_predict_train = model.predict(X_train_0)"
   ]
  },
  {
   "cell_type": "code",
   "execution_count": 19,
   "metadata": {
    "ExecuteTime": {
     "end_time": "2021-01-08T15:56:29.470252Z",
     "start_time": "2021-01-08T15:56:29.230452Z"
    }
   },
   "outputs": [
    {
     "data": {
      "text/plain": [
       "0.8282515684911542"
      ]
     },
     "execution_count": 19,
     "metadata": {},
     "output_type": "execute_result"
    }
   ],
   "source": [
    "# F1 = 2 * (precision * recall) / (precision + recall)\n",
    "\n",
    "f1_score(y_test_0, y_predict_test, average='weighted')\n",
    "f1_score(y_train_0, y_predict_train, average='weighted')"
   ]
  },
  {
   "cell_type": "code",
   "execution_count": 21,
   "metadata": {
    "ExecuteTime": {
     "end_time": "2021-01-08T16:08:11.665144Z",
     "start_time": "2021-01-08T16:08:11.540765Z"
    }
   },
   "outputs": [
    {
     "name": "stdout",
     "output_type": "stream",
     "text": [
      "Accuracy test: 0.7808321505938597\n",
      "Accuracy train: 0.8448245810612286\n"
     ]
    }
   ],
   "source": [
    "from sklearn import metrics\n",
    "\n",
    "print('Accuracy test:', metrics.accuracy_score(y_test_0, y_predict_test))\n",
    "print('Accuracy train:', metrics.accuracy_score(y_train_0, y_predict_train))"
   ]
  },
  {
   "cell_type": "code",
   "execution_count": 24,
   "metadata": {
    "ExecuteTime": {
     "end_time": "2021-01-08T16:08:46.877935Z",
     "start_time": "2021-01-08T16:08:46.840003Z"
    }
   },
   "outputs": [
    {
     "ename": "NameError",
     "evalue": "name 'y_test' is not defined",
     "output_type": "error",
     "traceback": [
      "\u001b[0;31m---------------------------------------------------------------------------\u001b[0m",
      "\u001b[0;31mNameError\u001b[0m                                 Traceback (most recent call last)",
      "\u001b[0;32m<ipython-input-24-8ca0bdaebdc9>\u001b[0m in \u001b[0;36m<module>\u001b[0;34m\u001b[0m\n\u001b[0;32m----> 1\u001b[0;31m \u001b[0mcm\u001b[0m \u001b[0;34m=\u001b[0m \u001b[0mconfusion_matrix\u001b[0m\u001b[0;34m(\u001b[0m\u001b[0my_test\u001b[0m\u001b[0;34m,\u001b[0m \u001b[0my_predict_0\u001b[0m\u001b[0;34m)\u001b[0m\u001b[0;34m\u001b[0m\u001b[0;34m\u001b[0m\u001b[0m\n\u001b[0m\u001b[1;32m      2\u001b[0m \u001b[0mprint\u001b[0m\u001b[0;34m(\u001b[0m\u001b[0mcm\u001b[0m\u001b[0;34m)\u001b[0m\u001b[0;34m\u001b[0m\u001b[0;34m\u001b[0m\u001b[0m\n\u001b[1;32m      3\u001b[0m \u001b[0mdisp\u001b[0m \u001b[0;34m=\u001b[0m \u001b[0mConfusionMatrixDisplay\u001b[0m\u001b[0;34m(\u001b[0m\u001b[0mconfusion_matrix\u001b[0m\u001b[0;34m=\u001b[0m\u001b[0mcm\u001b[0m\u001b[0;34m)\u001b[0m\u001b[0;34m\u001b[0m\u001b[0;34m\u001b[0m\u001b[0m\n\u001b[1;32m      4\u001b[0m \u001b[0mdisp\u001b[0m\u001b[0;34m.\u001b[0m\u001b[0mplot\u001b[0m\u001b[0;34m(\u001b[0m\u001b[0mcmap\u001b[0m\u001b[0;34m=\u001b[0m\u001b[0;34m'Blues'\u001b[0m\u001b[0;34m)\u001b[0m\u001b[0;34m\u001b[0m\u001b[0;34m\u001b[0m\u001b[0m\n\u001b[1;32m      5\u001b[0m \u001b[0mplt\u001b[0m\u001b[0;34m.\u001b[0m\u001b[0mshow\u001b[0m\u001b[0;34m(\u001b[0m\u001b[0;34m)\u001b[0m\u001b[0;34m\u001b[0m\u001b[0;34m\u001b[0m\u001b[0m\n",
      "\u001b[0;31mNameError\u001b[0m: name 'y_test' is not defined"
     ]
    }
   ],
   "source": [
    "cm = confusion_matrix(y_test, y_predict_0)\n",
    "print(cm)\n",
    "disp = ConfusionMatrixDisplay(confusion_matrix=cm)\n",
    "disp.plot(cmap='Blues')\n",
    "plt.show()"
   ]
  },
  {
   "cell_type": "markdown",
   "metadata": {},
   "source": [
    "## KNN with Alc and sex as dependant variable"
   ]
  },
  {
   "cell_type": "markdown",
   "metadata": {},
   "source": [
    "**Fitting the model**"
   ]
  },
  {
   "cell_type": "code",
   "execution_count": 17,
   "metadata": {},
   "outputs": [],
   "source": [
    "knn = KNeighborsClassifier(n_neighbors=1, p = 2)"
   ]
  },
  {
   "cell_type": "code",
   "execution_count": 18,
   "metadata": {},
   "outputs": [
    {
     "data": {
      "text/plain": [
       "KNeighborsClassifier(n_neighbors=1)"
      ]
     },
     "execution_count": 18,
     "metadata": {},
     "output_type": "execute_result"
    }
   ],
   "source": [
    "knn.fit(dummies_1,alc_and_sex)"
   ]
  },
  {
   "cell_type": "code",
   "execution_count": 19,
   "metadata": {},
   "outputs": [],
   "source": [
    "scaler = StandardScaler()  \n",
    "scaler.fit(X_train_1)\n",
    "\n",
    "X_train_1 = scaler.transform(X_train_1)  \n",
    "X_test_1 = scaler.transform(X_test_1)  \n",
    "\n",
    "\n",
    "model = KNeighborsClassifier(n_neighbors=1)\n",
    "model.fit(X_train_1, y_train_1)\n",
    "\n",
    "y_predict_test = model.predict(X_test_1)\n",
    "y_predict_train = model.predict(X_train_1)"
   ]
  },
  {
   "cell_type": "code",
   "execution_count": 20,
   "metadata": {},
   "outputs": [
    {
     "data": {
      "text/plain": [
       "0.8582956548558817"
      ]
     },
     "execution_count": 20,
     "metadata": {},
     "output_type": "execute_result"
    }
   ],
   "source": [
    "# F1 = 2 * (precision * recall) / (precision + recall)\n",
    "\n",
    "print('F1 score test: ',f1_score(y_test_1, y_predict_test, average='weighted'))\n",
    "print('F1 score train: ', f1_score(y_test_1, y_predict_train, average='weighted'))"
   ]
  },
  {
   "cell_type": "code",
   "execution_count": 42,
   "metadata": {},
   "outputs": [
    {
     "name": "stdout",
     "output_type": "stream",
     "text": [
      "Accuracy: 0.8708448494808396\n"
     ]
    }
   ],
   "source": [
    "print('Accuracy test:', metrics.accuracy_score(y_test_1, y_predict_test))\n",
    "print('Accuracy train:', metrics.accuracy_score(y_train_1, y_predict_train))"
   ]
  },
  {
   "cell_type": "code",
   "execution_count": 43,
   "metadata": {},
   "outputs": [
    {
     "name": "stdout",
     "output_type": "stream",
     "text": [
      "[[7499    8   18]\n",
      " [ 145  242  685]\n",
      " [ 524  349 3917]]\n"
     ]
    },
    {
     "data": {
      "image/png": "[encoded data removed]",
      "text/plain": [
       "<Figure size 432x288 with 2 Axes>"
      ]
     },
     "metadata": {
      "needs_background": "light"
     },
     "output_type": "display_data"
    }
   ],
   "source": [
    "cm = confusion_matrix(y_test_1, y_predict_1 )\n",
    "print(cm)\n",
    "disp = ConfusionMatrixDisplay(confusion_matrix=cm)\n",
    "disp.plot(cmap='Blues')\n",
    "plt.show()"
   ]
  },
  {
   "cell_type": "code",
   "execution_count": 44,
   "metadata": {},
   "outputs": [
    {
     "data": {
      "text/plain": [
       "1.0    30252\n",
       "3.0    18811\n",
       "2.0     4485\n",
       "Name: Alcohol/drugs and sex, dtype: int64"
      ]
     },
     "execution_count": 44,
     "metadata": {},
     "output_type": "execute_result"
    }
   ],
   "source": [
    "df['Alcohol/drugs and sex'].value_counts()"
   ]
  },
  {
   "cell_type": "markdown",
   "metadata": {},
   "source": [
    "# Decision Tree "
   ]
  },
  {
   "cell_type": "code",
   "execution_count": 9,
   "metadata": {},
   "outputs": [],
   "source": [
    "import sklearn.metrics as metrics"
   ]
  },
  {
   "cell_type": "markdown",
   "metadata": {},
   "source": [
    "**Decsion Tree for Condom use**"
   ]
  },
  {
   "cell_type": "code",
   "execution_count": 10,
   "metadata": {},
   "outputs": [],
   "source": [
    "features_0 = ['YEAR', 'raceeth', 'How old are you', 'What is your sex',\n",
    "       'In what grade are you','Seat belt use', 'Riding with a drinking driver',\n",
    "       'Drinking and driving', 'Weapon carrying', 'Weapon carrying at school',\n",
    "       'Safety concerns at school', 'Threatened at school',\n",
    "       'Physical fighting', 'Physical fighting at school',\n",
    "       'Forced sexual intercourse', 'Bullying at school',\n",
    "       'Electronic bullying', 'Sad or hopeless', 'Considered suicide',\n",
    "       'Made a suicide plan', 'Attempted suicide', 'Injurious suicide attempt',\n",
    "       'Ever cigarette use', 'Initiation of cigarette smoking',\n",
    "       'Current cigarette use', 'Current smokeless tobacco use',\n",
    "       'Current cigar use', 'Initiation of alcohol use', 'Current alcohol use',\n",
    "       'Source of alcohol', 'Ever marijuana use',\n",
    "       'Initiation of marijuana use', 'Current marijuana use',\n",
    "       'Ever steroid use', 'Illegal injected drug use',\n",
    "       'Illegal drugs at school', 'Ever sexual intercourse',\n",
    "       'Sex before 13 years', 'Multiple sex partners',\n",
    "       'Current sexual activity', 'Alcohol/drugs and sex','Birth control pill use', \n",
    "        'Perception of weight', 'Weight loss',\n",
    "       'Television watching', 'Computer use', 'HIV testing', 'Asthma', 'Sleep',\n",
    "       'Ever used LSD',\n",
    "       'Has used hard drugs', 'healthy_eating', 'regular_activity']\n",
    "condom_use = df['Condom use']"
   ]
  },
  {
   "cell_type": "code",
   "execution_count": 11,
   "metadata": {},
   "outputs": [
    {
     "data": {
      "text/plain": [
       "53"
      ]
     },
     "execution_count": 11,
     "metadata": {},
     "output_type": "execute_result"
    }
   ],
   "source": [
    "len(features_0)"
   ]
  },
  {
   "cell_type": "code",
   "execution_count": 13,
   "metadata": {},
   "outputs": [],
   "source": [
    "X_train_2, X_test_2, y_train_2, y_test_2 = train_test_split(df[features_0], condom_use, test_size=0.25, random_state=1)\n",
    "smote = SMOTE()\n",
    "X_train_2, y_train_2 = smote.fit_sample(X_train_2, y_train_2) \n"
   ]
  },
  {
   "cell_type": "code",
   "execution_count": 14,
   "metadata": {},
   "outputs": [
    {
     "name": "stdout",
     "output_type": "stream",
     "text": [
      "0.9529795994758548\n"
     ]
    }
   ],
   "source": [
    "dtc = DecisionTreeClassifier(max_depth=5, class_weight='balanced')\n",
    "dtc.fit(X_train_2, y_train_2)\n",
    "dtc_preds_test  = dtc.predict(X_test_2)\n",
    "dtc_preds_train  = dtc.predict(X_train_2)\n",
    "dtc_f1_test = metrics.f1_score(y_test_2, dtc_preds_test,average = 'weighted')\n",
    "dtc_f1_train = metrics.f1_score(y_train_2, dtc_preds_train,average = 'weighted')\n",
    "print('F1 score test: ',dtc_f1_test)\n",
    "print('F1 score train: ',dtc_f1_train)"
   ]
  },
  {
   "cell_type": "code",
   "execution_count": 15,
   "metadata": {},
   "outputs": [
    {
     "name": "stdout",
     "output_type": "stream",
     "text": [
      "Accuracy: 0.9524165234929409\n"
     ]
    }
   ],
   "source": [
    "print('Accuracy test:', metrics.accuracy_score(y_test_2, dtc_preds_test))\n",
    "print('Accuracy train:', metrics.accuracy_score(y_train_2, dtc_preds_train))"
   ]
  },
  {
   "cell_type": "code",
   "execution_count": 25,
   "metadata": {},
   "outputs": [
    {
     "name": "stdout",
     "output_type": "stream",
     "text": [
      "[[7525    0    0]\n",
      " [   0 2985  587]\n",
      " [   0   50 2240]]\n"
     ]
    },
    {
     "data": {
      "image/png": "[encoded data removed]",
      "text/plain": [
       "<Figure size 432x288 with 2 Axes>"
      ]
     },
     "metadata": {
      "needs_background": "light"
     },
     "output_type": "display_data"
    }
   ],
   "source": [
    "cm = confusion_matrix(y_test_2, dtc_preds_0 )\n",
    "print(cm)\n",
    "disp = ConfusionMatrixDisplay(confusion_matrix=cm)\n",
    "disp.plot(cmap='Blues')\n",
    "plt.title('Confusion Matrix: Decision Tree Classifier')\n",
    "plt.show()"
   ]
  },
  {
   "cell_type": "code",
   "execution_count": 30,
   "metadata": {},
   "outputs": [
    {
     "name": "stdout",
     "output_type": "stream",
     "text": [
      "              precision    recall  f1-score   support\n",
      "\n",
      "         1.0       1.00      1.00      1.00      7525\n",
      "         2.0       0.98      0.84      0.90      3572\n",
      "         3.0       0.79      0.98      0.88      2290\n",
      "\n",
      "    accuracy                           0.95     13387\n",
      "   macro avg       0.93      0.94      0.93     13387\n",
      "weighted avg       0.96      0.95      0.95     13387\n",
      "\n"
     ]
    }
   ],
   "source": [
    "print(classification_report(y_test_2, dtc_preds_0))"
   ]
  },
  {
   "cell_type": "code",
   "execution_count": 26,
   "metadata": {},
   "outputs": [
    {
     "data": {
      "text/plain": [
       "array([0.00000000e+00, 0.00000000e+00, 0.00000000e+00, 0.00000000e+00,\n",
       "       0.00000000e+00, 0.00000000e+00, 0.00000000e+00, 0.00000000e+00,\n",
       "       0.00000000e+00, 0.00000000e+00, 0.00000000e+00, 0.00000000e+00,\n",
       "       0.00000000e+00, 0.00000000e+00, 0.00000000e+00, 0.00000000e+00,\n",
       "       0.00000000e+00, 0.00000000e+00, 0.00000000e+00, 0.00000000e+00,\n",
       "       0.00000000e+00, 0.00000000e+00, 0.00000000e+00, 0.00000000e+00,\n",
       "       0.00000000e+00, 0.00000000e+00, 0.00000000e+00, 0.00000000e+00,\n",
       "       0.00000000e+00, 1.00034270e-04, 0.00000000e+00, 0.00000000e+00,\n",
       "       0.00000000e+00, 0.00000000e+00, 0.00000000e+00, 0.00000000e+00,\n",
       "       0.00000000e+00, 0.00000000e+00, 0.00000000e+00, 2.40380277e-03,\n",
       "       5.71922022e-01, 4.24356821e-01, 0.00000000e+00, 0.00000000e+00,\n",
       "       0.00000000e+00, 0.00000000e+00, 8.88963773e-04, 0.00000000e+00,\n",
       "       0.00000000e+00, 1.37284536e-04, 0.00000000e+00, 0.00000000e+00,\n",
       "       1.91071833e-04])"
      ]
     },
     "execution_count": 26,
     "metadata": {},
     "output_type": "execute_result"
    }
   ],
   "source": [
    "# Feature importance\n",
    "dtc.feature_importances_"
   ]
  },
  {
   "cell_type": "code",
   "execution_count": 29,
   "metadata": {},
   "outputs": [
    {
     "data": {
      "image/png": "[encoded data removed]",
      "text/plain": [
       "<Figure size 576x576 with 1 Axes>"
      ]
     },
     "metadata": {
      "needs_background": "light"
     },
     "output_type": "display_data"
    }
   ],
   "source": [
    "def plot_feature_importances(model):\n",
    "    n_features = X_train_2.shape[1]\n",
    "    plt.figure(figsize=(8,8))\n",
    "    plt.barh(range(n_features), model.feature_importances_, align='center') \n",
    "    plt.yticks(np.arange(n_features), X_train_2.columns.values) \n",
    "    plt.xlabel('Feature importance')\n",
    "    plt.ylabel('Feature')\n",
    "plot_feature_importances(dtc)"
   ]
  },
  {
   "cell_type": "markdown",
   "metadata": {},
   "source": [
    "**Decsion Tree for Alcohol/drugs and sex**"
   ]
  },
  {
   "cell_type": "code",
   "execution_count": 36,
   "metadata": {},
   "outputs": [],
   "source": [
    "features_1 = ['YEAR', 'raceeth', 'How old are you', 'What is your sex',\n",
    "       'In what grade are you',\n",
    "       'Seat belt use', 'Riding with a drinking driver',\n",
    "       'Drinking and driving', 'Weapon carrying', 'Weapon carrying at school',\n",
    "       'Safety concerns at school', 'Threatened at school',\n",
    "       'Physical fighting', 'Physical fighting at school',\n",
    "       'Forced sexual intercourse', 'Bullying at school',\n",
    "       'Electronic bullying', 'Sad or hopeless', 'Considered suicide',\n",
    "       'Made a suicide plan', 'Attempted suicide', 'Injurious suicide attempt',\n",
    "       'Ever cigarette use', 'Initiation of cigarette smoking',\n",
    "       'Current cigarette use', 'Current smokeless tobacco use',\n",
    "       'Current cigar use', 'Initiation of alcohol use', 'Current alcohol use',\n",
    "       'Source of alcohol', 'Ever marijuana use',\n",
    "       'Initiation of marijuana use', 'Current marijuana use',\n",
    "       'Ever steroid use', 'Illegal injected drug use',\n",
    "       'Illegal drugs at school', 'Ever sexual intercourse',\n",
    "       'Sex before 13 years', 'Multiple sex partners',\n",
    "       'Current sexual activity', 'Condom use','Birth control pill use', \n",
    "        'Perception of weight', 'Weight loss',\n",
    "       'Television watching', 'Computer use', 'HIV testing', 'Asthma', 'Sleep',\n",
    "       'Ever used LSD',\n",
    "       'Has used hard drugs', 'healthy_eating', 'regular_activity']\n",
    "alc_and_sex = df['Alcohol/drugs and sex']"
   ]
  },
  {
   "cell_type": "code",
   "execution_count": 37,
   "metadata": {},
   "outputs": [],
   "source": [
    "X_train_3, X_test_3, y_train_3, y_test_3 = train_test_split(df[features_1], alc_and_sex, test_size=0.25, random_state=1)\n",
    "X_train_3, y_train_3 = smote.fit_sample(X_train_3, y_train_3) \n"
   ]
  },
  {
   "cell_type": "code",
   "execution_count": 38,
   "metadata": {},
   "outputs": [
    {
     "name": "stdout",
     "output_type": "stream",
     "text": [
      "0.9025555564948794\n"
     ]
    }
   ],
   "source": [
    "dtc = DecisionTreeClassifier(max_depth=5, class_weight='balanced')\n",
    "dtc.fit(X_train_3, y_train_3)\n",
    "dtc_preds_0  = dtc.predict(X_test_3)\n",
    "dtc_f1 = metrics.f1_score(y_test_3, dtc_preds_0,average = 'weighted')\n",
    "print(dtc_f1)"
   ]
  },
  {
   "cell_type": "code",
   "execution_count": 39,
   "metadata": {},
   "outputs": [
    {
     "name": "stdout",
     "output_type": "stream",
     "text": [
      "Accuracy: 0.7443788750280123\n"
     ]
    }
   ],
   "source": [
    "print('Accuracy:', metrics.accuracy_score(y_test_2, dtc_preds_0))"
   ]
  },
  {
   "cell_type": "markdown",
   "metadata": {},
   "source": [
    "# Instantiate the classifier using 100 trees"
   ]
  },
  {
   "cell_type": "markdown",
   "metadata": {},
   "source": [
    "**Condom use**"
   ]
  },
  {
   "cell_type": "code",
   "execution_count": 17,
   "metadata": {},
   "outputs": [],
   "source": [
    "from sklearn.ensemble import RandomForestClassifier\n",
    "rfc = RandomForestClassifier(random_state = 1, n_estimators=100)"
   ]
  },
  {
   "cell_type": "code",
   "execution_count": 19,
   "metadata": {},
   "outputs": [
    {
     "data": {
      "text/plain": [
       "RandomForestClassifier(random_state=1)"
      ]
     },
     "execution_count": 19,
     "metadata": {},
     "output_type": "execute_result"
    }
   ],
   "source": [
    "#fit the model to the training data\n",
    "rfc.fit(X_train_2, y_train_2)"
   ]
  },
  {
   "cell_type": "code",
   "execution_count": 20,
   "metadata": {},
   "outputs": [
    {
     "name": "stdout",
     "output_type": "stream",
     "text": [
      "Test F1 score:  0.9512280992783727\n",
      "Test Accuracy score:  0.9506984387838948\n"
     ]
    }
   ],
   "source": [
    "#use the fitted model to predict on the test data\n",
    "rfc_preds_test = rfc.predict(X_test_2)\n",
    "rfc_preds_train = rfc.predict(X_train_2)\n",
    "rfc_f1_test = metrics.f1_score(y_test_2, rfc_preds_test,average = 'weighted')\n",
    "rfc_f1_train = metrics.f1_score(y_train_2, rfc_preds_train,average = 'weighted')\n",
    "rfc_acc_test = metrics.accuracy_score(y_test_2, rfc_preds_test)\n",
    "rfc_acc_train = metrics.accuracy_score(y_train_2, rfc_preds_train)\n",
    "# checking accuracy on the test data\n",
    "print('Test F1 score test: ', rfc_f1_test)\n",
    "print('Test Accuracy score test: ', rfc_acc_test)\n",
    "\n",
    "print('Test F1 score test train: ', rfc_f1_train)\n",
    "print('Test Accuracy score train: ', rfc_acc_train)"
   ]
  },
  {
   "cell_type": "code",
   "execution_count": 24,
   "metadata": {},
   "outputs": [
    {
     "name": "stdout",
     "output_type": "stream",
     "text": [
      "[[7525    0    0]\n",
      " [   0 3033  539]\n",
      " [   0  121 2169]]\n"
     ]
    },
    {
     "data": {
      "image/png": "[encoded data removed]",
      "text/plain": [
       "<Figure size 432x288 with 2 Axes>"
      ]
     },
     "metadata": {
      "needs_background": "light"
     },
     "output_type": "display_data"
    }
   ],
   "source": [
    "cm = confusion_matrix(y_test_2, rfc_preds )\n",
    "print(cm)\n",
    "disp = ConfusionMatrixDisplay(confusion_matrix=cm)\n",
    "disp.plot(cmap='Blues')\n",
    "plt.title('Confusion Matrix: Random Forest')\n",
    "plt.show()"
   ]
  },
  {
   "cell_type": "code",
   "execution_count": 23,
   "metadata": {},
   "outputs": [
    {
     "name": "stderr",
     "output_type": "stream",
     "text": [
      "/Users/alexandrabruno/opt/anaconda3/lib/python3.8/site-packages/sklearn/utils/validation.py:68: FutureWarning: Pass labels=['business', 'health'] as keyword args. From version 0.25 passing these as positional arguments will result in an error\n",
      "  warnings.warn(\"Pass {} as keyword args. From version 0.25 \"\n",
      "/Users/alexandrabruno/opt/anaconda3/lib/python3.8/site-packages/sklearn/metrics/_classification.py:289: FutureWarning: elementwise comparison failed; returning scalar instead, but in the future will perform elementwise comparison\n",
      "  elif np.all([l not in y_true for l in labels]):\n"
     ]
    },
    {
     "ename": "ValueError",
     "evalue": "At least one label specified must be in y_true",
     "output_type": "error",
     "traceback": [
      "\u001b[0;31m---------------------------------------------------------------------------\u001b[0m",
      "\u001b[0;31mValueError\u001b[0m                                Traceback (most recent call last)",
      "\u001b[0;32m<ipython-input-23-46944227da90>\u001b[0m in \u001b[0;36m<module>\u001b[0;34m\u001b[0m\n\u001b[1;32m      2\u001b[0m \u001b[0;34m\u001b[0m\u001b[0m\n\u001b[1;32m      3\u001b[0m \u001b[0mlabels\u001b[0m \u001b[0;34m=\u001b[0m \u001b[0;34m[\u001b[0m\u001b[0;34m'business'\u001b[0m\u001b[0;34m,\u001b[0m \u001b[0;34m'health'\u001b[0m\u001b[0;34m]\u001b[0m\u001b[0;34m\u001b[0m\u001b[0;34m\u001b[0m\u001b[0m\n\u001b[0;32m----> 4\u001b[0;31m \u001b[0mcm\u001b[0m \u001b[0;34m=\u001b[0m \u001b[0mconfusion_matrix\u001b[0m\u001b[0;34m(\u001b[0m\u001b[0my_test_2\u001b[0m\u001b[0;34m,\u001b[0m \u001b[0mrfc_preds\u001b[0m\u001b[0;34m,\u001b[0m \u001b[0mlabels\u001b[0m\u001b[0;34m)\u001b[0m\u001b[0;34m\u001b[0m\u001b[0;34m\u001b[0m\u001b[0m\n\u001b[0m\u001b[1;32m      5\u001b[0m \u001b[0mprint\u001b[0m\u001b[0;34m(\u001b[0m\u001b[0mcm\u001b[0m\u001b[0;34m)\u001b[0m\u001b[0;34m\u001b[0m\u001b[0;34m\u001b[0m\u001b[0m\n\u001b[1;32m      6\u001b[0m \u001b[0mfig\u001b[0m \u001b[0;34m=\u001b[0m \u001b[0mplt\u001b[0m\u001b[0;34m.\u001b[0m\u001b[0mfigure\u001b[0m\u001b[0;34m(\u001b[0m\u001b[0;34m)\u001b[0m\u001b[0;34m\u001b[0m\u001b[0;34m\u001b[0m\u001b[0m\n",
      "\u001b[0;32m~/opt/anaconda3/lib/python3.8/site-packages/sklearn/utils/validation.py\u001b[0m in \u001b[0;36minner_f\u001b[0;34m(*args, **kwargs)\u001b[0m\n\u001b[1;32m     71\u001b[0m                           FutureWarning)\n\u001b[1;32m     72\u001b[0m         \u001b[0mkwargs\u001b[0m\u001b[0;34m.\u001b[0m\u001b[0mupdate\u001b[0m\u001b[0;34m(\u001b[0m\u001b[0;34m{\u001b[0m\u001b[0mk\u001b[0m\u001b[0;34m:\u001b[0m \u001b[0marg\u001b[0m \u001b[0;32mfor\u001b[0m \u001b[0mk\u001b[0m\u001b[0;34m,\u001b[0m \u001b[0marg\u001b[0m \u001b[0;32min\u001b[0m \u001b[0mzip\u001b[0m\u001b[0;34m(\u001b[0m\u001b[0msig\u001b[0m\u001b[0;34m.\u001b[0m\u001b[0mparameters\u001b[0m\u001b[0;34m,\u001b[0m \u001b[0margs\u001b[0m\u001b[0;34m)\u001b[0m\u001b[0;34m}\u001b[0m\u001b[0;34m)\u001b[0m\u001b[0;34m\u001b[0m\u001b[0;34m\u001b[0m\u001b[0m\n\u001b[0;32m---> 73\u001b[0;31m         \u001b[0;32mreturn\u001b[0m \u001b[0mf\u001b[0m\u001b[0;34m(\u001b[0m\u001b[0;34m**\u001b[0m\u001b[0mkwargs\u001b[0m\u001b[0;34m)\u001b[0m\u001b[0;34m\u001b[0m\u001b[0;34m\u001b[0m\u001b[0m\n\u001b[0m\u001b[1;32m     74\u001b[0m     \u001b[0;32mreturn\u001b[0m \u001b[0minner_f\u001b[0m\u001b[0;34m\u001b[0m\u001b[0;34m\u001b[0m\u001b[0m\n\u001b[1;32m     75\u001b[0m \u001b[0;34m\u001b[0m\u001b[0m\n",
      "\u001b[0;32m~/opt/anaconda3/lib/python3.8/site-packages/sklearn/metrics/_classification.py\u001b[0m in \u001b[0;36mconfusion_matrix\u001b[0;34m(y_true, y_pred, labels, sample_weight, normalize)\u001b[0m\n\u001b[1;32m    288\u001b[0m             \u001b[0;32mreturn\u001b[0m \u001b[0mnp\u001b[0m\u001b[0;34m.\u001b[0m\u001b[0mzeros\u001b[0m\u001b[0;34m(\u001b[0m\u001b[0;34m(\u001b[0m\u001b[0mn_labels\u001b[0m\u001b[0;34m,\u001b[0m \u001b[0mn_labels\u001b[0m\u001b[0;34m)\u001b[0m\u001b[0;34m,\u001b[0m \u001b[0mdtype\u001b[0m\u001b[0;34m=\u001b[0m\u001b[0mnp\u001b[0m\u001b[0;34m.\u001b[0m\u001b[0mint\u001b[0m\u001b[0;34m)\u001b[0m\u001b[0;34m\u001b[0m\u001b[0;34m\u001b[0m\u001b[0m\n\u001b[1;32m    289\u001b[0m         \u001b[0;32melif\u001b[0m \u001b[0mnp\u001b[0m\u001b[0;34m.\u001b[0m\u001b[0mall\u001b[0m\u001b[0;34m(\u001b[0m\u001b[0;34m[\u001b[0m\u001b[0ml\u001b[0m \u001b[0;32mnot\u001b[0m \u001b[0;32min\u001b[0m \u001b[0my_true\u001b[0m \u001b[0;32mfor\u001b[0m \u001b[0ml\u001b[0m \u001b[0;32min\u001b[0m \u001b[0mlabels\u001b[0m\u001b[0;34m]\u001b[0m\u001b[0;34m)\u001b[0m\u001b[0;34m:\u001b[0m\u001b[0;34m\u001b[0m\u001b[0;34m\u001b[0m\u001b[0m\n\u001b[0;32m--> 290\u001b[0;31m             \u001b[0;32mraise\u001b[0m \u001b[0mValueError\u001b[0m\u001b[0;34m(\u001b[0m\u001b[0;34m\"At least one label specified must be in y_true\"\u001b[0m\u001b[0;34m)\u001b[0m\u001b[0;34m\u001b[0m\u001b[0;34m\u001b[0m\u001b[0m\n\u001b[0m\u001b[1;32m    291\u001b[0m \u001b[0;34m\u001b[0m\u001b[0m\n\u001b[1;32m    292\u001b[0m     \u001b[0;32mif\u001b[0m \u001b[0msample_weight\u001b[0m \u001b[0;32mis\u001b[0m \u001b[0;32mNone\u001b[0m\u001b[0;34m:\u001b[0m\u001b[0;34m\u001b[0m\u001b[0;34m\u001b[0m\u001b[0m\n",
      "\u001b[0;31mValueError\u001b[0m: At least one label specified must be in y_true"
     ]
    }
   ],
   "source": [
    "from sklearn.metrics import confusion_matrix\n",
    "\n",
    "labels = ['business', 'health']\n",
    "cm = confusion_matrix(y_test_2, rfc_preds, labels)\n",
    "print(cm)\n",
    "fig = plt.figure()\n",
    "ax = fig.add_subplot(111)\n",
    "cax = ax.matshow(cm)\n",
    "plt.title('Confusion matrix of the classifier')\n",
    "fig.colorbar(cax)\n",
    "ax.set_xticklabels([''] + labels)\n",
    "ax.set_yticklabels([''] + labels)\n",
    "plt.xlabel('Predicted')\n",
    "plt.ylabel('True')\n",
    "plt.show()"
   ]
  },
  {
   "cell_type": "code",
   "execution_count": 59,
   "metadata": {},
   "outputs": [
    {
     "name": "stdout",
     "output_type": "stream",
     "text": [
      "[[7525    0    0]\n",
      " [   0 3043  529]\n",
      " [   0  123 2167]]\n"
     ]
    },
    {
     "data": {
      "image/png": "[encoded data removed]",
      "text/plain": [
       "<Figure size 432x288 with 2 Axes>"
      ]
     },
     "metadata": {
      "needs_background": "light"
     },
     "output_type": "display_data"
    }
   ],
   "source": [
    "cm = confusion_matrix(y_test_0, rfc_preds)\n",
    "print(cm)\n",
    "disp = ConfusionMatrixDisplay(confusion_matrix=cm)\n",
    "disp.plot(cmap='Blues')\n",
    "plt.title('Confusion Matrix: Random Forest Classifier')\n",
    "plt.show()"
   ]
  },
  {
   "cell_type": "code",
   "execution_count": null,
   "metadata": {},
   "outputs": [],
   "source": [
    "import numpy as np\n",
    "import matplotlib.pyplot as plt\n",
    "from itertools import cycle\n",
    "from sklearn import svm, datasets\n",
    "from sklearn.metrics import roc_curve, auc\n",
    "from sklearn.model_selection import train_test_split\n",
    "from sklearn.preprocessing import label_binarize\n",
    "from sklearn.multiclass import OneVsRestClassifier\n",
    "from scipy import interp\n",
    "from sklearn.metrics import roc_auc_score\n",
    "# Import some data to play with\n",
    "# iris = datasets.load_iris()\n",
    "# X = iris.data\n",
    "# y = iris.target\n",
    "# Binarize the output\n",
    "y = label_binarize(condom_use, classes=[0, 1, 2])\n",
    "n_classes = y.shape[1]\n",
    "# Add noisy features to make the problem harder\n",
    "random_state = np.random.RandomState(0)\n",
    "n_samples, n_features = X.shape\n",
    "X = np.c_[X, random_state.randn(n_samples, 200 * n_features)]\n",
    "# shuffle and split training and test sets\n",
    "X_train, X_test, y_train, y_test = train_test_split(X, y, test_size=.5,\n",
    "                                                    random_state=0)\n",
    "# Learn to predict each class against the other\n",
    "classifier = OneVsRestClassifier(svm.SVC(kernel='linear', probability=True,\n",
    "                                 random_state=random_state))\n",
    "y_score = classifier.fit(X_train, y_train).decision_function(X_test)\n",
    "# Compute ROC curve and ROC area for each class\n",
    "fpr = dict()\n",
    "tpr = dict()\n",
    "roc_auc = dict()\n",
    "for i in range(n_classes):\n",
    "    fpr[i], tpr[i], _ = roc_curve(y_test[:, i], y_score[:, i])\n",
    "    roc_auc[i] = auc(fpr[i], tpr[i])\n",
    "# Compute micro-average ROC curve and ROC area\n",
    "fpr[\"micro\"], tpr[\"micro\"], _ = roc_curve(y_test.ravel(), y_score.ravel())\n",
    "roc_auc[\"micro\"] = auc(fpr[\"micro\"], tpr[\"micro\"])"
   ]
  },
  {
   "cell_type": "markdown",
   "metadata": {},
   "source": [
    "**Alcohol/drugs and drugs**"
   ]
  },
  {
   "cell_type": "code",
   "execution_count": null,
   "metadata": {},
   "outputs": [],
   "source": [
    "#fit the model to the training data\n",
    "rfc.fit(X_train_1, y_train_1)"
   ]
  },
  {
   "cell_type": "code",
   "execution_count": 49,
   "metadata": {},
   "outputs": [
    {
     "name": "stdout",
     "output_type": "stream",
     "text": [
      "Test F1 score:  0.780572003268747\n",
      "Test Accuracy score:  0.7541644879360574\n"
     ]
    }
   ],
   "source": [
    "#use the fitted model to predict on the test data\n",
    "rfc_preds = rfc.predict(X_test_1)\n",
    "rfc_f1 = metrics.f1_score(y_test_1, rfc_preds,average = 'weighted')\n",
    "rfc_acc = metrics.accuracy_score(y_test_1, rfc_preds)\n",
    "# checking accuracy on the test data\n",
    "print('Test F1 score: ', rfc_f1)\n",
    "print('Test Accuracy score: ', rfc_acc)"
   ]
  },
  {
   "cell_type": "code",
   "execution_count": 50,
   "metadata": {},
   "outputs": [
    {
     "name": "stdout",
     "output_type": "stream",
     "text": [
      "[[7525    0    0]\n",
      " [   0  469  603]\n",
      " [   0 2688 2102]]\n"
     ]
    },
    {
     "data": {
      "image/png": "[encoded data removed]",
      "text/plain": [
       "<Figure size 432x288 with 2 Axes>"
      ]
     },
     "metadata": {
      "needs_background": "light"
     },
     "output_type": "display_data"
    }
   ],
   "source": [
    "cm = confusion_matrix(y_test_1, rfc_preds)\n",
    "print(cm)\n",
    "disp = ConfusionMatrixDisplay(confusion_matrix=cm)\n",
    "disp.plot(cmap='Blues')\n",
    "plt.show()"
   ]
  },
  {
   "cell_type": "code",
   "execution_count": null,
   "metadata": {},
   "outputs": [],
   "source": []
  },
  {
   "cell_type": "code",
   "execution_count": null,
   "metadata": {},
   "outputs": [],
   "source": []
  },
  {
   "cell_type": "markdown",
   "metadata": {},
   "source": [
    "We can split the data using stratify to make sure we can get an even split of classes in the train and test set"
   ]
  },
  {
   "cell_type": "code",
   "execution_count": 8,
   "metadata": {
    "ExecuteTime": {
     "end_time": "2020-12-21T16:08:21.318602Z",
     "start_time": "2020-12-21T16:08:21.222216Z"
    }
   },
   "outputs": [],
   "source": [
    "# Split X and y with even class distributions\n",
    "X_train, X_test, y_train, y_test = train_test_split(X, y, test_size=.2, random_state=42, stratify=y)"
   ]
  },
  {
   "cell_type": "markdown",
   "metadata": {},
   "source": [
    "# Random Forest"
   ]
  },
  {
   "cell_type": "code",
   "execution_count": 57,
   "metadata": {
    "ExecuteTime": {
     "end_time": "2021-01-08T17:59:33.282061Z",
     "start_time": "2021-01-08T17:59:33.125007Z"
    }
   },
   "outputs": [],
   "source": [
    "#Import modules\n",
    "import pandas as pd\n",
    "import numpy as np\n",
    "import pickle\n",
    "import matplotlib.pyplot as plt\n",
    "%matplotlib inline\n",
    "import seaborn as sns\n",
    "from sklearn.model_selection import train_test_split, GridSearchCV, cross_val_score\n",
    "from sklearn.tree import DecisionTreeClassifier\n",
    "from sklearn.ensemble import RandomForestClassifier\n",
    "from sklearn.metrics import accuracy_score\n",
    "from sklearn import metrics\n",
    "from sklearn.pipeline import Pipeline\n",
    "from sklearn.preprocessing import StandardScaler, LabelEncoder"
   ]
  },
  {
   "cell_type": "code",
   "execution_count": 58,
   "metadata": {
    "ExecuteTime": {
     "end_time": "2021-01-08T17:59:33.940635Z",
     "start_time": "2021-01-08T17:59:33.782042Z"
    }
   },
   "outputs": [],
   "source": [
    "#Split X and y \n",
    "X = df[features_0]\n",
    "y = condom_use"
   ]
  },
  {
   "cell_type": "code",
   "execution_count": 59,
   "metadata": {
    "ExecuteTime": {
     "end_time": "2021-01-08T17:59:34.702140Z",
     "start_time": "2021-01-08T17:59:34.521716Z"
    }
   },
   "outputs": [],
   "source": [
    "#Train Test Split and Standard Scaler\n",
    "from sklearn.model_selection import train_test_split\n",
    "from sklearn.preprocessing import StandardScaler\n",
    "\n",
    "X_train, X_test, y_train, y_test = train_test_split(X, y, test_size= 0.25, random_state=1)\n",
    "\n",
    "scaler = StandardScaler()  \n",
    "scaler.fit(X_train)\n",
    "\n",
    "X_train = scaler.transform(X_train)  \n",
    "X_test = scaler.transform(X_test)"
   ]
  },
  {
   "cell_type": "code",
   "execution_count": 60,
   "metadata": {
    "ExecuteTime": {
     "end_time": "2021-01-08T17:59:54.378099Z",
     "start_time": "2021-01-08T17:59:38.147274Z"
    }
   },
   "outputs": [
    {
     "name": "stdout",
     "output_type": "stream",
     "text": [
      "Synthetic sample class distribution: \n",
      "\n",
      "1.0    22727\n",
      "2.0    22727\n",
      "3.0    22727\n",
      "Name: Condom use, dtype: int64\n",
      "--------------------\n",
      "1.0    0.333333\n",
      "2.0    0.333333\n",
      "3.0    0.333333\n",
      "Name: Condom use, dtype: float64\n"
     ]
    }
   ],
   "source": [
    "# Oversample and plot imbalanced dataset with SMOTE\n",
    "from collections import Counter\n",
    "from sklearn.datasets import make_classification\n",
    "from imblearn.over_sampling import SMOTE\n",
    "\n",
    "smote = SMOTE()\n",
    "X_train_resampled, y_train_resampled = smote.fit_sample(X_train, y_train) \n",
    "# Preview synthetic sample class distribution\n",
    "print('Synthetic sample class distribution: \\n')\n",
    "print(pd.Series(y_train_resampled).value_counts())\n",
    "print('--------------------')\n",
    "print(pd.Series(y_train_resampled).value_counts(normalize=True))"
   ]
  },
  {
   "cell_type": "code",
   "execution_count": 61,
   "metadata": {
    "ExecuteTime": {
     "end_time": "2021-01-08T17:59:54.396965Z",
     "start_time": "2021-01-08T17:59:54.380442Z"
    }
   },
   "outputs": [],
   "source": [
    "#Instantiate model\n",
    "rfc = RandomForestClassifier(random_state=42, max_depth=5)"
   ]
  },
  {
   "cell_type": "code",
   "execution_count": 62,
   "metadata": {
    "ExecuteTime": {
     "end_time": "2021-01-08T18:00:02.896888Z",
     "start_time": "2021-01-08T17:59:54.413169Z"
    }
   },
   "outputs": [
    {
     "data": {
      "text/plain": [
       "RandomForestClassifier(max_depth=5, random_state=42)"
      ]
     },
     "execution_count": 62,
     "metadata": {},
     "output_type": "execute_result"
    }
   ],
   "source": [
    "#fit the model to the training data\n",
    "rfc.fit(X_train_resampled, y_train_resampled)"
   ]
  },
  {
   "cell_type": "code",
   "execution_count": 63,
   "metadata": {
    "ExecuteTime": {
     "end_time": "2021-01-08T18:00:03.660385Z",
     "start_time": "2021-01-08T18:00:02.928471Z"
    }
   },
   "outputs": [
    {
     "name": "stdout",
     "output_type": "stream",
     "text": [
      "Test F1 score test:  0.8367003475051207\n",
      "Test Accuracy score test:  0.839022932695899\n",
      "Test F1 score train:  0.8426840983877955\n",
      "Test Accuracy score train:  0.8445755832773089\n"
     ]
    }
   ],
   "source": [
    "#use the fitted model to predict on the test data\n",
    "rfc_preds_test = rfc.predict(X_test)\n",
    "rfc_preds_train = rfc.predict(X_train)\n",
    "rfc_f1_test = metrics.f1_score(y_test, rfc_preds_test,average = 'weighted')\n",
    "rfc_f1_train = metrics.f1_score(y_train, rfc_preds_train,average = 'weighted')\n",
    "rfc_acc_test = metrics.accuracy_score(y_test, rfc_preds_test)\n",
    "rfc_acc_train = metrics.accuracy_score(y_train, rfc_preds_train)\n",
    "# checking accuracy on the test data\n",
    "print('Test F1 score test: ', rfc_f1_test)\n",
    "print('Test Accuracy score test: ', rfc_acc_test)\n",
    "\n",
    "print('Test F1 score train: ', rfc_f1_train)\n",
    "print('Test Accuracy score train: ', rfc_acc_train)"
   ]
  },
  {
   "cell_type": "code",
   "execution_count": 64,
   "metadata": {
    "ExecuteTime": {
     "end_time": "2021-01-08T18:02:10.313334Z",
     "start_time": "2021-01-08T18:00:03.669952Z"
    }
   },
   "outputs": [
    {
     "data": {
      "text/plain": [
       "0.9140239658670236"
      ]
     },
     "execution_count": 64,
     "metadata": {},
     "output_type": "execute_result"
    }
   ],
   "source": [
    "#Now with cross validation search\n",
    "val = cross_val_score(RandomForestClassifier(random_state=42),X_train_resampled, y_train_resampled,cv=5)\n",
    "val.mean()"
   ]
  },
  {
   "cell_type": "code",
   "execution_count": 65,
   "metadata": {
    "ExecuteTime": {
     "end_time": "2021-01-08T18:02:11.983465Z",
     "start_time": "2021-01-08T18:02:10.368765Z"
    }
   },
   "outputs": [
    {
     "data": {
      "text/plain": [
       "0.839022932695899"
      ]
     },
     "execution_count": 65,
     "metadata": {},
     "output_type": "execute_result"
    }
   ],
   "source": [
    "rfc.score(X_test, y_test)"
   ]
  },
  {
   "cell_type": "code",
   "execution_count": 66,
   "metadata": {
    "ExecuteTime": {
     "end_time": "2021-01-08T18:02:13.463885Z",
     "start_time": "2021-01-08T18:02:12.277035Z"
    },
    "scrolled": true
   },
   "outputs": [
    {
     "name": "stdout",
     "output_type": "stream",
     "text": [
      "[[7525    0    0]\n",
      " [   0 2640  932]\n",
      " [   1 1222 1067]]\n"
     ]
    },
    {
     "data": {
      "image/png": "[encoded data removed]",
      "text/plain": [
       "<Figure size 432x288 with 2 Axes>"
      ]
     },
     "metadata": {
      "needs_background": "light"
     },
     "output_type": "display_data"
    }
   ],
   "source": [
    "cm = confusion_matrix(y_test, rfc_preds_test)\n",
    "print(cm)\n",
    "disp = ConfusionMatrixDisplay(confusion_matrix=cm)\n",
    "disp.plot(cmap='Blues')\n",
    "plt.show()"
   ]
  },
  {
   "cell_type": "code",
   "execution_count": 69,
   "metadata": {
    "ExecuteTime": {
     "end_time": "2021-01-08T18:11:49.865694Z",
     "start_time": "2021-01-08T18:11:49.791276Z"
    }
   },
   "outputs": [
    {
     "data": {
      "text/plain": [
       "array([8.04702418e-04, 1.85882455e-04, 7.36362168e-03, 8.08970415e-03,\n",
       "       3.29767927e-03, 2.74877083e-03, 2.09206872e-04, 9.13753860e-04,\n",
       "       8.16576397e-05, 1.28835153e-04, 2.48306806e-05, 9.55821245e-05,\n",
       "       1.11339780e-03, 6.40317203e-05, 3.68296587e-03, 1.04357607e-04,\n",
       "       1.18063372e-04, 1.52052084e-03, 2.27439994e-03, 9.61426789e-04,\n",
       "       6.55929636e-04, 7.34792537e-04, 3.90422656e-03, 4.02081475e-03,\n",
       "       1.06527236e-03, 6.25212734e-05, 1.19105159e-04, 2.34067525e-02,\n",
       "       6.19813948e-03, 1.43899758e-03, 1.60211343e-02, 2.27342435e-02,\n",
       "       8.89257544e-03, 2.35955713e-04, 2.24821162e-04, 1.35964611e-04,\n",
       "       1.46328756e-01, 1.84579178e-01, 1.09535424e-01, 1.92183903e-01,\n",
       "       2.34697811e-01, 4.01697664e-04, 2.70354764e-04, 8.25697210e-05,\n",
       "       2.97691962e-04, 2.44736666e-03, 1.71135218e-05, 1.01407949e-03,\n",
       "       1.11266649e-03, 1.96330406e-03, 1.47635414e-05, 1.41868232e-03])"
      ]
     },
     "execution_count": 69,
     "metadata": {},
     "output_type": "execute_result"
    }
   ],
   "source": [
    "rfc.feature_importances_"
   ]
  },
  {
   "cell_type": "code",
   "execution_count": 79,
   "metadata": {
    "ExecuteTime": {
     "end_time": "2021-01-08T18:15:21.619535Z",
     "start_time": "2021-01-08T18:15:19.128487Z"
    }
   },
   "outputs": [
    {
     "data": {
      "image/png": "[encoded data removed]",
      "text/plain": [
       "<Figure size 576x576 with 1 Axes>"
      ]
     },
     "metadata": {
      "needs_background": "light"
     },
     "output_type": "display_data"
    }
   ],
   "source": [
    "def plot_feature_importances(model):\n",
    "    n_features = X.shape[1]\n",
    "    plt.figure(figsize=(8,8))\n",
    "    plt.barh(range(n_features), model.feature_importances_, align='center') \n",
    "    plt.yticks(np.arange(n_features), X.columns.values) \n",
    "    plt.xlabel('Feature importance')\n",
    "    plt.ylabel('Feature')\n",
    "    \n",
    "plot_feature_importances(rfc)"
   ]
  },
  {
   "cell_type": "markdown",
   "metadata": {},
   "source": [
    "# Random Forest with Grid Search"
   ]
  },
  {
   "cell_type": "code",
   "execution_count": 13,
   "metadata": {
    "ExecuteTime": {
     "end_time": "2020-12-21T16:16:04.701672Z",
     "start_time": "2020-12-21T16:16:04.659136Z"
    }
   },
   "outputs": [],
   "source": [
    "#If you were to line up all the possible values of one and of the other, they create a grid"
   ]
  },
  {
   "cell_type": "code",
   "execution_count": 14,
   "metadata": {
    "ExecuteTime": {
     "end_time": "2020-12-21T16:16:05.915707Z",
     "start_time": "2020-12-21T16:16:05.860004Z"
    }
   },
   "outputs": [],
   "source": [
    "rf_param_grid = {\n",
    "    \"criterion\": [\"gini\", \"entropy\"],\n",
    "    \"max_depth\": [None, 2, 3, 4],\n",
    "    \"max_features\": [None,4,5,6,9,10],\n",
    "    \"min_samples_split\": [2, 5, 10],\n",
    "    \"min_samples_leaf\" : [1, 2, 3, 5, 6],\n",
    "    \"n_estimators\" : [10, 30, 100]\n",
    "}"
   ]
  },
  {
   "cell_type": "code",
   "execution_count": 15,
   "metadata": {
    "ExecuteTime": {
     "end_time": "2020-12-21T16:16:39.854385Z",
     "start_time": "2020-12-21T16:16:39.735991Z"
    }
   },
   "outputs": [],
   "source": [
    "rf_grid = RandomForestClassifier(random_state=42)\n",
    "gridsearch = GridSearchCV(rf_grid, rf_param_grid, cv=5, return_train_score=True, n_jobs=-1, verbose=-1)"
   ]
  },
  {
   "cell_type": "code",
   "execution_count": 16,
   "metadata": {
    "ExecuteTime": {
     "end_time": "2020-12-21T17:10:48.441677Z",
     "start_time": "2020-12-21T16:16:41.979848Z"
    }
   },
   "outputs": [
    {
     "name": "stderr",
     "output_type": "stream",
     "text": [
      "[Parallel(n_jobs=-1)]: Using backend LokyBackend with 4 concurrent workers.\n",
      "[Parallel(n_jobs=-1)]: Done  64 tasks      | elapsed:    9.8s\n",
      "[Parallel(n_jobs=-1)]: Done 280 tasks      | elapsed:   25.9s\n",
      "[Parallel(n_jobs=-1)]: Done 640 tasks      | elapsed:   53.0s\n",
      "[Parallel(n_jobs=-1)]: Done 1144 tasks      | elapsed:  2.1min\n",
      "[Parallel(n_jobs=-1)]: Done 1792 tasks      | elapsed:  3.6min\n",
      "[Parallel(n_jobs=-1)]: Done 2584 tasks      | elapsed:  5.0min\n",
      "[Parallel(n_jobs=-1)]: Done 3520 tasks      | elapsed:  6.5min\n",
      "[Parallel(n_jobs=-1)]: Done 4600 tasks      | elapsed:  8.0min\n",
      "[Parallel(n_jobs=-1)]: Done 5824 tasks      | elapsed:  9.9min\n",
      "[Parallel(n_jobs=-1)]: Done 7192 tasks      | elapsed: 11.9min\n",
      "[Parallel(n_jobs=-1)]: Done 8704 tasks      | elapsed: 14.3min\n",
      "[Parallel(n_jobs=-1)]: Done 10360 tasks      | elapsed: 17.4min\n",
      "[Parallel(n_jobs=-1)]: Done 12160 tasks      | elapsed: 20.8min\n",
      "[Parallel(n_jobs=-1)]: Done 14104 tasks      | elapsed: 23.4min\n",
      "[Parallel(n_jobs=-1)]: Done 16192 tasks      | elapsed: 27.3min\n",
      "[Parallel(n_jobs=-1)]: Done 18424 tasks      | elapsed: 33.9min\n",
      "[Parallel(n_jobs=-1)]: Done 20800 tasks      | elapsed: 38.4min\n",
      "[Parallel(n_jobs=-1)]: Done 23320 tasks      | elapsed: 43.5min\n",
      "[Parallel(n_jobs=-1)]: Done 25984 tasks      | elapsed: 49.6min\n",
      "[Parallel(n_jobs=-1)]: Done 28792 tasks      | elapsed: 53.1min\n",
      "[Parallel(n_jobs=-1)]: Done 29700 out of 29700 | elapsed: 54.1min finished\n"
     ]
    },
    {
     "data": {
      "text/plain": [
       "GridSearchCV(cv=5, estimator=RandomForestClassifier(random_state=42), n_jobs=-1,\n",
       "             param_grid={'criterion': ['gini', 'entropy'],\n",
       "                         'max_depth': [None, 2, 3, 4, 5, 6, 8, 10, 12, 14, 16],\n",
       "                         'max_features': [None, 4, 5, 6, 9, 10],\n",
       "                         'min_samples_leaf': [1, 2, 3, 5, 6],\n",
       "                         'min_samples_split': [2, 5, 10],\n",
       "                         'n_estimators': [10, 30, 100]},\n",
       "             return_train_score=True, verbose=-1)"
      ]
     },
     "execution_count": 16,
     "metadata": {},
     "output_type": "execute_result"
    }
   ],
   "source": [
    "gridsearch.fit(X_train_resampled, y_train_resampled)"
   ]
  },
  {
   "cell_type": "code",
   "execution_count": 17,
   "metadata": {
    "ExecuteTime": {
     "end_time": "2020-12-21T18:27:37.723947Z",
     "start_time": "2020-12-21T18:27:37.593114Z"
    }
   },
   "outputs": [
    {
     "name": "stdout",
     "output_type": "stream",
     "text": [
      "Testing Accuracy: 84.11%\n",
      "\n",
      "Optimal Parameters: {'criterion': 'gini', 'max_depth': 10, 'max_features': 5, 'min_samples_leaf': 3, 'min_samples_split': 10, 'n_estimators': 10}\n",
      "Best Model: RandomForestClassifier(max_depth=10, max_features=5, min_samples_leaf=3,\n",
      "                       min_samples_split=10, n_estimators=10, random_state=42)\n"
     ]
    }
   ],
   "source": [
    "print(\"Testing Accuracy: {:.4}%\".format(gridsearch.best_score_ * 100))\n",
    "print(\"\")\n",
    "print(\"Optimal Parameters: {}\".format(gridsearch.best_params_))\n",
    "\n",
    "# Actual model object fit with those best parameters\n",
    "# Shows default parameters that we did not specify\n",
    "print(\"Best Model: {}\".format(gridsearch.best_estimator_))"
   ]
  },
  {
   "cell_type": "code",
   "execution_count": 18,
   "metadata": {
    "ExecuteTime": {
     "end_time": "2020-12-21T18:27:40.821576Z",
     "start_time": "2020-12-21T18:27:40.691634Z"
    }
   },
   "outputs": [
    {
     "data": {
      "text/plain": [
       "0.8089887640449438"
      ]
     },
     "execution_count": 18,
     "metadata": {},
     "output_type": "execute_result"
    }
   ],
   "source": [
    "gridsearch.score(X_test, y_test)"
   ]
  },
  {
   "cell_type": "code",
   "execution_count": null,
   "metadata": {},
   "outputs": [],
   "source": []
  }
 ],
 "metadata": {
  "kernelspec": {
   "display_name": "learn-env",
   "language": "python",
   "name": "learn-env"
  },
  "language_info": {
   "codemirror_mode": {
    "name": "ipython",
    "version": 3
   },
   "file_extension": ".py",
   "mimetype": "text/x-python",
   "name": "python",
   "nbconvert_exporter": "python",
   "pygments_lexer": "ipython3",
   "version": "3.6.10"
  },
  "toc": {
   "base_numbering": 1,
   "nav_menu": {},
   "number_sections": true,
   "sideBar": true,
   "skip_h1_title": false,
   "title_cell": "Table of Contents",
   "title_sidebar": "Contents",
   "toc_cell": false,
   "toc_position": {},
   "toc_section_display": true,
   "toc_window_display": false
  }
 },
 "nbformat": 4,
 "nbformat_minor": 4
}
