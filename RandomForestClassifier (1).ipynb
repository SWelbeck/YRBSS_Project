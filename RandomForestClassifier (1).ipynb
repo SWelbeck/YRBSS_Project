{
 "cells": [
  {
   "cell_type": "markdown",
   "metadata": {},
   "source": [
    "# Random Forest"
   ]
  },
  {
   "cell_type": "code",
   "execution_count": 1,
   "metadata": {
    "ExecuteTime": {
     "end_time": "2021-01-08T17:22:07.695384Z",
     "start_time": "2021-01-08T17:22:07.681387Z"
    }
   },
   "outputs": [],
   "source": [
    "#Import modules\n",
    "import pandas as pd\n",
    "import numpy as np\n",
    "import pickle\n",
    "import matplotlib.pyplot as plt\n",
    "%matplotlib inline\n",
    "import seaborn as sns\n",
    "from sklearn.model_selection import train_test_split, GridSearchCV, cross_val_score\n",
    "from sklearn.tree import DecisionTreeClassifier\n",
    "from sklearn.ensemble import RandomForestClassifier\n",
    "from sklearn.metrics import accuracy_score\n",
    "from sklearn import metrics\n",
    "from sklearn.pipeline import Pipeline\n",
    "from sklearn.preprocessing import StandardScaler, LabelEncoder"
   ]
  },
  {
   "cell_type": "code",
   "execution_count": 2,
   "metadata": {},
   "outputs": [],
   "source": [
    "df = pd.read_csv('final_df.csv')"
   ]
  },
  {
   "cell_type": "code",
   "execution_count": 3,
   "metadata": {},
   "outputs": [],
   "source": [
    "features_0 = ['YEAR', 'raceeth', 'How old are you', 'What is your sex',\n",
    "       'In what grade are you','Seat belt use', 'Riding with a drinking driver',\n",
    "       'Drinking and driving', 'Weapon carrying', 'Weapon carrying at school',\n",
    "       'Safety concerns at school', 'Threatened at school',\n",
    "       'Physical fighting', 'Physical fighting at school',\n",
    "       'Forced sexual intercourse', 'Bullying at school',\n",
    "       'Electronic bullying', 'Sad or hopeless', 'Considered suicide',\n",
    "       'Made a suicide plan', 'Attempted suicide', 'Injurious suicide attempt',\n",
    "       'Ever cigarette use', 'Initiation of cigarette smoking',\n",
    "       'Current cigarette use', 'Current smokeless tobacco use',\n",
    "       'Current cigar use', 'Initiation of alcohol use', 'Current alcohol use',\n",
    "       'Source of alcohol', 'Ever marijuana use',\n",
    "       'Initiation of marijuana use', 'Current marijuana use',\n",
    "       'Ever steroid use', 'Illegal injected drug use',\n",
    "       'Illegal drugs at school', 'Ever sexual intercourse',\n",
    "       'Sex before 13 years', 'Multiple sex partners',\n",
    "       'Current sexual activity', 'Alcohol/drugs and sex', \n",
    "        'Perception of weight', 'Weight loss',\n",
    "       'Television watching', 'Computer use', 'HIV testing', 'Asthma', 'Sleep',\n",
    "       'Ever used LSD',\n",
    "       'Has used hard drugs', 'healthy_eating', 'regular_activity']\n",
    "condom_use = df['Condom use']"
   ]
  },
  {
   "cell_type": "code",
   "execution_count": 4,
   "metadata": {
    "ExecuteTime": {
     "end_time": "2021-01-08T17:17:54.381975Z",
     "start_time": "2021-01-08T17:17:54.315154Z"
    }
   },
   "outputs": [],
   "source": [
    "#Split X and y \n",
    "X = df[features_0]\n",
    "y = condom_use"
   ]
  },
  {
   "cell_type": "code",
   "execution_count": 5,
   "metadata": {
    "ExecuteTime": {
     "end_time": "2021-01-08T17:18:43.533704Z",
     "start_time": "2021-01-08T17:18:43.334316Z"
    }
   },
   "outputs": [],
   "source": [
    "#Train Test Split and Standard Scaler\n",
    "from sklearn.model_selection import train_test_split\n",
    "from sklearn.preprocessing import StandardScaler\n",
    "\n",
    "X_train, X_test, y_train, y_test = train_test_split(X, y, test_size= 0.25, random_state=42)\n",
    "\n",
    "scaler = StandardScaler()  \n",
    "scaler.fit(X_train)\n",
    "\n",
    "X_train = scaler.transform(X_train)  \n",
    "X_test = scaler.transform(X_test)"
   ]
  },
  {
   "cell_type": "code",
   "execution_count": 6,
   "metadata": {
    "ExecuteTime": {
     "end_time": "2021-01-08T17:19:17.358798Z",
     "start_time": "2021-01-08T17:18:57.918621Z"
    }
   },
   "outputs": [
    {
     "name": "stdout",
     "output_type": "stream",
     "text": [
      "Synthetic sample class distribution: \n",
      "\n",
      "3.0    22755\n",
      "2.0    22755\n",
      "1.0    22755\n",
      "Name: Condom use, dtype: int64\n",
      "--------------------\n",
      "3.0    0.333333\n",
      "2.0    0.333333\n",
      "1.0    0.333333\n",
      "Name: Condom use, dtype: float64\n"
     ]
    }
   ],
   "source": [
    "# Oversample and plot imbalanced dataset with SMOTE\n",
    "from collections import Counter\n",
    "from sklearn.datasets import make_classification\n",
    "from imblearn.over_sampling import SMOTE\n",
    "\n",
    "smote = SMOTE()\n",
    "X_train_resampled, y_train_resampled = smote.fit_sample(X_train, y_train) \n",
    "# Preview synthetic sample class distribution\n",
    "print('Synthetic sample class distribution: \\n')\n",
    "print(pd.Series(y_train_resampled).value_counts())\n",
    "print('--------------------')\n",
    "print(pd.Series(y_train_resampled).value_counts(normalize=True))"
   ]
  },
  {
   "cell_type": "code",
   "execution_count": 7,
   "metadata": {
    "ExecuteTime": {
     "end_time": "2021-01-08T17:25:17.972660Z",
     "start_time": "2021-01-08T17:25:17.964144Z"
    }
   },
   "outputs": [],
   "source": [
    "#Instantiate model\n",
    "rfc = RandomForestClassifier(random_state=42, max_depth=5)"
   ]
  },
  {
   "cell_type": "code",
   "execution_count": 8,
   "metadata": {
    "ExecuteTime": {
     "end_time": "2021-01-08T17:25:29.845149Z",
     "start_time": "2021-01-08T17:25:19.828402Z"
    }
   },
   "outputs": [
    {
     "data": {
      "text/plain": [
       "RandomForestClassifier(max_depth=5, random_state=42)"
      ]
     },
     "execution_count": 8,
     "metadata": {},
     "output_type": "execute_result"
    }
   ],
   "source": [
    "#fit the model to the training data\n",
    "rfc.fit(X_train_resampled, y_train_resampled)"
   ]
  },
  {
   "cell_type": "code",
   "execution_count": 9,
   "metadata": {
    "ExecuteTime": {
     "end_time": "2021-01-08T17:25:31.499562Z",
     "start_time": "2021-01-08T17:25:30.680159Z"
    }
   },
   "outputs": [
    {
     "name": "stdout",
     "output_type": "stream",
     "text": [
      "Test F1 score test:  0.8370532336435565\n",
      "Test Accuracy score test:  0.8392470307014268\n",
      "Test F1 score test train:  0.8427750147431374\n",
      "Test Accuracy score train:  0.8448743806180125\n"
     ]
    }
   ],
   "source": [
    "#use the fitted model to predict on the test data\n",
    "rfc_preds_test = rfc.predict(X_test)\n",
    "rfc_preds_train = rfc.predict(X_train)\n",
    "rfc_f1_test = metrics.f1_score(y_test, rfc_preds_test,average = 'weighted')\n",
    "rfc_f1_train = metrics.f1_score(y_train, rfc_preds_train,average = 'weighted')\n",
    "rfc_acc_test = metrics.accuracy_score(y_test, rfc_preds_test)\n",
    "rfc_acc_train = metrics.accuracy_score(y_train, rfc_preds_train)\n",
    "# checking accuracy on the test data\n",
    "print('Test F1 score test: ', rfc_f1_test)\n",
    "print('Test Accuracy score test: ', rfc_acc_test)\n",
    "\n",
    "print('Test F1 score test train: ', rfc_f1_train)\n",
    "print('Test Accuracy score train: ', rfc_acc_train)"
   ]
  },
  {
   "cell_type": "code",
   "execution_count": 10,
   "metadata": {
    "ExecuteTime": {
     "end_time": "2021-01-08T17:31:09.396846Z",
     "start_time": "2021-01-08T17:30:00.241265Z"
    }
   },
   "outputs": [
    {
     "data": {
      "text/plain": [
       "0.9160331062770087"
      ]
     },
     "execution_count": 10,
     "metadata": {},
     "output_type": "execute_result"
    }
   ],
   "source": [
    "#Now with cross validation search\n",
    "val = cross_val_score(RandomForestClassifier(random_state=42),X_train_resampled, y_train_resampled,cv=5)\n",
    "val.mean()"
   ]
  },
  {
   "cell_type": "code",
   "execution_count": 11,
   "metadata": {
    "ExecuteTime": {
     "end_time": "2021-01-08T17:29:01.786901Z",
     "start_time": "2021-01-08T17:29:01.646021Z"
    }
   },
   "outputs": [
    {
     "data": {
      "text/plain": [
       "0.8392470307014268"
      ]
     },
     "execution_count": 11,
     "metadata": {},
     "output_type": "execute_result"
    }
   ],
   "source": [
    "rfc.score(X_test, y_test)"
   ]
  },
  {
   "cell_type": "code",
   "execution_count": 17,
   "metadata": {
    "ExecuteTime": {
     "end_time": "2021-01-08T17:26:14.173929Z",
     "start_time": "2021-01-08T17:26:13.555308Z"
    }
   },
   "outputs": [
    {
     "name": "stdout",
     "output_type": "stream",
     "text": [
      "[[7497    0    0]\n",
      " [   0 2618  929]\n",
      " [   1 1222 1120]]\n"
     ]
    },
    {
     "data": {
      "image/png": "[encoded data removed]",
      "text/plain": [
       "<Figure size 432x288 with 2 Axes>"
      ]
     },
     "metadata": {
      "needs_background": "light"
     },
     "output_type": "display_data"
    }
   ],
   "source": [
    "from sklearn.metrics import ConfusionMatrixDisplay\n",
    "cm = confusion_matrix(y_test, rfc_preds_test)\n",
    "print(cm)\n",
    "disp = ConfusionMatrixDisplay(confusion_matrix=cm)\n",
    "disp.plot(cmap='Blues')\n",
    "plt.title('Confusion Matrix: Random Forest')\n",
    "plt.show()"
   ]
  },
  {
   "cell_type": "code",
   "execution_count": null,
   "metadata": {},
   "outputs": [],
   "source": []
  }
 ],
 "metadata": {
  "kernelspec": {
   "display_name": "Python 3",
   "language": "python",
   "name": "python3"
  },
  "language_info": {
   "codemirror_mode": {
    "name": "ipython",
    "version": 3
   },
   "file_extension": ".py",
   "mimetype": "text/x-python",
   "name": "python",
   "nbconvert_exporter": "python",
   "pygments_lexer": "ipython3",
   "version": "3.8.3"
  },
  "toc": {
   "base_numbering": 1,
   "nav_menu": {},
   "number_sections": true,
   "sideBar": true,
   "skip_h1_title": false,
   "title_cell": "Table of Contents",
   "title_sidebar": "Contents",
   "toc_cell": false,
   "toc_position": {},
   "toc_section_display": true,
   "toc_window_display": false
  }
 },
 "nbformat": 4,
 "nbformat_minor": 4
}
