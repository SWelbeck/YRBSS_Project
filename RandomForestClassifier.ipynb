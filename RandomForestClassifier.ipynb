{
 "cells": [
  {
   "cell_type": "markdown",
   "metadata": {},
   "source": [
    "# Random Forest"
   ]
  },
  {
   "cell_type": "code",
   "execution_count": 29,
   "metadata": {
    "ExecuteTime": {
     "end_time": "2021-01-08T17:22:07.695384Z",
     "start_time": "2021-01-08T17:22:07.681387Z"
    }
   },
   "outputs": [],
   "source": [
    "#Import modules\n",
    "import pandas as pd\n",
    "import numpy as np\n",
    "import pickle\n",
    "import matplotlib.pyplot as plt\n",
    "%matplotlib inline\n",
    "import seaborn as sns\n",
    "from sklearn.model_selection import train_test_split, GridSearchCV, cross_val_score\n",
    "from sklearn.tree import DecisionTreeClassifier\n",
    "from sklearn.ensemble import RandomForestClassifier\n",
    "from sklearn.metrics import accuracy_score\n",
    "from sklearn import metrics\n",
    "from sklearn.pipeline import Pipeline\n",
    "from sklearn.preprocessing import StandardScaler, LabelEncoder"
   ]
  },
  {
   "cell_type": "code",
   "execution_count": 22,
   "metadata": {
    "ExecuteTime": {
     "end_time": "2021-01-08T17:17:54.381975Z",
     "start_time": "2021-01-08T17:17:54.315154Z"
    }
   },
   "outputs": [],
   "source": [
    "#Split X and y \n",
    "X = df[features_0]\n",
    "y = condom_use"
   ]
  },
  {
   "cell_type": "code",
   "execution_count": 24,
   "metadata": {
    "ExecuteTime": {
     "end_time": "2021-01-08T17:18:43.533704Z",
     "start_time": "2021-01-08T17:18:43.334316Z"
    }
   },
   "outputs": [],
   "source": [
    "#Train Test Split and Standard Scaler\n",
    "from sklearn.model_selection import train_test_split\n",
    "from sklearn.preprocessing import StandardScaler\n",
    "\n",
    "X_train, X_test, y_train, y_test = train_test_split(X, y, test_size= 0.25, random_state=42)\n",
    "\n",
    "scaler = StandardScaler()  \n",
    "scaler.fit(X_train)\n",
    "\n",
    "X_train = scaler.transform(X_train)  \n",
    "X_test = scaler.transform(X_test)"
   ]
  },
  {
   "cell_type": "code",
   "execution_count": 25,
   "metadata": {
    "ExecuteTime": {
     "end_time": "2021-01-08T17:19:17.358798Z",
     "start_time": "2021-01-08T17:18:57.918621Z"
    }
   },
   "outputs": [
    {
     "name": "stdout",
     "output_type": "stream",
     "text": [
      "Synthetic sample class distribution: \n",
      "\n",
      "3.0    22755\n",
      "2.0    22755\n",
      "1.0    22755\n",
      "Name: Condom use, dtype: int64\n",
      "--------------------\n",
      "3.0    0.333333\n",
      "2.0    0.333333\n",
      "1.0    0.333333\n",
      "Name: Condom use, dtype: float64\n"
     ]
    }
   ],
   "source": [
    "# Oversample and plot imbalanced dataset with SMOTE\n",
    "from collections import Counter\n",
    "from sklearn.datasets import make_classification\n",
    "from imblearn.over_sampling import SMOTE\n",
    "\n",
    "smote = SMOTE()\n",
    "X_train_resampled, y_train_resampled = smote.fit_sample(X_train, y_train) \n",
    "# Preview synthetic sample class distribution\n",
    "print('Synthetic sample class distribution: \\n')\n",
    "print(pd.Series(y_train_resampled).value_counts())\n",
    "print('--------------------')\n",
    "print(pd.Series(y_train_resampled).value_counts(normalize=True))"
   ]
  },
  {
   "cell_type": "code",
   "execution_count": 34,
   "metadata": {
    "ExecuteTime": {
     "end_time": "2021-01-08T17:25:17.972660Z",
     "start_time": "2021-01-08T17:25:17.964144Z"
    }
   },
   "outputs": [],
   "source": [
    "#Instantiate model\n",
    "rfc = RandomForestClassifier(random_state=42, max_depth=5)"
   ]
  },
  {
   "cell_type": "code",
   "execution_count": 35,
   "metadata": {
    "ExecuteTime": {
     "end_time": "2021-01-08T17:25:29.845149Z",
     "start_time": "2021-01-08T17:25:19.828402Z"
    }
   },
   "outputs": [
    {
     "data": {
      "text/plain": [
       "RandomForestClassifier(max_depth=5, random_state=42)"
      ]
     },
     "execution_count": 35,
     "metadata": {},
     "output_type": "execute_result"
    }
   ],
   "source": [
    "#fit the model to the training data\n",
    "rfc.fit(X_train_resampled, y_train_resampled)"
   ]
  },
  {
   "cell_type": "code",
   "execution_count": 37,
   "metadata": {
    "ExecuteTime": {
     "end_time": "2021-01-08T17:25:31.499562Z",
     "start_time": "2021-01-08T17:25:30.680159Z"
    }
   },
   "outputs": [
    {
     "name": "stdout",
     "output_type": "stream",
     "text": [
      "Test F1 score test:  0.8381976794095654\n",
      "Test Accuracy score test:  0.8398446253828341\n",
      "Test F1 score test train:  0.8431627640125784\n",
      "Test Accuracy score train:  0.8447996812828366\n"
     ]
    }
   ],
   "source": [
    "#use the fitted model to predict on the test data\n",
    "rfc_preds_test = rfc.predict(X_test)\n",
    "rfc_preds_train = rfc.predict(X_train)\n",
    "rfc_f1_test = metrics.f1_score(y_test, rfc_preds_test,average = 'weighted')\n",
    "rfc_f1_train = metrics.f1_score(y_train, rfc_preds_train,average = 'weighted')\n",
    "rfc_acc_test = metrics.accuracy_score(y_test, rfc_preds_test)\n",
    "rfc_acc_train = metrics.accuracy_score(y_train, rfc_preds_train)\n",
    "# checking accuracy on the test data\n",
    "print('Test F1 score test: ', rfc_f1_test)\n",
    "print('Test Accuracy score test: ', rfc_acc_test)\n",
    "\n",
    "print('Test F1 score test train: ', rfc_f1_train)\n",
    "print('Test Accuracy score train: ', rfc_acc_train)"
   ]
  },
  {
   "cell_type": "code",
   "execution_count": 42,
   "metadata": {
    "ExecuteTime": {
     "end_time": "2021-01-08T17:31:09.396846Z",
     "start_time": "2021-01-08T17:30:00.241265Z"
    }
   },
   "outputs": [
    {
     "data": {
      "text/plain": [
       "0.9154325056764081"
      ]
     },
     "execution_count": 42,
     "metadata": {},
     "output_type": "execute_result"
    }
   ],
   "source": [
    "#Now with cross validation search\n",
    "val = cross_val_score(RandomForestClassifier(random_state=42),X_train_resampled, y_train_resampled,cv=5)\n",
    "val.mean()"
   ]
  },
  {
   "cell_type": "code",
   "execution_count": 41,
   "metadata": {
    "ExecuteTime": {
     "end_time": "2021-01-08T17:29:01.786901Z",
     "start_time": "2021-01-08T17:29:01.646021Z"
    }
   },
   "outputs": [
    {
     "data": {
      "text/plain": [
       "0.8398446253828341"
      ]
     },
     "execution_count": 41,
     "metadata": {},
     "output_type": "execute_result"
    }
   ],
   "source": [
    "rfc.score(X_test, y_test)"
   ]
  },
  {
   "cell_type": "code",
   "execution_count": 39,
   "metadata": {
    "ExecuteTime": {
     "end_time": "2021-01-08T17:26:14.173929Z",
     "start_time": "2021-01-08T17:26:13.555308Z"
    }
   },
   "outputs": [
    {
     "name": "stdout",
     "output_type": "stream",
     "text": [
      "[[7497    0    0]\n",
      " [   0 2591  956]\n",
      " [   1 1187 1155]]\n"
     ]
    },
    {
     "data": {
      "image/png": "[encoded data removed]",
      "text/plain": [
       "<Figure size 432x288 with 2 Axes>"
      ]
     },
     "metadata": {
      "needs_background": "light"
     },
     "output_type": "display_data"
    }
   ],
   "source": [
    "cm = confusion_matrix(y_test, rfc_preds_test)\n",
    "print(cm)\n",
    "disp = ConfusionMatrixDisplay(confusion_matrix=cm)\n",
    "disp.plot(cmap='Blues')\n",
    "plt.show()"
   ]
  },
  {
   "cell_type": "code",
   "execution_count": null,
   "metadata": {},
   "outputs": [],
   "source": []
  }
 ],
 "metadata": {
  "kernelspec": {
   "display_name": "Python 3",
   "language": "python",
   "name": "python3"
  },
  "language_info": {
   "codemirror_mode": {
    "name": "ipython",
    "version": 3
   },
   "file_extension": ".py",
   "mimetype": "text/x-python",
   "name": "python",
   "nbconvert_exporter": "python",
   "pygments_lexer": "ipython3",
   "version": "3.6.10"
  }
 },
 "nbformat": 4,
 "nbformat_minor": 4
}
