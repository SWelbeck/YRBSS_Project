{
 "cells": [
  {
   "cell_type": "markdown",
   "metadata": {},
   "source": [
    "# Importing Data"
   ]
  },
  {
   "cell_type": "code",
   "execution_count": 1,
   "metadata": {
    "ExecuteTime": {
     "end_time": "2021-01-06T22:45:43.370304Z",
     "start_time": "2021-01-06T22:45:38.010082Z"
    }
   },
   "outputs": [],
   "source": [
    "#importing necessary libraries and modules\n",
    "import pandas as pd\n",
    "import matplotlib.pyplot as plt\n",
    "%matplotlib inline\n",
    "import seaborn as sns\n",
    "import numpy as np\n",
    "from statsmodels.formula.api import ols\n",
    "import scipy.stats as stats\n",
    "import math\n",
    "import folium\n",
    "import geopandas as gpd\n",
    "\n",
    "pd.set_option('display.max_columns', 150, 'display.max_rows', 150)\n",
    "\n",
    "from sklearn import linear_model\n",
    "from sklearn.linear_model import LinearRegression\n",
    "from sklearn.model_selection import train_test_split\n",
    "from sklearn import metrics\n",
    "from sklearn.preprocessing import PolynomialFeatures\n",
    "from sklearn.preprocessing import StandardScaler"
   ]
  },
  {
   "cell_type": "code",
   "execution_count": 2,
   "metadata": {
    "ExecuteTime": {
     "end_time": "2021-01-06T22:45:44.139622Z",
     "start_time": "2021-01-06T22:45:43.373743Z"
    }
   },
   "outputs": [],
   "source": [
    "#read in data\n",
    "df = pd.read_csv('final_df.csv')"
   ]
  },
  {
   "cell_type": "code",
   "execution_count": 3,
   "metadata": {
    "ExecuteTime": {
     "end_time": "2021-01-06T22:45:44.184899Z",
     "start_time": "2021-01-06T22:45:44.142274Z"
    }
   },
   "outputs": [],
   "source": [
    "#drop first columns from df\n",
    "df = df.drop(columns = ['Unnamed: 0', 'Unnamed: 0.1'], axis=1)"
   ]
  },
  {
   "cell_type": "code",
   "execution_count": 4,
   "metadata": {
    "ExecuteTime": {
     "end_time": "2021-01-06T22:45:44.312569Z",
     "start_time": "2021-01-06T22:45:44.188008Z"
    },
    "scrolled": true
   },
   "outputs": [
    {
     "data": {
      "text/html": [
       "<div>\n",
       "<style scoped>\n",
       "    .dataframe tbody tr th:only-of-type {\n",
       "        vertical-align: middle;\n",
       "    }\n",
       "\n",
       "    .dataframe tbody tr th {\n",
       "        vertical-align: top;\n",
       "    }\n",
       "\n",
       "    .dataframe thead th {\n",
       "        text-align: right;\n",
       "    }\n",
       "</style>\n",
       "<table border=\"1\" class=\"dataframe\">\n",
       "  <thead>\n",
       "    <tr style=\"text-align: right;\">\n",
       "      <th></th>\n",
       "      <th>YEAR</th>\n",
       "      <th>raceeth</th>\n",
       "      <th>How old are you</th>\n",
       "      <th>What is your sex</th>\n",
       "      <th>In what grade are you</th>\n",
       "      <th>Are you Hispanic/Latino</th>\n",
       "      <th>What is your race</th>\n",
       "      <th>How tall are you</th>\n",
       "      <th>How much do you weigh</th>\n",
       "      <th>Seat belt use</th>\n",
       "      <th>Riding with a drinking driver</th>\n",
       "      <th>Drinking and driving</th>\n",
       "      <th>Weapon carrying</th>\n",
       "      <th>Weapon carrying at school</th>\n",
       "      <th>Safety concerns at school</th>\n",
       "      <th>Threatened at school</th>\n",
       "      <th>Physical fighting</th>\n",
       "      <th>Physical fighting at school</th>\n",
       "      <th>Forced sexual intercourse</th>\n",
       "      <th>Bullying at school</th>\n",
       "      <th>Electronic bullying</th>\n",
       "      <th>Sad or hopeless</th>\n",
       "      <th>Considered suicide</th>\n",
       "      <th>Made a suicide plan</th>\n",
       "      <th>Attempted suicide</th>\n",
       "      <th>Injurious suicide attempt</th>\n",
       "      <th>Ever cigarette use</th>\n",
       "      <th>Initiation of cigarette smoking</th>\n",
       "      <th>Current cigarette use</th>\n",
       "      <th>Current smokeless tobacco use</th>\n",
       "      <th>Current cigar use</th>\n",
       "      <th>Initiation of alcohol use</th>\n",
       "      <th>Current alcohol use</th>\n",
       "      <th>Source of alcohol</th>\n",
       "      <th>Ever marijuana use</th>\n",
       "      <th>Initiation of marijuana use</th>\n",
       "      <th>Current marijuana use</th>\n",
       "      <th>Ever prescription pain medicine use</th>\n",
       "      <th>Ever cocaine use</th>\n",
       "      <th>Ever inhalant use</th>\n",
       "      <th>Ever heroin use</th>\n",
       "      <th>Ever methamphetamine use</th>\n",
       "      <th>Ever ecstasy use</th>\n",
       "      <th>Ever steroid use</th>\n",
       "      <th>Illegal injected drug use</th>\n",
       "      <th>Illegal drugs at school</th>\n",
       "      <th>Ever sexual intercourse</th>\n",
       "      <th>Sex before 13 years</th>\n",
       "      <th>Multiple sex partners</th>\n",
       "      <th>Current sexual activity</th>\n",
       "      <th>Alcohol/drugs and sex</th>\n",
       "      <th>Condom use</th>\n",
       "      <th>Birth control pill use</th>\n",
       "      <th>Perception of weight</th>\n",
       "      <th>Weight loss</th>\n",
       "      <th>Fruit juice drinking</th>\n",
       "      <th>Fruit eating</th>\n",
       "      <th>Green salad eating</th>\n",
       "      <th>Potato eating</th>\n",
       "      <th>Carrot eating</th>\n",
       "      <th>Other vegetable eating</th>\n",
       "      <th>No soda drinking</th>\n",
       "      <th>No milk drinking</th>\n",
       "      <th>Breakfast eating</th>\n",
       "      <th>Television watching</th>\n",
       "      <th>Computer use</th>\n",
       "      <th>PE attendance</th>\n",
       "      <th>Sports team participation</th>\n",
       "      <th>HIV testing</th>\n",
       "      <th>Asthma</th>\n",
       "      <th>Sleep</th>\n",
       "      <th>Ever used LSD</th>\n",
       "      <th>Muscle strengthening</th>\n",
       "      <th>Indoor tanning</th>\n",
       "      <th>BMIPCT</th>\n",
       "      <th>weight</th>\n",
       "      <th>stratum</th>\n",
       "      <th>psu</th>\n",
       "    </tr>\n",
       "  </thead>\n",
       "  <tbody>\n",
       "    <tr>\n",
       "      <th>0</th>\n",
       "      <td>2019.0</td>\n",
       "      <td>7.0</td>\n",
       "      <td>5.0</td>\n",
       "      <td>2.0</td>\n",
       "      <td>2.0</td>\n",
       "      <td>1.0</td>\n",
       "      <td>A</td>\n",
       "      <td>1.63</td>\n",
       "      <td>54.89</td>\n",
       "      <td>4.0</td>\n",
       "      <td>1.0</td>\n",
       "      <td>2.0</td>\n",
       "      <td>1.0</td>\n",
       "      <td>1.0</td>\n",
       "      <td>1.0</td>\n",
       "      <td>1.0</td>\n",
       "      <td>1.0</td>\n",
       "      <td>1.0</td>\n",
       "      <td>2.0</td>\n",
       "      <td>2.0</td>\n",
       "      <td>2.0</td>\n",
       "      <td>2.0</td>\n",
       "      <td>2.0</td>\n",
       "      <td>2.0</td>\n",
       "      <td>1.0</td>\n",
       "      <td>1.0</td>\n",
       "      <td>2.0</td>\n",
       "      <td>1.0</td>\n",
       "      <td>1.0</td>\n",
       "      <td>1.0</td>\n",
       "      <td>1.0</td>\n",
       "      <td>1.0</td>\n",
       "      <td>1.0</td>\n",
       "      <td>1.0</td>\n",
       "      <td>1.0</td>\n",
       "      <td>1.0</td>\n",
       "      <td>1.0</td>\n",
       "      <td>1.0</td>\n",
       "      <td>1.0</td>\n",
       "      <td>1.0</td>\n",
       "      <td>1.0</td>\n",
       "      <td>1.0</td>\n",
       "      <td>1.0</td>\n",
       "      <td>1.0</td>\n",
       "      <td>1.0</td>\n",
       "      <td>1.0</td>\n",
       "      <td>2.0</td>\n",
       "      <td>1.0</td>\n",
       "      <td>1.0</td>\n",
       "      <td>1.0</td>\n",
       "      <td>1.0</td>\n",
       "      <td>1.0</td>\n",
       "      <td>1.0</td>\n",
       "      <td>3.0</td>\n",
       "      <td>3.0</td>\n",
       "      <td>2.0</td>\n",
       "      <td>3.0</td>\n",
       "      <td>1.0</td>\n",
       "      <td>1.0</td>\n",
       "      <td>1.0</td>\n",
       "      <td>2.0</td>\n",
       "      <td>3.0</td>\n",
       "      <td>3.0</td>\n",
       "      <td>1.0</td>\n",
       "      <td>2.0</td>\n",
       "      <td>5.0</td>\n",
       "      <td>1.0</td>\n",
       "      <td>2.0</td>\n",
       "      <td>2.0</td>\n",
       "      <td>2.0</td>\n",
       "      <td>4.0</td>\n",
       "      <td>1.0</td>\n",
       "      <td>5.0</td>\n",
       "      <td>1.0</td>\n",
       "      <td>46.882141</td>\n",
       "      <td>1.6659</td>\n",
       "      <td>213.0</td>\n",
       "      <td>57923.0</td>\n",
       "    </tr>\n",
       "    <tr>\n",
       "      <th>1</th>\n",
       "      <td>2019.0</td>\n",
       "      <td>8.0</td>\n",
       "      <td>4.0</td>\n",
       "      <td>2.0</td>\n",
       "      <td>2.0</td>\n",
       "      <td>2.0</td>\n",
       "      <td>A  D</td>\n",
       "      <td>1.60</td>\n",
       "      <td>53.98</td>\n",
       "      <td>5.0</td>\n",
       "      <td>2.0</td>\n",
       "      <td>2.0</td>\n",
       "      <td>1.0</td>\n",
       "      <td>1.0</td>\n",
       "      <td>1.0</td>\n",
       "      <td>1.0</td>\n",
       "      <td>1.0</td>\n",
       "      <td>1.0</td>\n",
       "      <td>2.0</td>\n",
       "      <td>1.0</td>\n",
       "      <td>2.0</td>\n",
       "      <td>2.0</td>\n",
       "      <td>2.0</td>\n",
       "      <td>2.0</td>\n",
       "      <td>1.0</td>\n",
       "      <td>1.0</td>\n",
       "      <td>2.0</td>\n",
       "      <td>1.0</td>\n",
       "      <td>1.0</td>\n",
       "      <td>1.0</td>\n",
       "      <td>1.0</td>\n",
       "      <td>1.0</td>\n",
       "      <td>1.0</td>\n",
       "      <td>1.0</td>\n",
       "      <td>2.0</td>\n",
       "      <td>5.0</td>\n",
       "      <td>1.0</td>\n",
       "      <td>1.0</td>\n",
       "      <td>1.0</td>\n",
       "      <td>1.0</td>\n",
       "      <td>1.0</td>\n",
       "      <td>1.0</td>\n",
       "      <td>1.0</td>\n",
       "      <td>1.0</td>\n",
       "      <td>1.0</td>\n",
       "      <td>2.0</td>\n",
       "      <td>2.0</td>\n",
       "      <td>1.0</td>\n",
       "      <td>1.0</td>\n",
       "      <td>1.0</td>\n",
       "      <td>1.0</td>\n",
       "      <td>1.0</td>\n",
       "      <td>1.0</td>\n",
       "      <td>3.0</td>\n",
       "      <td>1.0</td>\n",
       "      <td>2.0</td>\n",
       "      <td>7.0</td>\n",
       "      <td>6.0</td>\n",
       "      <td>5.0</td>\n",
       "      <td>5.0</td>\n",
       "      <td>6.0</td>\n",
       "      <td>1.0</td>\n",
       "      <td>5.0</td>\n",
       "      <td>8.0</td>\n",
       "      <td>3.0</td>\n",
       "      <td>3.0</td>\n",
       "      <td>1.0</td>\n",
       "      <td>1.0</td>\n",
       "      <td>2.0</td>\n",
       "      <td>2.0</td>\n",
       "      <td>4.0</td>\n",
       "      <td>1.0</td>\n",
       "      <td>6.0</td>\n",
       "      <td>1.0</td>\n",
       "      <td>62.232194</td>\n",
       "      <td>1.3851</td>\n",
       "      <td>213.0</td>\n",
       "      <td>57923.0</td>\n",
       "    </tr>\n",
       "    <tr>\n",
       "      <th>2</th>\n",
       "      <td>2019.0</td>\n",
       "      <td>8.0</td>\n",
       "      <td>4.0</td>\n",
       "      <td>1.0</td>\n",
       "      <td>2.0</td>\n",
       "      <td>2.0</td>\n",
       "      <td>B  E</td>\n",
       "      <td>1.68</td>\n",
       "      <td>43.09</td>\n",
       "      <td>4.0</td>\n",
       "      <td>1.0</td>\n",
       "      <td>2.0</td>\n",
       "      <td>1.0</td>\n",
       "      <td>1.0</td>\n",
       "      <td>1.0</td>\n",
       "      <td>1.0</td>\n",
       "      <td>1.0</td>\n",
       "      <td>1.0</td>\n",
       "      <td>2.0</td>\n",
       "      <td>2.0</td>\n",
       "      <td>2.0</td>\n",
       "      <td>2.0</td>\n",
       "      <td>2.0</td>\n",
       "      <td>2.0</td>\n",
       "      <td>1.0</td>\n",
       "      <td>1.0</td>\n",
       "      <td>2.0</td>\n",
       "      <td>1.0</td>\n",
       "      <td>1.0</td>\n",
       "      <td>1.0</td>\n",
       "      <td>1.0</td>\n",
       "      <td>1.0</td>\n",
       "      <td>1.0</td>\n",
       "      <td>1.0</td>\n",
       "      <td>1.0</td>\n",
       "      <td>1.0</td>\n",
       "      <td>1.0</td>\n",
       "      <td>1.0</td>\n",
       "      <td>1.0</td>\n",
       "      <td>1.0</td>\n",
       "      <td>1.0</td>\n",
       "      <td>1.0</td>\n",
       "      <td>1.0</td>\n",
       "      <td>1.0</td>\n",
       "      <td>1.0</td>\n",
       "      <td>2.0</td>\n",
       "      <td>2.0</td>\n",
       "      <td>1.0</td>\n",
       "      <td>1.0</td>\n",
       "      <td>1.0</td>\n",
       "      <td>1.0</td>\n",
       "      <td>1.0</td>\n",
       "      <td>1.0</td>\n",
       "      <td>2.0</td>\n",
       "      <td>4.0</td>\n",
       "      <td>1.0</td>\n",
       "      <td>4.0</td>\n",
       "      <td>2.0</td>\n",
       "      <td>2.0</td>\n",
       "      <td>2.0</td>\n",
       "      <td>5.0</td>\n",
       "      <td>2.0</td>\n",
       "      <td>2.0</td>\n",
       "      <td>8.0</td>\n",
       "      <td>2.0</td>\n",
       "      <td>4.0</td>\n",
       "      <td>1.0</td>\n",
       "      <td>1.0</td>\n",
       "      <td>3.0</td>\n",
       "      <td>2.0</td>\n",
       "      <td>5.0</td>\n",
       "      <td>1.0</td>\n",
       "      <td>1.0</td>\n",
       "      <td>1.0</td>\n",
       "      <td>0.590171</td>\n",
       "      <td>1.4958</td>\n",
       "      <td>213.0</td>\n",
       "      <td>57923.0</td>\n",
       "    </tr>\n",
       "    <tr>\n",
       "      <th>3</th>\n",
       "      <td>2019.0</td>\n",
       "      <td>5.0</td>\n",
       "      <td>4.0</td>\n",
       "      <td>2.0</td>\n",
       "      <td>2.0</td>\n",
       "      <td>2.0</td>\n",
       "      <td>E</td>\n",
       "      <td>1.78</td>\n",
       "      <td>68.95</td>\n",
       "      <td>4.0</td>\n",
       "      <td>1.0</td>\n",
       "      <td>1.0</td>\n",
       "      <td>1.0</td>\n",
       "      <td>1.0</td>\n",
       "      <td>1.0</td>\n",
       "      <td>1.0</td>\n",
       "      <td>1.0</td>\n",
       "      <td>1.0</td>\n",
       "      <td>2.0</td>\n",
       "      <td>2.0</td>\n",
       "      <td>2.0</td>\n",
       "      <td>1.0</td>\n",
       "      <td>2.0</td>\n",
       "      <td>2.0</td>\n",
       "      <td>1.0</td>\n",
       "      <td>1.0</td>\n",
       "      <td>1.0</td>\n",
       "      <td>4.0</td>\n",
       "      <td>3.0</td>\n",
       "      <td>1.0</td>\n",
       "      <td>1.0</td>\n",
       "      <td>5.0</td>\n",
       "      <td>3.0</td>\n",
       "      <td>7.0</td>\n",
       "      <td>7.0</td>\n",
       "      <td>4.0</td>\n",
       "      <td>6.0</td>\n",
       "      <td>3.0</td>\n",
       "      <td>3.0</td>\n",
       "      <td>1.0</td>\n",
       "      <td>1.0</td>\n",
       "      <td>1.0</td>\n",
       "      <td>1.0</td>\n",
       "      <td>1.0</td>\n",
       "      <td>1.0</td>\n",
       "      <td>1.0</td>\n",
       "      <td>2.0</td>\n",
       "      <td>1.0</td>\n",
       "      <td>1.0</td>\n",
       "      <td>1.0</td>\n",
       "      <td>1.0</td>\n",
       "      <td>1.0</td>\n",
       "      <td>1.0</td>\n",
       "      <td>3.0</td>\n",
       "      <td>3.0</td>\n",
       "      <td>2.0</td>\n",
       "      <td>2.0</td>\n",
       "      <td>1.0</td>\n",
       "      <td>2.0</td>\n",
       "      <td>2.0</td>\n",
       "      <td>3.0</td>\n",
       "      <td>2.0</td>\n",
       "      <td>3.0</td>\n",
       "      <td>1.0</td>\n",
       "      <td>7.0</td>\n",
       "      <td>7.0</td>\n",
       "      <td>1.0</td>\n",
       "      <td>1.0</td>\n",
       "      <td>2.0</td>\n",
       "      <td>3.0</td>\n",
       "      <td>4.0</td>\n",
       "      <td>3.0</td>\n",
       "      <td>1.0</td>\n",
       "      <td>1.0</td>\n",
       "      <td>69.786634</td>\n",
       "      <td>1.7114</td>\n",
       "      <td>213.0</td>\n",
       "      <td>57923.0</td>\n",
       "    </tr>\n",
       "    <tr>\n",
       "      <th>4</th>\n",
       "      <td>2019.0</td>\n",
       "      <td>6.0</td>\n",
       "      <td>5.0</td>\n",
       "      <td>2.0</td>\n",
       "      <td>2.0</td>\n",
       "      <td>1.0</td>\n",
       "      <td>NaN</td>\n",
       "      <td>1.78</td>\n",
       "      <td>58.97</td>\n",
       "      <td>4.0</td>\n",
       "      <td>1.0</td>\n",
       "      <td>1.0</td>\n",
       "      <td>1.0</td>\n",
       "      <td>1.0</td>\n",
       "      <td>1.0</td>\n",
       "      <td>1.0</td>\n",
       "      <td>1.0</td>\n",
       "      <td>1.0</td>\n",
       "      <td>2.0</td>\n",
       "      <td>2.0</td>\n",
       "      <td>2.0</td>\n",
       "      <td>2.0</td>\n",
       "      <td>2.0</td>\n",
       "      <td>2.0</td>\n",
       "      <td>1.0</td>\n",
       "      <td>1.0</td>\n",
       "      <td>2.0</td>\n",
       "      <td>1.0</td>\n",
       "      <td>1.0</td>\n",
       "      <td>1.0</td>\n",
       "      <td>1.0</td>\n",
       "      <td>1.0</td>\n",
       "      <td>1.0</td>\n",
       "      <td>1.0</td>\n",
       "      <td>1.0</td>\n",
       "      <td>1.0</td>\n",
       "      <td>1.0</td>\n",
       "      <td>1.0</td>\n",
       "      <td>1.0</td>\n",
       "      <td>1.0</td>\n",
       "      <td>1.0</td>\n",
       "      <td>1.0</td>\n",
       "      <td>1.0</td>\n",
       "      <td>1.0</td>\n",
       "      <td>1.0</td>\n",
       "      <td>2.0</td>\n",
       "      <td>2.0</td>\n",
       "      <td>1.0</td>\n",
       "      <td>1.0</td>\n",
       "      <td>1.0</td>\n",
       "      <td>1.0</td>\n",
       "      <td>1.0</td>\n",
       "      <td>1.0</td>\n",
       "      <td>3.0</td>\n",
       "      <td>4.0</td>\n",
       "      <td>4.0</td>\n",
       "      <td>5.0</td>\n",
       "      <td>1.0</td>\n",
       "      <td>2.0</td>\n",
       "      <td>3.0</td>\n",
       "      <td>4.0</td>\n",
       "      <td>2.0</td>\n",
       "      <td>5.0</td>\n",
       "      <td>1.0</td>\n",
       "      <td>1.0</td>\n",
       "      <td>4.0</td>\n",
       "      <td>1.0</td>\n",
       "      <td>1.0</td>\n",
       "      <td>2.0</td>\n",
       "      <td>2.0</td>\n",
       "      <td>2.0</td>\n",
       "      <td>1.0</td>\n",
       "      <td>2.0</td>\n",
       "      <td>1.0</td>\n",
       "      <td>16.739994</td>\n",
       "      <td>1.6659</td>\n",
       "      <td>213.0</td>\n",
       "      <td>57923.0</td>\n",
       "    </tr>\n",
       "  </tbody>\n",
       "</table>\n",
       "</div>"
      ],
      "text/plain": [
       "     YEAR  raceeth  How old are you  What is your sex  In what grade are you  \\\n",
       "0  2019.0      7.0              5.0               2.0                    2.0   \n",
       "1  2019.0      8.0              4.0               2.0                    2.0   \n",
       "2  2019.0      8.0              4.0               1.0                    2.0   \n",
       "3  2019.0      5.0              4.0               2.0                    2.0   \n",
       "4  2019.0      6.0              5.0               2.0                    2.0   \n",
       "\n",
       "   Are you Hispanic/Latino What is your race  How tall are you  \\\n",
       "0                      1.0                 A              1.63   \n",
       "1                      2.0              A  D              1.60   \n",
       "2                      2.0              B  E              1.68   \n",
       "3                      2.0                 E              1.78   \n",
       "4                      1.0               NaN              1.78   \n",
       "\n",
       "   How much do you weigh  Seat belt use  Riding with a drinking driver  \\\n",
       "0                  54.89            4.0                            1.0   \n",
       "1                  53.98            5.0                            2.0   \n",
       "2                  43.09            4.0                            1.0   \n",
       "3                  68.95            4.0                            1.0   \n",
       "4                  58.97            4.0                            1.0   \n",
       "\n",
       "   Drinking and driving  Weapon carrying  Weapon carrying at school  \\\n",
       "0                   2.0              1.0                        1.0   \n",
       "1                   2.0              1.0                        1.0   \n",
       "2                   2.0              1.0                        1.0   \n",
       "3                   1.0              1.0                        1.0   \n",
       "4                   1.0              1.0                        1.0   \n",
       "\n",
       "   Safety concerns at school  Threatened at school  Physical fighting  \\\n",
       "0                        1.0                   1.0                1.0   \n",
       "1                        1.0                   1.0                1.0   \n",
       "2                        1.0                   1.0                1.0   \n",
       "3                        1.0                   1.0                1.0   \n",
       "4                        1.0                   1.0                1.0   \n",
       "\n",
       "   Physical fighting at school  Forced sexual intercourse  Bullying at school  \\\n",
       "0                          1.0                        2.0                 2.0   \n",
       "1                          1.0                        2.0                 1.0   \n",
       "2                          1.0                        2.0                 2.0   \n",
       "3                          1.0                        2.0                 2.0   \n",
       "4                          1.0                        2.0                 2.0   \n",
       "\n",
       "   Electronic bullying  Sad or hopeless  Considered suicide  \\\n",
       "0                  2.0              2.0                 2.0   \n",
       "1                  2.0              2.0                 2.0   \n",
       "2                  2.0              2.0                 2.0   \n",
       "3                  2.0              1.0                 2.0   \n",
       "4                  2.0              2.0                 2.0   \n",
       "\n",
       "   Made a suicide plan  Attempted suicide  Injurious suicide attempt  \\\n",
       "0                  2.0                1.0                        1.0   \n",
       "1                  2.0                1.0                        1.0   \n",
       "2                  2.0                1.0                        1.0   \n",
       "3                  2.0                1.0                        1.0   \n",
       "4                  2.0                1.0                        1.0   \n",
       "\n",
       "   Ever cigarette use  Initiation of cigarette smoking  Current cigarette use  \\\n",
       "0                 2.0                              1.0                    1.0   \n",
       "1                 2.0                              1.0                    1.0   \n",
       "2                 2.0                              1.0                    1.0   \n",
       "3                 1.0                              4.0                    3.0   \n",
       "4                 2.0                              1.0                    1.0   \n",
       "\n",
       "   Current smokeless tobacco use  Current cigar use  \\\n",
       "0                            1.0                1.0   \n",
       "1                            1.0                1.0   \n",
       "2                            1.0                1.0   \n",
       "3                            1.0                1.0   \n",
       "4                            1.0                1.0   \n",
       "\n",
       "   Initiation of alcohol use  Current alcohol use  Source of alcohol  \\\n",
       "0                        1.0                  1.0                1.0   \n",
       "1                        1.0                  1.0                1.0   \n",
       "2                        1.0                  1.0                1.0   \n",
       "3                        5.0                  3.0                7.0   \n",
       "4                        1.0                  1.0                1.0   \n",
       "\n",
       "   Ever marijuana use  Initiation of marijuana use  Current marijuana use  \\\n",
       "0                 1.0                          1.0                    1.0   \n",
       "1                 2.0                          5.0                    1.0   \n",
       "2                 1.0                          1.0                    1.0   \n",
       "3                 7.0                          4.0                    6.0   \n",
       "4                 1.0                          1.0                    1.0   \n",
       "\n",
       "   Ever prescription pain medicine use  Ever cocaine use  Ever inhalant use  \\\n",
       "0                                  1.0               1.0                1.0   \n",
       "1                                  1.0               1.0                1.0   \n",
       "2                                  1.0               1.0                1.0   \n",
       "3                                  3.0               3.0                1.0   \n",
       "4                                  1.0               1.0                1.0   \n",
       "\n",
       "   Ever heroin use  Ever methamphetamine use  Ever ecstasy use  \\\n",
       "0              1.0                       1.0               1.0   \n",
       "1              1.0                       1.0               1.0   \n",
       "2              1.0                       1.0               1.0   \n",
       "3              1.0                       1.0               1.0   \n",
       "4              1.0                       1.0               1.0   \n",
       "\n",
       "   Ever steroid use  Illegal injected drug use  Illegal drugs at school  \\\n",
       "0               1.0                        1.0                      1.0   \n",
       "1               1.0                        1.0                      2.0   \n",
       "2               1.0                        1.0                      2.0   \n",
       "3               1.0                        1.0                      1.0   \n",
       "4               1.0                        1.0                      2.0   \n",
       "\n",
       "   Ever sexual intercourse  Sex before 13 years  Multiple sex partners  \\\n",
       "0                      2.0                  1.0                    1.0   \n",
       "1                      2.0                  1.0                    1.0   \n",
       "2                      2.0                  1.0                    1.0   \n",
       "3                      2.0                  1.0                    1.0   \n",
       "4                      2.0                  1.0                    1.0   \n",
       "\n",
       "   Current sexual activity  Alcohol/drugs and sex  Condom use  \\\n",
       "0                      1.0                    1.0         1.0   \n",
       "1                      1.0                    1.0         1.0   \n",
       "2                      1.0                    1.0         1.0   \n",
       "3                      1.0                    1.0         1.0   \n",
       "4                      1.0                    1.0         1.0   \n",
       "\n",
       "   Birth control pill use  Perception of weight  Weight loss  \\\n",
       "0                     1.0                   3.0          3.0   \n",
       "1                     1.0                   3.0          1.0   \n",
       "2                     1.0                   2.0          4.0   \n",
       "3                     1.0                   3.0          3.0   \n",
       "4                     1.0                   3.0          4.0   \n",
       "\n",
       "   Fruit juice drinking  Fruit eating  Green salad eating  Potato eating  \\\n",
       "0                   2.0           3.0                 1.0            1.0   \n",
       "1                   2.0           7.0                 6.0            5.0   \n",
       "2                   1.0           4.0                 2.0            2.0   \n",
       "3                   2.0           2.0                 1.0            2.0   \n",
       "4                   4.0           5.0                 1.0            2.0   \n",
       "\n",
       "   Carrot eating  Other vegetable eating  No soda drinking  No milk drinking  \\\n",
       "0            1.0                     2.0               3.0               3.0   \n",
       "1            5.0                     6.0               1.0               5.0   \n",
       "2            2.0                     5.0               2.0               2.0   \n",
       "3            2.0                     3.0               2.0               3.0   \n",
       "4            3.0                     4.0               2.0               5.0   \n",
       "\n",
       "   Breakfast eating  Television watching  Computer use  PE attendance  \\\n",
       "0               1.0                  2.0           5.0            1.0   \n",
       "1               8.0                  3.0           3.0            1.0   \n",
       "2               8.0                  2.0           4.0            1.0   \n",
       "3               1.0                  7.0           7.0            1.0   \n",
       "4               1.0                  1.0           4.0            1.0   \n",
       "\n",
       "   Sports team participation  HIV testing  Asthma  Sleep  Ever used LSD  \\\n",
       "0                        2.0          2.0     2.0    4.0            1.0   \n",
       "1                        1.0          2.0     2.0    4.0            1.0   \n",
       "2                        1.0          3.0     2.0    5.0            1.0   \n",
       "3                        1.0          2.0     3.0    4.0            3.0   \n",
       "4                        1.0          2.0     2.0    2.0            1.0   \n",
       "\n",
       "   Muscle strengthening  Indoor tanning     BMIPCT  weight  stratum      psu  \n",
       "0                   5.0             1.0  46.882141  1.6659    213.0  57923.0  \n",
       "1                   6.0             1.0  62.232194  1.3851    213.0  57923.0  \n",
       "2                   1.0             1.0   0.590171  1.4958    213.0  57923.0  \n",
       "3                   1.0             1.0  69.786634  1.7114    213.0  57923.0  \n",
       "4                   2.0             1.0  16.739994  1.6659    213.0  57923.0  "
      ]
     },
     "execution_count": 4,
     "metadata": {},
     "output_type": "execute_result"
    }
   ],
   "source": [
    "df.head()"
   ]
  },
  {
   "cell_type": "markdown",
   "metadata": {},
   "source": [
    "### Initial EDA"
   ]
  },
  {
   "cell_type": "code",
   "execution_count": 5,
   "metadata": {
    "ExecuteTime": {
     "end_time": "2021-01-06T22:45:44.394629Z",
     "start_time": "2021-01-06T22:45:44.317714Z"
    }
   },
   "outputs": [
    {
     "name": "stdout",
     "output_type": "stream",
     "text": [
      "(73074, 78)\n",
      "<class 'pandas.core.frame.DataFrame'>\n",
      "RangeIndex: 73074 entries, 0 to 73073\n",
      "Data columns (total 78 columns):\n",
      " #   Column                               Non-Null Count  Dtype  \n",
      "---  ------                               --------------  -----  \n",
      " 0   YEAR                                 73074 non-null  float64\n",
      " 1   raceeth                              71308 non-null  float64\n",
      " 2   How old are you                      72716 non-null  float64\n",
      " 3   What is your sex                     72605 non-null  float64\n",
      " 4   In what grade are you                72553 non-null  float64\n",
      " 5   Are you Hispanic/Latino              71806 non-null  float64\n",
      " 6   What is your race                    63296 non-null  object \n",
      " 7   How tall are you                     66508 non-null  float64\n",
      " 8   How much do you weigh                66508 non-null  float64\n",
      " 9   Seat belt use                        65592 non-null  float64\n",
      " 10  Riding with a drinking driver        71540 non-null  float64\n",
      " 11  Drinking and driving                 67673 non-null  float64\n",
      " 12  Weapon carrying                      64981 non-null  float64\n",
      " 13  Weapon carrying at school            71156 non-null  float64\n",
      " 14  Safety concerns at school            70209 non-null  float64\n",
      " 15  Threatened at school                 72139 non-null  float64\n",
      " 16  Physical fighting                    64390 non-null  float64\n",
      " 17  Physical fighting at school          71463 non-null  float64\n",
      " 18  Forced sexual intercourse            69281 non-null  float64\n",
      " 19  Bullying at school                   71711 non-null  float64\n",
      " 20  Electronic bullying                  70923 non-null  float64\n",
      " 21  Sad or hopeless                      72167 non-null  float64\n",
      " 22  Considered suicide                   72208 non-null  float64\n",
      " 23  Made a suicide plan                  71867 non-null  float64\n",
      " 24  Attempted suicide                    59269 non-null  float64\n",
      " 25  Injurious suicide attempt            56409 non-null  float64\n",
      " 26  Ever cigarette use                   62242 non-null  float64\n",
      " 27  Initiation of cigarette smoking      66775 non-null  float64\n",
      " 28  Current cigarette use                69478 non-null  float64\n",
      " 29  Current smokeless tobacco use        70720 non-null  float64\n",
      " 30  Current cigar use                    70309 non-null  float64\n",
      " 31  Initiation of alcohol use            70451 non-null  float64\n",
      " 32  Current alcohol use                  65940 non-null  float64\n",
      " 33  Source of alcohol                    59540 non-null  float64\n",
      " 34  Ever marijuana use                   69267 non-null  float64\n",
      " 35  Initiation of marijuana use          71116 non-null  float64\n",
      " 36  Current marijuana use                71225 non-null  float64\n",
      " 37  Ever prescription pain medicine use  70314 non-null  float64\n",
      " 38  Ever cocaine use                     70707 non-null  float64\n",
      " 39  Ever inhalant use                    65685 non-null  float64\n",
      " 40  Ever heroin use                      69839 non-null  float64\n",
      " 41  Ever methamphetamine use             70247 non-null  float64\n",
      " 42  Ever ecstasy use                     69828 non-null  float64\n",
      " 43  Ever steroid use                     64560 non-null  float64\n",
      " 44  Illegal injected drug use            67482 non-null  float64\n",
      " 45  Illegal drugs at school              71091 non-null  float64\n",
      " 46  Ever sexual intercourse              65546 non-null  float64\n",
      " 47  Sex before 13 years                  66331 non-null  float64\n",
      " 48  Multiple sex partners                66189 non-null  float64\n",
      " 49  Current sexual activity              66120 non-null  float64\n",
      " 50  Alcohol/drugs and sex                65433 non-null  float64\n",
      " 51  Condom use                           65645 non-null  float64\n",
      " 52  Birth control pill use               64919 non-null  float64\n",
      " 53  Perception of weight                 69738 non-null  float64\n",
      " 54  Weight loss                          64365 non-null  float64\n",
      " 55  Fruit juice drinking                 70460 non-null  float64\n",
      " 56  Fruit eating                         70667 non-null  float64\n",
      " 57  Green salad eating                   69332 non-null  float64\n",
      " 58  Potato eating                        69120 non-null  float64\n",
      " 59  Carrot eating                        69037 non-null  float64\n",
      " 60  Other vegetable eating               69144 non-null  float64\n",
      " 61  No soda drinking                     68619 non-null  float64\n",
      " 62  No milk drinking                     60182 non-null  float64\n",
      " 63  Breakfast eating                     62705 non-null  float64\n",
      " 64  Television watching                  70042 non-null  float64\n",
      " 65  Computer use                         70446 non-null  float64\n",
      " 66  PE attendance                        68735 non-null  float64\n",
      " 67  Sports team participation            62715 non-null  float64\n",
      " 68  HIV testing                          65589 non-null  float64\n",
      " 69  Asthma                               68313 non-null  float64\n",
      " 70  Sleep                                63983 non-null  float64\n",
      " 71  Ever used LSD                        55800 non-null  float64\n",
      " 72  Muscle strengthening                 54467 non-null  float64\n",
      " 73  Indoor tanning                       56461 non-null  float64\n",
      " 74  BMIPCT                               66508 non-null  float64\n",
      " 75  weight                               73074 non-null  float64\n",
      " 76  stratum                              73074 non-null  float64\n",
      " 77  psu                                  73074 non-null  float64\n",
      "dtypes: float64(77), object(1)\n",
      "memory usage: 43.5+ MB\n"
     ]
    }
   ],
   "source": [
    "print(df.shape)\n",
    "df.info()"
   ]
  },
  {
   "cell_type": "code",
   "execution_count": 6,
   "metadata": {
    "ExecuteTime": {
     "end_time": "2021-01-06T22:45:44.432621Z",
     "start_time": "2021-01-06T22:45:44.398700Z"
    }
   },
   "outputs": [
    {
     "data": {
      "text/plain": [
       "YEAR                                       0\n",
       "raceeth                                 1766\n",
       "How old are you                          358\n",
       "What is your sex                         469\n",
       "In what grade are you                    521\n",
       "Are you Hispanic/Latino                 1268\n",
       "What is your race                       9778\n",
       "How tall are you                        6566\n",
       "How much do you weigh                   6566\n",
       "Seat belt use                           7482\n",
       "Riding with a drinking driver           1534\n",
       "Drinking and driving                    5401\n",
       "Weapon carrying                         8093\n",
       "Weapon carrying at school               1918\n",
       "Safety concerns at school               2865\n",
       "Threatened at school                     935\n",
       "Physical fighting                       8684\n",
       "Physical fighting at school             1611\n",
       "Forced sexual intercourse               3793\n",
       "Bullying at school                      1363\n",
       "Electronic bullying                     2151\n",
       "Sad or hopeless                          907\n",
       "Considered suicide                       866\n",
       "Made a suicide plan                     1207\n",
       "Attempted suicide                      13805\n",
       "Injurious suicide attempt              16665\n",
       "Ever cigarette use                     10832\n",
       "Initiation of cigarette smoking         6299\n",
       "Current cigarette use                   3596\n",
       "Current smokeless tobacco use           2354\n",
       "Current cigar use                       2765\n",
       "Initiation of alcohol use               2623\n",
       "Current alcohol use                     7134\n",
       "Source of alcohol                      13534\n",
       "Ever marijuana use                      3807\n",
       "Initiation of marijuana use             1958\n",
       "Current marijuana use                   1849\n",
       "Ever prescription pain medicine use     2760\n",
       "Ever cocaine use                        2367\n",
       "Ever inhalant use                       7389\n",
       "Ever heroin use                         3235\n",
       "Ever methamphetamine use                2827\n",
       "Ever ecstasy use                        3246\n",
       "Ever steroid use                        8514\n",
       "Illegal injected drug use               5592\n",
       "Illegal drugs at school                 1983\n",
       "Ever sexual intercourse                 7528\n",
       "Sex before 13 years                     6743\n",
       "Multiple sex partners                   6885\n",
       "Current sexual activity                 6954\n",
       "Alcohol/drugs and sex                   7641\n",
       "Condom use                              7429\n",
       "Birth control pill use                  8155\n",
       "Perception of weight                    3336\n",
       "Weight loss                             8709\n",
       "Fruit juice drinking                    2614\n",
       "Fruit eating                            2407\n",
       "Green salad eating                      3742\n",
       "Potato eating                           3954\n",
       "Carrot eating                           4037\n",
       "Other vegetable eating                  3930\n",
       "No soda drinking                        4455\n",
       "No milk drinking                       12892\n",
       "Breakfast eating                       10369\n",
       "Television watching                     3032\n",
       "Computer use                            2628\n",
       "PE attendance                           4339\n",
       "Sports team participation              10359\n",
       "HIV testing                             7485\n",
       "Asthma                                  4761\n",
       "Sleep                                   9091\n",
       "Ever used LSD                          17274\n",
       "Muscle strengthening                   18607\n",
       "Indoor tanning                         16613\n",
       "BMIPCT                                  6566\n",
       "weight                                     0\n",
       "stratum                                    0\n",
       "psu                                        0\n",
       "dtype: int64"
      ]
     },
     "execution_count": 6,
     "metadata": {},
     "output_type": "execute_result"
    }
   ],
   "source": [
    "df.isnull().sum()"
   ]
  },
  {
   "cell_type": "code",
   "execution_count": 7,
   "metadata": {
    "ExecuteTime": {
     "end_time": "2021-01-06T22:45:44.447778Z",
     "start_time": "2021-01-06T22:45:44.437083Z"
    },
    "scrolled": true
   },
   "outputs": [
    {
     "data": {
      "text/plain": [
       "1.0    53968\n",
       "2.0     2795\n",
       "3.0     1628\n",
       "5.0      517\n",
       "4.0      361\n",
       "Name: Attempted suicide, dtype: int64"
      ]
     },
     "execution_count": 7,
     "metadata": {},
     "output_type": "execute_result"
    }
   ],
   "source": [
    "df['Attempted suicide'].value_counts()"
   ]
  },
  {
   "cell_type": "code",
   "execution_count": 8,
   "metadata": {
    "ExecuteTime": {
     "end_time": "2021-01-06T22:45:44.469756Z",
     "start_time": "2021-01-06T22:45:44.452814Z"
    },
    "scrolled": true
   },
   "outputs": [
    {
     "data": {
      "text/plain": [
       "1.0    39157\n",
       "6.0     8373\n",
       "5.0     4032\n",
       "8.0     3968\n",
       "7.0     2276\n",
       "2.0     1221\n",
       "3.0      345\n",
       "4.0      168\n",
       "Name: Source of alcohol, dtype: int64"
      ]
     },
     "execution_count": 8,
     "metadata": {},
     "output_type": "execute_result"
    }
   ],
   "source": [
    "df['Source of alcohol'].value_counts()"
   ]
  },
  {
   "cell_type": "code",
   "execution_count": 9,
   "metadata": {
    "ExecuteTime": {
     "end_time": "2021-01-06T22:45:44.507311Z",
     "start_time": "2021-01-06T22:45:44.475071Z"
    }
   },
   "outputs": [
    {
     "data": {
      "text/plain": [
       "    E       38175\n",
       "  C         13553\n",
       " B           3248\n",
       "A            2273\n",
       "   D         1303\n",
       "  C E        1237\n",
       "A   E         930\n",
       " B  E         497\n",
       "A C           400\n",
       "A C E         313\n",
       "   DE         188\n",
       " BC           188\n",
       "  CD          169\n",
       " B D          145\n",
       "ABCDE          84\n",
       " B DE          59\n",
       " BC E          49\n",
       "A  D           46\n",
       "  CDE          44\n",
       "A  DE          41\n",
       "AB  E          41\n",
       "      G        33\n",
       "ABC E          33\n",
       "AB             32\n",
       "A CDE          32\n",
       "A CD           29\n",
       "       H       27\n",
       "     F         25\n",
       "ABC            24\n",
       " BCD           18\n",
       " BCDE          12\n",
       "ABCD            9\n",
       "AB DE           8\n",
       "AB D            5\n",
       "   D  G         4\n",
       "ABCDEFGH        3\n",
       "    EF          2\n",
       "   D F          2\n",
       "A      H        2\n",
       " B     H        2\n",
       "  C   G         1\n",
       " B D F H        1\n",
       "   DE G         1\n",
       "    E G         1\n",
       "  C    H        1\n",
       "ABCDE GH        1\n",
       "A    F          1\n",
       " BCD F          1\n",
       " B    G         1\n",
       "  CD  G         1\n",
       "ABCDEF          1\n",
       "Name: What is your race, dtype: int64"
      ]
     },
     "execution_count": 9,
     "metadata": {},
     "output_type": "execute_result"
    }
   ],
   "source": [
    "df['What is your race'].value_counts()"
   ]
  },
  {
   "cell_type": "code",
   "execution_count": 10,
   "metadata": {
    "ExecuteTime": {
     "end_time": "2021-01-06T22:45:44.523169Z",
     "start_time": "2021-01-06T22:45:44.509942Z"
    }
   },
   "outputs": [
    {
     "data": {
      "text/plain": [
       "2.0    51924\n",
       "1.0    19882\n",
       "Name: Are you Hispanic/Latino, dtype: int64"
      ]
     },
     "execution_count": 10,
     "metadata": {},
     "output_type": "execute_result"
    }
   ],
   "source": [
    "df['Are you Hispanic/Latino'].value_counts()"
   ]
  },
  {
   "cell_type": "code",
   "execution_count": 11,
   "metadata": {
    "ExecuteTime": {
     "end_time": "2021-01-06T22:45:44.562933Z",
     "start_time": "2021-01-06T22:45:44.546082Z"
    },
    "scrolled": true
   },
   "outputs": [
    {
     "data": {
      "text/plain": [
       "5.0    31398\n",
       "3.0    12263\n",
       "7.0    10950\n",
       "6.0     8878\n",
       "8.0     3555\n",
       "2.0     2860\n",
       "1.0      859\n",
       "4.0      545\n",
       "Name: raceeth, dtype: int64"
      ]
     },
     "execution_count": 11,
     "metadata": {},
     "output_type": "execute_result"
    }
   ],
   "source": [
    "df['raceeth'].value_counts()"
   ]
  },
  {
   "cell_type": "markdown",
   "metadata": {},
   "source": [
    "### SNS: Looking at Null Values"
   ]
  },
  {
   "cell_type": "code",
   "execution_count": 12,
   "metadata": {
    "ExecuteTime": {
     "end_time": "2021-01-06T22:45:47.335775Z",
     "start_time": "2021-01-06T22:45:45.399285Z"
    }
   },
   "outputs": [
    {
     "data": {
      "text/plain": [
       "<AxesSubplot:>"
      ]
     },
     "execution_count": 12,
     "metadata": {},
     "output_type": "execute_result"
    },
    {
     "data": {
      "image/png": "[encoded data removed]",
      "text/plain": [
       "<Figure size 842.4x595.44 with 1 Axes>"
      ]
     },
     "metadata": {},
     "output_type": "display_data"
    }
   ],
   "source": [
    "sns.set(rc={'figure.figsize':(11.7,8.27)})\n",
    "\n",
    "sns.heatmap(df.iloc[:5000,:].isnull(), cbar=False)"
   ]
  },
  {
   "cell_type": "markdown",
   "metadata": {},
   "source": [
    "### Droping Values"
   ]
  },
  {
   "cell_type": "code",
   "execution_count": 13,
   "metadata": {
    "ExecuteTime": {
     "end_time": "2021-01-06T22:45:47.522912Z",
     "start_time": "2021-01-06T22:45:47.345148Z"
    }
   },
   "outputs": [],
   "source": [
    "df.dropna(subset=['Attempted suicide','Considered suicide','Alcohol/drugs and sex', 'Condom use'], inplace=True)"
   ]
  },
  {
   "cell_type": "code",
   "execution_count": 14,
   "metadata": {
    "ExecuteTime": {
     "end_time": "2021-01-06T22:45:47.618106Z",
     "start_time": "2021-01-06T22:45:47.549584Z"
    }
   },
   "outputs": [],
   "source": [
    "df.drop(columns = ['Are you Hispanic/Latino','What is your race','Indoor tanning'], axis = 1, inplace=True)"
   ]
  },
  {
   "cell_type": "code",
   "execution_count": null,
   "metadata": {},
   "outputs": [],
   "source": [
    "df.drop(columns = ['Are you Hispanic/Latino','What is your race','Indoor tanning'], axis = 1, inplace=True)"
   ]
  },
  {
   "cell_type": "code",
   "execution_count": 26,
   "metadata": {
    "ExecuteTime": {
     "end_time": "2021-01-06T22:46:44.514463Z",
     "start_time": "2021-01-06T22:46:44.510682Z"
    }
   },
   "outputs": [],
   "source": [
    "df[['Fruit juice drinking', 'Fruit eating', 'Green salad eating',\n",
    "       'Potato eating', 'Carrot eating', 'Other vegetable eating',\n",
    "       'No soda drinking', 'No milk drinking', 'Breakfast eating']]"
   ]
  },
  {
   "cell_type": "code",
   "execution_count": 16,
   "metadata": {
    "ExecuteTime": {
     "end_time": "2021-01-06T22:45:48.498745Z",
     "start_time": "2021-01-06T22:45:48.483100Z"
    }
   },
   "outputs": [
    {
     "data": {
      "text/plain": [
       "Breakfast eating\n",
       "8.0                 17663\n",
       "1.0                  6752\n",
       "3.0                  5464\n",
       "4.0                  5020\n",
       "6.0                  4247\n",
       "5.0                  3885\n",
       "2.0                  3529\n",
       "7.0                  2827\n",
       "dtype: int64"
      ]
     },
     "execution_count": 16,
     "metadata": {},
     "output_type": "execute_result"
    }
   ],
   "source": [
    "df[['Breakfast eating']].value_counts()"
   ]
  },
  {
   "cell_type": "code",
   "execution_count": 17,
   "metadata": {
    "ExecuteTime": {
     "end_time": "2021-01-06T22:45:49.215036Z",
     "start_time": "2021-01-06T22:45:49.211564Z"
    }
   },
   "outputs": [],
   "source": [
    "# np.where(df['Fruit juice drinking'] <= 2), 0, 1)"
   ]
  },
  {
   "cell_type": "code",
   "execution_count": 18,
   "metadata": {
    "ExecuteTime": {
     "end_time": "2021-01-06T22:45:49.810702Z",
     "start_time": "2021-01-06T22:45:49.792671Z"
    }
   },
   "outputs": [],
   "source": [
    "# final_df.loc[final_df[\"month\"].isin([12,1,2]),\"season1\"] = \"winter\""
   ]
  },
  {
   "cell_type": "code",
   "execution_count": 19,
   "metadata": {
    "ExecuteTime": {
     "end_time": "2021-01-06T22:45:50.546166Z",
     "start_time": "2021-01-06T22:45:50.520228Z"
    }
   },
   "outputs": [],
   "source": [
    "#Create new column using healthy eating questions\n",
    "# create a list of our conditions\n",
    "conditions = [\n",
    "    (df['Fruit juice drinking'] > 2) | (df['Fruit eating'] > 2) | (df['Green salad eating'] > 2) |\n",
    "    (df['Potato eating'] > 2) | (df['Carrot eating'] > 2)| (df['Other vegetable eating'] > 2) |\n",
    "    (df['No soda drinking'] <= 2) | (df['No milk drinking'] > 2)| (df['Breakfast eating'] > 4)\n",
    "    ]\n",
    "\n",
    "# create a list of the values we want to assign for each condition\n",
    "values = [1]\n",
    "\n",
    "# create a new column and use np.select to assign values to it using our lists as arguments\n",
    "df['healthy_eating'] = np.select(conditions, values)\n",
    "\n",
    "# display updated DataFrame\n",
    "# df.head()"
   ]
  },
  {
   "cell_type": "code",
   "execution_count": 20,
   "metadata": {
    "ExecuteTime": {
     "end_time": "2021-01-06T22:45:51.658170Z",
     "start_time": "2021-01-06T22:45:51.617486Z"
    }
   },
   "outputs": [],
   "source": [
    "#drop columns relating to healthy eating\n",
    "df.drop(columns = ['Fruit juice drinking', 'Fruit eating', 'Green salad eating',\n",
    "                   'Potato eating', 'Carrot eating', 'Other vegetable eating',\n",
    "                   'No soda drinking', 'No milk drinking', 'Breakfast eating'], axis = 1, inplace=True)"
   ]
  },
  {
   "cell_type": "code",
   "execution_count": 21,
   "metadata": {
    "ExecuteTime": {
     "end_time": "2021-01-06T22:45:52.209766Z",
     "start_time": "2021-01-06T22:45:52.187729Z"
    }
   },
   "outputs": [],
   "source": [
    "#create new column using drug questions\n",
    "df['Has used hard drugs'] = np.where((df['Ever cocaine use']>=1)|(df['Ever prescription pain medicine use']>=1)|(df['Ever inhalant use']>=1)|(df['Ever heroin use']>=1)|(df['Ever methamphetamine use']>=1)|(df['Ever ecstasy use']>=1),1,0)"
   ]
  },
  {
   "cell_type": "code",
   "execution_count": 22,
   "metadata": {
    "ExecuteTime": {
     "end_time": "2021-01-06T22:45:53.037020Z",
     "start_time": "2021-01-06T22:45:52.930796Z"
    }
   },
   "outputs": [],
   "source": [
    "#drop existing drug questions\n",
    "df.drop(columns = ['Ever cocaine use', 'Ever prescription pain medicine use',\n",
    "                   'Ever inhalant use', 'Ever heroin use', 'Ever methamphetamine use',\n",
    "                   'Ever ecstasy use'], axis = 1, inplace=True)"
   ]
  },
  {
   "cell_type": "code",
   "execution_count": 27,
   "metadata": {
    "ExecuteTime": {
     "end_time": "2021-01-07T00:34:52.322071Z",
     "start_time": "2021-01-07T00:34:52.211902Z"
    }
   },
   "outputs": [
    {
     "data": {
      "text/plain": [
       "(53548, 62)"
      ]
     },
     "execution_count": 27,
     "metadata": {},
     "output_type": "execute_result"
    }
   ],
   "source": [
    "df.shape"
   ]
  },
  {
   "cell_type": "code",
   "execution_count": 24,
   "metadata": {
    "ExecuteTime": {
     "end_time": "2021-01-06T22:46:13.799826Z",
     "start_time": "2021-01-06T22:46:13.771774Z"
    },
    "scrolled": true
   },
   "outputs": [
    {
     "data": {
      "text/plain": [
       "YEAR                                  0\n",
       "raceeth                            1035\n",
       "How old are you                     227\n",
       "What is your sex                    241\n",
       "In what grade are you               307\n",
       "How tall are you                   3935\n",
       "How much do you weigh              3935\n",
       "Seat belt use                      1013\n",
       "Riding with a drinking driver      1064\n",
       "Drinking and driving               2709\n",
       "Weapon carrying                    1767\n",
       "Weapon carrying at school           948\n",
       "Safety concerns at school           105\n",
       "Threatened at school                143\n",
       "Physical fighting                  1088\n",
       "Physical fighting at school         783\n",
       "Forced sexual intercourse           185\n",
       "Bullying at school                  521\n",
       "Electronic bullying                1105\n",
       "Sad or hopeless                     141\n",
       "Considered suicide                    0\n",
       "Made a suicide plan                 274\n",
       "Attempted suicide                     0\n",
       "Injurious suicide attempt          2413\n",
       "Ever cigarette use                 3089\n",
       "Initiation of cigarette smoking    2138\n",
       "Current cigarette use              1993\n",
       "Current smokeless tobacco use      1445\n",
       "Current cigar use                  1815\n",
       "Initiation of alcohol use          1151\n",
       "Current alcohol use                4128\n",
       "Source of alcohol                  5738\n",
       "Ever marijuana use                 1872\n",
       "Initiation of marijuana use         510\n",
       "Current marijuana use               483\n",
       "Ever steroid use                   2571\n",
       "Illegal injected drug use          3067\n",
       "Illegal drugs at school             256\n",
       "Ever sexual intercourse             981\n",
       "Sex before 13 years                 153\n",
       "Multiple sex partners               213\n",
       "Current sexual activity             254\n",
       "Alcohol/drugs and sex                 0\n",
       "Condom use                            0\n",
       "Birth control pill use              784\n",
       "Perception of weight               1620\n",
       "Weight loss                        1347\n",
       "Television watching                1459\n",
       "Computer use                       1107\n",
       "PE attendance                      2179\n",
       "Sports team participation          2152\n",
       "HIV testing                        4166\n",
       "Asthma                             2088\n",
       "Sleep                              3676\n",
       "Ever used LSD                      7356\n",
       "Muscle strengthening               8326\n",
       "BMIPCT                             3935\n",
       "weight                                0\n",
       "stratum                               0\n",
       "psu                                   0\n",
       "healthy_eating                        0\n",
       "Has used hard drugs                   0\n",
       "dtype: int64"
      ]
     },
     "execution_count": 24,
     "metadata": {},
     "output_type": "execute_result"
    }
   ],
   "source": [
    "df.isnull().sum()"
   ]
  },
  {
   "cell_type": "markdown",
   "metadata": {
    "heading_collapsed": true
   },
   "source": [
    "### Transposing df to look at rows with certain # of null values"
   ]
  },
  {
   "cell_type": "code",
   "execution_count": 39,
   "metadata": {
    "ExecuteTime": {
     "end_time": "2021-01-06T20:44:10.679476Z",
     "start_time": "2021-01-06T20:44:00.624379Z"
    },
    "hidden": true
   },
   "outputs": [],
   "source": [
    "f = df.T.isna().sum().sort_values(ascending=False)"
   ]
  },
  {
   "cell_type": "code",
   "execution_count": 68,
   "metadata": {
    "ExecuteTime": {
     "end_time": "2021-01-06T21:05:28.510775Z",
     "start_time": "2021-01-06T21:05:28.497790Z"
    },
    "hidden": true,
    "scrolled": true
   },
   "outputs": [
    {
     "data": {
      "text/plain": [
       "1"
      ]
     },
     "execution_count": 68,
     "metadata": {},
     "output_type": "execute_result"
    }
   ],
   "source": [
    "ind = f[f>60].index\n",
    "len(ind)"
   ]
  },
  {
   "cell_type": "code",
   "execution_count": 70,
   "metadata": {
    "ExecuteTime": {
     "end_time": "2021-01-06T21:06:01.936268Z",
     "start_time": "2021-01-06T21:06:01.775538Z"
    },
    "collapsed": true,
    "hidden": true
   },
   "outputs": [
    {
     "data": {
      "text/plain": [
       "YEAR                                       0\n",
       "raceeth                                 1765\n",
       "How old are you                          357\n",
       "What is your sex                         468\n",
       "In what grade are you                    520\n",
       "Are you Hispanic/Latino                 1267\n",
       "What is your race                       9777\n",
       "How tall are you                        6565\n",
       "How much do you weigh                   6565\n",
       "Seat belt use                           7481\n",
       "Riding with a drinking driver           1533\n",
       "Drinking and driving                    5400\n",
       "Weapon carrying                         8092\n",
       "Weapon carrying at school               1917\n",
       "Safety concerns at school               2864\n",
       "Threatened at school                     934\n",
       "Physical fighting                       8683\n",
       "Physical fighting at school             1610\n",
       "Forced sexual intercourse               3792\n",
       "Bullying at school                      1362\n",
       "Electronic bullying                     2150\n",
       "Sad or hopeless                          906\n",
       "Considered suicide                       865\n",
       "Made a suicide plan                     1206\n",
       "Attempted suicide                      13804\n",
       "Injurious suicide attempt              16664\n",
       "Ever cigarette use                     10831\n",
       "Initiation of cigarette smoking         6298\n",
       "Current cigarette use                   3595\n",
       "Current smokeless tobacco use           2353\n",
       "Current cigar use                       2765\n",
       "Initiation of alcohol use               2622\n",
       "Current alcohol use                     7134\n",
       "Source of alcohol                      13533\n",
       "Ever marijuana use                      3806\n",
       "Initiation of marijuana use             1957\n",
       "Current marijuana use                   1848\n",
       "Ever prescription pain medicine use     2759\n",
       "Ever cocaine use                        2366\n",
       "Ever inhalant use                       7388\n",
       "Ever heroin use                         3235\n",
       "Ever methamphetamine use                2826\n",
       "Ever ecstasy use                        3245\n",
       "Ever steroid use                        8513\n",
       "Illegal injected drug use               5591\n",
       "Illegal drugs at school                 1982\n",
       "Ever sexual intercourse                 7527\n",
       "Sex before 13 years                     6742\n",
       "Multiple sex partners                   6884\n",
       "Current sexual activity                 6953\n",
       "Alcohol/drugs and sex                   7640\n",
       "Condom use                              7428\n",
       "Birth control pill use                  8154\n",
       "Perception of weight                    3335\n",
       "Weight loss                             8708\n",
       "Fruit juice drinking                    2613\n",
       "Fruit eating                            2406\n",
       "Green salad eating                      3741\n",
       "Potato eating                           3953\n",
       "Carrot eating                           4036\n",
       "Other vegetable eating                  3929\n",
       "No soda drinking                        4454\n",
       "No milk drinking                       12892\n",
       "Breakfast eating                       10369\n",
       "Television watching                     3032\n",
       "Computer use                            2628\n",
       "PE attendance                           4338\n",
       "Sports team participation              10358\n",
       "HIV testing                             7484\n",
       "Asthma                                  4761\n",
       "Sleep                                   9090\n",
       "Ever used LSD                          17273\n",
       "Muscle strengthening                   18607\n",
       "Indoor tanning                         16613\n",
       "BMIPCT                                  6565\n",
       "weight                                     0\n",
       "stratum                                    0\n",
       "psu                                        0\n",
       "dtype: int64"
      ]
     },
     "execution_count": 70,
     "metadata": {},
     "output_type": "execute_result"
    }
   ],
   "source": [
    "df.loc[~df.index.isin(ind),:].isnull().sum()"
   ]
  },
  {
   "cell_type": "code",
   "execution_count": 66,
   "metadata": {
    "ExecuteTime": {
     "end_time": "2021-01-06T21:04:24.502996Z",
     "start_time": "2021-01-06T21:04:24.408119Z"
    },
    "collapsed": true,
    "hidden": true
   },
   "outputs": [
    {
     "data": {
      "text/plain": [
       "YEAR                                       0\n",
       "raceeth                                 1554\n",
       "How old are you                          320\n",
       "What is your sex                         361\n",
       "In what grade are you                    452\n",
       "Are you Hispanic/Latino                 1095\n",
       "What is your race                       9524\n",
       "How tall are you                        6090\n",
       "How much do you weigh                   6090\n",
       "Seat belt use                           6828\n",
       "Riding with a drinking driver           1242\n",
       "Drinking and driving                    5023\n",
       "Weapon carrying                         7375\n",
       "Weapon carrying at school               1667\n",
       "Safety concerns at school               2471\n",
       "Threatened at school                     786\n",
       "Physical fighting                       7992\n",
       "Physical fighting at school             1382\n",
       "Forced sexual intercourse               3369\n",
       "Bullying at school                      1014\n",
       "Electronic bullying                     1757\n",
       "Sad or hopeless                          621\n",
       "Considered suicide                       616\n",
       "Made a suicide plan                      917\n",
       "Attempted suicide                      13033\n",
       "Injurious suicide attempt              15722\n",
       "Ever cigarette use                      9972\n",
       "Initiation of cigarette smoking         5681\n",
       "Current cigarette use                   3252\n",
       "Current smokeless tobacco use           2015\n",
       "Current cigar use                       2421\n",
       "Initiation of alcohol use               2059\n",
       "Current alcohol use                     6423\n",
       "Source of alcohol                      12431\n",
       "Ever marijuana use                      3020\n",
       "Initiation of marijuana use             1275\n",
       "Current marijuana use                   1143\n",
       "Ever prescription pain medicine use     1920\n",
       "Ever cocaine use                        1664\n",
       "Ever inhalant use                       6320\n",
       "Ever heroin use                         2551\n",
       "Ever methamphetamine use                2107\n",
       "Ever ecstasy use                        2402\n",
       "Ever steroid use                        7385\n",
       "Illegal injected drug use               4527\n",
       "Illegal drugs at school                 1124\n",
       "Ever sexual intercourse                 6350\n",
       "Sex before 13 years                     5565\n",
       "Multiple sex partners                   5688\n",
       "Current sexual activity                 5747\n",
       "Alcohol/drugs and sex                   6407\n",
       "Condom use                              6191\n",
       "Birth control pill use                  6916\n",
       "Perception of weight                    2423\n",
       "Weight loss                             7639\n",
       "Fruit juice drinking                    1633\n",
       "Fruit eating                            1432\n",
       "Green salad eating                      2702\n",
       "Potato eating                           2911\n",
       "Carrot eating                           2992\n",
       "Other vegetable eating                  2879\n",
       "No soda drinking                        3402\n",
       "No milk drinking                       11568\n",
       "Breakfast eating                        9177\n",
       "Television watching                     2131\n",
       "Computer use                            1745\n",
       "PE attendance                           3348\n",
       "Sports team participation               9206\n",
       "HIV testing                             6363\n",
       "Asthma                                  3685\n",
       "Sleep                                   7999\n",
       "Ever used LSD                          16013\n",
       "Muscle strengthening                   17251\n",
       "Indoor tanning                         15340\n",
       "BMIPCT                                  6090\n",
       "weight                                     0\n",
       "stratum                                    0\n",
       "psu                                        0\n",
       "dtype: int64"
      ]
     },
     "execution_count": 66,
     "metadata": {},
     "output_type": "execute_result"
    }
   ],
   "source": [
    "df_dropped = df.loc[~df.index.isin(ind),:]\n",
    "df_dropped.isnull().sum()"
   ]
  },
  {
   "cell_type": "code",
   "execution_count": 56,
   "metadata": {
    "ExecuteTime": {
     "end_time": "2021-01-06T20:55:11.691910Z",
     "start_time": "2021-01-06T20:55:11.561915Z"
    },
    "collapsed": true,
    "hidden": true
   },
   "outputs": [
    {
     "data": {
      "text/plain": [
       "Index(['YEAR', 'raceeth', 'How old are you', 'What is your sex',\n",
       "       'In what grade are you', 'Are you Hispanic/Latino', 'What is your race',\n",
       "       'How tall are you', 'How much do you weigh', 'Seat belt use',\n",
       "       'Riding with a drinking driver', 'Drinking and driving',\n",
       "       'Weapon carrying', 'Weapon carrying at school',\n",
       "       'Safety concerns at school', 'Threatened at school',\n",
       "       'Physical fighting', 'Physical fighting at school',\n",
       "       'Forced sexual intercourse', 'Bullying at school',\n",
       "       'Electronic bullying', 'Sad or hopeless', 'Considered suicide',\n",
       "       'Made a suicide plan', 'Attempted suicide', 'Injurious suicide attempt',\n",
       "       'Ever cigarette use', 'Initiation of cigarette smoking',\n",
       "       'Current cigarette use', 'Current smokeless tobacco use',\n",
       "       'Current cigar use', 'Initiation of alcohol use', 'Current alcohol use',\n",
       "       'Source of alcohol', 'Ever marijuana use',\n",
       "       'Initiation of marijuana use', 'Current marijuana use',\n",
       "       'Ever prescription pain medicine use', 'Ever cocaine use',\n",
       "       'Ever inhalant use', 'Ever heroin use', 'Ever methamphetamine use',\n",
       "       'Ever ecstasy use', 'Ever steroid use', 'Illegal injected drug use',\n",
       "       'Illegal drugs at school', 'Ever sexual intercourse',\n",
       "       'Sex before 13 years', 'Multiple sex partners',\n",
       "       'Current sexual activity', 'Alcohol/drugs and sex', 'Condom use',\n",
       "       'Birth control pill use', 'Perception of weight', 'Weight loss',\n",
       "       'Fruit juice drinking', 'Fruit eating', 'Green salad eating',\n",
       "       'Potato eating', 'Carrot eating', 'Other vegetable eating',\n",
       "       'No soda drinking', 'No milk drinking', 'Breakfast eating',\n",
       "       'Television watching', 'Computer use', 'PE attendance',\n",
       "       'Sports team participation', 'HIV testing', 'Asthma', 'Sleep',\n",
       "       'Ever used LSD', 'Muscle strengthening', 'Indoor tanning', 'BMIPCT',\n",
       "       'weight', 'stratum', 'psu'],\n",
       "      dtype='object')"
      ]
     },
     "execution_count": 56,
     "metadata": {},
     "output_type": "execute_result"
    }
   ],
   "source": [
    "df.columns"
   ]
  },
  {
   "cell_type": "markdown",
   "metadata": {
    "heading_collapsed": true
   },
   "source": [
    "### MSNO Null Value"
   ]
  },
  {
   "cell_type": "code",
   "execution_count": 59,
   "metadata": {
    "ExecuteTime": {
     "end_time": "2021-01-06T21:00:31.004017Z",
     "start_time": "2021-01-06T21:00:29.535268Z"
    },
    "collapsed": true,
    "hidden": true
   },
   "outputs": [
    {
     "data": {
      "text/plain": [
       "<AxesSubplot:>"
      ]
     },
     "execution_count": 59,
     "metadata": {},
     "output_type": "execute_result"
    },
    {
     "data": {
      "image/png": "[encoded data removed]",
      "text/plain": [
       "<Figure size 1800x720 with 2 Axes>"
      ]
     },
     "metadata": {},
     "output_type": "display_data"
    }
   ],
   "source": [
    "msno.matrix(df[['Fruit juice drinking', 'Fruit eating', 'Green salad eating',\n",
    "       'Potato eating', 'Carrot eating', 'Other vegetable eating',\n",
    "       'No soda drinking', 'No milk drinking', 'Breakfast eating']])"
   ]
  },
  {
   "cell_type": "code",
   "execution_count": null,
   "metadata": {
    "hidden": true
   },
   "outputs": [],
   "source": []
  },
  {
   "cell_type": "code",
   "execution_count": 36,
   "metadata": {
    "ExecuteTime": {
     "end_time": "2021-01-06T20:41:54.147350Z",
     "start_time": "2021-01-06T20:41:54.142983Z"
    },
    "hidden": true
   },
   "outputs": [],
   "source": [
    "import missingno as msno\n",
    "# msno.bar(df)"
   ]
  },
  {
   "cell_type": "code",
   "execution_count": 77,
   "metadata": {
    "ExecuteTime": {
     "end_time": "2021-01-06T21:27:30.510972Z",
     "start_time": "2021-01-06T21:27:30.497907Z"
    },
    "hidden": true
   },
   "outputs": [],
   "source": [
    "# msno.matrix(df)"
   ]
  },
  {
   "cell_type": "code",
   "execution_count": 76,
   "metadata": {
    "ExecuteTime": {
     "end_time": "2021-01-06T21:27:27.030584Z",
     "start_time": "2021-01-06T21:27:26.980848Z"
    },
    "hidden": true
   },
   "outputs": [],
   "source": [
    "# msno.heatmap(df)"
   ]
  },
  {
   "cell_type": "markdown",
   "metadata": {
    "ExecuteTime": {
     "end_time": "2021-01-06T19:08:24.867147Z",
     "start_time": "2021-01-06T19:08:23.645204Z"
    },
    "heading_collapsed": true
   },
   "source": [
    "## Modeling"
   ]
  },
  {
   "cell_type": "code",
   "execution_count": 24,
   "metadata": {
    "ExecuteTime": {
     "end_time": "2021-01-06T15:03:44.378815Z",
     "start_time": "2021-01-06T15:03:44.271710Z"
    },
    "hidden": true
   },
   "outputs": [
    {
     "data": {
      "text/plain": [
       "2.0    59513\n",
       "1.0    12695\n",
       "Name: Considered suicide, dtype: int64"
      ]
     },
     "execution_count": 24,
     "metadata": {},
     "output_type": "execute_result"
    }
   ],
   "source": [
    "df['Considered suicide'].value_counts()"
   ]
  },
  {
   "cell_type": "code",
   "execution_count": 25,
   "metadata": {
    "ExecuteTime": {
     "end_time": "2021-01-06T15:05:03.530215Z",
     "start_time": "2021-01-06T15:05:02.722108Z"
    },
    "hidden": true
   },
   "outputs": [],
   "source": [
    "# implementing the tree using scikit learn\n",
    "import pandas as pd\n",
    "import numpy as np\n",
    "from sklearn.tree import DecisionTreeRegressor, DecisionTreeClassifier\n",
    "from sklearn.model_selection import train_test_split\n",
    "import matplotlib.pyplot as plt\n",
    "import seaborn as sns\n",
    "import sklearn.datasets as datasets\n",
    "\n",
    "\n",
    "from six import StringIO \n",
    "from IPython.display import Image  \n",
    "from sklearn.tree import export_graphviz\n",
    "import pydotplus\n",
    "from sklearn.metrics import mean_squared_error\n",
    "from sklearn.metrics import accuracy_score, roc_curve, auc\n",
    "from sklearn.model_selection import cross_val_score"
   ]
  },
  {
   "cell_type": "code",
   "execution_count": 44,
   "metadata": {
    "ExecuteTime": {
     "end_time": "2021-01-06T15:21:36.216425Z",
     "start_time": "2021-01-06T15:21:35.983972Z"
    },
    "hidden": true
   },
   "outputs": [],
   "source": [
    "X = df.drop(columns=['Considered suicide', 'q6orig', 'q7orig', 'What is your race'], axis=1)\n",
    "y = df['Considered suicide']"
   ]
  },
  {
   "cell_type": "code",
   "execution_count": 45,
   "metadata": {
    "ExecuteTime": {
     "end_time": "2021-01-06T15:21:37.950120Z",
     "start_time": "2021-01-06T15:21:37.801246Z"
    },
    "hidden": true
   },
   "outputs": [],
   "source": [
    "X_train,X_test,y_train,y_test = train_test_split(X, y, test_size = 0.2, random_state = 42)"
   ]
  },
  {
   "cell_type": "code",
   "execution_count": 46,
   "metadata": {
    "ExecuteTime": {
     "end_time": "2021-01-06T15:21:38.643306Z",
     "start_time": "2021-01-06T15:21:38.638133Z"
    },
    "hidden": true
   },
   "outputs": [],
   "source": [
    "from sklearn.linear_model import LogisticRegression\n",
    "\n",
    "logreg = LogisticRegression(fit_intercept=False, C=1e12, solver='liblinear')\n",
    "\n",
    "# model_log = logreg.fit(X_train, y_train)\n",
    "# model_log"
   ]
  },
  {
   "cell_type": "code",
   "execution_count": 48,
   "metadata": {
    "ExecuteTime": {
     "end_time": "2021-01-06T15:26:32.380448Z",
     "start_time": "2021-01-06T15:26:32.352960Z"
    },
    "hidden": true
   },
   "outputs": [],
   "source": [
    "# model_log = logreg.fit(X_train, y_train)"
   ]
  },
  {
   "cell_type": "code",
   "execution_count": null,
   "metadata": {
    "hidden": true
   },
   "outputs": [],
   "source": []
  }
 ],
 "metadata": {
  "kernelspec": {
   "display_name": "Python 3",
   "language": "python",
   "name": "python3"
  },
  "language_info": {
   "codemirror_mode": {
    "name": "ipython",
    "version": 3
   },
   "file_extension": ".py",
   "mimetype": "text/x-python",
   "name": "python",
   "nbconvert_exporter": "python",
   "pygments_lexer": "ipython3",
   "version": "3.6.10"
  }
 },
 "nbformat": 4,
 "nbformat_minor": 4
}
