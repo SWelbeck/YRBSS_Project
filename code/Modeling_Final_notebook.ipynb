{
 "cells": [
  {
   "cell_type": "markdown",
   "metadata": {},
   "source": [
    "# Final modeling notebook"
   ]
  },
  {
   "cell_type": "code",
   "execution_count": 12,
   "metadata": {},
   "outputs": [],
   "source": [
    "import pandas as pd\n",
    "import seaborn as sns\n",
    "import numpy as np\n",
    "import matplotlib.pyplot as plt\n",
    "%matplotlib inline\n",
    "pd.set_option('display.max_columns', 150, 'display.max_rows', 150)\n",
    "from sklearn.neighbors import KNeighborsClassifier\n",
    "from sklearn.metrics import accuracy_score\n",
    "from sklearn.model_selection import train_test_split\n",
    "from sklearn.preprocessing import StandardScaler\n",
    "from sklearn.metrics import f1_score\n",
    "from imblearn.over_sampling import SMOTE\n",
    "from sklearn.tree import DecisionTreeClassifier\n",
    "from sklearn.metrics import mean_squared_error\n",
    "from sklearn.metrics import roc_auc_score, roc_curve, auc, f1_score, accuracy_score, confusion_matrix, ConfusionMatrixDisplay, classification_report\n",
    "from sklearn.model_selection import cross_val_score\n",
    "from sklearn.metrics import confusion_matrix\n",
    "from sklearn.model_selection import GridSearchCV\n",
    "import sklearn.metrics as metrics"
   ]
  },
  {
   "cell_type": "markdown",
   "metadata": {},
   "source": [
    "**KNN**"
   ]
  },
  {
   "cell_type": "code",
   "execution_count": 13,
   "metadata": {},
   "outputs": [],
   "source": [
    "df = pd.read_csv('final_df.csv')"
   ]
  },
  {
   "cell_type": "markdown",
   "metadata": {},
   "source": [
    "**Defining our features and targer variable**"
   ]
  },
  {
   "cell_type": "code",
   "execution_count": 14,
   "metadata": {},
   "outputs": [],
   "source": [
    "features_0 = ['YEAR', 'raceeth', 'How old are you', 'What is your sex',\n",
    "       'In what grade are you','Seat belt use', 'Riding with a drinking driver',\n",
    "       'Drinking and driving', 'Weapon carrying', 'Weapon carrying at school',\n",
    "       'Safety concerns at school', 'Threatened at school',\n",
    "       'Physical fighting', 'Physical fighting at school',\n",
    "       'Forced sexual intercourse', 'Bullying at school',\n",
    "       'Electronic bullying', 'Sad or hopeless', 'Considered suicide',\n",
    "       'Made a suicide plan', 'Attempted suicide', 'Injurious suicide attempt',\n",
    "       'Ever cigarette use', 'Initiation of cigarette smoking',\n",
    "       'Current cigarette use', 'Current smokeless tobacco use',\n",
    "       'Current cigar use', 'Initiation of alcohol use', 'Current alcohol use',\n",
    "       'Source of alcohol', 'Ever marijuana use',\n",
    "       'Initiation of marijuana use', 'Current marijuana use',\n",
    "       'Ever steroid use', 'Illegal injected drug use',\n",
    "       'Illegal drugs at school', 'Ever sexual intercourse',\n",
    "       'Sex before 13 years', 'Multiple sex partners',\n",
    "       'Current sexual activity', 'Alcohol/drugs and sex', \n",
    "        'Perception of weight', 'Weight loss',\n",
    "       'Television watching', 'Computer use', 'HIV testing', 'Asthma', 'Sleep',\n",
    "       'Ever used LSD',\n",
    "       'Has used hard drugs', 'healthy_eating', 'regular_activity']\n",
    "condom_use = df['Condom use']"
   ]
  },
  {
   "cell_type": "markdown",
   "metadata": {},
   "source": [
    "**Dummy vars**\n",
    "\n",
    "Made dummy varibales in order run knn"
   ]
  },
  {
   "cell_type": "code",
   "execution_count": 15,
   "metadata": {},
   "outputs": [
    {
     "data": {
      "text/plain": [
       "['YEAR',\n",
       " 'raceeth',\n",
       " 'How old are you',\n",
       " 'What is your sex',\n",
       " 'In what grade are you',\n",
       " 'Seat belt use',\n",
       " 'Riding with a drinking driver',\n",
       " 'Drinking and driving',\n",
       " 'Weapon carrying',\n",
       " 'Weapon carrying at school',\n",
       " 'Safety concerns at school',\n",
       " 'Threatened at school',\n",
       " 'Physical fighting',\n",
       " 'Physical fighting at school',\n",
       " 'Forced sexual intercourse',\n",
       " 'Bullying at school',\n",
       " 'Electronic bullying',\n",
       " 'Sad or hopeless',\n",
       " 'Considered suicide',\n",
       " 'Made a suicide plan',\n",
       " 'Attempted suicide',\n",
       " 'Injurious suicide attempt',\n",
       " 'Ever cigarette use',\n",
       " 'Initiation of cigarette smoking',\n",
       " 'Current cigarette use',\n",
       " 'Current smokeless tobacco use',\n",
       " 'Current cigar use',\n",
       " 'Initiation of alcohol use',\n",
       " 'Current alcohol use',\n",
       " 'Source of alcohol',\n",
       " 'Ever marijuana use',\n",
       " 'Initiation of marijuana use',\n",
       " 'Current marijuana use',\n",
       " 'Ever steroid use',\n",
       " 'Illegal injected drug use',\n",
       " 'Illegal drugs at school',\n",
       " 'Ever sexual intercourse',\n",
       " 'Sex before 13 years',\n",
       " 'Multiple sex partners',\n",
       " 'Current sexual activity',\n",
       " 'Alcohol/drugs and sex',\n",
       " 'Perception of weight',\n",
       " 'Weight loss',\n",
       " 'Television watching',\n",
       " 'Computer use',\n",
       " 'HIV testing',\n",
       " 'Asthma',\n",
       " 'Sleep',\n",
       " 'Ever used LSD',\n",
       " 'Has used hard drugs',\n",
       " 'healthy_eating',\n",
       " 'regular_activity']"
      ]
     },
     "execution_count": 15,
     "metadata": {},
     "output_type": "execute_result"
    }
   ],
   "source": [
    "features_0"
   ]
  },
  {
   "cell_type": "code",
   "execution_count": 16,
   "metadata": {},
   "outputs": [],
   "source": [
    "#Turn all features into object types\n",
    "features_0 = df[features_0].astype('object')"
   ]
  },
  {
   "cell_type": "code",
   "execution_count": null,
   "metadata": {},
   "outputs": [],
   "source": [
    "dummies_0 = pd.get_dummies(features_0,drop_first=False)"
   ]
  },
  {
   "cell_type": "markdown",
   "metadata": {},
   "source": [
    "**Let's take a look to see if there is a class imbalance amongst our two seperate target variables**"
   ]
  },
  {
   "cell_type": "code",
   "execution_count": 9,
   "metadata": {},
   "outputs": [
    {
     "name": "stdout",
     "output_type": "stream",
     "text": [
      "Raw counts: \n",
      "\n",
      "1.0    30252\n",
      "2.0    14095\n",
      "3.0     9201\n",
      "Name: Condom use, dtype: int64\n",
      "-----------------------------------\n",
      "Normalized counts: \n",
      "\n",
      "1.0    0.564951\n",
      "2.0    0.263222\n",
      "3.0    0.171827\n",
      "Name: Condom use, dtype: float64\n"
     ]
    }
   ],
   "source": [
    "print('Raw counts: \\n')\n",
    "print(condom_use.value_counts())\n",
    "print('-----------------------------------')\n",
    "print('Normalized counts: \\n')\n",
    "print(condom_use.value_counts(normalize=True))"
   ]
  },
  {
   "cell_type": "markdown",
   "metadata": {},
   "source": [
    "**Using SMOTE for class imbalance**"
   ]
  },
  {
   "cell_type": "code",
   "execution_count": null,
   "metadata": {},
   "outputs": [],
   "source": [
    "X_train_0, X_test_0, y_train_0, y_test_0 = train_test_split(dummies_0, condom_use, test_size=0.25, random_state=1)\n",
    "smote = SMOTE()\n",
    "X_train_resampled, y_train_resampled = smote.fit_sample(X_train_0, y_train_0) "
   ]
  },
  {
   "cell_type": "code",
   "execution_count": null,
   "metadata": {},
   "outputs": [],
   "source": [
    "print('Synthetic sample class distribution: \\n')\n",
    "print(pd.Series(y_train_resampled).value_counts())"
   ]
  },
  {
   "cell_type": "markdown",
   "metadata": {},
   "source": [
    "**Running KNN model**"
   ]
  },
  {
   "cell_type": "code",
   "execution_count": null,
   "metadata": {},
   "outputs": [],
   "source": [
    "knn = KNeighborsClassifier(n_neighbors=3, p = 2)"
   ]
  },
  {
   "cell_type": "code",
   "execution_count": null,
   "metadata": {},
   "outputs": [],
   "source": [
    "knn.fit(dummies_0,condom_use)"
   ]
  },
  {
   "cell_type": "code",
   "execution_count": null,
   "metadata": {},
   "outputs": [],
   "source": [
    "scaler = StandardScaler()  \n",
    "scaler.fit(X_train_0)\n",
    "\n",
    "X_train_0 = scaler.transform(X_train_0)  \n",
    "X_test_0 = scaler.transform(X_test_0)  \n",
    "\n",
    "\n",
    "model = KNeighborsClassifier(n_neighbors=1)\n",
    "model.fit(X_train_0, y_train_0)\n",
    "\n",
    "y_predict_test = model.predict(X_test_0)\n",
    "y_predict_train = model.predict(X_train_0)"
   ]
  },
  {
   "cell_type": "code",
   "execution_count": null,
   "metadata": {},
   "outputs": [],
   "source": [
    "print('F1 score test: ', f1_score(y_test_0, y_predict_test, average='weighted'))\n",
    "print('F1 score train: ',f1_score(y_train_0, y_predict_train, average='weighted'))"
   ]
  },
  {
   "cell_type": "code",
   "execution_count": null,
   "metadata": {},
   "outputs": [],
   "source": [
    "print('Accuracy test:', metrics.accuracy_score(y_test_0, y_predict_test))\n",
    "print('Accuracy train:', metrics.accuracy_score(y_train_0, y_predict_train))"
   ]
  },
  {
   "cell_type": "code",
   "execution_count": null,
   "metadata": {},
   "outputs": [],
   "source": [
    "cm = confusion_matrix(y_test_0, y_predict_test)\n",
    "print(cm)\n",
    "disp = ConfusionMatrixDisplay(confusion_matrix=cm)\n",
    "disp.plot(cmap='Blues')\n",
    "plt.title('Confusion Matrix: KNN')\n",
    "plt.show()"
   ]
  },
  {
   "cell_type": "markdown",
   "metadata": {},
   "source": [
    "**Discussing Results**\n",
    "\n",
    "Given that our training set F1 and Accuracy scores were .9-.10 points higher than our testing set, we felt that the model was overfit to the data when using KNN. Because of this we would not rely on the KNN model to predict the likelihood of safe sex practices."
   ]
  },
  {
   "cell_type": "markdown",
   "metadata": {},
   "source": [
    "**Decision Tree**"
   ]
  },
  {
   "cell_type": "code",
   "execution_count": null,
   "metadata": {},
   "outputs": [],
   "source": [
    "features_0 = ['YEAR', 'raceeth', 'How old are you', 'What is your sex',\n",
    "       'In what grade are you','Seat belt use', 'Riding with a drinking driver',\n",
    "       'Drinking and driving', 'Weapon carrying', 'Weapon carrying at school',\n",
    "       'Safety concerns at school', 'Threatened at school',\n",
    "       'Physical fighting', 'Physical fighting at school',\n",
    "       'Forced sexual intercourse', 'Bullying at school',\n",
    "       'Electronic bullying', 'Sad or hopeless', 'Considered suicide',\n",
    "       'Made a suicide plan', 'Attempted suicide', 'Injurious suicide attempt',\n",
    "       'Ever cigarette use', 'Initiation of cigarette smoking',\n",
    "       'Current cigarette use', 'Current smokeless tobacco use',\n",
    "       'Current cigar use', 'Initiation of alcohol use', 'Current alcohol use',\n",
    "       'Source of alcohol', 'Ever marijuana use',\n",
    "       'Initiation of marijuana use', 'Current marijuana use',\n",
    "       'Ever steroid use', 'Illegal injected drug use',\n",
    "       'Illegal drugs at school', 'Ever sexual intercourse',\n",
    "       'Sex before 13 years', 'Multiple sex partners',\n",
    "       'Current sexual activity', 'Alcohol/drugs and sex', \n",
    "        'Perception of weight', 'Weight loss',\n",
    "       'Television watching', 'Computer use', 'HIV testing', 'Asthma', 'Sleep',\n",
    "       'Ever used LSD',\n",
    "       'Has used hard drugs', 'healthy_eating', 'regular_activity']\n",
    "condom_use = df['Condom use']"
   ]
  },
  {
   "cell_type": "code",
   "execution_count": null,
   "metadata": {},
   "outputs": [],
   "source": [
    "X_train_2, X_test_2, y_train_2, y_test_2 = train_test_split(df[features_0], condom_use, test_size=0.25, random_state=1)\n",
    "smote = SMOTE()\n",
    "X_train_2, y_train_2 = smote.fit_sample(X_train_2, y_train_2) "
   ]
  },
  {
   "cell_type": "code",
   "execution_count": null,
   "metadata": {},
   "outputs": [],
   "source": [
    "dtc = DecisionTreeClassifier(max_depth=5, class_weight='balanced')\n",
    "dtc.fit(X_train_2, y_train_2)\n",
    "dtc_preds_test  = dtc.predict(X_test_2)\n",
    "dtc_preds_train  = dtc.predict(X_train_2)\n",
    "dtc_f1_test = metrics.f1_score(y_test_2, dtc_preds_test,average = 'weighted')\n",
    "dtc_f1_train = metrics.f1_score(y_train_2, dtc_preds_train,average = 'weighted')\n",
    "print('F1 score test: ',dtc_f1_test)\n",
    "print('F1 score train: ',dtc_f1_train)"
   ]
  },
  {
   "cell_type": "code",
   "execution_count": null,
   "metadata": {},
   "outputs": [],
   "source": [
    "print('Accuracy test:', metrics.accuracy_score(y_test_2, dtc_preds_test))\n",
    "print('Accuracy train:', metrics.accuracy_score(y_train_2, dtc_preds_train))"
   ]
  },
  {
   "cell_type": "code",
   "execution_count": null,
   "metadata": {},
   "outputs": [],
   "source": [
    "cm = confusion_matrix(y_test_2, dtc_preds_test)\n",
    "print(cm)\n",
    "disp = ConfusionMatrixDisplay(confusion_matrix=cm)\n",
    "disp.plot(cmap='Blues')\n",
    "plt.title('Confusion Matrix: Decision Tree Classifier')\n",
    "plt.show()"
   ]
  },
  {
   "cell_type": "markdown",
   "metadata": {},
   "source": [
    "**Discussing Results**\n",
    "\n",
    "Given that our testing set F1 and Accuracy scores were .8-.9 points higher than our training set, we felt that the model wasn't overfit to the data when using Decision Trees. This model was better at predicting our target. Because of this we felt that this model could be used in determining the likelihood of someone using safe sex practices."
   ]
  },
  {
   "cell_type": "markdown",
   "metadata": {},
   "source": [
    "**Grid search**"
   ]
  },
  {
   "cell_type": "code",
   "execution_count": null,
   "metadata": {},
   "outputs": [],
   "source": [
    "Optimal Parameters: {'criterion': 'entropy', 'max_depth': 8, 'max_features': None, 'n_estimators': 100}\n",
    "Best Model: RandomForestClassifier(criterion='entropy', max_depth=8, max_features=None,\n",
    "                       random_state=42)"
   ]
  },
  {
   "cell_type": "code",
   "execution_count": null,
   "metadata": {},
   "outputs": [],
   "source": [
    "from sklearn.model_selection import train_test_split, GridSearchCV, cross_val_score\n",
    "from sklearn.ensemble import RandomForestClassifier\n",
    "rf_param_grid = {\n",
    "    \"criterion\": [\"gini\", \"entropy\"],\n",
    "    \"max_depth\": [None, 2, 6, 8, 10],\n",
    "    \"max_features\": [None,4,6,10],\n",
    "#     \"min_samples_split\": [2, 5, 10],\n",
    "#     \"min_samples_leaf\" : [1, 2, 3, 5, 6],\n",
    "    \"n_estimators\" : [100, 250]\n",
    "}\n",
    "rf_grid = RandomForestClassifier(random_state=42)\n",
    "gridsearch = GridSearchCV(rf_grid, rf_param_grid, cv=2, return_train_score=True, n_jobs=-1, verbose=-1)\n",
    "gridsearch.fit(X_train_0, y_train_0)\n",
    "print(\"Training Accuracy: {:.4}%\".format(gridsearch.best_score_ * 100))\n",
    "print(\"\")\n",
    "print(\"Optimal Parameters: {}\".format(gridsearch.best_params_))\n",
    "# Actual model object fit with those best parameters\n",
    "# Shows default parameters that we did not specify\n",
    "print(\"Best Model: {}\".format(gridsearch.best_estimator_))\n",
    "gridsearch.score(X_test_0, y_test_0)"
   ]
  },
  {
   "cell_type": "markdown",
   "metadata": {},
   "source": [
    "**Discussing Results**\n",
    "\n",
    "Our grid search model was able to provide us the best results. The F1 and Acurracy scores for the training and testing set were very close, suggesting that the model is not overfit to the data. Because of this we believe this model has the highest predicitive power and will be our final model."
   ]
  },
  {
   "cell_type": "code",
   "execution_count": null,
   "metadata": {},
   "outputs": [],
   "source": []
  }
 ],
 "metadata": {
  "kernelspec": {
   "display_name": "learn-env",
   "language": "python",
   "name": "learn-env"
  },
  "language_info": {
   "codemirror_mode": {
    "name": "ipython",
    "version": 3
   },
   "file_extension": ".py",
   "mimetype": "text/x-python",
   "name": "python",
   "nbconvert_exporter": "python",
   "pygments_lexer": "ipython3",
   "version": "3.8.3"
  },
  "toc": {
   "base_numbering": 1,
   "nav_menu": {},
   "number_sections": true,
   "sideBar": true,
   "skip_h1_title": false,
   "title_cell": "Table of Contents",
   "title_sidebar": "Contents",
   "toc_cell": false,
   "toc_position": {},
   "toc_section_display": true,
   "toc_window_display": false
  }
 },
 "nbformat": 4,
 "nbformat_minor": 4
}
