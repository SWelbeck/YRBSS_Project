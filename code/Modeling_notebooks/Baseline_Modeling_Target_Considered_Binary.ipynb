{
 "cells": [
  {
   "cell_type": "markdown",
   "metadata": {},
   "source": [
    "# Baseline Ensemble Methods - Target: Considered Suicide\n"
   ]
  },
  {
   "cell_type": "markdown",
   "metadata": {},
   "source": [
    "## Import Modules"
   ]
  },
  {
   "cell_type": "code",
   "execution_count": 1,
   "metadata": {
    "ExecuteTime": {
     "end_time": "2021-01-08T02:20:40.099387Z",
     "start_time": "2021-01-08T02:20:35.756870Z"
    }
   },
   "outputs": [],
   "source": [
    "import pandas as pd\n",
    "import numpy as np\n",
    "import matplotlib.pyplot as plt\n",
    "from sklearn import metrics\n",
    "from sklearn.ensemble import BaggingClassifier\n",
    "\n",
    "\n",
    "pd.set_option('display.max_columns', 150, 'display.max_rows', 150)"
   ]
  },
  {
   "cell_type": "code",
   "execution_count": 2,
   "metadata": {
    "ExecuteTime": {
     "end_time": "2021-01-08T02:20:44.361614Z",
     "start_time": "2021-01-08T02:20:43.182265Z"
    },
    "scrolled": true
   },
   "outputs": [
    {
     "name": "stdout",
     "output_type": "stream",
     "text": [
      "(53548, 60)\n"
     ]
    },
    {
     "data": {
      "text/html": [
       "<div>\n",
       "<style scoped>\n",
       "    .dataframe tbody tr th:only-of-type {\n",
       "        vertical-align: middle;\n",
       "    }\n",
       "\n",
       "    .dataframe tbody tr th {\n",
       "        vertical-align: top;\n",
       "    }\n",
       "\n",
       "    .dataframe thead th {\n",
       "        text-align: right;\n",
       "    }\n",
       "</style>\n",
       "<table border=\"1\" class=\"dataframe\">\n",
       "  <thead>\n",
       "    <tr style=\"text-align: right;\">\n",
       "      <th></th>\n",
       "      <th>YEAR</th>\n",
       "      <th>raceeth</th>\n",
       "      <th>How old are you</th>\n",
       "      <th>What is your sex</th>\n",
       "      <th>In what grade are you</th>\n",
       "      <th>How tall are you</th>\n",
       "      <th>How much do you weigh</th>\n",
       "      <th>Seat belt use</th>\n",
       "      <th>Riding with a drinking driver</th>\n",
       "      <th>Drinking and driving</th>\n",
       "      <th>Weapon carrying</th>\n",
       "      <th>Weapon carrying at school</th>\n",
       "      <th>Safety concerns at school</th>\n",
       "      <th>Threatened at school</th>\n",
       "      <th>Physical fighting</th>\n",
       "      <th>Physical fighting at school</th>\n",
       "      <th>Forced sexual intercourse</th>\n",
       "      <th>Bullying at school</th>\n",
       "      <th>Electronic bullying</th>\n",
       "      <th>Sad or hopeless</th>\n",
       "      <th>Considered suicide</th>\n",
       "      <th>Made a suicide plan</th>\n",
       "      <th>Attempted suicide</th>\n",
       "      <th>Injurious suicide attempt</th>\n",
       "      <th>Ever cigarette use</th>\n",
       "      <th>Initiation of cigarette smoking</th>\n",
       "      <th>Current cigarette use</th>\n",
       "      <th>Current smokeless tobacco use</th>\n",
       "      <th>Current cigar use</th>\n",
       "      <th>Initiation of alcohol use</th>\n",
       "      <th>Current alcohol use</th>\n",
       "      <th>Source of alcohol</th>\n",
       "      <th>Ever marijuana use</th>\n",
       "      <th>Initiation of marijuana use</th>\n",
       "      <th>Current marijuana use</th>\n",
       "      <th>Ever steroid use</th>\n",
       "      <th>Illegal injected drug use</th>\n",
       "      <th>Illegal drugs at school</th>\n",
       "      <th>Ever sexual intercourse</th>\n",
       "      <th>Sex before 13 years</th>\n",
       "      <th>Multiple sex partners</th>\n",
       "      <th>Current sexual activity</th>\n",
       "      <th>Alcohol/drugs and sex</th>\n",
       "      <th>Condom use</th>\n",
       "      <th>Birth control pill use</th>\n",
       "      <th>Perception of weight</th>\n",
       "      <th>Weight loss</th>\n",
       "      <th>Television watching</th>\n",
       "      <th>Computer use</th>\n",
       "      <th>HIV testing</th>\n",
       "      <th>Asthma</th>\n",
       "      <th>Sleep</th>\n",
       "      <th>Ever used LSD</th>\n",
       "      <th>BMIPCT</th>\n",
       "      <th>weight</th>\n",
       "      <th>stratum</th>\n",
       "      <th>psu</th>\n",
       "      <th>Has used hard drugs</th>\n",
       "      <th>healthy_eating</th>\n",
       "      <th>regular_activity</th>\n",
       "    </tr>\n",
       "  </thead>\n",
       "  <tbody>\n",
       "    <tr>\n",
       "      <th>0</th>\n",
       "      <td>2019.0</td>\n",
       "      <td>7.0</td>\n",
       "      <td>5.0</td>\n",
       "      <td>2.0</td>\n",
       "      <td>2.0</td>\n",
       "      <td>1.63</td>\n",
       "      <td>54.89</td>\n",
       "      <td>4.0</td>\n",
       "      <td>1.0</td>\n",
       "      <td>2.0</td>\n",
       "      <td>1.0</td>\n",
       "      <td>1.0</td>\n",
       "      <td>1.0</td>\n",
       "      <td>1.0</td>\n",
       "      <td>1.0</td>\n",
       "      <td>1.0</td>\n",
       "      <td>2.0</td>\n",
       "      <td>2.0</td>\n",
       "      <td>2.0</td>\n",
       "      <td>2.0</td>\n",
       "      <td>2.0</td>\n",
       "      <td>2.0</td>\n",
       "      <td>1.0</td>\n",
       "      <td>1.0</td>\n",
       "      <td>2.0</td>\n",
       "      <td>1.0</td>\n",
       "      <td>1.0</td>\n",
       "      <td>1.0</td>\n",
       "      <td>1.0</td>\n",
       "      <td>1.0</td>\n",
       "      <td>1.0</td>\n",
       "      <td>1.0</td>\n",
       "      <td>1.0</td>\n",
       "      <td>1.0</td>\n",
       "      <td>1.0</td>\n",
       "      <td>1.0</td>\n",
       "      <td>1.0</td>\n",
       "      <td>1.0</td>\n",
       "      <td>2.0</td>\n",
       "      <td>1.0</td>\n",
       "      <td>1.0</td>\n",
       "      <td>1.0</td>\n",
       "      <td>1.0</td>\n",
       "      <td>1.0</td>\n",
       "      <td>1.0</td>\n",
       "      <td>3.0</td>\n",
       "      <td>3.0</td>\n",
       "      <td>2.0</td>\n",
       "      <td>5.0</td>\n",
       "      <td>2.0</td>\n",
       "      <td>2.0</td>\n",
       "      <td>4.0</td>\n",
       "      <td>1.0</td>\n",
       "      <td>46.882141</td>\n",
       "      <td>1.6659</td>\n",
       "      <td>213.0</td>\n",
       "      <td>57923.0</td>\n",
       "      <td>0.0</td>\n",
       "      <td>1.0</td>\n",
       "      <td>1.0</td>\n",
       "    </tr>\n",
       "    <tr>\n",
       "      <th>1</th>\n",
       "      <td>2019.0</td>\n",
       "      <td>8.0</td>\n",
       "      <td>4.0</td>\n",
       "      <td>2.0</td>\n",
       "      <td>2.0</td>\n",
       "      <td>1.60</td>\n",
       "      <td>53.98</td>\n",
       "      <td>5.0</td>\n",
       "      <td>2.0</td>\n",
       "      <td>2.0</td>\n",
       "      <td>1.0</td>\n",
       "      <td>1.0</td>\n",
       "      <td>1.0</td>\n",
       "      <td>1.0</td>\n",
       "      <td>1.0</td>\n",
       "      <td>1.0</td>\n",
       "      <td>2.0</td>\n",
       "      <td>1.0</td>\n",
       "      <td>2.0</td>\n",
       "      <td>2.0</td>\n",
       "      <td>2.0</td>\n",
       "      <td>2.0</td>\n",
       "      <td>1.0</td>\n",
       "      <td>1.0</td>\n",
       "      <td>2.0</td>\n",
       "      <td>1.0</td>\n",
       "      <td>1.0</td>\n",
       "      <td>1.0</td>\n",
       "      <td>1.0</td>\n",
       "      <td>1.0</td>\n",
       "      <td>1.0</td>\n",
       "      <td>1.0</td>\n",
       "      <td>2.0</td>\n",
       "      <td>5.0</td>\n",
       "      <td>1.0</td>\n",
       "      <td>1.0</td>\n",
       "      <td>1.0</td>\n",
       "      <td>2.0</td>\n",
       "      <td>2.0</td>\n",
       "      <td>1.0</td>\n",
       "      <td>1.0</td>\n",
       "      <td>1.0</td>\n",
       "      <td>1.0</td>\n",
       "      <td>1.0</td>\n",
       "      <td>1.0</td>\n",
       "      <td>3.0</td>\n",
       "      <td>1.0</td>\n",
       "      <td>3.0</td>\n",
       "      <td>3.0</td>\n",
       "      <td>2.0</td>\n",
       "      <td>2.0</td>\n",
       "      <td>4.0</td>\n",
       "      <td>1.0</td>\n",
       "      <td>62.232194</td>\n",
       "      <td>1.3851</td>\n",
       "      <td>213.0</td>\n",
       "      <td>57923.0</td>\n",
       "      <td>0.0</td>\n",
       "      <td>1.0</td>\n",
       "      <td>1.0</td>\n",
       "    </tr>\n",
       "    <tr>\n",
       "      <th>2</th>\n",
       "      <td>2019.0</td>\n",
       "      <td>8.0</td>\n",
       "      <td>4.0</td>\n",
       "      <td>1.0</td>\n",
       "      <td>2.0</td>\n",
       "      <td>1.68</td>\n",
       "      <td>43.09</td>\n",
       "      <td>4.0</td>\n",
       "      <td>1.0</td>\n",
       "      <td>2.0</td>\n",
       "      <td>1.0</td>\n",
       "      <td>1.0</td>\n",
       "      <td>1.0</td>\n",
       "      <td>1.0</td>\n",
       "      <td>1.0</td>\n",
       "      <td>1.0</td>\n",
       "      <td>2.0</td>\n",
       "      <td>2.0</td>\n",
       "      <td>2.0</td>\n",
       "      <td>2.0</td>\n",
       "      <td>2.0</td>\n",
       "      <td>2.0</td>\n",
       "      <td>1.0</td>\n",
       "      <td>1.0</td>\n",
       "      <td>2.0</td>\n",
       "      <td>1.0</td>\n",
       "      <td>1.0</td>\n",
       "      <td>1.0</td>\n",
       "      <td>1.0</td>\n",
       "      <td>1.0</td>\n",
       "      <td>1.0</td>\n",
       "      <td>1.0</td>\n",
       "      <td>1.0</td>\n",
       "      <td>1.0</td>\n",
       "      <td>1.0</td>\n",
       "      <td>1.0</td>\n",
       "      <td>1.0</td>\n",
       "      <td>2.0</td>\n",
       "      <td>2.0</td>\n",
       "      <td>1.0</td>\n",
       "      <td>1.0</td>\n",
       "      <td>1.0</td>\n",
       "      <td>1.0</td>\n",
       "      <td>1.0</td>\n",
       "      <td>1.0</td>\n",
       "      <td>2.0</td>\n",
       "      <td>4.0</td>\n",
       "      <td>2.0</td>\n",
       "      <td>4.0</td>\n",
       "      <td>3.0</td>\n",
       "      <td>2.0</td>\n",
       "      <td>5.0</td>\n",
       "      <td>1.0</td>\n",
       "      <td>0.590171</td>\n",
       "      <td>1.4958</td>\n",
       "      <td>213.0</td>\n",
       "      <td>57923.0</td>\n",
       "      <td>0.0</td>\n",
       "      <td>1.0</td>\n",
       "      <td>0.0</td>\n",
       "    </tr>\n",
       "    <tr>\n",
       "      <th>3</th>\n",
       "      <td>2019.0</td>\n",
       "      <td>5.0</td>\n",
       "      <td>4.0</td>\n",
       "      <td>2.0</td>\n",
       "      <td>2.0</td>\n",
       "      <td>1.78</td>\n",
       "      <td>68.95</td>\n",
       "      <td>4.0</td>\n",
       "      <td>1.0</td>\n",
       "      <td>1.0</td>\n",
       "      <td>1.0</td>\n",
       "      <td>1.0</td>\n",
       "      <td>1.0</td>\n",
       "      <td>1.0</td>\n",
       "      <td>1.0</td>\n",
       "      <td>1.0</td>\n",
       "      <td>2.0</td>\n",
       "      <td>2.0</td>\n",
       "      <td>2.0</td>\n",
       "      <td>1.0</td>\n",
       "      <td>2.0</td>\n",
       "      <td>2.0</td>\n",
       "      <td>1.0</td>\n",
       "      <td>1.0</td>\n",
       "      <td>1.0</td>\n",
       "      <td>4.0</td>\n",
       "      <td>3.0</td>\n",
       "      <td>1.0</td>\n",
       "      <td>1.0</td>\n",
       "      <td>5.0</td>\n",
       "      <td>3.0</td>\n",
       "      <td>7.0</td>\n",
       "      <td>7.0</td>\n",
       "      <td>4.0</td>\n",
       "      <td>6.0</td>\n",
       "      <td>1.0</td>\n",
       "      <td>1.0</td>\n",
       "      <td>1.0</td>\n",
       "      <td>2.0</td>\n",
       "      <td>1.0</td>\n",
       "      <td>1.0</td>\n",
       "      <td>1.0</td>\n",
       "      <td>1.0</td>\n",
       "      <td>1.0</td>\n",
       "      <td>1.0</td>\n",
       "      <td>3.0</td>\n",
       "      <td>3.0</td>\n",
       "      <td>7.0</td>\n",
       "      <td>7.0</td>\n",
       "      <td>2.0</td>\n",
       "      <td>3.0</td>\n",
       "      <td>4.0</td>\n",
       "      <td>3.0</td>\n",
       "      <td>69.786634</td>\n",
       "      <td>1.7114</td>\n",
       "      <td>213.0</td>\n",
       "      <td>57923.0</td>\n",
       "      <td>1.0</td>\n",
       "      <td>1.0</td>\n",
       "      <td>0.0</td>\n",
       "    </tr>\n",
       "    <tr>\n",
       "      <th>4</th>\n",
       "      <td>2019.0</td>\n",
       "      <td>6.0</td>\n",
       "      <td>5.0</td>\n",
       "      <td>2.0</td>\n",
       "      <td>2.0</td>\n",
       "      <td>1.78</td>\n",
       "      <td>58.97</td>\n",
       "      <td>4.0</td>\n",
       "      <td>1.0</td>\n",
       "      <td>1.0</td>\n",
       "      <td>1.0</td>\n",
       "      <td>1.0</td>\n",
       "      <td>1.0</td>\n",
       "      <td>1.0</td>\n",
       "      <td>1.0</td>\n",
       "      <td>1.0</td>\n",
       "      <td>2.0</td>\n",
       "      <td>2.0</td>\n",
       "      <td>2.0</td>\n",
       "      <td>2.0</td>\n",
       "      <td>2.0</td>\n",
       "      <td>2.0</td>\n",
       "      <td>1.0</td>\n",
       "      <td>1.0</td>\n",
       "      <td>2.0</td>\n",
       "      <td>1.0</td>\n",
       "      <td>1.0</td>\n",
       "      <td>1.0</td>\n",
       "      <td>1.0</td>\n",
       "      <td>1.0</td>\n",
       "      <td>1.0</td>\n",
       "      <td>1.0</td>\n",
       "      <td>1.0</td>\n",
       "      <td>1.0</td>\n",
       "      <td>1.0</td>\n",
       "      <td>1.0</td>\n",
       "      <td>1.0</td>\n",
       "      <td>2.0</td>\n",
       "      <td>2.0</td>\n",
       "      <td>1.0</td>\n",
       "      <td>1.0</td>\n",
       "      <td>1.0</td>\n",
       "      <td>1.0</td>\n",
       "      <td>1.0</td>\n",
       "      <td>1.0</td>\n",
       "      <td>3.0</td>\n",
       "      <td>4.0</td>\n",
       "      <td>1.0</td>\n",
       "      <td>4.0</td>\n",
       "      <td>2.0</td>\n",
       "      <td>2.0</td>\n",
       "      <td>2.0</td>\n",
       "      <td>1.0</td>\n",
       "      <td>16.739994</td>\n",
       "      <td>1.6659</td>\n",
       "      <td>213.0</td>\n",
       "      <td>57923.0</td>\n",
       "      <td>0.0</td>\n",
       "      <td>1.0</td>\n",
       "      <td>0.0</td>\n",
       "    </tr>\n",
       "  </tbody>\n",
       "</table>\n",
       "</div>"
      ],
      "text/plain": [
       "     YEAR  raceeth  How old are you  What is your sex  In what grade are you  \\\n",
       "0  2019.0      7.0              5.0               2.0                    2.0   \n",
       "1  2019.0      8.0              4.0               2.0                    2.0   \n",
       "2  2019.0      8.0              4.0               1.0                    2.0   \n",
       "3  2019.0      5.0              4.0               2.0                    2.0   \n",
       "4  2019.0      6.0              5.0               2.0                    2.0   \n",
       "\n",
       "   How tall are you  How much do you weigh  Seat belt use  \\\n",
       "0              1.63                  54.89            4.0   \n",
       "1              1.60                  53.98            5.0   \n",
       "2              1.68                  43.09            4.0   \n",
       "3              1.78                  68.95            4.0   \n",
       "4              1.78                  58.97            4.0   \n",
       "\n",
       "   Riding with a drinking driver  Drinking and driving  Weapon carrying  \\\n",
       "0                            1.0                   2.0              1.0   \n",
       "1                            2.0                   2.0              1.0   \n",
       "2                            1.0                   2.0              1.0   \n",
       "3                            1.0                   1.0              1.0   \n",
       "4                            1.0                   1.0              1.0   \n",
       "\n",
       "   Weapon carrying at school  Safety concerns at school  Threatened at school  \\\n",
       "0                        1.0                        1.0                   1.0   \n",
       "1                        1.0                        1.0                   1.0   \n",
       "2                        1.0                        1.0                   1.0   \n",
       "3                        1.0                        1.0                   1.0   \n",
       "4                        1.0                        1.0                   1.0   \n",
       "\n",
       "   Physical fighting  Physical fighting at school  Forced sexual intercourse  \\\n",
       "0                1.0                          1.0                        2.0   \n",
       "1                1.0                          1.0                        2.0   \n",
       "2                1.0                          1.0                        2.0   \n",
       "3                1.0                          1.0                        2.0   \n",
       "4                1.0                          1.0                        2.0   \n",
       "\n",
       "   Bullying at school  Electronic bullying  Sad or hopeless  \\\n",
       "0                 2.0                  2.0              2.0   \n",
       "1                 1.0                  2.0              2.0   \n",
       "2                 2.0                  2.0              2.0   \n",
       "3                 2.0                  2.0              1.0   \n",
       "4                 2.0                  2.0              2.0   \n",
       "\n",
       "   Considered suicide  Made a suicide plan  Attempted suicide  \\\n",
       "0                 2.0                  2.0                1.0   \n",
       "1                 2.0                  2.0                1.0   \n",
       "2                 2.0                  2.0                1.0   \n",
       "3                 2.0                  2.0                1.0   \n",
       "4                 2.0                  2.0                1.0   \n",
       "\n",
       "   Injurious suicide attempt  Ever cigarette use  \\\n",
       "0                        1.0                 2.0   \n",
       "1                        1.0                 2.0   \n",
       "2                        1.0                 2.0   \n",
       "3                        1.0                 1.0   \n",
       "4                        1.0                 2.0   \n",
       "\n",
       "   Initiation of cigarette smoking  Current cigarette use  \\\n",
       "0                              1.0                    1.0   \n",
       "1                              1.0                    1.0   \n",
       "2                              1.0                    1.0   \n",
       "3                              4.0                    3.0   \n",
       "4                              1.0                    1.0   \n",
       "\n",
       "   Current smokeless tobacco use  Current cigar use  \\\n",
       "0                            1.0                1.0   \n",
       "1                            1.0                1.0   \n",
       "2                            1.0                1.0   \n",
       "3                            1.0                1.0   \n",
       "4                            1.0                1.0   \n",
       "\n",
       "   Initiation of alcohol use  Current alcohol use  Source of alcohol  \\\n",
       "0                        1.0                  1.0                1.0   \n",
       "1                        1.0                  1.0                1.0   \n",
       "2                        1.0                  1.0                1.0   \n",
       "3                        5.0                  3.0                7.0   \n",
       "4                        1.0                  1.0                1.0   \n",
       "\n",
       "   Ever marijuana use  Initiation of marijuana use  Current marijuana use  \\\n",
       "0                 1.0                          1.0                    1.0   \n",
       "1                 2.0                          5.0                    1.0   \n",
       "2                 1.0                          1.0                    1.0   \n",
       "3                 7.0                          4.0                    6.0   \n",
       "4                 1.0                          1.0                    1.0   \n",
       "\n",
       "   Ever steroid use  Illegal injected drug use  Illegal drugs at school  \\\n",
       "0               1.0                        1.0                      1.0   \n",
       "1               1.0                        1.0                      2.0   \n",
       "2               1.0                        1.0                      2.0   \n",
       "3               1.0                        1.0                      1.0   \n",
       "4               1.0                        1.0                      2.0   \n",
       "\n",
       "   Ever sexual intercourse  Sex before 13 years  Multiple sex partners  \\\n",
       "0                      2.0                  1.0                    1.0   \n",
       "1                      2.0                  1.0                    1.0   \n",
       "2                      2.0                  1.0                    1.0   \n",
       "3                      2.0                  1.0                    1.0   \n",
       "4                      2.0                  1.0                    1.0   \n",
       "\n",
       "   Current sexual activity  Alcohol/drugs and sex  Condom use  \\\n",
       "0                      1.0                    1.0         1.0   \n",
       "1                      1.0                    1.0         1.0   \n",
       "2                      1.0                    1.0         1.0   \n",
       "3                      1.0                    1.0         1.0   \n",
       "4                      1.0                    1.0         1.0   \n",
       "\n",
       "   Birth control pill use  Perception of weight  Weight loss  \\\n",
       "0                     1.0                   3.0          3.0   \n",
       "1                     1.0                   3.0          1.0   \n",
       "2                     1.0                   2.0          4.0   \n",
       "3                     1.0                   3.0          3.0   \n",
       "4                     1.0                   3.0          4.0   \n",
       "\n",
       "   Television watching  Computer use  HIV testing  Asthma  Sleep  \\\n",
       "0                  2.0           5.0          2.0     2.0    4.0   \n",
       "1                  3.0           3.0          2.0     2.0    4.0   \n",
       "2                  2.0           4.0          3.0     2.0    5.0   \n",
       "3                  7.0           7.0          2.0     3.0    4.0   \n",
       "4                  1.0           4.0          2.0     2.0    2.0   \n",
       "\n",
       "   Ever used LSD     BMIPCT  weight  stratum      psu  Has used hard drugs  \\\n",
       "0            1.0  46.882141  1.6659    213.0  57923.0                  0.0   \n",
       "1            1.0  62.232194  1.3851    213.0  57923.0                  0.0   \n",
       "2            1.0   0.590171  1.4958    213.0  57923.0                  0.0   \n",
       "3            3.0  69.786634  1.7114    213.0  57923.0                  1.0   \n",
       "4            1.0  16.739994  1.6659    213.0  57923.0                  0.0   \n",
       "\n",
       "   healthy_eating  regular_activity  \n",
       "0             1.0               1.0  \n",
       "1             1.0               1.0  \n",
       "2             1.0               0.0  \n",
       "3             1.0               0.0  \n",
       "4             1.0               0.0  "
      ]
     },
     "execution_count": 2,
     "metadata": {},
     "output_type": "execute_result"
    }
   ],
   "source": [
    "# Read in data and split data to be used in the models\n",
    "df = pd.read_csv('modeling_dataset.csv')\n",
    "df = df.drop(columns=['Unnamed: 0'], axis=1)\n",
    "\n",
    "print(df.shape)\n",
    "df.head()"
   ]
  },
  {
   "cell_type": "code",
   "execution_count": 3,
   "metadata": {
    "ExecuteTime": {
     "end_time": "2021-01-08T02:20:53.198689Z",
     "start_time": "2021-01-08T02:20:53.180960Z"
    }
   },
   "outputs": [],
   "source": [
    "# Create matrix of features\n",
    "to_drop = ['Considered suicide','Made a suicide plan','Attempted suicide','Injurious suicide attempt']\n",
    "X = df.drop(columns = to_drop, axis = 1) # grabs everything else but target\n",
    "\n",
    "# Create target variable\n",
    "y = df['Considered suicide'] # y is the column we're trying to predict\n"
   ]
  },
  {
   "cell_type": "code",
   "execution_count": 4,
   "metadata": {
    "ExecuteTime": {
     "end_time": "2021-01-08T02:20:56.058940Z",
     "start_time": "2021-01-08T02:20:55.357795Z"
    },
    "scrolled": true
   },
   "outputs": [
    {
     "data": {
      "text/html": [
       "<div>\n",
       "<style scoped>\n",
       "    .dataframe tbody tr th:only-of-type {\n",
       "        vertical-align: middle;\n",
       "    }\n",
       "\n",
       "    .dataframe tbody tr th {\n",
       "        vertical-align: top;\n",
       "    }\n",
       "\n",
       "    .dataframe thead th {\n",
       "        text-align: right;\n",
       "    }\n",
       "</style>\n",
       "<table border=\"1\" class=\"dataframe\">\n",
       "  <thead>\n",
       "    <tr style=\"text-align: right;\">\n",
       "      <th></th>\n",
       "      <th>YEAR</th>\n",
       "      <th>raceeth</th>\n",
       "      <th>How old are you</th>\n",
       "      <th>What is your sex</th>\n",
       "      <th>In what grade are you</th>\n",
       "      <th>How tall are you</th>\n",
       "      <th>How much do you weigh</th>\n",
       "      <th>Seat belt use</th>\n",
       "      <th>Riding with a drinking driver</th>\n",
       "      <th>Drinking and driving</th>\n",
       "      <th>Weapon carrying</th>\n",
       "      <th>Weapon carrying at school</th>\n",
       "      <th>Safety concerns at school</th>\n",
       "      <th>Threatened at school</th>\n",
       "      <th>Physical fighting</th>\n",
       "      <th>Physical fighting at school</th>\n",
       "      <th>Forced sexual intercourse</th>\n",
       "      <th>Bullying at school</th>\n",
       "      <th>Electronic bullying</th>\n",
       "      <th>Sad or hopeless</th>\n",
       "      <th>Ever cigarette use</th>\n",
       "      <th>Initiation of cigarette smoking</th>\n",
       "      <th>Current cigarette use</th>\n",
       "      <th>Current smokeless tobacco use</th>\n",
       "      <th>Current cigar use</th>\n",
       "      <th>Initiation of alcohol use</th>\n",
       "      <th>Current alcohol use</th>\n",
       "      <th>Source of alcohol</th>\n",
       "      <th>Ever marijuana use</th>\n",
       "      <th>Initiation of marijuana use</th>\n",
       "      <th>Current marijuana use</th>\n",
       "      <th>Ever steroid use</th>\n",
       "      <th>Illegal injected drug use</th>\n",
       "      <th>Illegal drugs at school</th>\n",
       "      <th>Ever sexual intercourse</th>\n",
       "      <th>Sex before 13 years</th>\n",
       "      <th>Multiple sex partners</th>\n",
       "      <th>Current sexual activity</th>\n",
       "      <th>Alcohol/drugs and sex</th>\n",
       "      <th>Condom use</th>\n",
       "      <th>Birth control pill use</th>\n",
       "      <th>Perception of weight</th>\n",
       "      <th>Weight loss</th>\n",
       "      <th>Television watching</th>\n",
       "      <th>Computer use</th>\n",
       "      <th>HIV testing</th>\n",
       "      <th>Asthma</th>\n",
       "      <th>Sleep</th>\n",
       "      <th>Ever used LSD</th>\n",
       "      <th>BMIPCT</th>\n",
       "      <th>weight</th>\n",
       "      <th>stratum</th>\n",
       "      <th>psu</th>\n",
       "      <th>Has used hard drugs</th>\n",
       "      <th>healthy_eating</th>\n",
       "      <th>regular_activity</th>\n",
       "    </tr>\n",
       "  </thead>\n",
       "  <tbody>\n",
       "    <tr>\n",
       "      <th>count</th>\n",
       "      <td>53548.000000</td>\n",
       "      <td>53548.000000</td>\n",
       "      <td>53548.000000</td>\n",
       "      <td>53548.000000</td>\n",
       "      <td>53548.000000</td>\n",
       "      <td>53548.000000</td>\n",
       "      <td>53548.000000</td>\n",
       "      <td>53548.000000</td>\n",
       "      <td>53548.000000</td>\n",
       "      <td>53548.000000</td>\n",
       "      <td>53548.000000</td>\n",
       "      <td>53548.000000</td>\n",
       "      <td>53548.000000</td>\n",
       "      <td>53548.000000</td>\n",
       "      <td>53548.000000</td>\n",
       "      <td>53548.000000</td>\n",
       "      <td>53548.000000</td>\n",
       "      <td>53548.000000</td>\n",
       "      <td>53548.000000</td>\n",
       "      <td>53548.000000</td>\n",
       "      <td>53548.000000</td>\n",
       "      <td>53548.000000</td>\n",
       "      <td>53548.000000</td>\n",
       "      <td>53548.000000</td>\n",
       "      <td>53548.000000</td>\n",
       "      <td>53548.000000</td>\n",
       "      <td>53548.000000</td>\n",
       "      <td>53548.000000</td>\n",
       "      <td>53548.000000</td>\n",
       "      <td>53548.000000</td>\n",
       "      <td>53548.000000</td>\n",
       "      <td>53548.000000</td>\n",
       "      <td>53548.000000</td>\n",
       "      <td>53548.000000</td>\n",
       "      <td>53548.000000</td>\n",
       "      <td>53548.000000</td>\n",
       "      <td>53548.000000</td>\n",
       "      <td>53548.000000</td>\n",
       "      <td>53548.000000</td>\n",
       "      <td>53548.000000</td>\n",
       "      <td>53548.000000</td>\n",
       "      <td>53548.000000</td>\n",
       "      <td>53548.000000</td>\n",
       "      <td>53548.000000</td>\n",
       "      <td>53548.000000</td>\n",
       "      <td>53548.000000</td>\n",
       "      <td>53548.000000</td>\n",
       "      <td>53548.000000</td>\n",
       "      <td>53548.000000</td>\n",
       "      <td>5.354800e+04</td>\n",
       "      <td>53548.000000</td>\n",
       "      <td>53548.000000</td>\n",
       "      <td>53548.000000</td>\n",
       "      <td>53548.000000</td>\n",
       "      <td>53548.000000</td>\n",
       "      <td>53548.000000</td>\n",
       "    </tr>\n",
       "    <tr>\n",
       "      <th>mean</th>\n",
       "      <td>2014.679092</td>\n",
       "      <td>5.126653</td>\n",
       "      <td>5.087286</td>\n",
       "      <td>1.481829</td>\n",
       "      <td>2.480541</td>\n",
       "      <td>1.688293</td>\n",
       "      <td>67.017479</td>\n",
       "      <td>4.352338</td>\n",
       "      <td>1.388493</td>\n",
       "      <td>1.519328</td>\n",
       "      <td>1.408661</td>\n",
       "      <td>1.103533</td>\n",
       "      <td>1.109715</td>\n",
       "      <td>1.141219</td>\n",
       "      <td>1.520169</td>\n",
       "      <td>1.138156</td>\n",
       "      <td>1.927374</td>\n",
       "      <td>1.811291</td>\n",
       "      <td>1.854560</td>\n",
       "      <td>1.677990</td>\n",
       "      <td>1.671080</td>\n",
       "      <td>2.055726</td>\n",
       "      <td>1.348248</td>\n",
       "      <td>1.173527</td>\n",
       "      <td>1.217394</td>\n",
       "      <td>3.429316</td>\n",
       "      <td>1.576417</td>\n",
       "      <td>2.541570</td>\n",
       "      <td>2.324419</td>\n",
       "      <td>2.699186</td>\n",
       "      <td>1.572085</td>\n",
       "      <td>1.057444</td>\n",
       "      <td>1.018152</td>\n",
       "      <td>1.766359</td>\n",
       "      <td>1.571917</td>\n",
       "      <td>2.992007</td>\n",
       "      <td>2.145346</td>\n",
       "      <td>1.896934</td>\n",
       "      <td>1.786341</td>\n",
       "      <td>1.606876</td>\n",
       "      <td>2.300627</td>\n",
       "      <td>3.206488</td>\n",
       "      <td>2.021831</td>\n",
       "      <td>3.443079</td>\n",
       "      <td>4.081889</td>\n",
       "      <td>1.991111</td>\n",
       "      <td>1.821506</td>\n",
       "      <td>3.656439</td>\n",
       "      <td>1.109416</td>\n",
       "      <td>6.213372e+01</td>\n",
       "      <td>1.082591</td>\n",
       "      <td>164.717002</td>\n",
       "      <td>264860.247479</td>\n",
       "      <td>0.220662</td>\n",
       "      <td>0.945003</td>\n",
       "      <td>0.752783</td>\n",
       "    </tr>\n",
       "    <tr>\n",
       "      <th>std</th>\n",
       "      <td>2.815448</td>\n",
       "      <td>1.510659</td>\n",
       "      <td>1.228198</td>\n",
       "      <td>0.499674</td>\n",
       "      <td>1.121861</td>\n",
       "      <td>0.098875</td>\n",
       "      <td>16.683080</td>\n",
       "      <td>0.939576</td>\n",
       "      <td>0.914615</td>\n",
       "      <td>0.702596</td>\n",
       "      <td>1.094574</td>\n",
       "      <td>0.584567</td>\n",
       "      <td>0.498348</td>\n",
       "      <td>0.727962</td>\n",
       "      <td>1.216012</td>\n",
       "      <td>0.613862</td>\n",
       "      <td>0.259525</td>\n",
       "      <td>0.391281</td>\n",
       "      <td>0.352547</td>\n",
       "      <td>0.467251</td>\n",
       "      <td>0.469825</td>\n",
       "      <td>1.884897</td>\n",
       "      <td>1.184557</td>\n",
       "      <td>0.870642</td>\n",
       "      <td>0.851894</td>\n",
       "      <td>2.188578</td>\n",
       "      <td>1.070177</td>\n",
       "      <td>2.454069</td>\n",
       "      <td>2.050970</td>\n",
       "      <td>2.191601</td>\n",
       "      <td>1.282910</td>\n",
       "      <td>0.444195</td>\n",
       "      <td>0.177988</td>\n",
       "      <td>0.423150</td>\n",
       "      <td>0.494806</td>\n",
       "      <td>2.505909</td>\n",
       "      <td>1.773185</td>\n",
       "      <td>1.278619</td>\n",
       "      <td>0.933065</td>\n",
       "      <td>0.763048</td>\n",
       "      <td>1.805916</td>\n",
       "      <td>0.779903</td>\n",
       "      <td>1.163381</td>\n",
       "      <td>1.808349</td>\n",
       "      <td>2.097703</td>\n",
       "      <td>0.441633</td>\n",
       "      <td>0.470584</td>\n",
       "      <td>1.307949</td>\n",
       "      <td>0.538331</td>\n",
       "      <td>2.784126e+01</td>\n",
       "      <td>0.941813</td>\n",
       "      <td>50.440779</td>\n",
       "      <td>178287.459596</td>\n",
       "      <td>0.414697</td>\n",
       "      <td>0.227977</td>\n",
       "      <td>0.431398</td>\n",
       "    </tr>\n",
       "    <tr>\n",
       "      <th>min</th>\n",
       "      <td>2011.000000</td>\n",
       "      <td>1.000000</td>\n",
       "      <td>1.000000</td>\n",
       "      <td>1.000000</td>\n",
       "      <td>1.000000</td>\n",
       "      <td>1.270000</td>\n",
       "      <td>24.950000</td>\n",
       "      <td>1.000000</td>\n",
       "      <td>1.000000</td>\n",
       "      <td>1.000000</td>\n",
       "      <td>1.000000</td>\n",
       "      <td>1.000000</td>\n",
       "      <td>1.000000</td>\n",
       "      <td>1.000000</td>\n",
       "      <td>1.000000</td>\n",
       "      <td>1.000000</td>\n",
       "      <td>1.000000</td>\n",
       "      <td>1.000000</td>\n",
       "      <td>1.000000</td>\n",
       "      <td>1.000000</td>\n",
       "      <td>1.000000</td>\n",
       "      <td>1.000000</td>\n",
       "      <td>1.000000</td>\n",
       "      <td>1.000000</td>\n",
       "      <td>1.000000</td>\n",
       "      <td>1.000000</td>\n",
       "      <td>1.000000</td>\n",
       "      <td>1.000000</td>\n",
       "      <td>1.000000</td>\n",
       "      <td>1.000000</td>\n",
       "      <td>1.000000</td>\n",
       "      <td>1.000000</td>\n",
       "      <td>1.000000</td>\n",
       "      <td>1.000000</td>\n",
       "      <td>1.000000</td>\n",
       "      <td>1.000000</td>\n",
       "      <td>1.000000</td>\n",
       "      <td>1.000000</td>\n",
       "      <td>1.000000</td>\n",
       "      <td>1.000000</td>\n",
       "      <td>1.000000</td>\n",
       "      <td>1.000000</td>\n",
       "      <td>1.000000</td>\n",
       "      <td>1.000000</td>\n",
       "      <td>1.000000</td>\n",
       "      <td>1.000000</td>\n",
       "      <td>1.000000</td>\n",
       "      <td>1.000000</td>\n",
       "      <td>1.000000</td>\n",
       "      <td>2.039970e-08</td>\n",
       "      <td>0.028600</td>\n",
       "      <td>101.000000</td>\n",
       "      <td>10530.000000</td>\n",
       "      <td>0.000000</td>\n",
       "      <td>0.000000</td>\n",
       "      <td>0.000000</td>\n",
       "    </tr>\n",
       "    <tr>\n",
       "      <th>25%</th>\n",
       "      <td>2013.000000</td>\n",
       "      <td>5.000000</td>\n",
       "      <td>4.000000</td>\n",
       "      <td>1.000000</td>\n",
       "      <td>1.000000</td>\n",
       "      <td>1.630000</td>\n",
       "      <td>56.700000</td>\n",
       "      <td>4.000000</td>\n",
       "      <td>1.000000</td>\n",
       "      <td>1.000000</td>\n",
       "      <td>1.000000</td>\n",
       "      <td>1.000000</td>\n",
       "      <td>1.000000</td>\n",
       "      <td>1.000000</td>\n",
       "      <td>1.000000</td>\n",
       "      <td>1.000000</td>\n",
       "      <td>2.000000</td>\n",
       "      <td>2.000000</td>\n",
       "      <td>2.000000</td>\n",
       "      <td>1.000000</td>\n",
       "      <td>1.000000</td>\n",
       "      <td>1.000000</td>\n",
       "      <td>1.000000</td>\n",
       "      <td>1.000000</td>\n",
       "      <td>1.000000</td>\n",
       "      <td>1.000000</td>\n",
       "      <td>1.000000</td>\n",
       "      <td>1.000000</td>\n",
       "      <td>1.000000</td>\n",
       "      <td>1.000000</td>\n",
       "      <td>1.000000</td>\n",
       "      <td>1.000000</td>\n",
       "      <td>1.000000</td>\n",
       "      <td>2.000000</td>\n",
       "      <td>1.000000</td>\n",
       "      <td>1.000000</td>\n",
       "      <td>1.000000</td>\n",
       "      <td>1.000000</td>\n",
       "      <td>1.000000</td>\n",
       "      <td>1.000000</td>\n",
       "      <td>1.000000</td>\n",
       "      <td>3.000000</td>\n",
       "      <td>1.000000</td>\n",
       "      <td>2.000000</td>\n",
       "      <td>2.000000</td>\n",
       "      <td>2.000000</td>\n",
       "      <td>2.000000</td>\n",
       "      <td>3.000000</td>\n",
       "      <td>1.000000</td>\n",
       "      <td>4.429519e+01</td>\n",
       "      <td>0.463000</td>\n",
       "      <td>104.000000</td>\n",
       "      <td>88352.000000</td>\n",
       "      <td>0.000000</td>\n",
       "      <td>1.000000</td>\n",
       "      <td>1.000000</td>\n",
       "    </tr>\n",
       "    <tr>\n",
       "      <th>50%</th>\n",
       "      <td>2015.000000</td>\n",
       "      <td>5.000000</td>\n",
       "      <td>5.000000</td>\n",
       "      <td>1.000000</td>\n",
       "      <td>2.000000</td>\n",
       "      <td>1.680000</td>\n",
       "      <td>62.600000</td>\n",
       "      <td>5.000000</td>\n",
       "      <td>1.000000</td>\n",
       "      <td>1.000000</td>\n",
       "      <td>1.000000</td>\n",
       "      <td>1.000000</td>\n",
       "      <td>1.000000</td>\n",
       "      <td>1.000000</td>\n",
       "      <td>1.000000</td>\n",
       "      <td>1.000000</td>\n",
       "      <td>2.000000</td>\n",
       "      <td>2.000000</td>\n",
       "      <td>2.000000</td>\n",
       "      <td>2.000000</td>\n",
       "      <td>2.000000</td>\n",
       "      <td>1.000000</td>\n",
       "      <td>1.000000</td>\n",
       "      <td>1.000000</td>\n",
       "      <td>1.000000</td>\n",
       "      <td>4.000000</td>\n",
       "      <td>1.000000</td>\n",
       "      <td>1.000000</td>\n",
       "      <td>1.000000</td>\n",
       "      <td>1.000000</td>\n",
       "      <td>1.000000</td>\n",
       "      <td>1.000000</td>\n",
       "      <td>1.000000</td>\n",
       "      <td>2.000000</td>\n",
       "      <td>2.000000</td>\n",
       "      <td>1.000000</td>\n",
       "      <td>1.000000</td>\n",
       "      <td>1.000000</td>\n",
       "      <td>1.000000</td>\n",
       "      <td>1.000000</td>\n",
       "      <td>1.000000</td>\n",
       "      <td>3.000000</td>\n",
       "      <td>2.000000</td>\n",
       "      <td>3.000000</td>\n",
       "      <td>4.000000</td>\n",
       "      <td>2.000000</td>\n",
       "      <td>2.000000</td>\n",
       "      <td>4.000000</td>\n",
       "      <td>1.000000</td>\n",
       "      <td>6.516580e+01</td>\n",
       "      <td>0.845100</td>\n",
       "      <td>201.000000</td>\n",
       "      <td>240330.000000</td>\n",
       "      <td>0.000000</td>\n",
       "      <td>1.000000</td>\n",
       "      <td>1.000000</td>\n",
       "    </tr>\n",
       "    <tr>\n",
       "      <th>75%</th>\n",
       "      <td>2017.000000</td>\n",
       "      <td>6.000000</td>\n",
       "      <td>6.000000</td>\n",
       "      <td>2.000000</td>\n",
       "      <td>3.000000</td>\n",
       "      <td>1.750000</td>\n",
       "      <td>74.840000</td>\n",
       "      <td>5.000000</td>\n",
       "      <td>1.000000</td>\n",
       "      <td>2.000000</td>\n",
       "      <td>1.000000</td>\n",
       "      <td>1.000000</td>\n",
       "      <td>1.000000</td>\n",
       "      <td>1.000000</td>\n",
       "      <td>1.000000</td>\n",
       "      <td>1.000000</td>\n",
       "      <td>2.000000</td>\n",
       "      <td>2.000000</td>\n",
       "      <td>2.000000</td>\n",
       "      <td>2.000000</td>\n",
       "      <td>2.000000</td>\n",
       "      <td>2.000000</td>\n",
       "      <td>1.000000</td>\n",
       "      <td>1.000000</td>\n",
       "      <td>1.000000</td>\n",
       "      <td>5.000000</td>\n",
       "      <td>2.000000</td>\n",
       "      <td>5.000000</td>\n",
       "      <td>3.000000</td>\n",
       "      <td>5.000000</td>\n",
       "      <td>1.000000</td>\n",
       "      <td>1.000000</td>\n",
       "      <td>1.000000</td>\n",
       "      <td>2.000000</td>\n",
       "      <td>2.000000</td>\n",
       "      <td>5.000000</td>\n",
       "      <td>3.000000</td>\n",
       "      <td>3.000000</td>\n",
       "      <td>3.000000</td>\n",
       "      <td>2.000000</td>\n",
       "      <td>4.000000</td>\n",
       "      <td>4.000000</td>\n",
       "      <td>3.000000</td>\n",
       "      <td>5.000000</td>\n",
       "      <td>6.000000</td>\n",
       "      <td>2.000000</td>\n",
       "      <td>2.000000</td>\n",
       "      <td>5.000000</td>\n",
       "      <td>1.000000</td>\n",
       "      <td>8.760221e+01</td>\n",
       "      <td>1.386600</td>\n",
       "      <td>211.000000</td>\n",
       "      <td>417702.000000</td>\n",
       "      <td>0.000000</td>\n",
       "      <td>1.000000</td>\n",
       "      <td>1.000000</td>\n",
       "    </tr>\n",
       "    <tr>\n",
       "      <th>max</th>\n",
       "      <td>2019.000000</td>\n",
       "      <td>8.000000</td>\n",
       "      <td>7.000000</td>\n",
       "      <td>2.000000</td>\n",
       "      <td>5.000000</td>\n",
       "      <td>2.110000</td>\n",
       "      <td>180.990000</td>\n",
       "      <td>5.000000</td>\n",
       "      <td>5.000000</td>\n",
       "      <td>6.000000</td>\n",
       "      <td>5.000000</td>\n",
       "      <td>5.000000</td>\n",
       "      <td>5.000000</td>\n",
       "      <td>8.000000</td>\n",
       "      <td>8.000000</td>\n",
       "      <td>8.000000</td>\n",
       "      <td>2.000000</td>\n",
       "      <td>2.000000</td>\n",
       "      <td>2.000000</td>\n",
       "      <td>2.000000</td>\n",
       "      <td>2.000000</td>\n",
       "      <td>7.000000</td>\n",
       "      <td>7.000000</td>\n",
       "      <td>7.000000</td>\n",
       "      <td>7.000000</td>\n",
       "      <td>7.000000</td>\n",
       "      <td>7.000000</td>\n",
       "      <td>8.000000</td>\n",
       "      <td>7.000000</td>\n",
       "      <td>7.000000</td>\n",
       "      <td>6.000000</td>\n",
       "      <td>6.000000</td>\n",
       "      <td>3.000000</td>\n",
       "      <td>2.000000</td>\n",
       "      <td>2.000000</td>\n",
       "      <td>8.000000</td>\n",
       "      <td>7.000000</td>\n",
       "      <td>8.000000</td>\n",
       "      <td>3.000000</td>\n",
       "      <td>3.000000</td>\n",
       "      <td>8.000000</td>\n",
       "      <td>5.000000</td>\n",
       "      <td>4.000000</td>\n",
       "      <td>7.000000</td>\n",
       "      <td>7.000000</td>\n",
       "      <td>3.000000</td>\n",
       "      <td>3.000000</td>\n",
       "      <td>7.000000</td>\n",
       "      <td>6.000000</td>\n",
       "      <td>9.996470e+01</td>\n",
       "      <td>10.678100</td>\n",
       "      <td>214.000000</td>\n",
       "      <td>787890.000000</td>\n",
       "      <td>1.000000</td>\n",
       "      <td>1.000000</td>\n",
       "      <td>1.000000</td>\n",
       "    </tr>\n",
       "  </tbody>\n",
       "</table>\n",
       "</div>"
      ],
      "text/plain": [
       "               YEAR       raceeth  How old are you  What is your sex  \\\n",
       "count  53548.000000  53548.000000     53548.000000      53548.000000   \n",
       "mean    2014.679092      5.126653         5.087286          1.481829   \n",
       "std        2.815448      1.510659         1.228198          0.499674   \n",
       "min     2011.000000      1.000000         1.000000          1.000000   \n",
       "25%     2013.000000      5.000000         4.000000          1.000000   \n",
       "50%     2015.000000      5.000000         5.000000          1.000000   \n",
       "75%     2017.000000      6.000000         6.000000          2.000000   \n",
       "max     2019.000000      8.000000         7.000000          2.000000   \n",
       "\n",
       "       In what grade are you  How tall are you  How much do you weigh  \\\n",
       "count           53548.000000      53548.000000           53548.000000   \n",
       "mean                2.480541          1.688293              67.017479   \n",
       "std                 1.121861          0.098875              16.683080   \n",
       "min                 1.000000          1.270000              24.950000   \n",
       "25%                 1.000000          1.630000              56.700000   \n",
       "50%                 2.000000          1.680000              62.600000   \n",
       "75%                 3.000000          1.750000              74.840000   \n",
       "max                 5.000000          2.110000             180.990000   \n",
       "\n",
       "       Seat belt use  Riding with a drinking driver  Drinking and driving  \\\n",
       "count   53548.000000                   53548.000000          53548.000000   \n",
       "mean        4.352338                       1.388493              1.519328   \n",
       "std         0.939576                       0.914615              0.702596   \n",
       "min         1.000000                       1.000000              1.000000   \n",
       "25%         4.000000                       1.000000              1.000000   \n",
       "50%         5.000000                       1.000000              1.000000   \n",
       "75%         5.000000                       1.000000              2.000000   \n",
       "max         5.000000                       5.000000              6.000000   \n",
       "\n",
       "       Weapon carrying  Weapon carrying at school  Safety concerns at school  \\\n",
       "count     53548.000000               53548.000000               53548.000000   \n",
       "mean          1.408661                   1.103533                   1.109715   \n",
       "std           1.094574                   0.584567                   0.498348   \n",
       "min           1.000000                   1.000000                   1.000000   \n",
       "25%           1.000000                   1.000000                   1.000000   \n",
       "50%           1.000000                   1.000000                   1.000000   \n",
       "75%           1.000000                   1.000000                   1.000000   \n",
       "max           5.000000                   5.000000                   5.000000   \n",
       "\n",
       "       Threatened at school  Physical fighting  Physical fighting at school  \\\n",
       "count          53548.000000       53548.000000                 53548.000000   \n",
       "mean               1.141219           1.520169                     1.138156   \n",
       "std                0.727962           1.216012                     0.613862   \n",
       "min                1.000000           1.000000                     1.000000   \n",
       "25%                1.000000           1.000000                     1.000000   \n",
       "50%                1.000000           1.000000                     1.000000   \n",
       "75%                1.000000           1.000000                     1.000000   \n",
       "max                8.000000           8.000000                     8.000000   \n",
       "\n",
       "       Forced sexual intercourse  Bullying at school  Electronic bullying  \\\n",
       "count               53548.000000        53548.000000         53548.000000   \n",
       "mean                    1.927374            1.811291             1.854560   \n",
       "std                     0.259525            0.391281             0.352547   \n",
       "min                     1.000000            1.000000             1.000000   \n",
       "25%                     2.000000            2.000000             2.000000   \n",
       "50%                     2.000000            2.000000             2.000000   \n",
       "75%                     2.000000            2.000000             2.000000   \n",
       "max                     2.000000            2.000000             2.000000   \n",
       "\n",
       "       Sad or hopeless  Ever cigarette use  Initiation of cigarette smoking  \\\n",
       "count     53548.000000        53548.000000                     53548.000000   \n",
       "mean          1.677990            1.671080                         2.055726   \n",
       "std           0.467251            0.469825                         1.884897   \n",
       "min           1.000000            1.000000                         1.000000   \n",
       "25%           1.000000            1.000000                         1.000000   \n",
       "50%           2.000000            2.000000                         1.000000   \n",
       "75%           2.000000            2.000000                         2.000000   \n",
       "max           2.000000            2.000000                         7.000000   \n",
       "\n",
       "       Current cigarette use  Current smokeless tobacco use  \\\n",
       "count           53548.000000                   53548.000000   \n",
       "mean                1.348248                       1.173527   \n",
       "std                 1.184557                       0.870642   \n",
       "min                 1.000000                       1.000000   \n",
       "25%                 1.000000                       1.000000   \n",
       "50%                 1.000000                       1.000000   \n",
       "75%                 1.000000                       1.000000   \n",
       "max                 7.000000                       7.000000   \n",
       "\n",
       "       Current cigar use  Initiation of alcohol use  Current alcohol use  \\\n",
       "count       53548.000000               53548.000000         53548.000000   \n",
       "mean            1.217394                   3.429316             1.576417   \n",
       "std             0.851894                   2.188578             1.070177   \n",
       "min             1.000000                   1.000000             1.000000   \n",
       "25%             1.000000                   1.000000             1.000000   \n",
       "50%             1.000000                   4.000000             1.000000   \n",
       "75%             1.000000                   5.000000             2.000000   \n",
       "max             7.000000                   7.000000             7.000000   \n",
       "\n",
       "       Source of alcohol  Ever marijuana use  Initiation of marijuana use  \\\n",
       "count       53548.000000        53548.000000                 53548.000000   \n",
       "mean            2.541570            2.324419                     2.699186   \n",
       "std             2.454069            2.050970                     2.191601   \n",
       "min             1.000000            1.000000                     1.000000   \n",
       "25%             1.000000            1.000000                     1.000000   \n",
       "50%             1.000000            1.000000                     1.000000   \n",
       "75%             5.000000            3.000000                     5.000000   \n",
       "max             8.000000            7.000000                     7.000000   \n",
       "\n",
       "       Current marijuana use  Ever steroid use  Illegal injected drug use  \\\n",
       "count           53548.000000      53548.000000               53548.000000   \n",
       "mean                1.572085          1.057444                   1.018152   \n",
       "std                 1.282910          0.444195                   0.177988   \n",
       "min                 1.000000          1.000000                   1.000000   \n",
       "25%                 1.000000          1.000000                   1.000000   \n",
       "50%                 1.000000          1.000000                   1.000000   \n",
       "75%                 1.000000          1.000000                   1.000000   \n",
       "max                 6.000000          6.000000                   3.000000   \n",
       "\n",
       "       Illegal drugs at school  Ever sexual intercourse  Sex before 13 years  \\\n",
       "count             53548.000000             53548.000000         53548.000000   \n",
       "mean                  1.766359                 1.571917             2.992007   \n",
       "std                   0.423150                 0.494806             2.505909   \n",
       "min                   1.000000                 1.000000             1.000000   \n",
       "25%                   2.000000                 1.000000             1.000000   \n",
       "50%                   2.000000                 2.000000             1.000000   \n",
       "75%                   2.000000                 2.000000             5.000000   \n",
       "max                   2.000000                 2.000000             8.000000   \n",
       "\n",
       "       Multiple sex partners  Current sexual activity  Alcohol/drugs and sex  \\\n",
       "count           53548.000000             53548.000000           53548.000000   \n",
       "mean                2.145346                 1.896934               1.786341   \n",
       "std                 1.773185                 1.278619               0.933065   \n",
       "min                 1.000000                 1.000000               1.000000   \n",
       "25%                 1.000000                 1.000000               1.000000   \n",
       "50%                 1.000000                 1.000000               1.000000   \n",
       "75%                 3.000000                 3.000000               3.000000   \n",
       "max                 7.000000                 8.000000               3.000000   \n",
       "\n",
       "         Condom use  Birth control pill use  Perception of weight  \\\n",
       "count  53548.000000            53548.000000          53548.000000   \n",
       "mean       1.606876                2.300627              3.206488   \n",
       "std        0.763048                1.805916              0.779903   \n",
       "min        1.000000                1.000000              1.000000   \n",
       "25%        1.000000                1.000000              3.000000   \n",
       "50%        1.000000                1.000000              3.000000   \n",
       "75%        2.000000                4.000000              4.000000   \n",
       "max        3.000000                8.000000              5.000000   \n",
       "\n",
       "        Weight loss  Television watching  Computer use   HIV testing  \\\n",
       "count  53548.000000         53548.000000  53548.000000  53548.000000   \n",
       "mean       2.021831             3.443079      4.081889      1.991111   \n",
       "std        1.163381             1.808349      2.097703      0.441633   \n",
       "min        1.000000             1.000000      1.000000      1.000000   \n",
       "25%        1.000000             2.000000      2.000000      2.000000   \n",
       "50%        2.000000             3.000000      4.000000      2.000000   \n",
       "75%        3.000000             5.000000      6.000000      2.000000   \n",
       "max        4.000000             7.000000      7.000000      3.000000   \n",
       "\n",
       "             Asthma         Sleep  Ever used LSD        BMIPCT        weight  \\\n",
       "count  53548.000000  53548.000000   53548.000000  5.354800e+04  53548.000000   \n",
       "mean       1.821506      3.656439       1.109416  6.213372e+01      1.082591   \n",
       "std        0.470584      1.307949       0.538331  2.784126e+01      0.941813   \n",
       "min        1.000000      1.000000       1.000000  2.039970e-08      0.028600   \n",
       "25%        2.000000      3.000000       1.000000  4.429519e+01      0.463000   \n",
       "50%        2.000000      4.000000       1.000000  6.516580e+01      0.845100   \n",
       "75%        2.000000      5.000000       1.000000  8.760221e+01      1.386600   \n",
       "max        3.000000      7.000000       6.000000  9.996470e+01     10.678100   \n",
       "\n",
       "            stratum            psu  Has used hard drugs  healthy_eating  \\\n",
       "count  53548.000000   53548.000000         53548.000000    53548.000000   \n",
       "mean     164.717002  264860.247479             0.220662        0.945003   \n",
       "std       50.440779  178287.459596             0.414697        0.227977   \n",
       "min      101.000000   10530.000000             0.000000        0.000000   \n",
       "25%      104.000000   88352.000000             0.000000        1.000000   \n",
       "50%      201.000000  240330.000000             0.000000        1.000000   \n",
       "75%      211.000000  417702.000000             0.000000        1.000000   \n",
       "max      214.000000  787890.000000             1.000000        1.000000   \n",
       "\n",
       "       regular_activity  \n",
       "count      53548.000000  \n",
       "mean           0.752783  \n",
       "std            0.431398  \n",
       "min            0.000000  \n",
       "25%            1.000000  \n",
       "50%            1.000000  \n",
       "75%            1.000000  \n",
       "max            1.000000  "
      ]
     },
     "execution_count": 4,
     "metadata": {},
     "output_type": "execute_result"
    }
   ],
   "source": [
    "X.describe()"
   ]
  },
  {
   "cell_type": "markdown",
   "metadata": {},
   "source": [
    "### Creating Dummy Variables for Categorical Data"
   ]
  },
  {
   "cell_type": "code",
   "execution_count": 13,
   "metadata": {
    "ExecuteTime": {
     "end_time": "2021-01-08T02:22:55.858556Z",
     "start_time": "2021-01-08T02:22:55.680267Z"
    }
   },
   "outputs": [],
   "source": [
    "#Turn all features into object types\n",
    "X = X.astype('object')"
   ]
  },
  {
   "cell_type": "code",
   "execution_count": 14,
   "metadata": {
    "ExecuteTime": {
     "end_time": "2021-01-08T02:23:13.638502Z",
     "start_time": "2021-01-08T02:22:56.395829Z"
    }
   },
   "outputs": [],
   "source": [
    "#Return columns below into numneri dtype\n",
    "cols = ['How tall are you', 'How much do you weigh', 'BMIPCT', 'weight', 'stratum','psu']\n",
    "X[cols] = X[cols].apply(pd.to_numeric, errors='coerce', axis=1)"
   ]
  },
  {
   "cell_type": "code",
   "execution_count": 15,
   "metadata": {
    "ExecuteTime": {
     "end_time": "2021-01-08T02:23:14.327718Z",
     "start_time": "2021-01-08T02:23:13.643820Z"
    }
   },
   "outputs": [],
   "source": [
    "#Dummify columns containing object dtypes\n",
    "obj = X.select_dtypes(exclude=['float']).columns\n",
    "\n",
    "dummy_obj = pd.get_dummies(X[obj],drop_first=False)"
   ]
  },
  {
   "cell_type": "code",
   "execution_count": 16,
   "metadata": {
    "ExecuteTime": {
     "end_time": "2021-01-08T02:23:14.710677Z",
     "start_time": "2021-01-08T02:23:14.341186Z"
    }
   },
   "outputs": [
    {
     "name": "stdout",
     "output_type": "stream",
     "text": [
      "(53548, 266)\n"
     ]
    },
    {
     "data": {
      "text/html": [
       "<div>\n",
       "<style scoped>\n",
       "    .dataframe tbody tr th:only-of-type {\n",
       "        vertical-align: middle;\n",
       "    }\n",
       "\n",
       "    .dataframe tbody tr th {\n",
       "        vertical-align: top;\n",
       "    }\n",
       "\n",
       "    .dataframe thead th {\n",
       "        text-align: right;\n",
       "    }\n",
       "</style>\n",
       "<table border=\"1\" class=\"dataframe\">\n",
       "  <thead>\n",
       "    <tr style=\"text-align: right;\">\n",
       "      <th></th>\n",
       "      <th>How tall are you</th>\n",
       "      <th>How much do you weigh</th>\n",
       "      <th>BMIPCT</th>\n",
       "      <th>weight</th>\n",
       "      <th>stratum</th>\n",
       "      <th>psu</th>\n",
       "      <th>YEAR_2011.0</th>\n",
       "      <th>YEAR_2013.0</th>\n",
       "      <th>YEAR_2015.0</th>\n",
       "      <th>YEAR_2017.0</th>\n",
       "      <th>YEAR_2019.0</th>\n",
       "      <th>raceeth_1.0</th>\n",
       "      <th>raceeth_2.0</th>\n",
       "      <th>raceeth_3.0</th>\n",
       "      <th>raceeth_4.0</th>\n",
       "      <th>raceeth_5.0</th>\n",
       "      <th>raceeth_6.0</th>\n",
       "      <th>raceeth_7.0</th>\n",
       "      <th>raceeth_8.0</th>\n",
       "      <th>How old are you_1.0</th>\n",
       "      <th>How old are you_2.0</th>\n",
       "      <th>How old are you_3.0</th>\n",
       "      <th>How old are you_4.0</th>\n",
       "      <th>How old are you_5.0</th>\n",
       "      <th>How old are you_6.0</th>\n",
       "      <th>How old are you_7.0</th>\n",
       "      <th>What is your sex_1.0</th>\n",
       "      <th>What is your sex_2.0</th>\n",
       "      <th>In what grade are you_1.0</th>\n",
       "      <th>In what grade are you_2.0</th>\n",
       "      <th>In what grade are you_3.0</th>\n",
       "      <th>In what grade are you_4.0</th>\n",
       "      <th>In what grade are you_5.0</th>\n",
       "      <th>Seat belt use_1.0</th>\n",
       "      <th>Seat belt use_2.0</th>\n",
       "      <th>Seat belt use_3.0</th>\n",
       "      <th>Seat belt use_4.0</th>\n",
       "      <th>Seat belt use_5.0</th>\n",
       "      <th>Riding with a drinking driver_1.0</th>\n",
       "      <th>Riding with a drinking driver_2.0</th>\n",
       "      <th>Riding with a drinking driver_3.0</th>\n",
       "      <th>Riding with a drinking driver_4.0</th>\n",
       "      <th>Riding with a drinking driver_5.0</th>\n",
       "      <th>Drinking and driving_1.0</th>\n",
       "      <th>Drinking and driving_2.0</th>\n",
       "      <th>Drinking and driving_3.0</th>\n",
       "      <th>Drinking and driving_4.0</th>\n",
       "      <th>Drinking and driving_5.0</th>\n",
       "      <th>Drinking and driving_6.0</th>\n",
       "      <th>Weapon carrying_1.0</th>\n",
       "      <th>Weapon carrying_2.0</th>\n",
       "      <th>Weapon carrying_3.0</th>\n",
       "      <th>Weapon carrying_4.0</th>\n",
       "      <th>Weapon carrying_5.0</th>\n",
       "      <th>Weapon carrying at school_1.0</th>\n",
       "      <th>Weapon carrying at school_2.0</th>\n",
       "      <th>Weapon carrying at school_3.0</th>\n",
       "      <th>Weapon carrying at school_4.0</th>\n",
       "      <th>Weapon carrying at school_5.0</th>\n",
       "      <th>Safety concerns at school_1.0</th>\n",
       "      <th>Safety concerns at school_2.0</th>\n",
       "      <th>Safety concerns at school_3.0</th>\n",
       "      <th>Safety concerns at school_4.0</th>\n",
       "      <th>Safety concerns at school_5.0</th>\n",
       "      <th>Threatened at school_1.0</th>\n",
       "      <th>Threatened at school_2.0</th>\n",
       "      <th>Threatened at school_3.0</th>\n",
       "      <th>Threatened at school_4.0</th>\n",
       "      <th>Threatened at school_5.0</th>\n",
       "      <th>Threatened at school_6.0</th>\n",
       "      <th>Threatened at school_7.0</th>\n",
       "      <th>Threatened at school_8.0</th>\n",
       "      <th>Physical fighting_1.0</th>\n",
       "      <th>Physical fighting_2.0</th>\n",
       "      <th>Physical fighting_3.0</th>\n",
       "      <th>...</th>\n",
       "      <th>Multiple sex partners_3.0</th>\n",
       "      <th>Multiple sex partners_4.0</th>\n",
       "      <th>Multiple sex partners_5.0</th>\n",
       "      <th>Multiple sex partners_6.0</th>\n",
       "      <th>Multiple sex partners_7.0</th>\n",
       "      <th>Current sexual activity_1.0</th>\n",
       "      <th>Current sexual activity_2.0</th>\n",
       "      <th>Current sexual activity_3.0</th>\n",
       "      <th>Current sexual activity_4.0</th>\n",
       "      <th>Current sexual activity_5.0</th>\n",
       "      <th>Current sexual activity_6.0</th>\n",
       "      <th>Current sexual activity_7.0</th>\n",
       "      <th>Current sexual activity_8.0</th>\n",
       "      <th>Alcohol/drugs and sex_1.0</th>\n",
       "      <th>Alcohol/drugs and sex_2.0</th>\n",
       "      <th>Alcohol/drugs and sex_3.0</th>\n",
       "      <th>Condom use_1.0</th>\n",
       "      <th>Condom use_2.0</th>\n",
       "      <th>Condom use_3.0</th>\n",
       "      <th>Birth control pill use_1.0</th>\n",
       "      <th>Birth control pill use_2.0</th>\n",
       "      <th>Birth control pill use_3.0</th>\n",
       "      <th>Birth control pill use_4.0</th>\n",
       "      <th>Birth control pill use_5.0</th>\n",
       "      <th>Birth control pill use_6.0</th>\n",
       "      <th>Birth control pill use_7.0</th>\n",
       "      <th>Birth control pill use_8.0</th>\n",
       "      <th>Perception of weight_1.0</th>\n",
       "      <th>Perception of weight_2.0</th>\n",
       "      <th>Perception of weight_3.0</th>\n",
       "      <th>Perception of weight_4.0</th>\n",
       "      <th>Perception of weight_5.0</th>\n",
       "      <th>Weight loss_1.0</th>\n",
       "      <th>Weight loss_2.0</th>\n",
       "      <th>Weight loss_3.0</th>\n",
       "      <th>Weight loss_4.0</th>\n",
       "      <th>Television watching_1.0</th>\n",
       "      <th>Television watching_2.0</th>\n",
       "      <th>Television watching_3.0</th>\n",
       "      <th>Television watching_4.0</th>\n",
       "      <th>Television watching_5.0</th>\n",
       "      <th>Television watching_6.0</th>\n",
       "      <th>Television watching_7.0</th>\n",
       "      <th>Computer use_1.0</th>\n",
       "      <th>Computer use_2.0</th>\n",
       "      <th>Computer use_3.0</th>\n",
       "      <th>Computer use_4.0</th>\n",
       "      <th>Computer use_5.0</th>\n",
       "      <th>Computer use_6.0</th>\n",
       "      <th>Computer use_7.0</th>\n",
       "      <th>HIV testing_1.0</th>\n",
       "      <th>HIV testing_2.0</th>\n",
       "      <th>HIV testing_3.0</th>\n",
       "      <th>Asthma_1.0</th>\n",
       "      <th>Asthma_2.0</th>\n",
       "      <th>Asthma_3.0</th>\n",
       "      <th>Sleep_1.0</th>\n",
       "      <th>Sleep_2.0</th>\n",
       "      <th>Sleep_3.0</th>\n",
       "      <th>Sleep_4.0</th>\n",
       "      <th>Sleep_5.0</th>\n",
       "      <th>Sleep_6.0</th>\n",
       "      <th>Sleep_7.0</th>\n",
       "      <th>Ever used LSD_1.0</th>\n",
       "      <th>Ever used LSD_2.0</th>\n",
       "      <th>Ever used LSD_3.0</th>\n",
       "      <th>Ever used LSD_4.0</th>\n",
       "      <th>Ever used LSD_5.0</th>\n",
       "      <th>Ever used LSD_6.0</th>\n",
       "      <th>Has used hard drugs_0.0</th>\n",
       "      <th>Has used hard drugs_1.0</th>\n",
       "      <th>healthy_eating_0.0</th>\n",
       "      <th>healthy_eating_1.0</th>\n",
       "      <th>regular_activity_0.0</th>\n",
       "      <th>regular_activity_1.0</th>\n",
       "    </tr>\n",
       "  </thead>\n",
       "  <tbody>\n",
       "    <tr>\n",
       "      <th>0</th>\n",
       "      <td>1.63</td>\n",
       "      <td>54.89</td>\n",
       "      <td>46.882141</td>\n",
       "      <td>1.6659</td>\n",
       "      <td>213.0</td>\n",
       "      <td>57923.0</td>\n",
       "      <td>0</td>\n",
       "      <td>0</td>\n",
       "      <td>0</td>\n",
       "      <td>0</td>\n",
       "      <td>1</td>\n",
       "      <td>0</td>\n",
       "      <td>0</td>\n",
       "      <td>0</td>\n",
       "      <td>0</td>\n",
       "      <td>0</td>\n",
       "      <td>0</td>\n",
       "      <td>1</td>\n",
       "      <td>0</td>\n",
       "      <td>0</td>\n",
       "      <td>0</td>\n",
       "      <td>0</td>\n",
       "      <td>0</td>\n",
       "      <td>1</td>\n",
       "      <td>0</td>\n",
       "      <td>0</td>\n",
       "      <td>0</td>\n",
       "      <td>1</td>\n",
       "      <td>0</td>\n",
       "      <td>1</td>\n",
       "      <td>0</td>\n",
       "      <td>0</td>\n",
       "      <td>0</td>\n",
       "      <td>0</td>\n",
       "      <td>0</td>\n",
       "      <td>0</td>\n",
       "      <td>1</td>\n",
       "      <td>0</td>\n",
       "      <td>1</td>\n",
       "      <td>0</td>\n",
       "      <td>0</td>\n",
       "      <td>0</td>\n",
       "      <td>0</td>\n",
       "      <td>0</td>\n",
       "      <td>1</td>\n",
       "      <td>0</td>\n",
       "      <td>0</td>\n",
       "      <td>0</td>\n",
       "      <td>0</td>\n",
       "      <td>1</td>\n",
       "      <td>0</td>\n",
       "      <td>0</td>\n",
       "      <td>0</td>\n",
       "      <td>0</td>\n",
       "      <td>1</td>\n",
       "      <td>0</td>\n",
       "      <td>0</td>\n",
       "      <td>0</td>\n",
       "      <td>0</td>\n",
       "      <td>1</td>\n",
       "      <td>0</td>\n",
       "      <td>0</td>\n",
       "      <td>0</td>\n",
       "      <td>0</td>\n",
       "      <td>1</td>\n",
       "      <td>0</td>\n",
       "      <td>0</td>\n",
       "      <td>0</td>\n",
       "      <td>0</td>\n",
       "      <td>0</td>\n",
       "      <td>0</td>\n",
       "      <td>0</td>\n",
       "      <td>1</td>\n",
       "      <td>0</td>\n",
       "      <td>0</td>\n",
       "      <td>...</td>\n",
       "      <td>0</td>\n",
       "      <td>0</td>\n",
       "      <td>0</td>\n",
       "      <td>0</td>\n",
       "      <td>0</td>\n",
       "      <td>1</td>\n",
       "      <td>0</td>\n",
       "      <td>0</td>\n",
       "      <td>0</td>\n",
       "      <td>0</td>\n",
       "      <td>0</td>\n",
       "      <td>0</td>\n",
       "      <td>0</td>\n",
       "      <td>1</td>\n",
       "      <td>0</td>\n",
       "      <td>0</td>\n",
       "      <td>1</td>\n",
       "      <td>0</td>\n",
       "      <td>0</td>\n",
       "      <td>1</td>\n",
       "      <td>0</td>\n",
       "      <td>0</td>\n",
       "      <td>0</td>\n",
       "      <td>0</td>\n",
       "      <td>0</td>\n",
       "      <td>0</td>\n",
       "      <td>0</td>\n",
       "      <td>0</td>\n",
       "      <td>0</td>\n",
       "      <td>1</td>\n",
       "      <td>0</td>\n",
       "      <td>0</td>\n",
       "      <td>0</td>\n",
       "      <td>0</td>\n",
       "      <td>1</td>\n",
       "      <td>0</td>\n",
       "      <td>0</td>\n",
       "      <td>1</td>\n",
       "      <td>0</td>\n",
       "      <td>0</td>\n",
       "      <td>0</td>\n",
       "      <td>0</td>\n",
       "      <td>0</td>\n",
       "      <td>0</td>\n",
       "      <td>0</td>\n",
       "      <td>0</td>\n",
       "      <td>0</td>\n",
       "      <td>1</td>\n",
       "      <td>0</td>\n",
       "      <td>0</td>\n",
       "      <td>0</td>\n",
       "      <td>1</td>\n",
       "      <td>0</td>\n",
       "      <td>0</td>\n",
       "      <td>1</td>\n",
       "      <td>0</td>\n",
       "      <td>0</td>\n",
       "      <td>0</td>\n",
       "      <td>0</td>\n",
       "      <td>1</td>\n",
       "      <td>0</td>\n",
       "      <td>0</td>\n",
       "      <td>0</td>\n",
       "      <td>1</td>\n",
       "      <td>0</td>\n",
       "      <td>0</td>\n",
       "      <td>0</td>\n",
       "      <td>0</td>\n",
       "      <td>0</td>\n",
       "      <td>1</td>\n",
       "      <td>0</td>\n",
       "      <td>0</td>\n",
       "      <td>1</td>\n",
       "      <td>0</td>\n",
       "      <td>1</td>\n",
       "    </tr>\n",
       "    <tr>\n",
       "      <th>1</th>\n",
       "      <td>1.60</td>\n",
       "      <td>53.98</td>\n",
       "      <td>62.232194</td>\n",
       "      <td>1.3851</td>\n",
       "      <td>213.0</td>\n",
       "      <td>57923.0</td>\n",
       "      <td>0</td>\n",
       "      <td>0</td>\n",
       "      <td>0</td>\n",
       "      <td>0</td>\n",
       "      <td>1</td>\n",
       "      <td>0</td>\n",
       "      <td>0</td>\n",
       "      <td>0</td>\n",
       "      <td>0</td>\n",
       "      <td>0</td>\n",
       "      <td>0</td>\n",
       "      <td>0</td>\n",
       "      <td>1</td>\n",
       "      <td>0</td>\n",
       "      <td>0</td>\n",
       "      <td>0</td>\n",
       "      <td>1</td>\n",
       "      <td>0</td>\n",
       "      <td>0</td>\n",
       "      <td>0</td>\n",
       "      <td>0</td>\n",
       "      <td>1</td>\n",
       "      <td>0</td>\n",
       "      <td>1</td>\n",
       "      <td>0</td>\n",
       "      <td>0</td>\n",
       "      <td>0</td>\n",
       "      <td>0</td>\n",
       "      <td>0</td>\n",
       "      <td>0</td>\n",
       "      <td>0</td>\n",
       "      <td>1</td>\n",
       "      <td>0</td>\n",
       "      <td>1</td>\n",
       "      <td>0</td>\n",
       "      <td>0</td>\n",
       "      <td>0</td>\n",
       "      <td>0</td>\n",
       "      <td>1</td>\n",
       "      <td>0</td>\n",
       "      <td>0</td>\n",
       "      <td>0</td>\n",
       "      <td>0</td>\n",
       "      <td>1</td>\n",
       "      <td>0</td>\n",
       "      <td>0</td>\n",
       "      <td>0</td>\n",
       "      <td>0</td>\n",
       "      <td>1</td>\n",
       "      <td>0</td>\n",
       "      <td>0</td>\n",
       "      <td>0</td>\n",
       "      <td>0</td>\n",
       "      <td>1</td>\n",
       "      <td>0</td>\n",
       "      <td>0</td>\n",
       "      <td>0</td>\n",
       "      <td>0</td>\n",
       "      <td>1</td>\n",
       "      <td>0</td>\n",
       "      <td>0</td>\n",
       "      <td>0</td>\n",
       "      <td>0</td>\n",
       "      <td>0</td>\n",
       "      <td>0</td>\n",
       "      <td>0</td>\n",
       "      <td>1</td>\n",
       "      <td>0</td>\n",
       "      <td>0</td>\n",
       "      <td>...</td>\n",
       "      <td>0</td>\n",
       "      <td>0</td>\n",
       "      <td>0</td>\n",
       "      <td>0</td>\n",
       "      <td>0</td>\n",
       "      <td>1</td>\n",
       "      <td>0</td>\n",
       "      <td>0</td>\n",
       "      <td>0</td>\n",
       "      <td>0</td>\n",
       "      <td>0</td>\n",
       "      <td>0</td>\n",
       "      <td>0</td>\n",
       "      <td>1</td>\n",
       "      <td>0</td>\n",
       "      <td>0</td>\n",
       "      <td>1</td>\n",
       "      <td>0</td>\n",
       "      <td>0</td>\n",
       "      <td>1</td>\n",
       "      <td>0</td>\n",
       "      <td>0</td>\n",
       "      <td>0</td>\n",
       "      <td>0</td>\n",
       "      <td>0</td>\n",
       "      <td>0</td>\n",
       "      <td>0</td>\n",
       "      <td>0</td>\n",
       "      <td>0</td>\n",
       "      <td>1</td>\n",
       "      <td>0</td>\n",
       "      <td>0</td>\n",
       "      <td>1</td>\n",
       "      <td>0</td>\n",
       "      <td>0</td>\n",
       "      <td>0</td>\n",
       "      <td>0</td>\n",
       "      <td>0</td>\n",
       "      <td>1</td>\n",
       "      <td>0</td>\n",
       "      <td>0</td>\n",
       "      <td>0</td>\n",
       "      <td>0</td>\n",
       "      <td>0</td>\n",
       "      <td>0</td>\n",
       "      <td>1</td>\n",
       "      <td>0</td>\n",
       "      <td>0</td>\n",
       "      <td>0</td>\n",
       "      <td>0</td>\n",
       "      <td>0</td>\n",
       "      <td>1</td>\n",
       "      <td>0</td>\n",
       "      <td>0</td>\n",
       "      <td>1</td>\n",
       "      <td>0</td>\n",
       "      <td>0</td>\n",
       "      <td>0</td>\n",
       "      <td>0</td>\n",
       "      <td>1</td>\n",
       "      <td>0</td>\n",
       "      <td>0</td>\n",
       "      <td>0</td>\n",
       "      <td>1</td>\n",
       "      <td>0</td>\n",
       "      <td>0</td>\n",
       "      <td>0</td>\n",
       "      <td>0</td>\n",
       "      <td>0</td>\n",
       "      <td>1</td>\n",
       "      <td>0</td>\n",
       "      <td>0</td>\n",
       "      <td>1</td>\n",
       "      <td>0</td>\n",
       "      <td>1</td>\n",
       "    </tr>\n",
       "    <tr>\n",
       "      <th>2</th>\n",
       "      <td>1.68</td>\n",
       "      <td>43.09</td>\n",
       "      <td>0.590171</td>\n",
       "      <td>1.4958</td>\n",
       "      <td>213.0</td>\n",
       "      <td>57923.0</td>\n",
       "      <td>0</td>\n",
       "      <td>0</td>\n",
       "      <td>0</td>\n",
       "      <td>0</td>\n",
       "      <td>1</td>\n",
       "      <td>0</td>\n",
       "      <td>0</td>\n",
       "      <td>0</td>\n",
       "      <td>0</td>\n",
       "      <td>0</td>\n",
       "      <td>0</td>\n",
       "      <td>0</td>\n",
       "      <td>1</td>\n",
       "      <td>0</td>\n",
       "      <td>0</td>\n",
       "      <td>0</td>\n",
       "      <td>1</td>\n",
       "      <td>0</td>\n",
       "      <td>0</td>\n",
       "      <td>0</td>\n",
       "      <td>1</td>\n",
       "      <td>0</td>\n",
       "      <td>0</td>\n",
       "      <td>1</td>\n",
       "      <td>0</td>\n",
       "      <td>0</td>\n",
       "      <td>0</td>\n",
       "      <td>0</td>\n",
       "      <td>0</td>\n",
       "      <td>0</td>\n",
       "      <td>1</td>\n",
       "      <td>0</td>\n",
       "      <td>1</td>\n",
       "      <td>0</td>\n",
       "      <td>0</td>\n",
       "      <td>0</td>\n",
       "      <td>0</td>\n",
       "      <td>0</td>\n",
       "      <td>1</td>\n",
       "      <td>0</td>\n",
       "      <td>0</td>\n",
       "      <td>0</td>\n",
       "      <td>0</td>\n",
       "      <td>1</td>\n",
       "      <td>0</td>\n",
       "      <td>0</td>\n",
       "      <td>0</td>\n",
       "      <td>0</td>\n",
       "      <td>1</td>\n",
       "      <td>0</td>\n",
       "      <td>0</td>\n",
       "      <td>0</td>\n",
       "      <td>0</td>\n",
       "      <td>1</td>\n",
       "      <td>0</td>\n",
       "      <td>0</td>\n",
       "      <td>0</td>\n",
       "      <td>0</td>\n",
       "      <td>1</td>\n",
       "      <td>0</td>\n",
       "      <td>0</td>\n",
       "      <td>0</td>\n",
       "      <td>0</td>\n",
       "      <td>0</td>\n",
       "      <td>0</td>\n",
       "      <td>0</td>\n",
       "      <td>1</td>\n",
       "      <td>0</td>\n",
       "      <td>0</td>\n",
       "      <td>...</td>\n",
       "      <td>0</td>\n",
       "      <td>0</td>\n",
       "      <td>0</td>\n",
       "      <td>0</td>\n",
       "      <td>0</td>\n",
       "      <td>1</td>\n",
       "      <td>0</td>\n",
       "      <td>0</td>\n",
       "      <td>0</td>\n",
       "      <td>0</td>\n",
       "      <td>0</td>\n",
       "      <td>0</td>\n",
       "      <td>0</td>\n",
       "      <td>1</td>\n",
       "      <td>0</td>\n",
       "      <td>0</td>\n",
       "      <td>1</td>\n",
       "      <td>0</td>\n",
       "      <td>0</td>\n",
       "      <td>1</td>\n",
       "      <td>0</td>\n",
       "      <td>0</td>\n",
       "      <td>0</td>\n",
       "      <td>0</td>\n",
       "      <td>0</td>\n",
       "      <td>0</td>\n",
       "      <td>0</td>\n",
       "      <td>0</td>\n",
       "      <td>1</td>\n",
       "      <td>0</td>\n",
       "      <td>0</td>\n",
       "      <td>0</td>\n",
       "      <td>0</td>\n",
       "      <td>0</td>\n",
       "      <td>0</td>\n",
       "      <td>1</td>\n",
       "      <td>0</td>\n",
       "      <td>1</td>\n",
       "      <td>0</td>\n",
       "      <td>0</td>\n",
       "      <td>0</td>\n",
       "      <td>0</td>\n",
       "      <td>0</td>\n",
       "      <td>0</td>\n",
       "      <td>0</td>\n",
       "      <td>0</td>\n",
       "      <td>1</td>\n",
       "      <td>0</td>\n",
       "      <td>0</td>\n",
       "      <td>0</td>\n",
       "      <td>0</td>\n",
       "      <td>0</td>\n",
       "      <td>1</td>\n",
       "      <td>0</td>\n",
       "      <td>1</td>\n",
       "      <td>0</td>\n",
       "      <td>0</td>\n",
       "      <td>0</td>\n",
       "      <td>0</td>\n",
       "      <td>0</td>\n",
       "      <td>1</td>\n",
       "      <td>0</td>\n",
       "      <td>0</td>\n",
       "      <td>1</td>\n",
       "      <td>0</td>\n",
       "      <td>0</td>\n",
       "      <td>0</td>\n",
       "      <td>0</td>\n",
       "      <td>0</td>\n",
       "      <td>1</td>\n",
       "      <td>0</td>\n",
       "      <td>0</td>\n",
       "      <td>1</td>\n",
       "      <td>1</td>\n",
       "      <td>0</td>\n",
       "    </tr>\n",
       "    <tr>\n",
       "      <th>3</th>\n",
       "      <td>1.78</td>\n",
       "      <td>68.95</td>\n",
       "      <td>69.786634</td>\n",
       "      <td>1.7114</td>\n",
       "      <td>213.0</td>\n",
       "      <td>57923.0</td>\n",
       "      <td>0</td>\n",
       "      <td>0</td>\n",
       "      <td>0</td>\n",
       "      <td>0</td>\n",
       "      <td>1</td>\n",
       "      <td>0</td>\n",
       "      <td>0</td>\n",
       "      <td>0</td>\n",
       "      <td>0</td>\n",
       "      <td>1</td>\n",
       "      <td>0</td>\n",
       "      <td>0</td>\n",
       "      <td>0</td>\n",
       "      <td>0</td>\n",
       "      <td>0</td>\n",
       "      <td>0</td>\n",
       "      <td>1</td>\n",
       "      <td>0</td>\n",
       "      <td>0</td>\n",
       "      <td>0</td>\n",
       "      <td>0</td>\n",
       "      <td>1</td>\n",
       "      <td>0</td>\n",
       "      <td>1</td>\n",
       "      <td>0</td>\n",
       "      <td>0</td>\n",
       "      <td>0</td>\n",
       "      <td>0</td>\n",
       "      <td>0</td>\n",
       "      <td>0</td>\n",
       "      <td>1</td>\n",
       "      <td>0</td>\n",
       "      <td>1</td>\n",
       "      <td>0</td>\n",
       "      <td>0</td>\n",
       "      <td>0</td>\n",
       "      <td>0</td>\n",
       "      <td>1</td>\n",
       "      <td>0</td>\n",
       "      <td>0</td>\n",
       "      <td>0</td>\n",
       "      <td>0</td>\n",
       "      <td>0</td>\n",
       "      <td>1</td>\n",
       "      <td>0</td>\n",
       "      <td>0</td>\n",
       "      <td>0</td>\n",
       "      <td>0</td>\n",
       "      <td>1</td>\n",
       "      <td>0</td>\n",
       "      <td>0</td>\n",
       "      <td>0</td>\n",
       "      <td>0</td>\n",
       "      <td>1</td>\n",
       "      <td>0</td>\n",
       "      <td>0</td>\n",
       "      <td>0</td>\n",
       "      <td>0</td>\n",
       "      <td>1</td>\n",
       "      <td>0</td>\n",
       "      <td>0</td>\n",
       "      <td>0</td>\n",
       "      <td>0</td>\n",
       "      <td>0</td>\n",
       "      <td>0</td>\n",
       "      <td>0</td>\n",
       "      <td>1</td>\n",
       "      <td>0</td>\n",
       "      <td>0</td>\n",
       "      <td>...</td>\n",
       "      <td>0</td>\n",
       "      <td>0</td>\n",
       "      <td>0</td>\n",
       "      <td>0</td>\n",
       "      <td>0</td>\n",
       "      <td>1</td>\n",
       "      <td>0</td>\n",
       "      <td>0</td>\n",
       "      <td>0</td>\n",
       "      <td>0</td>\n",
       "      <td>0</td>\n",
       "      <td>0</td>\n",
       "      <td>0</td>\n",
       "      <td>1</td>\n",
       "      <td>0</td>\n",
       "      <td>0</td>\n",
       "      <td>1</td>\n",
       "      <td>0</td>\n",
       "      <td>0</td>\n",
       "      <td>1</td>\n",
       "      <td>0</td>\n",
       "      <td>0</td>\n",
       "      <td>0</td>\n",
       "      <td>0</td>\n",
       "      <td>0</td>\n",
       "      <td>0</td>\n",
       "      <td>0</td>\n",
       "      <td>0</td>\n",
       "      <td>0</td>\n",
       "      <td>1</td>\n",
       "      <td>0</td>\n",
       "      <td>0</td>\n",
       "      <td>0</td>\n",
       "      <td>0</td>\n",
       "      <td>1</td>\n",
       "      <td>0</td>\n",
       "      <td>0</td>\n",
       "      <td>0</td>\n",
       "      <td>0</td>\n",
       "      <td>0</td>\n",
       "      <td>0</td>\n",
       "      <td>0</td>\n",
       "      <td>1</td>\n",
       "      <td>0</td>\n",
       "      <td>0</td>\n",
       "      <td>0</td>\n",
       "      <td>0</td>\n",
       "      <td>0</td>\n",
       "      <td>0</td>\n",
       "      <td>1</td>\n",
       "      <td>0</td>\n",
       "      <td>1</td>\n",
       "      <td>0</td>\n",
       "      <td>0</td>\n",
       "      <td>0</td>\n",
       "      <td>1</td>\n",
       "      <td>0</td>\n",
       "      <td>0</td>\n",
       "      <td>0</td>\n",
       "      <td>1</td>\n",
       "      <td>0</td>\n",
       "      <td>0</td>\n",
       "      <td>0</td>\n",
       "      <td>0</td>\n",
       "      <td>0</td>\n",
       "      <td>1</td>\n",
       "      <td>0</td>\n",
       "      <td>0</td>\n",
       "      <td>0</td>\n",
       "      <td>0</td>\n",
       "      <td>1</td>\n",
       "      <td>0</td>\n",
       "      <td>1</td>\n",
       "      <td>1</td>\n",
       "      <td>0</td>\n",
       "    </tr>\n",
       "    <tr>\n",
       "      <th>4</th>\n",
       "      <td>1.78</td>\n",
       "      <td>58.97</td>\n",
       "      <td>16.739994</td>\n",
       "      <td>1.6659</td>\n",
       "      <td>213.0</td>\n",
       "      <td>57923.0</td>\n",
       "      <td>0</td>\n",
       "      <td>0</td>\n",
       "      <td>0</td>\n",
       "      <td>0</td>\n",
       "      <td>1</td>\n",
       "      <td>0</td>\n",
       "      <td>0</td>\n",
       "      <td>0</td>\n",
       "      <td>0</td>\n",
       "      <td>0</td>\n",
       "      <td>1</td>\n",
       "      <td>0</td>\n",
       "      <td>0</td>\n",
       "      <td>0</td>\n",
       "      <td>0</td>\n",
       "      <td>0</td>\n",
       "      <td>0</td>\n",
       "      <td>1</td>\n",
       "      <td>0</td>\n",
       "      <td>0</td>\n",
       "      <td>0</td>\n",
       "      <td>1</td>\n",
       "      <td>0</td>\n",
       "      <td>1</td>\n",
       "      <td>0</td>\n",
       "      <td>0</td>\n",
       "      <td>0</td>\n",
       "      <td>0</td>\n",
       "      <td>0</td>\n",
       "      <td>0</td>\n",
       "      <td>1</td>\n",
       "      <td>0</td>\n",
       "      <td>1</td>\n",
       "      <td>0</td>\n",
       "      <td>0</td>\n",
       "      <td>0</td>\n",
       "      <td>0</td>\n",
       "      <td>1</td>\n",
       "      <td>0</td>\n",
       "      <td>0</td>\n",
       "      <td>0</td>\n",
       "      <td>0</td>\n",
       "      <td>0</td>\n",
       "      <td>1</td>\n",
       "      <td>0</td>\n",
       "      <td>0</td>\n",
       "      <td>0</td>\n",
       "      <td>0</td>\n",
       "      <td>1</td>\n",
       "      <td>0</td>\n",
       "      <td>0</td>\n",
       "      <td>0</td>\n",
       "      <td>0</td>\n",
       "      <td>1</td>\n",
       "      <td>0</td>\n",
       "      <td>0</td>\n",
       "      <td>0</td>\n",
       "      <td>0</td>\n",
       "      <td>1</td>\n",
       "      <td>0</td>\n",
       "      <td>0</td>\n",
       "      <td>0</td>\n",
       "      <td>0</td>\n",
       "      <td>0</td>\n",
       "      <td>0</td>\n",
       "      <td>0</td>\n",
       "      <td>1</td>\n",
       "      <td>0</td>\n",
       "      <td>0</td>\n",
       "      <td>...</td>\n",
       "      <td>0</td>\n",
       "      <td>0</td>\n",
       "      <td>0</td>\n",
       "      <td>0</td>\n",
       "      <td>0</td>\n",
       "      <td>1</td>\n",
       "      <td>0</td>\n",
       "      <td>0</td>\n",
       "      <td>0</td>\n",
       "      <td>0</td>\n",
       "      <td>0</td>\n",
       "      <td>0</td>\n",
       "      <td>0</td>\n",
       "      <td>1</td>\n",
       "      <td>0</td>\n",
       "      <td>0</td>\n",
       "      <td>1</td>\n",
       "      <td>0</td>\n",
       "      <td>0</td>\n",
       "      <td>1</td>\n",
       "      <td>0</td>\n",
       "      <td>0</td>\n",
       "      <td>0</td>\n",
       "      <td>0</td>\n",
       "      <td>0</td>\n",
       "      <td>0</td>\n",
       "      <td>0</td>\n",
       "      <td>0</td>\n",
       "      <td>0</td>\n",
       "      <td>1</td>\n",
       "      <td>0</td>\n",
       "      <td>0</td>\n",
       "      <td>0</td>\n",
       "      <td>0</td>\n",
       "      <td>0</td>\n",
       "      <td>1</td>\n",
       "      <td>1</td>\n",
       "      <td>0</td>\n",
       "      <td>0</td>\n",
       "      <td>0</td>\n",
       "      <td>0</td>\n",
       "      <td>0</td>\n",
       "      <td>0</td>\n",
       "      <td>0</td>\n",
       "      <td>0</td>\n",
       "      <td>0</td>\n",
       "      <td>1</td>\n",
       "      <td>0</td>\n",
       "      <td>0</td>\n",
       "      <td>0</td>\n",
       "      <td>0</td>\n",
       "      <td>1</td>\n",
       "      <td>0</td>\n",
       "      <td>0</td>\n",
       "      <td>1</td>\n",
       "      <td>0</td>\n",
       "      <td>0</td>\n",
       "      <td>1</td>\n",
       "      <td>0</td>\n",
       "      <td>0</td>\n",
       "      <td>0</td>\n",
       "      <td>0</td>\n",
       "      <td>0</td>\n",
       "      <td>1</td>\n",
       "      <td>0</td>\n",
       "      <td>0</td>\n",
       "      <td>0</td>\n",
       "      <td>0</td>\n",
       "      <td>0</td>\n",
       "      <td>1</td>\n",
       "      <td>0</td>\n",
       "      <td>0</td>\n",
       "      <td>1</td>\n",
       "      <td>1</td>\n",
       "      <td>0</td>\n",
       "    </tr>\n",
       "  </tbody>\n",
       "</table>\n",
       "<p>5 rows × 266 columns</p>\n",
       "</div>"
      ],
      "text/plain": [
       "   How tall are you  How much do you weigh     BMIPCT  weight  stratum  \\\n",
       "0              1.63                  54.89  46.882141  1.6659    213.0   \n",
       "1              1.60                  53.98  62.232194  1.3851    213.0   \n",
       "2              1.68                  43.09   0.590171  1.4958    213.0   \n",
       "3              1.78                  68.95  69.786634  1.7114    213.0   \n",
       "4              1.78                  58.97  16.739994  1.6659    213.0   \n",
       "\n",
       "       psu  YEAR_2011.0  YEAR_2013.0  YEAR_2015.0  YEAR_2017.0  YEAR_2019.0  \\\n",
       "0  57923.0            0            0            0            0            1   \n",
       "1  57923.0            0            0            0            0            1   \n",
       "2  57923.0            0            0            0            0            1   \n",
       "3  57923.0            0            0            0            0            1   \n",
       "4  57923.0            0            0            0            0            1   \n",
       "\n",
       "   raceeth_1.0  raceeth_2.0  raceeth_3.0  raceeth_4.0  raceeth_5.0  \\\n",
       "0            0            0            0            0            0   \n",
       "1            0            0            0            0            0   \n",
       "2            0            0            0            0            0   \n",
       "3            0            0            0            0            1   \n",
       "4            0            0            0            0            0   \n",
       "\n",
       "   raceeth_6.0  raceeth_7.0  raceeth_8.0  How old are you_1.0  \\\n",
       "0            0            1            0                    0   \n",
       "1            0            0            1                    0   \n",
       "2            0            0            1                    0   \n",
       "3            0            0            0                    0   \n",
       "4            1            0            0                    0   \n",
       "\n",
       "   How old are you_2.0  How old are you_3.0  How old are you_4.0  \\\n",
       "0                    0                    0                    0   \n",
       "1                    0                    0                    1   \n",
       "2                    0                    0                    1   \n",
       "3                    0                    0                    1   \n",
       "4                    0                    0                    0   \n",
       "\n",
       "   How old are you_5.0  How old are you_6.0  How old are you_7.0  \\\n",
       "0                    1                    0                    0   \n",
       "1                    0                    0                    0   \n",
       "2                    0                    0                    0   \n",
       "3                    0                    0                    0   \n",
       "4                    1                    0                    0   \n",
       "\n",
       "   What is your sex_1.0  What is your sex_2.0  In what grade are you_1.0  \\\n",
       "0                     0                     1                          0   \n",
       "1                     0                     1                          0   \n",
       "2                     1                     0                          0   \n",
       "3                     0                     1                          0   \n",
       "4                     0                     1                          0   \n",
       "\n",
       "   In what grade are you_2.0  In what grade are you_3.0  \\\n",
       "0                          1                          0   \n",
       "1                          1                          0   \n",
       "2                          1                          0   \n",
       "3                          1                          0   \n",
       "4                          1                          0   \n",
       "\n",
       "   In what grade are you_4.0  In what grade are you_5.0  Seat belt use_1.0  \\\n",
       "0                          0                          0                  0   \n",
       "1                          0                          0                  0   \n",
       "2                          0                          0                  0   \n",
       "3                          0                          0                  0   \n",
       "4                          0                          0                  0   \n",
       "\n",
       "   Seat belt use_2.0  Seat belt use_3.0  Seat belt use_4.0  Seat belt use_5.0  \\\n",
       "0                  0                  0                  1                  0   \n",
       "1                  0                  0                  0                  1   \n",
       "2                  0                  0                  1                  0   \n",
       "3                  0                  0                  1                  0   \n",
       "4                  0                  0                  1                  0   \n",
       "\n",
       "   Riding with a drinking driver_1.0  Riding with a drinking driver_2.0  \\\n",
       "0                                  1                                  0   \n",
       "1                                  0                                  1   \n",
       "2                                  1                                  0   \n",
       "3                                  1                                  0   \n",
       "4                                  1                                  0   \n",
       "\n",
       "   Riding with a drinking driver_3.0  Riding with a drinking driver_4.0  \\\n",
       "0                                  0                                  0   \n",
       "1                                  0                                  0   \n",
       "2                                  0                                  0   \n",
       "3                                  0                                  0   \n",
       "4                                  0                                  0   \n",
       "\n",
       "   Riding with a drinking driver_5.0  Drinking and driving_1.0  \\\n",
       "0                                  0                         0   \n",
       "1                                  0                         0   \n",
       "2                                  0                         0   \n",
       "3                                  0                         1   \n",
       "4                                  0                         1   \n",
       "\n",
       "   Drinking and driving_2.0  Drinking and driving_3.0  \\\n",
       "0                         1                         0   \n",
       "1                         1                         0   \n",
       "2                         1                         0   \n",
       "3                         0                         0   \n",
       "4                         0                         0   \n",
       "\n",
       "   Drinking and driving_4.0  Drinking and driving_5.0  \\\n",
       "0                         0                         0   \n",
       "1                         0                         0   \n",
       "2                         0                         0   \n",
       "3                         0                         0   \n",
       "4                         0                         0   \n",
       "\n",
       "   Drinking and driving_6.0  Weapon carrying_1.0  Weapon carrying_2.0  \\\n",
       "0                         0                    1                    0   \n",
       "1                         0                    1                    0   \n",
       "2                         0                    1                    0   \n",
       "3                         0                    1                    0   \n",
       "4                         0                    1                    0   \n",
       "\n",
       "   Weapon carrying_3.0  Weapon carrying_4.0  Weapon carrying_5.0  \\\n",
       "0                    0                    0                    0   \n",
       "1                    0                    0                    0   \n",
       "2                    0                    0                    0   \n",
       "3                    0                    0                    0   \n",
       "4                    0                    0                    0   \n",
       "\n",
       "   Weapon carrying at school_1.0  Weapon carrying at school_2.0  \\\n",
       "0                              1                              0   \n",
       "1                              1                              0   \n",
       "2                              1                              0   \n",
       "3                              1                              0   \n",
       "4                              1                              0   \n",
       "\n",
       "   Weapon carrying at school_3.0  Weapon carrying at school_4.0  \\\n",
       "0                              0                              0   \n",
       "1                              0                              0   \n",
       "2                              0                              0   \n",
       "3                              0                              0   \n",
       "4                              0                              0   \n",
       "\n",
       "   Weapon carrying at school_5.0  Safety concerns at school_1.0  \\\n",
       "0                              0                              1   \n",
       "1                              0                              1   \n",
       "2                              0                              1   \n",
       "3                              0                              1   \n",
       "4                              0                              1   \n",
       "\n",
       "   Safety concerns at school_2.0  Safety concerns at school_3.0  \\\n",
       "0                              0                              0   \n",
       "1                              0                              0   \n",
       "2                              0                              0   \n",
       "3                              0                              0   \n",
       "4                              0                              0   \n",
       "\n",
       "   Safety concerns at school_4.0  Safety concerns at school_5.0  \\\n",
       "0                              0                              0   \n",
       "1                              0                              0   \n",
       "2                              0                              0   \n",
       "3                              0                              0   \n",
       "4                              0                              0   \n",
       "\n",
       "   Threatened at school_1.0  Threatened at school_2.0  \\\n",
       "0                         1                         0   \n",
       "1                         1                         0   \n",
       "2                         1                         0   \n",
       "3                         1                         0   \n",
       "4                         1                         0   \n",
       "\n",
       "   Threatened at school_3.0  Threatened at school_4.0  \\\n",
       "0                         0                         0   \n",
       "1                         0                         0   \n",
       "2                         0                         0   \n",
       "3                         0                         0   \n",
       "4                         0                         0   \n",
       "\n",
       "   Threatened at school_5.0  Threatened at school_6.0  \\\n",
       "0                         0                         0   \n",
       "1                         0                         0   \n",
       "2                         0                         0   \n",
       "3                         0                         0   \n",
       "4                         0                         0   \n",
       "\n",
       "   Threatened at school_7.0  Threatened at school_8.0  Physical fighting_1.0  \\\n",
       "0                         0                         0                      1   \n",
       "1                         0                         0                      1   \n",
       "2                         0                         0                      1   \n",
       "3                         0                         0                      1   \n",
       "4                         0                         0                      1   \n",
       "\n",
       "   Physical fighting_2.0  Physical fighting_3.0  ...  \\\n",
       "0                      0                      0  ...   \n",
       "1                      0                      0  ...   \n",
       "2                      0                      0  ...   \n",
       "3                      0                      0  ...   \n",
       "4                      0                      0  ...   \n",
       "\n",
       "   Multiple sex partners_3.0  Multiple sex partners_4.0  \\\n",
       "0                          0                          0   \n",
       "1                          0                          0   \n",
       "2                          0                          0   \n",
       "3                          0                          0   \n",
       "4                          0                          0   \n",
       "\n",
       "   Multiple sex partners_5.0  Multiple sex partners_6.0  \\\n",
       "0                          0                          0   \n",
       "1                          0                          0   \n",
       "2                          0                          0   \n",
       "3                          0                          0   \n",
       "4                          0                          0   \n",
       "\n",
       "   Multiple sex partners_7.0  Current sexual activity_1.0  \\\n",
       "0                          0                            1   \n",
       "1                          0                            1   \n",
       "2                          0                            1   \n",
       "3                          0                            1   \n",
       "4                          0                            1   \n",
       "\n",
       "   Current sexual activity_2.0  Current sexual activity_3.0  \\\n",
       "0                            0                            0   \n",
       "1                            0                            0   \n",
       "2                            0                            0   \n",
       "3                            0                            0   \n",
       "4                            0                            0   \n",
       "\n",
       "   Current sexual activity_4.0  Current sexual activity_5.0  \\\n",
       "0                            0                            0   \n",
       "1                            0                            0   \n",
       "2                            0                            0   \n",
       "3                            0                            0   \n",
       "4                            0                            0   \n",
       "\n",
       "   Current sexual activity_6.0  Current sexual activity_7.0  \\\n",
       "0                            0                            0   \n",
       "1                            0                            0   \n",
       "2                            0                            0   \n",
       "3                            0                            0   \n",
       "4                            0                            0   \n",
       "\n",
       "   Current sexual activity_8.0  Alcohol/drugs and sex_1.0  \\\n",
       "0                            0                          1   \n",
       "1                            0                          1   \n",
       "2                            0                          1   \n",
       "3                            0                          1   \n",
       "4                            0                          1   \n",
       "\n",
       "   Alcohol/drugs and sex_2.0  Alcohol/drugs and sex_3.0  Condom use_1.0  \\\n",
       "0                          0                          0               1   \n",
       "1                          0                          0               1   \n",
       "2                          0                          0               1   \n",
       "3                          0                          0               1   \n",
       "4                          0                          0               1   \n",
       "\n",
       "   Condom use_2.0  Condom use_3.0  Birth control pill use_1.0  \\\n",
       "0               0               0                           1   \n",
       "1               0               0                           1   \n",
       "2               0               0                           1   \n",
       "3               0               0                           1   \n",
       "4               0               0                           1   \n",
       "\n",
       "   Birth control pill use_2.0  Birth control pill use_3.0  \\\n",
       "0                           0                           0   \n",
       "1                           0                           0   \n",
       "2                           0                           0   \n",
       "3                           0                           0   \n",
       "4                           0                           0   \n",
       "\n",
       "   Birth control pill use_4.0  Birth control pill use_5.0  \\\n",
       "0                           0                           0   \n",
       "1                           0                           0   \n",
       "2                           0                           0   \n",
       "3                           0                           0   \n",
       "4                           0                           0   \n",
       "\n",
       "   Birth control pill use_6.0  Birth control pill use_7.0  \\\n",
       "0                           0                           0   \n",
       "1                           0                           0   \n",
       "2                           0                           0   \n",
       "3                           0                           0   \n",
       "4                           0                           0   \n",
       "\n",
       "   Birth control pill use_8.0  Perception of weight_1.0  \\\n",
       "0                           0                         0   \n",
       "1                           0                         0   \n",
       "2                           0                         0   \n",
       "3                           0                         0   \n",
       "4                           0                         0   \n",
       "\n",
       "   Perception of weight_2.0  Perception of weight_3.0  \\\n",
       "0                         0                         1   \n",
       "1                         0                         1   \n",
       "2                         1                         0   \n",
       "3                         0                         1   \n",
       "4                         0                         1   \n",
       "\n",
       "   Perception of weight_4.0  Perception of weight_5.0  Weight loss_1.0  \\\n",
       "0                         0                         0                0   \n",
       "1                         0                         0                1   \n",
       "2                         0                         0                0   \n",
       "3                         0                         0                0   \n",
       "4                         0                         0                0   \n",
       "\n",
       "   Weight loss_2.0  Weight loss_3.0  Weight loss_4.0  Television watching_1.0  \\\n",
       "0                0                1                0                        0   \n",
       "1                0                0                0                        0   \n",
       "2                0                0                1                        0   \n",
       "3                0                1                0                        0   \n",
       "4                0                0                1                        1   \n",
       "\n",
       "   Television watching_2.0  Television watching_3.0  Television watching_4.0  \\\n",
       "0                        1                        0                        0   \n",
       "1                        0                        1                        0   \n",
       "2                        1                        0                        0   \n",
       "3                        0                        0                        0   \n",
       "4                        0                        0                        0   \n",
       "\n",
       "   Television watching_5.0  Television watching_6.0  Television watching_7.0  \\\n",
       "0                        0                        0                        0   \n",
       "1                        0                        0                        0   \n",
       "2                        0                        0                        0   \n",
       "3                        0                        0                        1   \n",
       "4                        0                        0                        0   \n",
       "\n",
       "   Computer use_1.0  Computer use_2.0  Computer use_3.0  Computer use_4.0  \\\n",
       "0                 0                 0                 0                 0   \n",
       "1                 0                 0                 1                 0   \n",
       "2                 0                 0                 0                 1   \n",
       "3                 0                 0                 0                 0   \n",
       "4                 0                 0                 0                 1   \n",
       "\n",
       "   Computer use_5.0  Computer use_6.0  Computer use_7.0  HIV testing_1.0  \\\n",
       "0                 1                 0                 0                0   \n",
       "1                 0                 0                 0                0   \n",
       "2                 0                 0                 0                0   \n",
       "3                 0                 0                 1                0   \n",
       "4                 0                 0                 0                0   \n",
       "\n",
       "   HIV testing_2.0  HIV testing_3.0  Asthma_1.0  Asthma_2.0  Asthma_3.0  \\\n",
       "0                1                0           0           1           0   \n",
       "1                1                0           0           1           0   \n",
       "2                0                1           0           1           0   \n",
       "3                1                0           0           0           1   \n",
       "4                1                0           0           1           0   \n",
       "\n",
       "   Sleep_1.0  Sleep_2.0  Sleep_3.0  Sleep_4.0  Sleep_5.0  Sleep_6.0  \\\n",
       "0          0          0          0          1          0          0   \n",
       "1          0          0          0          1          0          0   \n",
       "2          0          0          0          0          1          0   \n",
       "3          0          0          0          1          0          0   \n",
       "4          0          1          0          0          0          0   \n",
       "\n",
       "   Sleep_7.0  Ever used LSD_1.0  Ever used LSD_2.0  Ever used LSD_3.0  \\\n",
       "0          0                  1                  0                  0   \n",
       "1          0                  1                  0                  0   \n",
       "2          0                  1                  0                  0   \n",
       "3          0                  0                  0                  1   \n",
       "4          0                  1                  0                  0   \n",
       "\n",
       "   Ever used LSD_4.0  Ever used LSD_5.0  Ever used LSD_6.0  \\\n",
       "0                  0                  0                  0   \n",
       "1                  0                  0                  0   \n",
       "2                  0                  0                  0   \n",
       "3                  0                  0                  0   \n",
       "4                  0                  0                  0   \n",
       "\n",
       "   Has used hard drugs_0.0  Has used hard drugs_1.0  healthy_eating_0.0  \\\n",
       "0                        1                        0                   0   \n",
       "1                        1                        0                   0   \n",
       "2                        1                        0                   0   \n",
       "3                        0                        1                   0   \n",
       "4                        1                        0                   0   \n",
       "\n",
       "   healthy_eating_1.0  regular_activity_0.0  regular_activity_1.0  \n",
       "0                   1                     0                     1  \n",
       "1                   1                     0                     1  \n",
       "2                   1                     1                     0  \n",
       "3                   1                     1                     0  \n",
       "4                   1                     1                     0  \n",
       "\n",
       "[5 rows x 266 columns]"
      ]
     },
     "execution_count": 16,
     "metadata": {},
     "output_type": "execute_result"
    }
   ],
   "source": [
    "#Drop \n",
    "X.drop(obj,axis=1,inplace=True)\n",
    "\n",
    "X = pd.concat([X,dummy_obj],axis=1)\n",
    "\n",
    "print(X.shape)\n",
    "X.head()"
   ]
  },
  {
   "cell_type": "code",
   "execution_count": 17,
   "metadata": {
    "ExecuteTime": {
     "end_time": "2021-01-08T02:23:14.737381Z",
     "start_time": "2021-01-08T02:23:14.719555Z"
    }
   },
   "outputs": [
    {
     "name": "stdout",
     "output_type": "stream",
     "text": [
      "2.0    44177\n",
      "1.0     9371\n",
      "Name: Considered suicide, dtype: int64\n",
      "--------------------\n",
      "2.0    0.824998\n",
      "1.0    0.175002\n",
      "Name: Considered suicide, dtype: float64\n"
     ]
    }
   ],
   "source": [
    "print(y.value_counts())\n",
    "print('--------------------')\n",
    "print(y.value_counts(normalize=True))"
   ]
  },
  {
   "cell_type": "markdown",
   "metadata": {},
   "source": [
    "## Train-Test-Split"
   ]
  },
  {
   "cell_type": "code",
   "execution_count": 18,
   "metadata": {
    "ExecuteTime": {
     "end_time": "2021-01-08T02:23:15.675824Z",
     "start_time": "2021-01-08T02:23:14.749643Z"
    }
   },
   "outputs": [],
   "source": [
    "# Use x and y variables to split the training data into train and test set then scale that data\n",
    "\n",
    "from sklearn.model_selection import train_test_split\n",
    "from sklearn.preprocessing import StandardScaler\n",
    "\n",
    "X_train, X_test, y_train, y_test = train_test_split(X, y, test_size= 0.25, random_state=42)\n",
    "\n",
    "scaler = StandardScaler()  \n",
    "scaler.fit(X_train)\n",
    "\n",
    "X_train = scaler.transform(X_train)  \n",
    "X_test = scaler.transform(X_test)"
   ]
  },
  {
   "cell_type": "markdown",
   "metadata": {},
   "source": [
    "## Taking Care of Class imbalance with SMOTE"
   ]
  },
  {
   "cell_type": "code",
   "execution_count": 19,
   "metadata": {
    "ExecuteTime": {
     "end_time": "2021-01-08T02:23:49.714238Z",
     "start_time": "2021-01-08T02:23:15.678940Z"
    }
   },
   "outputs": [
    {
     "name": "stdout",
     "output_type": "stream",
     "text": [
      "Synthetic sample class distribution: \n",
      "\n",
      "1.0    33069\n",
      "2.0    33069\n",
      "Name: Considered suicide, dtype: int64\n",
      "--------------------\n",
      "1.0    0.5\n",
      "2.0    0.5\n",
      "Name: Considered suicide, dtype: float64\n"
     ]
    }
   ],
   "source": [
    "# Oversample and plot imbalanced dataset with SMOTE\n",
    "from collections import Counter\n",
    "from sklearn.datasets import make_classification\n",
    "from imblearn.over_sampling import SMOTE\n",
    "\n",
    "smote = SMOTE()\n",
    "X_train_resampled, y_train_resampled = smote.fit_sample(X_train, y_train) \n",
    "# Preview synthetic sample class distribution\n",
    "print('Synthetic sample class distribution: \\n')\n",
    "print(pd.Series(y_train_resampled).value_counts())\n",
    "print('--------------------')\n",
    "print(pd.Series(y_train_resampled).value_counts(normalize=True))"
   ]
  },
  {
   "cell_type": "markdown",
   "metadata": {
    "heading_collapsed": true
   },
   "source": [
    "## Fit Gradient Boosted Trees"
   ]
  },
  {
   "cell_type": "code",
   "execution_count": 12,
   "metadata": {
    "ExecuteTime": {
     "end_time": "2021-01-07T20:13:55.279245Z",
     "start_time": "2021-01-07T20:13:55.083141Z"
    },
    "hidden": true
   },
   "outputs": [],
   "source": [
    "from sklearn.ensemble import GradientBoostingClassifier"
   ]
  },
  {
   "cell_type": "code",
   "execution_count": null,
   "metadata": {
    "hidden": true
   },
   "outputs": [],
   "source": []
  },
  {
   "cell_type": "code",
   "execution_count": null,
   "metadata": {
    "hidden": true
   },
   "outputs": [],
   "source": []
  },
  {
   "cell_type": "code",
   "execution_count": null,
   "metadata": {
    "hidden": true
   },
   "outputs": [],
   "source": []
  },
  {
   "cell_type": "code",
   "execution_count": null,
   "metadata": {
    "hidden": true
   },
   "outputs": [],
   "source": []
  },
  {
   "cell_type": "code",
   "execution_count": null,
   "metadata": {
    "hidden": true
   },
   "outputs": [],
   "source": []
  },
  {
   "cell_type": "code",
   "execution_count": null,
   "metadata": {
    "hidden": true
   },
   "outputs": [],
   "source": []
  },
  {
   "cell_type": "markdown",
   "metadata": {},
   "source": [
    "## Fit a KNN model"
   ]
  },
  {
   "cell_type": "code",
   "execution_count": 31,
   "metadata": {
    "ExecuteTime": {
     "end_time": "2021-01-08T02:26:34.278639Z",
     "start_time": "2021-01-08T02:26:34.271728Z"
    }
   },
   "outputs": [],
   "source": [
    "from sklearn.neighbors import KNeighborsClassifier"
   ]
  },
  {
   "cell_type": "code",
   "execution_count": 32,
   "metadata": {
    "ExecuteTime": {
     "end_time": "2021-01-08T02:26:34.829565Z",
     "start_time": "2021-01-08T02:26:34.824399Z"
    }
   },
   "outputs": [],
   "source": [
    "knn = KNeighborsClassifier(n_neighbors=10)"
   ]
  },
  {
   "cell_type": "code",
   "execution_count": 35,
   "metadata": {
    "ExecuteTime": {
     "end_time": "2021-01-08T02:36:23.973538Z",
     "start_time": "2021-01-08T02:31:28.882659Z"
    }
   },
   "outputs": [
    {
     "name": "stdout",
     "output_type": "stream",
     "text": [
      "0.45044826750666345\n",
      "0.6611638156420407\n"
     ]
    }
   ],
   "source": [
    "knn.fit(X_train_resampled, y_train_resampled)\n",
    "\n",
    "knn_preds = knn.predict(X_test)\n",
    "\n",
    "knn_f1 = metrics.f1_score(y_test, knn_preds)\n",
    "knn_acc = metrics.accuracy_score(y_test, knn_preds)\n",
    "\n",
    "print(knn_f1)\n",
    "print(knn_acc)"
   ]
  },
  {
   "cell_type": "code",
   "execution_count": 40,
   "metadata": {
    "ExecuteTime": {
     "end_time": "2021-01-08T02:42:45.421129Z",
     "start_time": "2021-01-08T02:42:27.694107Z"
    }
   },
   "outputs": [
    {
     "name": "stdout",
     "output_type": "stream",
     "text": [
      "[[1859  420]\n",
      " [4116 6992]]\n",
      "              precision    recall  f1-score   support\n",
      "\n",
      "         1.0       0.31      0.82      0.45      2279\n",
      "         2.0       0.94      0.63      0.76     11108\n",
      "\n",
      "    accuracy                           0.66     13387\n",
      "   macro avg       0.63      0.72      0.60     13387\n",
      "weighted avg       0.84      0.66      0.70     13387\n",
      "\n",
      "Accuracy: 0.6611638156420407\n",
      "Precision: 0.3111297071129707\n",
      "Recall: 0.8157086441421676\n",
      "F1: 0.45044826750666345\n",
      "ROC-AUC: 0.7225824459457687\n",
      "0.695771288218936\n"
     ]
    },
    {
     "data": {
      "image/png": "[encoded data removed]",
      "text/plain": [
       "<Figure size 432x288 with 2 Axes>"
      ]
     },
     "metadata": {
      "needs_background": "light"
     },
     "output_type": "display_data"
    }
   ],
   "source": [
    "from sklearn.metrics import roc_auc_score, roc_curve, auc, accuracy_score, confusion_matrix, ConfusionMatrixDisplay, classification_report\n",
    "from sklearn.model_selection import cross_val_score\n",
    "\n",
    "\n",
    "# Confusion matrix and classification report\n",
    "print(confusion_matrix(y_test, knn_preds))\n",
    "print(classification_report(y_test, knn_preds))\n",
    "\n",
    "print('Accuracy:', metrics.accuracy_score(y_test, knn_preds))\n",
    "print('Precision:', metrics.precision_score(y_test, knn_preds))\n",
    "print('Recall:', metrics.recall_score(y_test, knn_preds))\n",
    "print('F1:', metrics.f1_score(y_test, knn_preds))\n",
    "print('ROC-AUC:', metrics.roc_auc_score(y_test, knn_preds))\n",
    "\n",
    "#cross validation score\n",
    "score = cross_val_score(knn, X, y, cv = 10)\n",
    "print(score.mean())\n",
    "\n",
    "\n",
    "# classes= ['Yes', 'No']\n",
    "cm = confusion_matrix(y_test, knn_preds )\n",
    "# print(cm)\n",
    "\n",
    "\n",
    "disp = ConfusionMatrixDisplay(confusion_matrix=cm)\n",
    "\n",
    "disp.plot(cmap='Blues')\n",
    "plt.show()"
   ]
  },
  {
   "cell_type": "code",
   "execution_count": null,
   "metadata": {
    "ExecuteTime": {
     "start_time": "2021-01-07T19:59:29.986Z"
    }
   },
   "outputs": [],
   "source": [
    "#ROC Curve\n",
    "fpr, tpr, thresholds = metrics.roc_curve(y_test, knn_preds)\n",
    "plt.plot(fpr, tpr)\n",
    "plt.show()"
   ]
  },
  {
   "cell_type": "code",
   "execution_count": 2,
   "metadata": {
    "ExecuteTime": {
     "end_time": "2020-12-21T16:04:09.185312Z",
     "start_time": "2020-12-21T16:04:09.003833Z"
    }
   },
   "outputs": [],
   "source": [
    "# from sklearn.metrics import accuracy_score, confusion_matrix, ConfusionMatrixDisplay, classification_report\n",
    "# from sklearn.model_selection import cross_val_score\n",
    "\n",
    "\n",
    "# # Confusion matrix and classification report\n",
    "# print(confusion_matrix(y_test, y_pred))\n",
    "# print(classification_report(y_test, y_pred))\n",
    "\n",
    "# print('Accuracy:', metrics.accuracy_score(y_test, y_pred))\n",
    "# print('Precision:', metrics.precision_score(y_test, y_pred))\n",
    "# print('Recall:', metrics.recall_score(y_test, y_pred))\n",
    "# print('F1:', metrics.f1_score(y_test, y_pred))\n",
    "\n",
    "\n",
    "# #cross validation score\n",
    "# score = cross_val_score(ctree, X, y, cv = 10)\n",
    "# print(score.mean())\n",
    "\n",
    "\n",
    "# classes= ['Yes', 'No']\n",
    "# cm = confusion_matrix(y_test, y_pred, )\n",
    "# print(cm)\n",
    "\n",
    "\n",
    "# disp = ConfusionMatrixDisplay(confusion_matrix=cm)\n",
    "\n",
    "# disp.plot(cmap='Blues')\n",
    "# plt.show()"
   ]
  },
  {
   "cell_type": "markdown",
   "metadata": {
    "heading_collapsed": true
   },
   "source": [
    "## Fit a Logistic Regression model "
   ]
  },
  {
   "cell_type": "code",
   "execution_count": 16,
   "metadata": {
    "ExecuteTime": {
     "end_time": "2021-01-07T18:20:41.973932Z",
     "start_time": "2021-01-07T18:20:41.963272Z"
    },
    "hidden": true
   },
   "outputs": [],
   "source": [
    "# from sklearn.model_selection import train_test_split\n",
    "\n",
    "# X_train, X_test, y_train, y_test = train_test_split(X, y, test_size= 0.25, random_state=42)"
   ]
  },
  {
   "cell_type": "code",
   "execution_count": 37,
   "metadata": {
    "ExecuteTime": {
     "end_time": "2021-01-07T19:53:17.440937Z",
     "start_time": "2021-01-07T19:53:17.413792Z"
    },
    "hidden": true
   },
   "outputs": [],
   "source": [
    "from sklearn.linear_model import LogisticRegression"
   ]
  },
  {
   "cell_type": "code",
   "execution_count": 38,
   "metadata": {
    "ExecuteTime": {
     "end_time": "2021-01-07T19:53:18.893845Z",
     "start_time": "2021-01-07T19:53:18.885282Z"
    },
    "hidden": true
   },
   "outputs": [],
   "source": [
    "lr = LogisticRegression(class_weight='balanced')"
   ]
  },
  {
   "cell_type": "code",
   "execution_count": 39,
   "metadata": {
    "ExecuteTime": {
     "end_time": "2021-01-07T19:53:23.245911Z",
     "start_time": "2021-01-07T19:53:20.280683Z"
    },
    "hidden": true
   },
   "outputs": [
    {
     "data": {
      "text/plain": [
       "LogisticRegression(class_weight='balanced')"
      ]
     },
     "execution_count": 39,
     "metadata": {},
     "output_type": "execute_result"
    }
   ],
   "source": [
    "lr.fit(X_train_resampled, y_train_resampled)"
   ]
  },
  {
   "cell_type": "code",
   "execution_count": 40,
   "metadata": {
    "ExecuteTime": {
     "end_time": "2021-01-07T19:53:24.497633Z",
     "start_time": "2021-01-07T19:53:24.465233Z"
    },
    "hidden": true
   },
   "outputs": [
    {
     "name": "stdout",
     "output_type": "stream",
     "text": [
      "0.5569306930693069\n"
     ]
    }
   ],
   "source": [
    "lr_preds = lr.predict(X_test)\n",
    "\n",
    "lr_f1 = metrics.f1_score(y_test, lr_preds)\n",
    "\n",
    "print(lr_f1)"
   ]
  },
  {
   "cell_type": "code",
   "execution_count": null,
   "metadata": {
    "ExecuteTime": {
     "start_time": "2021-01-07T20:00:59.941Z"
    },
    "hidden": true
   },
   "outputs": [],
   "source": [
    "# Confusion matrix and classification report\n",
    "print(confusion_matrix(y_test, lr_preds))\n",
    "print(classification_report(y_test, lr_preds))\n",
    "\n",
    "print('Accuracy:', metrics.accuracy_score(y_test, lr_preds))\n",
    "print('Precision:', metrics.precision_score(y_test, lr_preds))\n",
    "print('Recall:', metrics.recall_score(y_test, lr_preds))\n",
    "print('F1:', metrics.f1_score(y_test, lr_preds))\n",
    "print('ROC-AUC:', metrics.roc_auc_score(y_test, lr_preds))\n",
    "\n",
    "#cross validation score\n",
    "score = cross_val_score(lr, X, y, cv = 10)\n",
    "print(score.mean())\n",
    "\n",
    "\n",
    "# classes= ['Yes', 'No']\n",
    "cm = confusion_matrix(y_test, lr_preds)\n",
    "# print(cm)\n",
    "\n",
    "\n",
    "disp = ConfusionMatrixDisplay(confusion_matrix=cm)\n",
    "\n",
    "disp.plot(cmap='Blues')\n",
    "plt.show()"
   ]
  },
  {
   "cell_type": "markdown",
   "metadata": {},
   "source": [
    "## Fit a Decision Tree Classifier"
   ]
  },
  {
   "cell_type": "code",
   "execution_count": 21,
   "metadata": {
    "ExecuteTime": {
     "end_time": "2021-01-08T02:24:27.743424Z",
     "start_time": "2021-01-08T02:24:27.740125Z"
    }
   },
   "outputs": [],
   "source": [
    "from sklearn.tree import DecisionTreeClassifier"
   ]
  },
  {
   "cell_type": "code",
   "execution_count": 22,
   "metadata": {
    "ExecuteTime": {
     "end_time": "2021-01-08T02:24:28.446098Z",
     "start_time": "2021-01-08T02:24:28.425767Z"
    }
   },
   "outputs": [],
   "source": [
    "# Create matrix of features\n",
    "to_drop = ['Considered suicide','Made a suicide plan','Attempted suicide','Injurious suicide attempt']\n",
    "X = df.drop(columns = to_drop, axis = 1) # grabs everything else but target\n",
    "\n",
    "# Create target variable\n",
    "y = df['Considered suicide'] # y is the column we're trying to predict"
   ]
  },
  {
   "cell_type": "code",
   "execution_count": 23,
   "metadata": {
    "ExecuteTime": {
     "end_time": "2021-01-08T02:24:29.180827Z",
     "start_time": "2021-01-08T02:24:29.178283Z"
    },
    "scrolled": false
   },
   "outputs": [],
   "source": [
    "# X.dtypes"
   ]
  },
  {
   "cell_type": "code",
   "execution_count": 24,
   "metadata": {
    "ExecuteTime": {
     "end_time": "2021-01-08T02:24:30.155176Z",
     "start_time": "2021-01-08T02:24:29.984158Z"
    }
   },
   "outputs": [],
   "source": [
    "# Use x and y variables to split the training data into train and test set then scale that data\n",
    "\n",
    "from sklearn.model_selection import train_test_split\n",
    "from sklearn.preprocessing import StandardScaler\n",
    "\n",
    "X_train, X_test, y_train, y_test = train_test_split(X, y, test_size= 0.25, random_state=42)\n",
    "\n",
    "scaler = StandardScaler()  \n",
    "scaler.fit(X_train)\n",
    "\n",
    "X_train = scaler.transform(X_train)  \n",
    "X_test = scaler.transform(X_test)"
   ]
  },
  {
   "cell_type": "markdown",
   "metadata": {},
   "source": [
    "Handling class imbalance using SMOTE"
   ]
  },
  {
   "cell_type": "code",
   "execution_count": 25,
   "metadata": {
    "ExecuteTime": {
     "end_time": "2021-01-08T02:24:44.561353Z",
     "start_time": "2021-01-08T02:24:36.125745Z"
    }
   },
   "outputs": [
    {
     "name": "stdout",
     "output_type": "stream",
     "text": [
      "Synthetic sample class distribution: \n",
      "\n",
      "1.0    33069\n",
      "2.0    33069\n",
      "Name: Considered suicide, dtype: int64\n",
      "--------------------\n",
      "1.0    0.5\n",
      "2.0    0.5\n",
      "Name: Considered suicide, dtype: float64\n"
     ]
    }
   ],
   "source": [
    "# Oversample and plot imbalanced dataset with SMOTE\n",
    "from collections import Counter\n",
    "from sklearn.datasets import make_classification\n",
    "from imblearn.over_sampling import SMOTE\n",
    "\n",
    "smote = SMOTE()\n",
    "X_train_resampled, y_train_resampled = smote.fit_sample(X_train, y_train) \n",
    "# Preview synthetic sample class distribution\n",
    "print('Synthetic sample class distribution: \\n')\n",
    "print(pd.Series(y_train_resampled).value_counts())\n",
    "print('--------------------')\n",
    "print(pd.Series(y_train_resampled).value_counts(normalize=True))"
   ]
  },
  {
   "cell_type": "code",
   "execution_count": 27,
   "metadata": {
    "ExecuteTime": {
     "end_time": "2021-01-08T02:24:58.752201Z",
     "start_time": "2021-01-08T02:24:57.698027Z"
    }
   },
   "outputs": [
    {
     "name": "stdout",
     "output_type": "stream",
     "text": [
      "0.5543494878458951\n",
      "0.7822514379622021\n"
     ]
    }
   ],
   "source": [
    "dtc = DecisionTreeClassifier(max_depth=5, class_weight='balanced')\n",
    "\n",
    "dtc.fit(X_train_resampled, y_train_resampled)\n",
    "\n",
    "dtc_preds  = dtc.predict(X_test)\n",
    "\n",
    "dtc_f1 = metrics.f1_score(y_test, dtc_preds)\n",
    "dtc_acc = metrics.accuracy_score(y_test, dtc_preds)\n",
    "\n",
    "print(dtc_f1)\n",
    "print(dtc_acc)"
   ]
  },
  {
   "cell_type": "code",
   "execution_count": 28,
   "metadata": {
    "ExecuteTime": {
     "end_time": "2021-01-08T02:25:52.041270Z",
     "start_time": "2021-01-08T02:25:51.641607Z"
    }
   },
   "outputs": [
    {
     "name": "stdout",
     "output_type": "stream",
     "text": [
      "[[1813  466]\n",
      " [2449 8659]]\n"
     ]
    },
    {
     "data": {
      "image/png": "[encoded data removed]",
      "text/plain": [
       "<Figure size 432x288 with 2 Axes>"
      ]
     },
     "metadata": {
      "needs_background": "light"
     },
     "output_type": "display_data"
    }
   ],
   "source": [
    "cm = confusion_matrix(y_test, dtc_preds)\n",
    "print(cm)\n",
    "\n",
    "\n",
    "disp = ConfusionMatrixDisplay(confusion_matrix=cm)\n",
    "\n",
    "disp.plot(cmap='Blues')\n",
    "plt.show()"
   ]
  },
  {
   "cell_type": "markdown",
   "metadata": {},
   "source": [
    "## Combine three models using Voting Classifier"
   ]
  },
  {
   "cell_type": "code",
   "execution_count": 29,
   "metadata": {
    "ExecuteTime": {
     "end_time": "2021-01-08T02:26:07.716313Z",
     "start_time": "2021-01-08T02:26:07.707556Z"
    }
   },
   "outputs": [],
   "source": [
    "from sklearn.ensemble import VotingClassifier\n"
   ]
  },
  {
   "cell_type": "markdown",
   "metadata": {},
   "source": [
    "For the estimators, we must provide a list of tuples. The first value in the tuple is is the name given to the model/estimator in the second value. SKlearn requires this because there is additional functionality where you can access information about the specific models, so you need to name the models to access them later.  "
   ]
  },
  {
   "cell_type": "code",
   "execution_count": 30,
   "metadata": {
    "ExecuteTime": {
     "end_time": "2021-01-08T02:26:12.717589Z",
     "start_time": "2021-01-08T02:26:12.681483Z"
    }
   },
   "outputs": [
    {
     "ename": "NameError",
     "evalue": "name 'lr' is not defined",
     "output_type": "error",
     "traceback": [
      "\u001b[0;31m---------------------------------------------------------------------------\u001b[0m",
      "\u001b[0;31mNameError\u001b[0m                                 Traceback (most recent call last)",
      "\u001b[0;32m<ipython-input-30-f823e9756f5a>\u001b[0m in \u001b[0;36m<module>\u001b[0;34m\u001b[0m\n\u001b[1;32m      1\u001b[0m voting_clf = VotingClassifier(\n\u001b[0;32m----> 2\u001b[0;31m                 \u001b[0mestimators\u001b[0m\u001b[0;34m=\u001b[0m\u001b[0;34m[\u001b[0m\u001b[0;34m(\u001b[0m\u001b[0;34m'logreg'\u001b[0m\u001b[0;34m,\u001b[0m \u001b[0mlr\u001b[0m\u001b[0;34m)\u001b[0m\u001b[0;34m,\u001b[0m \u001b[0;34m(\u001b[0m\u001b[0;34m'knneighbors'\u001b[0m\u001b[0;34m,\u001b[0m \u001b[0mknn\u001b[0m\u001b[0;34m)\u001b[0m\u001b[0;34m,\u001b[0m \u001b[0;34m(\u001b[0m\u001b[0;34m'decisiontree'\u001b[0m\u001b[0;34m,\u001b[0m \u001b[0mdtc\u001b[0m\u001b[0;34m)\u001b[0m\u001b[0;34m]\u001b[0m\u001b[0;34m,\u001b[0m\u001b[0;34m\u001b[0m\u001b[0;34m\u001b[0m\u001b[0m\n\u001b[0m\u001b[1;32m      3\u001b[0m                 voting='hard')\n\u001b[1;32m      4\u001b[0m \u001b[0;34m\u001b[0m\u001b[0m\n\u001b[1;32m      5\u001b[0m \u001b[0mvoting_clf\u001b[0m\u001b[0;34m.\u001b[0m\u001b[0mfit\u001b[0m\u001b[0;34m(\u001b[0m\u001b[0mX_train_resampled\u001b[0m\u001b[0;34m,\u001b[0m \u001b[0my_train_resampled\u001b[0m\u001b[0;34m)\u001b[0m\u001b[0;34m\u001b[0m\u001b[0;34m\u001b[0m\u001b[0m\n",
      "\u001b[0;31mNameError\u001b[0m: name 'lr' is not defined"
     ]
    }
   ],
   "source": [
    "voting_clf = VotingClassifier(\n",
    "                estimators=[('logreg', lr), ('knneighbors', knn), ('decisiontree', dtc)], \n",
    "                voting='hard')\n",
    "\n",
    "voting_clf.fit(X_train_resampled, y_train_resampled)\n",
    "\n",
    "vc_preds = voting_clf.predict(X_test)\n",
    "\n",
    "vc_f1 = metrics.f1_score(y_test, vc_preds)\n",
    "\n",
    "print(vc_f1)"
   ]
  },
  {
   "cell_type": "markdown",
   "metadata": {},
   "source": [
    "### Use a voting classifier with multiple Logistic regression models "
   ]
  },
  {
   "cell_type": "code",
   "execution_count": null,
   "metadata": {},
   "outputs": [],
   "source": []
  },
  {
   "cell_type": "code",
   "execution_count": null,
   "metadata": {
    "ExecuteTime": {
     "end_time": "2021-01-07T19:51:30.928839Z",
     "start_time": "2021-01-07T19:46:01.368Z"
    }
   },
   "outputs": [],
   "source": [
    "\n",
    "C_param_range = [0.001,0.01,0.1,1,10]\n",
    "titles = ['lr_0_001', 'lr_0_01', 'lr_0_1', 'lr_1', 'lr_10']\n",
    "\n",
    "params = dict(zip(titles, C_param_range)) \n",
    "models = {}\n",
    "\n",
    "table = pd.DataFrame(columns = ['C_parameter','F1'])\n",
    "table['C_parameter'] = C_param_range\n",
    "j = 0\n",
    "\n",
    "for k , v  in params.items():\n",
    "    \n",
    "    # Create model using different value for c  \n",
    "    lr = LogisticRegression(penalty = 'l2', C = v, random_state = 1, class_weight='balanced')\n",
    "    \n",
    "    #save the model to a dictionary to use later in our voting classifiers\n",
    "    models[k]= lr\n",
    "    \n",
    "    #the steps below this point are unnecessary in order to create a voting classifier, \n",
    "    #but it is easy to fit the model and see how performance changes for different levels of regularization\n",
    "    lr.fit(X_train_resampled, y_train_resampled)\n",
    "    \n",
    "    # Predict using model\n",
    "    y_preds = lr.predict(X_test)\n",
    "\n",
    "    # Saving accuracy score in table\n",
    "    table.iloc[j,1] = metrics.f1_score(y_test, y_preds)\n",
    "    j += 1\n",
    "\n"
   ]
  },
  {
   "cell_type": "code",
   "execution_count": null,
   "metadata": {
    "ExecuteTime": {
     "end_time": "2021-01-07T19:51:30.931248Z",
     "start_time": "2021-01-07T19:46:01.867Z"
    }
   },
   "outputs": [],
   "source": [
    "#review performance for different levels of C\n",
    "table\n"
   ]
  },
  {
   "cell_type": "code",
   "execution_count": null,
   "metadata": {
    "ExecuteTime": {
     "end_time": "2021-01-07T19:51:30.934600Z",
     "start_time": "2021-01-07T19:46:05.569Z"
    }
   },
   "outputs": [],
   "source": [
    "#invesitgate the models D=dictionary\n",
    "list(models.items())"
   ]
  },
  {
   "cell_type": "markdown",
   "metadata": {},
   "source": [
    "Now that we have programmatically created multiple logistic regression models, let's use them in an ensemble model"
   ]
  },
  {
   "cell_type": "code",
   "execution_count": null,
   "metadata": {
    "ExecuteTime": {
     "end_time": "2021-01-07T19:51:30.940467Z",
     "start_time": "2021-01-07T19:46:08.948Z"
    }
   },
   "outputs": [],
   "source": [
    "lr_voting = VotingClassifier(estimators=list(models.items()), \n",
    "                              voting='hard')\n",
    "\n",
    "lr_voting.fit(X_train_resampled, y_train_resampled)\n",
    "\n",
    "lrv_preds = lr_voting.predict(X_test)\n",
    "\n",
    "lrv_f1 = metrics.f1_score(y_test, lrv_preds)\n",
    "\n",
    "print(lrv_f1)"
   ]
  },
  {
   "cell_type": "markdown",
   "metadata": {},
   "source": [
    "## Fit a Bagging Classifier for a Logistic Regression model. "
   ]
  },
  {
   "cell_type": "code",
   "execution_count": null,
   "metadata": {
    "ExecuteTime": {
     "end_time": "2021-01-07T19:51:30.958527Z",
     "start_time": "2021-01-07T19:46:24.832Z"
    }
   },
   "outputs": [],
   "source": [
    "X_train_resampled.shape"
   ]
  },
  {
   "cell_type": "code",
   "execution_count": null,
   "metadata": {
    "ExecuteTime": {
     "end_time": "2021-01-07T19:51:30.966799Z",
     "start_time": "2021-01-07T19:46:29.720Z"
    }
   },
   "outputs": [],
   "source": [
    "bc_lr = BaggingClassifier(\n",
    "            base_estimator=LogisticRegression(random_state = 1, class_weight='balanced'), \n",
    "            n_estimators= 100,\n",
    "            max_samples= 0.8,\n",
    "            max_features= 6,\n",
    "            oob_score= True\n",
    "                )"
   ]
  },
  {
   "cell_type": "code",
   "execution_count": null,
   "metadata": {
    "ExecuteTime": {
     "end_time": "2021-01-07T19:51:30.986352Z",
     "start_time": "2021-01-07T19:46:34.760Z"
    }
   },
   "outputs": [],
   "source": [
    "bc_lr.fit(X_train_resampled, y_train_resampled)\n",
    "\n"
   ]
  },
  {
   "cell_type": "code",
   "execution_count": null,
   "metadata": {
    "ExecuteTime": {
     "end_time": "2021-01-07T19:51:30.999978Z",
     "start_time": "2021-01-07T19:46:37.233Z"
    }
   },
   "outputs": [],
   "source": [
    "# Use the oob_score to get some idea of how the model performs on a validation set\n",
    "\n",
    "bc_lr.oob_score_"
   ]
  },
  {
   "cell_type": "code",
   "execution_count": null,
   "metadata": {
    "ExecuteTime": {
     "end_time": "2021-01-07T19:51:31.007371Z",
     "start_time": "2021-01-07T19:46:52.296Z"
    }
   },
   "outputs": [],
   "source": [
    "# See how the model performs on the test set\n",
    "\n",
    "bc_lr_preds = bc_lr.predict(X_test)\n",
    "\n",
    "bc_lr_f1 = metrics.f1_score(y_test, bc_lr_preds)\n",
    "\n",
    "print(bc_lr_f1)"
   ]
  },
  {
   "cell_type": "markdown",
   "metadata": {},
   "source": [
    "***What is the difference in the `VotingClassifier` algorithm and the `BaggingClassifier` algorithm?***"
   ]
  },
  {
   "cell_type": "markdown",
   "metadata": {},
   "source": [
    "Your answer:"
   ]
  },
  {
   "cell_type": "markdown",
   "metadata": {},
   "source": [
    "**What is the difference between a BaggingClassifier that uses a decision tree as the base estimator and a Random Forest Classifier?**"
   ]
  },
  {
   "cell_type": "markdown",
   "metadata": {},
   "source": [
    "A random forest classifier will take a sample of features at each node, where as a bagging classifier will take a sample of features at to use for the whole model. "
   ]
  },
  {
   "cell_type": "markdown",
   "metadata": {},
   "source": [
    "# Fitting a Random Forest Classifier"
   ]
  },
  {
   "cell_type": "code",
   "execution_count": 36,
   "metadata": {
    "ExecuteTime": {
     "end_time": "2021-01-08T02:36:24.126188Z",
     "start_time": "2021-01-08T02:36:24.092643Z"
    }
   },
   "outputs": [],
   "source": [
    "# Instantiate the classifier using 100 trees\n",
    "from sklearn.ensemble import RandomForestClassifier\n",
    "rfc = RandomForestClassifier(random_state = 1, n_estimators=100)"
   ]
  },
  {
   "cell_type": "code",
   "execution_count": 37,
   "metadata": {
    "ExecuteTime": {
     "end_time": "2021-01-08T02:36:24.252341Z",
     "start_time": "2021-01-08T02:36:24.138985Z"
    }
   },
   "outputs": [
    {
     "data": {
      "text/plain": [
       "RandomForestClassifier(n_estimators=1000, random_state=1)"
      ]
     },
     "execution_count": 37,
     "metadata": {},
     "output_type": "execute_result"
    }
   ],
   "source": [
    "#let's look at all the different default features\n",
    "rfc"
   ]
  },
  {
   "cell_type": "code",
   "execution_count": 38,
   "metadata": {
    "ExecuteTime": {
     "end_time": "2021-01-08T02:42:09.154321Z",
     "start_time": "2021-01-08T02:36:24.264603Z"
    }
   },
   "outputs": [
    {
     "data": {
      "text/plain": [
       "RandomForestClassifier(n_estimators=1000, random_state=1)"
      ]
     },
     "execution_count": 38,
     "metadata": {},
     "output_type": "execute_result"
    }
   ],
   "source": [
    "#fit the model to the training data\n",
    "rfc.fit(X_train_resampled, y_train_resampled)"
   ]
  },
  {
   "cell_type": "code",
   "execution_count": 39,
   "metadata": {
    "ExecuteTime": {
     "end_time": "2021-01-08T02:42:27.503417Z",
     "start_time": "2021-01-08T02:42:09.473736Z"
    }
   },
   "outputs": [
    {
     "name": "stdout",
     "output_type": "stream",
     "text": [
      "Test F1 score:  0.5109524981540733\n",
      "Test Accuracy score:  0.851572421005453\n"
     ]
    }
   ],
   "source": [
    "#use the fitted model to predict on the test data\n",
    "rfc_preds = rfc.predict(X_test)\n",
    "\n",
    "rfc_f1 = metrics.f1_score(y_test, rfc_preds)\n",
    "rfc_acc = metrics.accuracy_score(y_test, rfc_preds)\n",
    "\n",
    "# checking accuracy on the test data\n",
    "print('Test F1 score: ', rfc_f1)\n",
    "print('Test Accuracy score: ', rfc_acc)"
   ]
  },
  {
   "cell_type": "markdown",
   "metadata": {},
   "source": [
    "***Change the parameters and see whether you can improve the performance of the model***"
   ]
  },
  {
   "cell_type": "markdown",
   "metadata": {},
   "source": [
    "### GridsearchCV with Random Forest\n",
    "\n",
    "Let's use grid search to identify the best tuning parameters to use for a random forest model. "
   ]
  },
  {
   "cell_type": "code",
   "execution_count": 33,
   "metadata": {
    "ExecuteTime": {
     "end_time": "2021-01-07T20:38:21.059184Z",
     "start_time": "2021-01-07T20:38:21.051111Z"
    }
   },
   "outputs": [],
   "source": [
    "from sklearn.model_selection import GridSearchCV\n",
    "\n"
   ]
  },
  {
   "cell_type": "code",
   "execution_count": 34,
   "metadata": {
    "ExecuteTime": {
     "end_time": "2021-01-07T20:38:21.090315Z",
     "start_time": "2021-01-07T20:38:21.071566Z"
    }
   },
   "outputs": [
    {
     "data": {
      "text/plain": [
       "RandomForestClassifier()"
      ]
     },
     "execution_count": 34,
     "metadata": {},
     "output_type": "execute_result"
    }
   ],
   "source": [
    "RandomForestClassifier()\n",
    "\n"
   ]
  },
  {
   "cell_type": "code",
   "execution_count": 35,
   "metadata": {
    "ExecuteTime": {
     "end_time": "2021-01-07T20:38:21.120357Z",
     "start_time": "2021-01-07T20:38:21.101922Z"
    }
   },
   "outputs": [],
   "source": [
    "#create a dictionary of all the parameters you want to tune\n",
    "param_grid = { \n",
    "    'n_estimators': [100,300,500,700,1000],\n",
    "    'criterion': ['gini', 'entropy'],\n",
    "    'max_depth': list(range(2,10)),\n",
    "    'max_features': list(range(3,10))\n",
    "}"
   ]
  },
  {
   "cell_type": "code",
   "execution_count": 36,
   "metadata": {
    "ExecuteTime": {
     "end_time": "2021-01-07T20:38:21.142783Z",
     "start_time": "2021-01-07T20:38:21.130276Z"
    }
   },
   "outputs": [],
   "source": [
    "#create a grid search object and fit it to the data\n",
    "\n",
    "grid_tree=GridSearchCV(RandomForestClassifier(), param_grid, cv=5, scoring='f1', verbose=1, n_jobs=-1)"
   ]
  },
  {
   "cell_type": "code",
   "execution_count": null,
   "metadata": {
    "ExecuteTime": {
     "start_time": "2021-01-07T20:33:01.453Z"
    }
   },
   "outputs": [
    {
     "name": "stdout",
     "output_type": "stream",
     "text": [
      "Fitting 5 folds for each of 560 candidates, totalling 2800 fits\n"
     ]
    },
    {
     "name": "stderr",
     "output_type": "stream",
     "text": [
      "[Parallel(n_jobs=-1)]: Using backend LokyBackend with 4 concurrent workers.\n",
      "[Parallel(n_jobs=-1)]: Done  42 tasks      | elapsed:  7.4min\n",
      "[Parallel(n_jobs=-1)]: Done 192 tasks      | elapsed: 40.8min\n",
      "[Parallel(n_jobs=-1)]: Done 442 tasks      | elapsed: 97.5min\n",
      "[Parallel(n_jobs=-1)]: Done 792 tasks      | elapsed: 182.5min\n"
     ]
    }
   ],
   "source": [
    "grid_tree.fit(X_train_resampled, y_train_resampled)"
   ]
  },
  {
   "cell_type": "code",
   "execution_count": null,
   "metadata": {
    "ExecuteTime": {
     "start_time": "2021-01-07T20:33:02.096Z"
    }
   },
   "outputs": [],
   "source": [
    "### Identify the best params \n",
    "\n",
    "# Single best score achieved across all params (min_samples_split)\n",
    "print(grid_tree.best_score_)\n",
    "\n",
    "# Dictionary containing the parameters (min_samples_split) used to generate that score\n",
    "print(grid_tree.best_params_)\n",
    "\n",
    "# Actual model object fit with those best parameters\n",
    "# Shows default parameters that we did not specify\n",
    "print(grid_tree.best_estimator_)\n",
    "#Identify the best score during fitting with cross-validation\n"
   ]
  },
  {
   "cell_type": "code",
   "execution_count": null,
   "metadata": {
    "ExecuteTime": {
     "start_time": "2021-01-07T20:33:02.879Z"
    }
   },
   "outputs": [],
   "source": [
    "#Predict the response for test dataset\n",
    "y_pred = grid_tree.best_estimator_.predict(X_test)\n",
    "\n",
    "# Model F1, how often is the classifier correct?\n",
    "print(\"F1:\",metrics.f1_score(y_test, y_pred))"
   ]
  },
  {
   "cell_type": "code",
   "execution_count": null,
   "metadata": {},
   "outputs": [],
   "source": []
  },
  {
   "cell_type": "code",
   "execution_count": null,
   "metadata": {},
   "outputs": [],
   "source": []
  },
  {
   "cell_type": "markdown",
   "metadata": {
    "heading_collapsed": true
   },
   "source": [
    "# Grid Search and Pipelines"
   ]
  },
  {
   "cell_type": "code",
   "execution_count": 1,
   "metadata": {
    "ExecuteTime": {
     "end_time": "2020-12-21T16:03:07.174691Z",
     "start_time": "2020-12-21T16:03:02.760981Z"
    },
    "hidden": true
   },
   "outputs": [],
   "source": [
    "import pandas as pd\n",
    "import numpy as np\n",
    "import pickle\n",
    "import matplotlib.pyplot as plt\n",
    "%matplotlib inline\n",
    "import seaborn as sns\n",
    "from sklearn.model_selection import train_test_split, GridSearchCV, cross_val_score\n",
    "from sklearn.tree import DecisionTreeClassifier\n",
    "from sklearn.ensemble import RandomForestClassifier\n",
    "from sklearn.metrics import accuracy_score\n",
    "from sklearn.pipeline import Pipeline\n",
    "from sklearn.preprocessing import StandardScaler, LabelEncoder"
   ]
  },
  {
   "cell_type": "markdown",
   "metadata": {
    "hidden": true
   },
   "source": [
    "We can split the data using stratify to make sure we can get an even split of classes in the train and test set"
   ]
  },
  {
   "cell_type": "code",
   "execution_count": 8,
   "metadata": {
    "ExecuteTime": {
     "end_time": "2020-12-21T16:08:21.318602Z",
     "start_time": "2020-12-21T16:08:21.222216Z"
    },
    "hidden": true
   },
   "outputs": [],
   "source": [
    "# Split X and y with even class distributions\n",
    "X_train, X_test, y_train, y_test = train_test_split(X, y, test_size=.2, random_state=42, stratify=y)"
   ]
  },
  {
   "cell_type": "markdown",
   "metadata": {
    "heading_collapsed": true
   },
   "source": [
    "# Random Forest"
   ]
  },
  {
   "cell_type": "code",
   "execution_count": 10,
   "metadata": {
    "ExecuteTime": {
     "end_time": "2020-12-21T16:13:57.008114Z",
     "start_time": "2020-12-21T16:13:56.936226Z"
    },
    "hidden": true
   },
   "outputs": [],
   "source": [
    "#Scale the data\n",
    "ss = StandardScaler()\n",
    "ss.fit(X_train)\n",
    "X_train = pd.DataFrame(ss.transform(X_train), columns=X_train.columns)\n",
    "X_test = pd.DataFrame(ss.transform(X_test), columns=X_test.columns)"
   ]
  },
  {
   "cell_type": "code",
   "execution_count": 11,
   "metadata": {
    "ExecuteTime": {
     "end_time": "2020-12-21T16:13:58.227262Z",
     "start_time": "2020-12-21T16:13:57.454060Z"
    },
    "hidden": true
   },
   "outputs": [
    {
     "data": {
      "text/plain": [
       "0.7808988764044944"
      ]
     },
     "execution_count": 11,
     "metadata": {},
     "output_type": "execute_result"
    }
   ],
   "source": [
    "rf = RandomForestClassifier(random_state=42)\n",
    "rf.fit(X_train_resampled, y_train_resampled)\n",
    "rf.score(X_test, y_test)"
   ]
  },
  {
   "cell_type": "code",
   "execution_count": 12,
   "metadata": {
    "ExecuteTime": {
     "end_time": "2020-12-21T16:14:00.321984Z",
     "start_time": "2020-12-21T16:13:58.237694Z"
    },
    "hidden": true
   },
   "outputs": [
    {
     "data": {
      "text/plain": [
       "0.8002954791687186"
      ]
     },
     "execution_count": 12,
     "metadata": {},
     "output_type": "execute_result"
    }
   ],
   "source": [
    "#Now with cross validation search\n",
    "val = cross_val_score(RandomForestClassifier(random_state=42),X_train_resampled, y_train_resampled,cv=5)\n",
    "val.mean()"
   ]
  },
  {
   "cell_type": "markdown",
   "metadata": {
    "heading_collapsed": true
   },
   "source": [
    "# Random Forest with Grid Search"
   ]
  },
  {
   "cell_type": "code",
   "execution_count": 13,
   "metadata": {
    "ExecuteTime": {
     "end_time": "2020-12-21T16:16:04.701672Z",
     "start_time": "2020-12-21T16:16:04.659136Z"
    },
    "hidden": true
   },
   "outputs": [],
   "source": [
    "#If you were to line up all the possible values of one and of the other, they create a grid"
   ]
  },
  {
   "cell_type": "code",
   "execution_count": 14,
   "metadata": {
    "ExecuteTime": {
     "end_time": "2020-12-21T16:16:05.915707Z",
     "start_time": "2020-12-21T16:16:05.860004Z"
    },
    "hidden": true
   },
   "outputs": [],
   "source": [
    "rf_param_grid = {\n",
    "    \"criterion\": [\"gini\", \"entropy\"],\n",
    "    \"max_depth\": [None, 2, 3, 4, 5, 6, 8, 10, 12, 14, 16],\n",
    "    \"max_features\": [None,4,5,6,9,10],\n",
    "    \"min_samples_split\": [2, 5, 10],\n",
    "    \"min_samples_leaf\" : [1, 2, 3, 5, 6],\n",
    "    \"n_estimators\" : [10, 30, 100]\n",
    "}"
   ]
  },
  {
   "cell_type": "code",
   "execution_count": 15,
   "metadata": {
    "ExecuteTime": {
     "end_time": "2020-12-21T16:16:39.854385Z",
     "start_time": "2020-12-21T16:16:39.735991Z"
    },
    "hidden": true
   },
   "outputs": [],
   "source": [
    "rf_grid = RandomForestClassifier(random_state=42)\n",
    "gridsearch = GridSearchCV(rf_grid, rf_param_grid, cv=5, return_train_score=True, n_jobs=-1, verbose=-1)"
   ]
  },
  {
   "cell_type": "code",
   "execution_count": 16,
   "metadata": {
    "ExecuteTime": {
     "end_time": "2020-12-21T17:10:48.441677Z",
     "start_time": "2020-12-21T16:16:41.979848Z"
    },
    "hidden": true
   },
   "outputs": [
    {
     "name": "stderr",
     "output_type": "stream",
     "text": [
      "[Parallel(n_jobs=-1)]: Using backend LokyBackend with 4 concurrent workers.\n",
      "[Parallel(n_jobs=-1)]: Done  64 tasks      | elapsed:    9.8s\n",
      "[Parallel(n_jobs=-1)]: Done 280 tasks      | elapsed:   25.9s\n",
      "[Parallel(n_jobs=-1)]: Done 640 tasks      | elapsed:   53.0s\n",
      "[Parallel(n_jobs=-1)]: Done 1144 tasks      | elapsed:  2.1min\n",
      "[Parallel(n_jobs=-1)]: Done 1792 tasks      | elapsed:  3.6min\n",
      "[Parallel(n_jobs=-1)]: Done 2584 tasks      | elapsed:  5.0min\n",
      "[Parallel(n_jobs=-1)]: Done 3520 tasks      | elapsed:  6.5min\n",
      "[Parallel(n_jobs=-1)]: Done 4600 tasks      | elapsed:  8.0min\n",
      "[Parallel(n_jobs=-1)]: Done 5824 tasks      | elapsed:  9.9min\n",
      "[Parallel(n_jobs=-1)]: Done 7192 tasks      | elapsed: 11.9min\n",
      "[Parallel(n_jobs=-1)]: Done 8704 tasks      | elapsed: 14.3min\n",
      "[Parallel(n_jobs=-1)]: Done 10360 tasks      | elapsed: 17.4min\n",
      "[Parallel(n_jobs=-1)]: Done 12160 tasks      | elapsed: 20.8min\n",
      "[Parallel(n_jobs=-1)]: Done 14104 tasks      | elapsed: 23.4min\n",
      "[Parallel(n_jobs=-1)]: Done 16192 tasks      | elapsed: 27.3min\n",
      "[Parallel(n_jobs=-1)]: Done 18424 tasks      | elapsed: 33.9min\n",
      "[Parallel(n_jobs=-1)]: Done 20800 tasks      | elapsed: 38.4min\n",
      "[Parallel(n_jobs=-1)]: Done 23320 tasks      | elapsed: 43.5min\n",
      "[Parallel(n_jobs=-1)]: Done 25984 tasks      | elapsed: 49.6min\n",
      "[Parallel(n_jobs=-1)]: Done 28792 tasks      | elapsed: 53.1min\n",
      "[Parallel(n_jobs=-1)]: Done 29700 out of 29700 | elapsed: 54.1min finished\n"
     ]
    },
    {
     "data": {
      "text/plain": [
       "GridSearchCV(cv=5, estimator=RandomForestClassifier(random_state=42), n_jobs=-1,\n",
       "             param_grid={'criterion': ['gini', 'entropy'],\n",
       "                         'max_depth': [None, 2, 3, 4, 5, 6, 8, 10, 12, 14, 16],\n",
       "                         'max_features': [None, 4, 5, 6, 9, 10],\n",
       "                         'min_samples_leaf': [1, 2, 3, 5, 6],\n",
       "                         'min_samples_split': [2, 5, 10],\n",
       "                         'n_estimators': [10, 30, 100]},\n",
       "             return_train_score=True, verbose=-1)"
      ]
     },
     "execution_count": 16,
     "metadata": {},
     "output_type": "execute_result"
    }
   ],
   "source": [
    "gridsearch.fit(X_train_resampled, y_train_resampled)"
   ]
  },
  {
   "cell_type": "code",
   "execution_count": 17,
   "metadata": {
    "ExecuteTime": {
     "end_time": "2020-12-21T18:27:37.723947Z",
     "start_time": "2020-12-21T18:27:37.593114Z"
    },
    "hidden": true
   },
   "outputs": [
    {
     "name": "stdout",
     "output_type": "stream",
     "text": [
      "Testing Accuracy: 84.11%\n",
      "\n",
      "Optimal Parameters: {'criterion': 'gini', 'max_depth': 10, 'max_features': 5, 'min_samples_leaf': 3, 'min_samples_split': 10, 'n_estimators': 10}\n",
      "Best Model: RandomForestClassifier(max_depth=10, max_features=5, min_samples_leaf=3,\n",
      "                       min_samples_split=10, n_estimators=10, random_state=42)\n"
     ]
    }
   ],
   "source": [
    "print(\"Testing Accuracy: {:.4}%\".format(gridsearch.best_score_ * 100))\n",
    "print(\"\")\n",
    "print(\"Optimal Parameters: {}\".format(gridsearch.best_params_))\n",
    "\n",
    "# Actual model object fit with those best parameters\n",
    "# Shows default parameters that we did not specify\n",
    "print(\"Best Model: {}\".format(gridsearch.best_estimator_))"
   ]
  },
  {
   "cell_type": "code",
   "execution_count": 18,
   "metadata": {
    "ExecuteTime": {
     "end_time": "2020-12-21T18:27:40.821576Z",
     "start_time": "2020-12-21T18:27:40.691634Z"
    },
    "hidden": true
   },
   "outputs": [
    {
     "data": {
      "text/plain": [
       "0.8089887640449438"
      ]
     },
     "execution_count": 18,
     "metadata": {},
     "output_type": "execute_result"
    }
   ],
   "source": [
    "gridsearch.score(X_test, y_test)"
   ]
  },
  {
   "cell_type": "code",
   "execution_count": 19,
   "metadata": {
    "ExecuteTime": {
     "end_time": "2020-12-21T18:27:41.400784Z",
     "start_time": "2020-12-21T18:27:41.394539Z"
    },
    "hidden": true
   },
   "outputs": [
    {
     "data": {
      "text/plain": [
       "29700"
      ]
     },
     "execution_count": 19,
     "metadata": {},
     "output_type": "execute_result"
    }
   ],
   "source": [
    "#CV * Number of params to search\n",
    "5*2*11*6*3*5*3"
   ]
  },
  {
   "cell_type": "markdown",
   "metadata": {
    "heading_collapsed": true
   },
   "source": [
    "# Pipelines"
   ]
  },
  {
   "cell_type": "code",
   "execution_count": 174,
   "metadata": {
    "hidden": true
   },
   "outputs": [
    {
     "name": "stderr",
     "output_type": "stream",
     "text": [
      "/opt/anaconda3/envs/learn-env/lib/python3.6/site-packages/pandas/core/series.py:4523: SettingWithCopyWarning: \n",
      "A value is trying to be set on a copy of a slice from a DataFrame\n",
      "\n",
      "See the caveats in the documentation: https://pandas.pydata.org/pandas-docs/stable/user_guide/indexing.html#returning-a-view-versus-a-copy\n",
      "  downcast=downcast,\n"
     ]
    }
   ],
   "source": [
    "# Split X and y with even class distributions\n",
    "X_train, X_test, y_train, y_test = train_test_split(X, y, test_size=.25, random_state=42, stratify=y)\n",
    "\n",
    "#Impute age using the training mean\n",
    "mean_age = X_train.age.mean()\n",
    "X_train['age'].fillna(mean_age, inplace=True)\n",
    "X_test['age'].fillna(mean_age, inplace=True)"
   ]
  },
  {
   "cell_type": "code",
   "execution_count": 175,
   "metadata": {
    "hidden": true
   },
   "outputs": [],
   "source": [
    "# Create our pipeline by passing a list of tuples with each class and its name in a string\n",
    "pipeline1 = Pipeline([\n",
    "                    ('ss',StandardScaler()),\n",
    "                    ('rf', RandomForestClassifier(random_state=42))\n",
    "                    ])"
   ]
  },
  {
   "cell_type": "code",
   "execution_count": 176,
   "metadata": {
    "hidden": true
   },
   "outputs": [
    {
     "data": {
      "text/plain": [
       "0.7808988764044944"
      ]
     },
     "execution_count": 176,
     "metadata": {},
     "output_type": "execute_result"
    }
   ],
   "source": [
    "# Fit the training data to pipeline\n",
    "pipeline1.fit(X_train,y_train)\n",
    "\n",
    "# Print the accuracy on test set\n",
    "pipeline1.score(X_test,y_test)"
   ]
  },
  {
   "cell_type": "markdown",
   "metadata": {
    "heading_collapsed": true
   },
   "source": [
    "# Pipelines with GridSearch"
   ]
  },
  {
   "cell_type": "code",
   "execution_count": 177,
   "metadata": {
    "hidden": true
   },
   "outputs": [],
   "source": [
    "pipeline2 = Pipeline([\n",
    "                    ('ss',StandardScaler()),\n",
    "                    ('rf', RandomForestClassifier(random_state=42))\n",
    "                    ])"
   ]
  },
  {
   "cell_type": "code",
   "execution_count": 178,
   "metadata": {
    "hidden": true
   },
   "outputs": [],
   "source": [
    "# We set the params, but we add a rf__ to each parameter to let it know its on the rf part of the pipeline\n",
    "rf_param_grid_pipe = {\n",
    "    \"rf__criterion\": [\"gini\", \"entropy\"],\n",
    "    \"rf__max_depth\": [None, 2, 3, 4, 5, 6, 8, 10, 12, 14, 16],\n",
    "    \"rf__max_features\": [None,4,5,6,9,10],\n",
    "    \"rf__min_samples_split\": [2, 5, 10],\n",
    "    \"rf__min_samples_leaf\" : [1, 2, 3, 5, 6],\n",
    "    \"rf__n_estimators\" : [10, 30, 100]\n",
    "}"
   ]
  },
  {
   "cell_type": "code",
   "execution_count": 179,
   "metadata": {
    "hidden": true
   },
   "outputs": [],
   "source": [
    "# Instanstiate the gridsearch pipeline\n",
    "grid_search_pipe = GridSearchCV(pipeline2, rf_param_grid_pipe, cv=5, verbose=1, n_jobs=-1, return_train_score=True)\n"
   ]
  },
  {
   "cell_type": "code",
   "execution_count": 180,
   "metadata": {
    "hidden": true
   },
   "outputs": [
    {
     "name": "stdout",
     "output_type": "stream",
     "text": [
      "Fitting 5 folds for each of 5940 candidates, totalling 29700 fits\n"
     ]
    },
    {
     "name": "stderr",
     "output_type": "stream",
     "text": [
      "[Parallel(n_jobs=-1)]: Using backend LokyBackend with 8 concurrent workers.\n",
      "[Parallel(n_jobs=-1)]: Done  52 tasks      | elapsed:    1.0s\n",
      "[Parallel(n_jobs=-1)]: Done 352 tasks      | elapsed:    6.2s\n",
      "[Parallel(n_jobs=-1)]: Done 852 tasks      | elapsed:   17.7s\n",
      "[Parallel(n_jobs=-1)]: Done 1552 tasks      | elapsed:   33.5s\n",
      "[Parallel(n_jobs=-1)]: Done 2452 tasks      | elapsed:   52.1s\n",
      "[Parallel(n_jobs=-1)]: Done 3552 tasks      | elapsed:  1.2min\n",
      "[Parallel(n_jobs=-1)]: Done 4852 tasks      | elapsed:  1.7min\n",
      "[Parallel(n_jobs=-1)]: Done 6352 tasks      | elapsed:  2.1min\n",
      "[Parallel(n_jobs=-1)]: Done 8052 tasks      | elapsed:  2.7min\n",
      "[Parallel(n_jobs=-1)]: Done 9952 tasks      | elapsed:  3.4min\n",
      "[Parallel(n_jobs=-1)]: Done 12052 tasks      | elapsed:  4.1min\n",
      "[Parallel(n_jobs=-1)]: Done 14352 tasks      | elapsed:  4.9min\n",
      "[Parallel(n_jobs=-1)]: Done 16852 tasks      | elapsed:  5.7min\n",
      "[Parallel(n_jobs=-1)]: Done 19552 tasks      | elapsed:  6.6min\n",
      "[Parallel(n_jobs=-1)]: Done 22452 tasks      | elapsed:  7.6min\n",
      "[Parallel(n_jobs=-1)]: Done 25552 tasks      | elapsed:  8.7min\n",
      "[Parallel(n_jobs=-1)]: Done 28852 tasks      | elapsed:  9.9min\n",
      "[Parallel(n_jobs=-1)]: Done 29700 out of 29700 | elapsed: 10.2min finished\n"
     ]
    },
    {
     "data": {
      "text/plain": [
       "GridSearchCV(cv=5,\n",
       "             estimator=Pipeline(steps=[('ss', StandardScaler()),\n",
       "                                       ('rf',\n",
       "                                        RandomForestClassifier(random_state=42))]),\n",
       "             n_jobs=-1,\n",
       "             param_grid={'rf__criterion': ['gini', 'entropy'],\n",
       "                         'rf__max_depth': [None, 2, 3, 4, 5, 6, 8, 10, 12, 14,\n",
       "                                           16],\n",
       "                         'rf__max_features': [None, 4, 5, 6, 9, 10],\n",
       "                         'rf__min_samples_leaf': [1, 2, 3, 5, 6],\n",
       "                         'rf__min_samples_split': [2, 5, 10],\n",
       "                         'rf__n_estimators': [10, 30, 100]},\n",
       "             return_train_score=True, verbose=1)"
      ]
     },
     "execution_count": 180,
     "metadata": {},
     "output_type": "execute_result"
    }
   ],
   "source": [
    "#Fit the grid search to the data\n",
    "grid_search_pipe.fit(X_train_resampled, y_train_resampled)"
   ]
  },
  {
   "cell_type": "code",
   "execution_count": 181,
   "metadata": {
    "hidden": true
   },
   "outputs": [
    {
     "data": {
      "text/plain": [
       "0.8089887640449438"
      ]
     },
     "execution_count": 181,
     "metadata": {},
     "output_type": "execute_result"
    }
   ],
   "source": [
    "grid_search_pipe.score(X_test, y_test)"
   ]
  },
  {
   "cell_type": "code",
   "execution_count": 182,
   "metadata": {
    "hidden": true
   },
   "outputs": [
    {
     "name": "stdout",
     "output_type": "stream",
     "text": [
      "0.8411110016743819\n",
      "{'rf__criterion': 'gini', 'rf__max_depth': 10, 'rf__max_features': 5, 'rf__min_samples_leaf': 3, 'rf__min_samples_split': 10, 'rf__n_estimators': 10}\n",
      "Pipeline(steps=[('ss', StandardScaler()),\n",
      "                ('rf',\n",
      "                 RandomForestClassifier(max_depth=10, max_features=5,\n",
      "                                        min_samples_leaf=3,\n",
      "                                        min_samples_split=10, n_estimators=10,\n",
      "                                        random_state=42))])\n"
     ]
    }
   ],
   "source": [
    "\n",
    "# Single best score achieved across all params (min_samples_split)\n",
    "print(grid_search_pipe.best_score_)\n",
    "\n",
    "# Dictionary containing the parameters (min_samples_split) used to generate that score\n",
    "print(grid_search_pipe.best_params_)\n",
    "\n",
    "# Actual model object fit with those best parameters\n",
    "# Shows default parameters that we did not specify\n",
    "print(grid_search_pipe.best_estimator_)\n",
    "#Identify the best score during fitting with cross-validation"
   ]
  },
  {
   "cell_type": "code",
   "execution_count": 183,
   "metadata": {
    "hidden": true
   },
   "outputs": [
    {
     "name": "stdout",
     "output_type": "stream",
     "text": [
      "Accuracy: 0.8089887640449438\n"
     ]
    }
   ],
   "source": [
    "#Predictions with grid search\n",
    "#Predict the response for test dataset\n",
    "y_pred = grid_search_pipe.best_estimator_.predict(X_test)\n",
    "\n",
    "# Model F1, how often is the classifier correct?\n",
    "print(\"Accuracy:\",accuracy_score(y_test, y_pred))"
   ]
  },
  {
   "cell_type": "markdown",
   "metadata": {
    "hidden": true
   },
   "source": [
    "### Pickling the best Estimator\n",
    "\n"
   ]
  },
  {
   "cell_type": "code",
   "execution_count": 184,
   "metadata": {
    "hidden": true
   },
   "outputs": [],
   "source": [
    "# pickle list object\n",
    " \n",
    "model_pickle_path = 'best_model.pkl'\n",
    "\n",
    "#Create a variable to pickle and open it in write mode\n",
    "model_pickle = open(model_pickle_path, 'wb')\n",
    "pickle.dump(grid_search_pipe.best_estimator_, model_pickle)\n",
    "model_pickle.close()"
   ]
  },
  {
   "cell_type": "markdown",
   "metadata": {
    "heading_collapsed": true
   },
   "source": [
    "# Randomized Search\n",
    "\n",
    "Randomized Search allows us to search a distribution for each parameter instead of only a desginated value like GridSearch\n",
    "\n"
   ]
  },
  {
   "cell_type": "code",
   "execution_count": 185,
   "metadata": {
    "hidden": true
   },
   "outputs": [
    {
     "data": {
      "text/plain": [
       "{'C': 2.195254015709299, 'penalty': 'l1'}"
      ]
     },
     "execution_count": 185,
     "metadata": {},
     "output_type": "execute_result"
    }
   ],
   "source": [
    "from sklearn.datasets import load_iris\n",
    "from sklearn.linear_model import LogisticRegression\n",
    "from sklearn.model_selection import RandomizedSearchCV\n",
    "from scipy.stats import uniform\n",
    "\n",
    "#Load in the Iris Dataset and the LogisticRegression class\n",
    "iris = load_iris()\n",
    "logistic = LogisticRegression(solver='saga', tol=1e-2, max_iter=200,\n",
    "                              random_state=0)\n",
    "# Set a distribution and options for the different parameters\n",
    "distributions = dict(C=uniform(loc=0, scale=4),\n",
    "                     penalty=['l2', 'l1'])\n",
    "#Fit and check the best parameters\n",
    "clf = RandomizedSearchCV(logistic, distributions, random_state=0)\n",
    "search = clf.fit(iris.data, iris.target)\n",
    "search.best_params_"
   ]
  },
  {
   "cell_type": "code",
   "execution_count": 186,
   "metadata": {
    "hidden": true
   },
   "outputs": [
    {
     "data": {
      "text/plain": [
       "0.98"
      ]
     },
     "execution_count": 186,
     "metadata": {},
     "output_type": "execute_result"
    }
   ],
   "source": [
    "search.score(iris.data, iris.target)"
   ]
  }
 ],
 "metadata": {
  "kernelspec": {
   "display_name": "Python 3",
   "language": "python",
   "name": "python3"
  },
  "language_info": {
   "codemirror_mode": {
    "name": "ipython",
    "version": 3
   },
   "file_extension": ".py",
   "mimetype": "text/x-python",
   "name": "python",
   "nbconvert_exporter": "python",
   "pygments_lexer": "ipython3",
   "version": "3.6.10"
  }
 },
 "nbformat": 4,
 "nbformat_minor": 4
}
